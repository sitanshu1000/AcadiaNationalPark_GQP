{
 "cells": [
  {
   "cell_type": "code",
   "execution_count": 3,
   "id": "0a024ebc",
   "metadata": {
    "ExecuteTime": {
     "end_time": "2022-03-13T18:41:35.225540Z",
     "start_time": "2022-03-13T18:41:25.890446Z"
    }
   },
   "outputs": [],
   "source": [
    "import pandas as pd"
   ]
  },
  {
   "cell_type": "code",
   "execution_count": 4,
   "id": "fdf23ac3",
   "metadata": {
    "ExecuteTime": {
     "end_time": "2022-03-13T18:43:09.414597Z",
     "start_time": "2022-03-13T18:43:09.354269Z"
    }
   },
   "outputs": [],
   "source": [
    "data_import = pd.read_csv('/Users/sitanshurupani/Data Science Coursework/Sem 4/GQP - National Parks/DataSpell Project/Data/Adams Data Cleaned/ALL_Years.csv')\n",
    "weather_import = pd.read_csv('/Users/sitanshurupani/Data Science Coursework/Sem 4/GQP - National Parks/DataSpell Project/Data/Hourly_Weather_Master.csv')"
   ]
  },
  {
   "cell_type": "code",
   "execution_count": 13,
   "outputs": [
    {
     "data": {
      "text/plain": "SrNo          int64\nMonth        object\nDay           int64\n1:00          int64\n2:00          int64\n3:00          int64\n4:00          int64\n5:00          int64\n6:00          int64\n7:00          int64\n8:00          int64\n9:00          int64\n10:00         int64\n11:00         int64\n12:00         int64\n13:00         int64\n14:00         int64\n15:00         int64\n16:00         int64\n17:00         int64\n18:00         int64\n19:00         int64\n20:00         int64\n21:00         int64\n22:00         int64\n23:00         int64\n24:00:00      int64\nTotal       float64\nDOW          object\nYear          int64\ndtype: object"
     },
     "execution_count": 13,
     "metadata": {},
     "output_type": "execute_result"
    }
   ],
   "source": [
    "data_import.dtypes"
   ],
   "metadata": {
    "collapsed": false,
    "pycharm": {
     "name": "#%%\n"
    }
   }
  },
  {
   "cell_type": "code",
   "execution_count": 16,
   "outputs": [],
   "source": [
    "cols=[\"Year\",\"Month\",\"Day\"]\n",
    "data_import['Full_Date'] = data_import[cols].apply(lambda x: '-'.join(x.values.astype(str)), axis=\"columns\")\n",
    "data_import['Full_Date'] = pd.to_datetime(data_import['Full_Date'])"
   ],
   "metadata": {
    "collapsed": false,
    "pycharm": {
     "name": "#%%\n"
    }
   }
  },
  {
   "cell_type": "code",
   "execution_count": 58,
   "outputs": [],
   "source": [
    "weather_import['Full_Date'] = pd.to_datetime(weather_import['Date'])\n",
    "weather_import['Hour'] = weather_import['dt_iso'].str[11:13]\n",
    "weather_import['Hour'] = pd.to_datetime(weather_import['Hour'], format='%H').dt.hour"
   ],
   "metadata": {
    "collapsed": false,
    "pycharm": {
     "name": "#%%\n"
    }
   }
  },
  {
   "cell_type": "code",
   "execution_count": 59,
   "id": "0756bda0",
   "metadata": {
    "ExecuteTime": {
     "end_time": "2022-03-13T18:44:07.770652Z",
     "start_time": "2022-03-13T18:44:06.266091Z"
    }
   },
   "outputs": [
    {
     "data": {
      "text/plain": "   SrNo Month  Day  1:00  2:00  3:00  4:00  5:00  6:00  7:00  ...  19:00  \\\n0     0   MAY    1     0     1     0     0    11     2     2  ...      9   \n1     1   MAY    2     0     0     0     0     1     3     0  ...     21   \n2     2   MAY    3     0     0     0     0     9     6     1  ...      9   \n3     3   MAY    4     0     0     0     0     9     4     1  ...     36   \n4     4   MAY    5     0     0     0     1    34    20     1  ...     35   \n\n   20:00  21:00  22:00  23:00  24:00:00  Total    DOW  Year  Full_Date  \n0      6      1      1      0         0  208.0    Wed  2019 2019-05-01  \n1     13      0      4      0         1  217.0  Thurs  2019 2019-05-02  \n2      2      0      1      0         0  189.0    Fri  2019 2019-05-03  \n3     25      2      2      2         3  570.0    Sat  2019 2019-05-04  \n4     26      3      4      0         0  536.0    Sun  2019 2019-05-05  \n\n[5 rows x 31 columns]",
      "text/html": "<div>\n<style scoped>\n    .dataframe tbody tr th:only-of-type {\n        vertical-align: middle;\n    }\n\n    .dataframe tbody tr th {\n        vertical-align: top;\n    }\n\n    .dataframe thead th {\n        text-align: right;\n    }\n</style>\n<table border=\"1\" class=\"dataframe\">\n  <thead>\n    <tr style=\"text-align: right;\">\n      <th></th>\n      <th>SrNo</th>\n      <th>Month</th>\n      <th>Day</th>\n      <th>1:00</th>\n      <th>2:00</th>\n      <th>3:00</th>\n      <th>4:00</th>\n      <th>5:00</th>\n      <th>6:00</th>\n      <th>7:00</th>\n      <th>...</th>\n      <th>19:00</th>\n      <th>20:00</th>\n      <th>21:00</th>\n      <th>22:00</th>\n      <th>23:00</th>\n      <th>24:00:00</th>\n      <th>Total</th>\n      <th>DOW</th>\n      <th>Year</th>\n      <th>Full_Date</th>\n    </tr>\n  </thead>\n  <tbody>\n    <tr>\n      <th>0</th>\n      <td>0</td>\n      <td>MAY</td>\n      <td>1</td>\n      <td>0</td>\n      <td>1</td>\n      <td>0</td>\n      <td>0</td>\n      <td>11</td>\n      <td>2</td>\n      <td>2</td>\n      <td>...</td>\n      <td>9</td>\n      <td>6</td>\n      <td>1</td>\n      <td>1</td>\n      <td>0</td>\n      <td>0</td>\n      <td>208.0</td>\n      <td>Wed</td>\n      <td>2019</td>\n      <td>2019-05-01</td>\n    </tr>\n    <tr>\n      <th>1</th>\n      <td>1</td>\n      <td>MAY</td>\n      <td>2</td>\n      <td>0</td>\n      <td>0</td>\n      <td>0</td>\n      <td>0</td>\n      <td>1</td>\n      <td>3</td>\n      <td>0</td>\n      <td>...</td>\n      <td>21</td>\n      <td>13</td>\n      <td>0</td>\n      <td>4</td>\n      <td>0</td>\n      <td>1</td>\n      <td>217.0</td>\n      <td>Thurs</td>\n      <td>2019</td>\n      <td>2019-05-02</td>\n    </tr>\n    <tr>\n      <th>2</th>\n      <td>2</td>\n      <td>MAY</td>\n      <td>3</td>\n      <td>0</td>\n      <td>0</td>\n      <td>0</td>\n      <td>0</td>\n      <td>9</td>\n      <td>6</td>\n      <td>1</td>\n      <td>...</td>\n      <td>9</td>\n      <td>2</td>\n      <td>0</td>\n      <td>1</td>\n      <td>0</td>\n      <td>0</td>\n      <td>189.0</td>\n      <td>Fri</td>\n      <td>2019</td>\n      <td>2019-05-03</td>\n    </tr>\n    <tr>\n      <th>3</th>\n      <td>3</td>\n      <td>MAY</td>\n      <td>4</td>\n      <td>0</td>\n      <td>0</td>\n      <td>0</td>\n      <td>0</td>\n      <td>9</td>\n      <td>4</td>\n      <td>1</td>\n      <td>...</td>\n      <td>36</td>\n      <td>25</td>\n      <td>2</td>\n      <td>2</td>\n      <td>2</td>\n      <td>3</td>\n      <td>570.0</td>\n      <td>Sat</td>\n      <td>2019</td>\n      <td>2019-05-04</td>\n    </tr>\n    <tr>\n      <th>4</th>\n      <td>4</td>\n      <td>MAY</td>\n      <td>5</td>\n      <td>0</td>\n      <td>0</td>\n      <td>0</td>\n      <td>1</td>\n      <td>34</td>\n      <td>20</td>\n      <td>1</td>\n      <td>...</td>\n      <td>35</td>\n      <td>26</td>\n      <td>3</td>\n      <td>4</td>\n      <td>0</td>\n      <td>0</td>\n      <td>536.0</td>\n      <td>Sun</td>\n      <td>2019</td>\n      <td>2019-05-05</td>\n    </tr>\n  </tbody>\n</table>\n<p>5 rows × 31 columns</p>\n</div>"
     },
     "execution_count": 59,
     "metadata": {},
     "output_type": "execute_result"
    }
   ],
   "source": [
    "data_import.head()"
   ]
  },
  {
   "cell_type": "code",
   "execution_count": 60,
   "outputs": [
    {
     "data": {
      "text/plain": "          dt                         dt_iso  Year  Month  Day        Date  \\\n0  946684800  2000-01-01 00:00:00 +0000 UTC  2000      1    1  2000-01-01   \n1  946688400  2000-01-01 01:00:00 +0000 UTC  2000      1    1  2000-01-01   \n2  946692000  2000-01-01 02:00:00 +0000 UTC  2000      1    1  2000-01-01   \n3  946695600  2000-01-01 03:00:00 +0000 UTC  2000      1    1  2000-01-01   \n4  946699200  2000-01-01 04:00:00 +0000 UTC  2000      1    1  2000-01-01   \n\n   Hour  timezone                  city_name        lat  ...  rain_1h  \\\n0     0    -18000  Acadia National Park Pond  44.378185  ...      NaN   \n1     1    -18000  Acadia National Park Pond  44.378185  ...      NaN   \n2     2    -18000  Acadia National Park Pond  44.378185  ...      NaN   \n3     3    -18000  Acadia National Park Pond  44.378185  ...      NaN   \n4     4    -18000  Acadia National Park Pond  44.378185  ...      NaN   \n\n   rain_3h  snow_1h  snow_3h  clouds_all  weather_id  weather_main  \\\n0      NaN      NaN      NaN           1         800         Clear   \n1      NaN      NaN      NaN           1         800         Clear   \n2      NaN      NaN      NaN           1         800         Clear   \n3      NaN      NaN      NaN          40         802        Clouds   \n4      NaN      NaN      NaN          90         804        Clouds   \n\n   weather_description  weather_icon  Full_Date  \n0         sky is clear           01n 2000-01-01  \n1         sky is clear           01n 2000-01-01  \n2         sky is clear           01n 2000-01-01  \n3     scattered clouds           03n 2000-01-01  \n4      overcast clouds           04n 2000-01-01  \n\n[5 rows x 34 columns]",
      "text/html": "<div>\n<style scoped>\n    .dataframe tbody tr th:only-of-type {\n        vertical-align: middle;\n    }\n\n    .dataframe tbody tr th {\n        vertical-align: top;\n    }\n\n    .dataframe thead th {\n        text-align: right;\n    }\n</style>\n<table border=\"1\" class=\"dataframe\">\n  <thead>\n    <tr style=\"text-align: right;\">\n      <th></th>\n      <th>dt</th>\n      <th>dt_iso</th>\n      <th>Year</th>\n      <th>Month</th>\n      <th>Day</th>\n      <th>Date</th>\n      <th>Hour</th>\n      <th>timezone</th>\n      <th>city_name</th>\n      <th>lat</th>\n      <th>...</th>\n      <th>rain_1h</th>\n      <th>rain_3h</th>\n      <th>snow_1h</th>\n      <th>snow_3h</th>\n      <th>clouds_all</th>\n      <th>weather_id</th>\n      <th>weather_main</th>\n      <th>weather_description</th>\n      <th>weather_icon</th>\n      <th>Full_Date</th>\n    </tr>\n  </thead>\n  <tbody>\n    <tr>\n      <th>0</th>\n      <td>946684800</td>\n      <td>2000-01-01 00:00:00 +0000 UTC</td>\n      <td>2000</td>\n      <td>1</td>\n      <td>1</td>\n      <td>2000-01-01</td>\n      <td>0</td>\n      <td>-18000</td>\n      <td>Acadia National Park Pond</td>\n      <td>44.378185</td>\n      <td>...</td>\n      <td>NaN</td>\n      <td>NaN</td>\n      <td>NaN</td>\n      <td>NaN</td>\n      <td>1</td>\n      <td>800</td>\n      <td>Clear</td>\n      <td>sky is clear</td>\n      <td>01n</td>\n      <td>2000-01-01</td>\n    </tr>\n    <tr>\n      <th>1</th>\n      <td>946688400</td>\n      <td>2000-01-01 01:00:00 +0000 UTC</td>\n      <td>2000</td>\n      <td>1</td>\n      <td>1</td>\n      <td>2000-01-01</td>\n      <td>1</td>\n      <td>-18000</td>\n      <td>Acadia National Park Pond</td>\n      <td>44.378185</td>\n      <td>...</td>\n      <td>NaN</td>\n      <td>NaN</td>\n      <td>NaN</td>\n      <td>NaN</td>\n      <td>1</td>\n      <td>800</td>\n      <td>Clear</td>\n      <td>sky is clear</td>\n      <td>01n</td>\n      <td>2000-01-01</td>\n    </tr>\n    <tr>\n      <th>2</th>\n      <td>946692000</td>\n      <td>2000-01-01 02:00:00 +0000 UTC</td>\n      <td>2000</td>\n      <td>1</td>\n      <td>1</td>\n      <td>2000-01-01</td>\n      <td>2</td>\n      <td>-18000</td>\n      <td>Acadia National Park Pond</td>\n      <td>44.378185</td>\n      <td>...</td>\n      <td>NaN</td>\n      <td>NaN</td>\n      <td>NaN</td>\n      <td>NaN</td>\n      <td>1</td>\n      <td>800</td>\n      <td>Clear</td>\n      <td>sky is clear</td>\n      <td>01n</td>\n      <td>2000-01-01</td>\n    </tr>\n    <tr>\n      <th>3</th>\n      <td>946695600</td>\n      <td>2000-01-01 03:00:00 +0000 UTC</td>\n      <td>2000</td>\n      <td>1</td>\n      <td>1</td>\n      <td>2000-01-01</td>\n      <td>3</td>\n      <td>-18000</td>\n      <td>Acadia National Park Pond</td>\n      <td>44.378185</td>\n      <td>...</td>\n      <td>NaN</td>\n      <td>NaN</td>\n      <td>NaN</td>\n      <td>NaN</td>\n      <td>40</td>\n      <td>802</td>\n      <td>Clouds</td>\n      <td>scattered clouds</td>\n      <td>03n</td>\n      <td>2000-01-01</td>\n    </tr>\n    <tr>\n      <th>4</th>\n      <td>946699200</td>\n      <td>2000-01-01 04:00:00 +0000 UTC</td>\n      <td>2000</td>\n      <td>1</td>\n      <td>1</td>\n      <td>2000-01-01</td>\n      <td>4</td>\n      <td>-18000</td>\n      <td>Acadia National Park Pond</td>\n      <td>44.378185</td>\n      <td>...</td>\n      <td>NaN</td>\n      <td>NaN</td>\n      <td>NaN</td>\n      <td>NaN</td>\n      <td>90</td>\n      <td>804</td>\n      <td>Clouds</td>\n      <td>overcast clouds</td>\n      <td>04n</td>\n      <td>2000-01-01</td>\n    </tr>\n  </tbody>\n</table>\n<p>5 rows × 34 columns</p>\n</div>"
     },
     "execution_count": 60,
     "metadata": {},
     "output_type": "execute_result"
    }
   ],
   "source": [
    "weather_import.head()"
   ],
   "metadata": {
    "collapsed": false,
    "pycharm": {
     "name": "#%%\n"
    }
   }
  },
  {
   "cell_type": "code",
   "execution_count": 46,
   "outputs": [
    {
     "name": "stderr",
     "output_type": "stream",
     "text": [
      "/Library/anaconda3/envs/ds_env/lib/python3.9/site-packages/pandas/core/indexing.py:1637: SettingWithCopyWarning:\n",
      "\n",
      "\n",
      "A value is trying to be set on a copy of a slice from a DataFrame\n",
      "\n",
      "See the caveats in the documentation: https://pandas.pydata.org/pandas-docs/stable/user_guide/indexing.html#returning-a-view-versus-a-copy\n",
      "\n"
     ]
    }
   ],
   "source": [
    "hourly_transformed_df = data_import.drop(columns = [\"SrNo\", \"Month\", \"Day\", \"Year\", \"Total\", \"DOW\"]).melt(id_vars=[\"Full_Date\"],\n",
    "                                                                                                          var_name=\"Time\",\n",
    "                                                                                                          value_name=\"Value\").sort_values(by=['Full_Date', 'Time'])\n",
    "hourly_transformed_df[\"Time\"].loc[hourly_transformed_df['Time']=='24:00:00'] = '00:00'\n",
    "hourly_transformed_df['Hour'] = pd.to_datetime(hourly_transformed_df['Time'], format='%H:%M').dt.hour\n",
    "hourly_transformed_df.sort_values(by=['Full_Date', 'Hour'], inplace=True)"
   ],
   "metadata": {
    "collapsed": false,
    "pycharm": {
     "name": "#%%\n"
    }
   }
  },
  {
   "cell_type": "code",
   "execution_count": 47,
   "outputs": [
    {
     "data": {
      "text/plain": "       Full_Date   Time  Value  Hour\n10580 2019-05-01  00:00      0     0\n0     2019-05-01   1:00      0     1\n460   2019-05-01   2:00      1     2\n920   2019-05-01   3:00      0     3\n1380  2019-05-01   4:00      0     4",
      "text/html": "<div>\n<style scoped>\n    .dataframe tbody tr th:only-of-type {\n        vertical-align: middle;\n    }\n\n    .dataframe tbody tr th {\n        vertical-align: top;\n    }\n\n    .dataframe thead th {\n        text-align: right;\n    }\n</style>\n<table border=\"1\" class=\"dataframe\">\n  <thead>\n    <tr style=\"text-align: right;\">\n      <th></th>\n      <th>Full_Date</th>\n      <th>Time</th>\n      <th>Value</th>\n      <th>Hour</th>\n    </tr>\n  </thead>\n  <tbody>\n    <tr>\n      <th>10580</th>\n      <td>2019-05-01</td>\n      <td>00:00</td>\n      <td>0</td>\n      <td>0</td>\n    </tr>\n    <tr>\n      <th>0</th>\n      <td>2019-05-01</td>\n      <td>1:00</td>\n      <td>0</td>\n      <td>1</td>\n    </tr>\n    <tr>\n      <th>460</th>\n      <td>2019-05-01</td>\n      <td>2:00</td>\n      <td>1</td>\n      <td>2</td>\n    </tr>\n    <tr>\n      <th>920</th>\n      <td>2019-05-01</td>\n      <td>3:00</td>\n      <td>0</td>\n      <td>3</td>\n    </tr>\n    <tr>\n      <th>1380</th>\n      <td>2019-05-01</td>\n      <td>4:00</td>\n      <td>0</td>\n      <td>4</td>\n    </tr>\n  </tbody>\n</table>\n</div>"
     },
     "execution_count": 47,
     "metadata": {},
     "output_type": "execute_result"
    }
   ],
   "source": [
    "hourly_transformed_df.head()"
   ],
   "metadata": {
    "collapsed": false,
    "pycharm": {
     "name": "#%%\n"
    }
   }
  },
  {
   "cell_type": "code",
   "execution_count": 61,
   "outputs": [],
   "source": [
    "hourly_traffic_weather = pd.merge(hourly_transformed_df, weather_import[['Full_Date', 'Hour', 'temp', 'visibility', 'dew_point', 'feels_like', 'temp_min', 'temp_max',                                                                            'pressure', 'humidity', 'wind_speed', 'wind_deg', 'wind_gust', 'rain_1h', 'rain_3h', 'snow_1h',                                                                           'snow_3h', 'weather_main', 'weather_description']],\n",
    "                                  on=['Full_Date','Hour'])"
   ],
   "metadata": {
    "collapsed": false,
    "pycharm": {
     "name": "#%%\n"
    }
   }
  },
  {
   "cell_type": "code",
   "execution_count": 62,
   "outputs": [],
   "source": [
    "hourly_traffic_weather.to_csv('All_Years_Weather_Merged.csv')"
   ],
   "metadata": {
    "collapsed": false,
    "pycharm": {
     "name": "#%%\n"
    }
   }
  },
  {
   "cell_type": "markdown",
   "source": [],
   "metadata": {
    "collapsed": false
   }
  }
 ],
 "metadata": {
  "kernelspec": {
   "display_name": "Python 3 (ipykernel)",
   "language": "python",
   "name": "python3"
  },
  "language_info": {
   "codemirror_mode": {
    "name": "ipython",
    "version": 3
   },
   "file_extension": ".py",
   "mimetype": "text/x-python",
   "name": "python",
   "nbconvert_exporter": "python",
   "pygments_lexer": "ipython3",
   "version": "3.9.7"
  },
  "toc": {
   "base_numbering": 1,
   "nav_menu": {},
   "number_sections": true,
   "sideBar": true,
   "skip_h1_title": false,
   "title_cell": "Table of Contents",
   "title_sidebar": "Contents",
   "toc_cell": false,
   "toc_position": {},
   "toc_section_display": true,
   "toc_window_display": false
  },
  "varInspector": {
   "cols": {
    "lenName": 16,
    "lenType": 16,
    "lenVar": 40
   },
   "kernels_config": {
    "python": {
     "delete_cmd_postfix": "",
     "delete_cmd_prefix": "del ",
     "library": "var_list.py",
     "varRefreshCmd": "print(var_dic_list())"
    },
    "r": {
     "delete_cmd_postfix": ") ",
     "delete_cmd_prefix": "rm(",
     "library": "var_list.r",
     "varRefreshCmd": "cat(var_dic_list()) "
    }
   },
   "types_to_exclude": [
    "module",
    "function",
    "builtin_function_or_method",
    "instance",
    "_Feature"
   ],
   "window_display": false
  }
 },
 "nbformat": 4,
 "nbformat_minor": 5
}