{
 "cells": [
  {
   "cell_type": "code",
   "execution_count": 4,
   "metadata": {
    "collapsed": true
   },
   "outputs": [],
   "source": [
    "import pandas as pd\n",
    "from pandas.tseries.holiday import USFederalHolidayCalendar"
   ]
  },
  {
   "cell_type": "code",
   "execution_count": 5,
   "outputs": [],
   "source": [
    "cal = USFederalHolidayCalendar()\n",
    "holidays = cal.holidays(start='2014-01-01', end='2022-12-31')"
   ],
   "metadata": {
    "collapsed": false,
    "pycharm": {
     "name": "#%%\n"
    }
   }
  },
  {
   "cell_type": "code",
   "execution_count": 6,
   "outputs": [],
   "source": [
    "data_import = pd.read_csv('/Users/sitanshurupani/Data Science Coursework/Sem 4/GQP - National Parks/DataSpell Project/Data/All_Years_Weather_Merged.csv')"
   ],
   "metadata": {
    "collapsed": false,
    "pycharm": {
     "name": "#%%\n"
    }
   }
  },
  {
   "cell_type": "code",
   "execution_count": 7,
   "outputs": [],
   "source": [
    "def agg_metrics(x):\n",
    "    d = {}\n",
    "    d['value'] = x['Value'].sum()\n",
    "    d['temp'] = x['temp'].mean()\n",
    "    d['temp_min'] = x['temp_min'].min()\n",
    "    d['temp_max'] = x['temp_max'].max()\n",
    "    d['pressure'] = x['pressure'].mean()\n",
    "    d['humidity'] = x['humidity'].mean()\n",
    "    d['wind_speed'] = x['wind_speed'].mean()\n",
    "    d['wind_gust'] = x['wind_gust'].mean()\n",
    "    d['rain_1h'] = x['rain_1h'].sum()\n",
    "    d['snow_1h'] = x['snow_1h'].sum()\n",
    "    return pd.Series(d, index=['value', 'temp', 'temp_min', 'temp_max', 'pressure', 'humidity', 'wind_speed', 'wind_gust', 'rain_1h', 'snow_1h'])"
   ],
   "metadata": {
    "collapsed": false,
    "pycharm": {
     "name": "#%%\n"
    }
   }
  },
  {
   "cell_type": "code",
   "execution_count": 11,
   "outputs": [],
   "source": [
    "daily_slice_df = data_import.groupby('Full_Date').apply(agg_metrics)"
   ],
   "metadata": {
    "collapsed": false,
    "pycharm": {
     "name": "#%%\n"
    }
   }
  },
  {
   "cell_type": "code",
   "execution_count": 12,
   "outputs": [
    {
     "data": {
      "text/plain": "            value       temp  temp_min  temp_max     pressure   humidity  \\\nFull_Date                                                                  \n2019-05-01  208.0  44.220833     26.62     58.68  1027.750000  36.666667   \n2019-05-02  229.0  41.864400     35.60     55.29  1024.320000  78.920000   \n2019-05-03  189.0  43.672400     39.38     52.09  1021.960000  81.840000   \n2019-05-04  599.0  44.644848     39.31     63.68  1014.424242  89.545455   \n2019-05-05  536.0  50.456250     39.61     69.19  1012.791667  76.333333   \n\n            wind_speed  wind_gust  rain_1h  snow_1h  federal_holiday_flag  \nFull_Date                                                                  \n2019-05-01    6.969583   9.944444     0.00      0.0                 False  \n2019-05-02    3.918400   6.682727     4.74      0.0                 False  \n2019-05-03    4.082800   7.334762     3.97      0.0                 False  \n2019-05-04    2.724242   4.378966    10.40      0.0                 False  \n2019-05-05    3.331667   5.573333     0.00      0.0                 False  ",
      "text/html": "<div>\n<style scoped>\n    .dataframe tbody tr th:only-of-type {\n        vertical-align: middle;\n    }\n\n    .dataframe tbody tr th {\n        vertical-align: top;\n    }\n\n    .dataframe thead th {\n        text-align: right;\n    }\n</style>\n<table border=\"1\" class=\"dataframe\">\n  <thead>\n    <tr style=\"text-align: right;\">\n      <th></th>\n      <th>value</th>\n      <th>temp</th>\n      <th>temp_min</th>\n      <th>temp_max</th>\n      <th>pressure</th>\n      <th>humidity</th>\n      <th>wind_speed</th>\n      <th>wind_gust</th>\n      <th>rain_1h</th>\n      <th>snow_1h</th>\n      <th>federal_holiday_flag</th>\n    </tr>\n    <tr>\n      <th>Full_Date</th>\n      <th></th>\n      <th></th>\n      <th></th>\n      <th></th>\n      <th></th>\n      <th></th>\n      <th></th>\n      <th></th>\n      <th></th>\n      <th></th>\n      <th></th>\n    </tr>\n  </thead>\n  <tbody>\n    <tr>\n      <th>2019-05-01</th>\n      <td>208.0</td>\n      <td>44.220833</td>\n      <td>26.62</td>\n      <td>58.68</td>\n      <td>1027.750000</td>\n      <td>36.666667</td>\n      <td>6.969583</td>\n      <td>9.944444</td>\n      <td>0.00</td>\n      <td>0.0</td>\n      <td>False</td>\n    </tr>\n    <tr>\n      <th>2019-05-02</th>\n      <td>229.0</td>\n      <td>41.864400</td>\n      <td>35.60</td>\n      <td>55.29</td>\n      <td>1024.320000</td>\n      <td>78.920000</td>\n      <td>3.918400</td>\n      <td>6.682727</td>\n      <td>4.74</td>\n      <td>0.0</td>\n      <td>False</td>\n    </tr>\n    <tr>\n      <th>2019-05-03</th>\n      <td>189.0</td>\n      <td>43.672400</td>\n      <td>39.38</td>\n      <td>52.09</td>\n      <td>1021.960000</td>\n      <td>81.840000</td>\n      <td>4.082800</td>\n      <td>7.334762</td>\n      <td>3.97</td>\n      <td>0.0</td>\n      <td>False</td>\n    </tr>\n    <tr>\n      <th>2019-05-04</th>\n      <td>599.0</td>\n      <td>44.644848</td>\n      <td>39.31</td>\n      <td>63.68</td>\n      <td>1014.424242</td>\n      <td>89.545455</td>\n      <td>2.724242</td>\n      <td>4.378966</td>\n      <td>10.40</td>\n      <td>0.0</td>\n      <td>False</td>\n    </tr>\n    <tr>\n      <th>2019-05-05</th>\n      <td>536.0</td>\n      <td>50.456250</td>\n      <td>39.61</td>\n      <td>69.19</td>\n      <td>1012.791667</td>\n      <td>76.333333</td>\n      <td>3.331667</td>\n      <td>5.573333</td>\n      <td>0.00</td>\n      <td>0.0</td>\n      <td>False</td>\n    </tr>\n  </tbody>\n</table>\n</div>"
     },
     "execution_count": 12,
     "metadata": {},
     "output_type": "execute_result"
    }
   ],
   "source": [
    "daily_attendance = daily_slice_df\n",
    "daily_attendance.index = pd.to_datetime(daily_attendance.index)\n",
    "daily_attendance['federal_holiday_flag'] = daily_attendance.index.isin(holidays)"
   ],
   "metadata": {
    "collapsed": false,
    "pycharm": {
     "name": "#%%\n"
    }
   }
  },
  {
   "cell_type": "code",
   "execution_count": 23,
   "outputs": [],
   "source": [
    "daily_attendance['school_holiday_flag'] = daily_attendance.index.isin(daily_attendance.index[(daily_attendance.index.month >= 6) & (daily_attendance.index.month <= 8)])"
   ],
   "metadata": {
    "collapsed": false,
    "pycharm": {
     "name": "#%%\n"
    }
   }
  },
  {
   "cell_type": "code",
   "execution_count": 24,
   "outputs": [
    {
     "data": {
      "text/plain": "            value       temp  temp_min  temp_max     pressure   humidity  \\\nFull_Date                                                                  \n2019-05-01  208.0  44.220833     26.62     58.68  1027.750000  36.666667   \n2019-05-02  229.0  41.864400     35.60     55.29  1024.320000  78.920000   \n2019-05-03  189.0  43.672400     39.38     52.09  1021.960000  81.840000   \n2019-05-04  599.0  44.644848     39.31     63.68  1014.424242  89.545455   \n2019-05-05  536.0  50.456250     39.61     69.19  1012.791667  76.333333   \n\n            wind_speed  wind_gust  rain_1h  snow_1h  federal_holiday_flag  \\\nFull_Date                                                                   \n2019-05-01    6.969583   9.944444     0.00      0.0                 False   \n2019-05-02    3.918400   6.682727     4.74      0.0                 False   \n2019-05-03    4.082800   7.334762     3.97      0.0                 False   \n2019-05-04    2.724242   4.378966    10.40      0.0                 False   \n2019-05-05    3.331667   5.573333     0.00      0.0                 False   \n\n            school_holiday_flag  \nFull_Date                        \n2019-05-01                False  \n2019-05-02                False  \n2019-05-03                False  \n2019-05-04                False  \n2019-05-05                False  ",
      "text/html": "<div>\n<style scoped>\n    .dataframe tbody tr th:only-of-type {\n        vertical-align: middle;\n    }\n\n    .dataframe tbody tr th {\n        vertical-align: top;\n    }\n\n    .dataframe thead th {\n        text-align: right;\n    }\n</style>\n<table border=\"1\" class=\"dataframe\">\n  <thead>\n    <tr style=\"text-align: right;\">\n      <th></th>\n      <th>value</th>\n      <th>temp</th>\n      <th>temp_min</th>\n      <th>temp_max</th>\n      <th>pressure</th>\n      <th>humidity</th>\n      <th>wind_speed</th>\n      <th>wind_gust</th>\n      <th>rain_1h</th>\n      <th>snow_1h</th>\n      <th>federal_holiday_flag</th>\n      <th>school_holiday_flag</th>\n    </tr>\n    <tr>\n      <th>Full_Date</th>\n      <th></th>\n      <th></th>\n      <th></th>\n      <th></th>\n      <th></th>\n      <th></th>\n      <th></th>\n      <th></th>\n      <th></th>\n      <th></th>\n      <th></th>\n      <th></th>\n    </tr>\n  </thead>\n  <tbody>\n    <tr>\n      <th>2019-05-01</th>\n      <td>208.0</td>\n      <td>44.220833</td>\n      <td>26.62</td>\n      <td>58.68</td>\n      <td>1027.750000</td>\n      <td>36.666667</td>\n      <td>6.969583</td>\n      <td>9.944444</td>\n      <td>0.00</td>\n      <td>0.0</td>\n      <td>False</td>\n      <td>False</td>\n    </tr>\n    <tr>\n      <th>2019-05-02</th>\n      <td>229.0</td>\n      <td>41.864400</td>\n      <td>35.60</td>\n      <td>55.29</td>\n      <td>1024.320000</td>\n      <td>78.920000</td>\n      <td>3.918400</td>\n      <td>6.682727</td>\n      <td>4.74</td>\n      <td>0.0</td>\n      <td>False</td>\n      <td>False</td>\n    </tr>\n    <tr>\n      <th>2019-05-03</th>\n      <td>189.0</td>\n      <td>43.672400</td>\n      <td>39.38</td>\n      <td>52.09</td>\n      <td>1021.960000</td>\n      <td>81.840000</td>\n      <td>4.082800</td>\n      <td>7.334762</td>\n      <td>3.97</td>\n      <td>0.0</td>\n      <td>False</td>\n      <td>False</td>\n    </tr>\n    <tr>\n      <th>2019-05-04</th>\n      <td>599.0</td>\n      <td>44.644848</td>\n      <td>39.31</td>\n      <td>63.68</td>\n      <td>1014.424242</td>\n      <td>89.545455</td>\n      <td>2.724242</td>\n      <td>4.378966</td>\n      <td>10.40</td>\n      <td>0.0</td>\n      <td>False</td>\n      <td>False</td>\n    </tr>\n    <tr>\n      <th>2019-05-05</th>\n      <td>536.0</td>\n      <td>50.456250</td>\n      <td>39.61</td>\n      <td>69.19</td>\n      <td>1012.791667</td>\n      <td>76.333333</td>\n      <td>3.331667</td>\n      <td>5.573333</td>\n      <td>0.00</td>\n      <td>0.0</td>\n      <td>False</td>\n      <td>False</td>\n    </tr>\n  </tbody>\n</table>\n</div>"
     },
     "execution_count": 24,
     "metadata": {},
     "output_type": "execute_result"
    }
   ],
   "source": [
    "daily_attendance.head()"
   ],
   "metadata": {
    "collapsed": false,
    "pycharm": {
     "name": "#%%\n"
    }
   }
  },
  {
   "cell_type": "code",
   "execution_count": 26,
   "outputs": [],
   "source": [
    "daily_attendance.to_csv(\"/Users/sitanshurupani/Data Science Coursework/Sem 4/GQP - National Parks/DataSpell Project/Data/Daily_attendance.csv\")"
   ],
   "metadata": {
    "collapsed": false,
    "pycharm": {
     "name": "#%%\n"
    }
   }
  },
  {
   "cell_type": "code",
   "execution_count": 27,
   "outputs": [
    {
     "data": {
      "text/plain": "Full_Date\n2019-05-01    False\n2019-05-02    False\n2019-05-03    False\n2019-05-04    False\n2019-05-05    False\n              ...  \n2021-10-27    False\n2021-10-28    False\n2021-10-29    False\n2021-10-30    False\n2021-10-31    False\nLength: 460, dtype: bool"
     },
     "execution_count": 27,
     "metadata": {},
     "output_type": "execute_result"
    }
   ],
   "source": [
    "daily_attendance.duplicated()"
   ],
   "metadata": {
    "collapsed": false,
    "pycharm": {
     "name": "#%%\n"
    }
   }
  },
  {
   "cell_type": "code",
   "execution_count": null,
   "outputs": [],
   "source": [],
   "metadata": {
    "collapsed": false,
    "pycharm": {
     "name": "#%%\n"
    }
   }
  }
 ],
 "metadata": {
  "kernelspec": {
   "display_name": "Python 3",
   "language": "python",
   "name": "python3"
  },
  "language_info": {
   "codemirror_mode": {
    "name": "ipython",
    "version": 2
   },
   "file_extension": ".py",
   "mimetype": "text/x-python",
   "name": "python",
   "nbconvert_exporter": "python",
   "pygments_lexer": "ipython2",
   "version": "2.7.6"
  }
 },
 "nbformat": 4,
 "nbformat_minor": 0
}