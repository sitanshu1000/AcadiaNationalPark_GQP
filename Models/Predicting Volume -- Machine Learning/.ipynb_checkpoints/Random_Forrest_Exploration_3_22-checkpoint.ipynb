{
 "cells": [
  {
   "cell_type": "code",
   "execution_count": 20,
   "id": "bbd40ef2",
   "metadata": {},
   "outputs": [],
   "source": [
    "import pandas as pd\n",
    "import numpy as np\n",
    "import matplotlib.pyplot as plt\n",
    "from datetime import datetime\n",
    "import math\n",
    "from sklearn.ensemble import RandomForestRegressor\n",
    "from sklearn.metrics import mean_squared_error\n",
    "from sklearn.preprocessing import OneHotEncoder"
   ]
  },
  {
   "cell_type": "markdown",
   "id": "348282e1",
   "metadata": {},
   "source": [
    "## Loading and PreProcessing Data"
   ]
  },
  {
   "cell_type": "code",
   "execution_count": 21,
   "id": "710ab4f6",
   "metadata": {},
   "outputs": [],
   "source": [
    "df = pd.read_csv(\"Daily_attendance.csv\")"
   ]
  },
  {
   "cell_type": "code",
   "execution_count": 22,
   "id": "fbdcf1d0",
   "metadata": {},
   "outputs": [],
   "source": [
    "df = df.drop(\"snow_1h\", axis = 1)"
   ]
  },
  {
   "cell_type": "code",
   "execution_count": 23,
   "id": "f1ac8fc2",
   "metadata": {},
   "outputs": [
    {
     "data": {
      "text/plain": [
       "2019"
      ]
     },
     "execution_count": 23,
     "metadata": {},
     "output_type": "execute_result"
    }
   ],
   "source": [
    "datetime.strptime(df.iloc[0,0], '%m/%d/%Y').year"
   ]
  },
  {
   "cell_type": "code",
   "execution_count": 24,
   "id": "d92b51d5",
   "metadata": {},
   "outputs": [],
   "source": [
    "df[\"Month\"] = 0 \n",
    "df[\"DOW\"] = 0 \n",
    "df[\"Year\"] = 0"
   ]
  },
  {
   "cell_type": "code",
   "execution_count": 25,
   "id": "6ac52878",
   "metadata": {},
   "outputs": [],
   "source": [
    "for i in range(0, len(df)):\n",
    "    date = datetime.strptime(df.iloc[i,0], '%m/%d/%Y')\n",
    "    df.loc[i, \"Month\"] = date.month\n",
    "    df.loc[i, \"DOW\"] = date.weekday()\n",
    "    df.loc[i, \"Year\"] = date.year"
   ]
  },
  {
   "cell_type": "code",
   "execution_count": 26,
   "id": "fa71cb39",
   "metadata": {},
   "outputs": [
    {
     "data": {
      "text/plain": [
       "array([ 5,  6,  7,  8,  9, 10], dtype=int64)"
      ]
     },
     "execution_count": 26,
     "metadata": {},
     "output_type": "execute_result"
    }
   ],
   "source": [
    "df[\"Month\"].unique()"
   ]
  },
  {
   "cell_type": "code",
   "execution_count": 27,
   "id": "713721d4",
   "metadata": {},
   "outputs": [
    {
     "data": {
      "text/plain": [
       "array([2, 3, 4, 5, 6, 0, 1], dtype=int64)"
      ]
     },
     "execution_count": 27,
     "metadata": {},
     "output_type": "execute_result"
    }
   ],
   "source": [
    "df[\"DOW\"].unique()"
   ]
  },
  {
   "cell_type": "code",
   "execution_count": 28,
   "id": "7712661b",
   "metadata": {},
   "outputs": [],
   "source": [
    "month_part = 360/6\n",
    "dow_part = 360/7"
   ]
  },
  {
   "cell_type": "code",
   "execution_count": 29,
   "id": "a52daa92",
   "metadata": {},
   "outputs": [],
   "source": [
    "# df[\"DOW_cos\"] = 0 \n",
    "# df[\"DOW_sin\"] =0 \n",
    "df[\"Month_cos\"] = 0\n",
    "df[\"Month_sin\"]  = 0"
   ]
  },
  {
   "cell_type": "code",
   "execution_count": 30,
   "id": "b27de71f",
   "metadata": {},
   "outputs": [],
   "source": [
    "for i in range(0, len(df)):\n",
    "    month_mult = df.loc[i, \"Month\"] - 4\n",
    "#     dow_mult = df.loc[i, \"DOW\"] + 1\n",
    "    \n",
    "#     df.loc[i, \"DOW_cos\"] = math.cos(dow_part*dow_mult)\n",
    "#     df.loc[i, \"DOW_sin\"] = math.sin(dow_part*dow_mult)\n",
    "\n",
    "    df.loc[i, \"Month_cos\"] = math.cos(month_part*month_mult)\n",
    "    df.loc[i, \"Month_sin\"] = math.sin(month_part*month_mult)"
   ]
  },
  {
   "cell_type": "code",
   "execution_count": 31,
   "id": "0bb0ccd2",
   "metadata": {},
   "outputs": [],
   "source": [
    "#into numeric binary:\n",
    "for i in range(0, len(df)):\n",
    "    if df.loc[i, \"school_holiday_flag\"] == \"False\":\n",
    "        df.loc[i, \"school_holiday_flag\"] = 0 \n",
    "    else:\n",
    "        df.loc[i, \"school_holiday_flag\"] = 1\n",
    "    \n",
    "    if df.loc[i, \"federal_holiday_flag\"] == \"False\":\n",
    "        df.loc[i, \"federal_holiday_flag\"] = 0 \n",
    "    else:\n",
    "        df.loc[i, \"federal_holiday_flag\"] = 1    "
   ]
  },
  {
   "cell_type": "code",
   "execution_count": 34,
   "id": "20898124",
   "metadata": {},
   "outputs": [],
   "source": [
    "df[\"Tuesday\"] = 0\n",
    "df[\"Wednesday\"] = 0\n",
    "df[\"Thursday\"] =0 \n",
    "df[\"Friday\"] =0 \n",
    "df[\"Saturday\"] =0 \n",
    "df[\"Sunday\"] = 0"
   ]
  },
  {
   "cell_type": "code",
   "execution_count": 35,
   "id": "3f00dfaf",
   "metadata": {},
   "outputs": [],
   "source": [
    "for i in range(0, len(df)):\n",
    "    if df.loc[i, \"DOW\"] == 0:\n",
    "        df.loc[i, \"Sunday\"] =1\n",
    "    elif df.loc[i, \"DOW\"] ==2:\n",
    "        df.loc[i, \"Tuesday\"] = 1\n",
    "    elif df.loc[i, \"DOW\"] ==3:\n",
    "        df.loc[i, \"Wednesday\"] = 1\n",
    "    elif df.loc[i, \"DOW\"] ==4:\n",
    "        df.loc[i, \"Thursday\"] = 1\n",
    "    elif df.loc[i, \"DOW\"] ==5:\n",
    "        df.loc[i, \"Friday\"] = 1\n",
    "    elif df.loc[i, \"DOW\"] ==6:\n",
    "        df.loc[i, \"Tuesday\"] = 1"
   ]
  },
  {
   "cell_type": "code",
   "execution_count": 39,
   "id": "3e67bd79",
   "metadata": {},
   "outputs": [],
   "source": [
    "#Find and replace NaN values:\n",
    "is_NaN = df.isnull()\n",
    "row_has_NaN = is_NaN.any(axis=1)\n",
    "rows_with_NaN = df[row_has_NaN]"
   ]
  },
  {
   "cell_type": "code",
   "execution_count": 40,
   "id": "42ad8d30",
   "metadata": {},
   "outputs": [
    {
     "data": {
      "text/html": [
       "<div>\n",
       "<style scoped>\n",
       "    .dataframe tbody tr th:only-of-type {\n",
       "        vertical-align: middle;\n",
       "    }\n",
       "\n",
       "    .dataframe tbody tr th {\n",
       "        vertical-align: top;\n",
       "    }\n",
       "\n",
       "    .dataframe thead th {\n",
       "        text-align: right;\n",
       "    }\n",
       "</style>\n",
       "<table border=\"1\" class=\"dataframe\">\n",
       "  <thead>\n",
       "    <tr style=\"text-align: right;\">\n",
       "      <th></th>\n",
       "      <th>Full_Date</th>\n",
       "      <th>value</th>\n",
       "      <th>temp</th>\n",
       "      <th>temp_min</th>\n",
       "      <th>temp_max</th>\n",
       "      <th>pressure</th>\n",
       "      <th>humidity</th>\n",
       "      <th>wind_speed</th>\n",
       "      <th>wind_gust</th>\n",
       "      <th>rain_1h</th>\n",
       "      <th>...</th>\n",
       "      <th>DOW</th>\n",
       "      <th>Year</th>\n",
       "      <th>Month_cos</th>\n",
       "      <th>Month_sin</th>\n",
       "      <th>Tuesday</th>\n",
       "      <th>Wednesday</th>\n",
       "      <th>Thursday</th>\n",
       "      <th>Friday</th>\n",
       "      <th>Saturday</th>\n",
       "      <th>Sunday</th>\n",
       "    </tr>\n",
       "  </thead>\n",
       "  <tbody>\n",
       "  </tbody>\n",
       "</table>\n",
       "<p>0 rows × 23 columns</p>\n",
       "</div>"
      ],
      "text/plain": [
       "Empty DataFrame\n",
       "Columns: [Full_Date, value, temp, temp_min, temp_max, pressure, humidity, wind_speed, wind_gust, rain_1h, federal_holiday_flag, school_holiday_flag, Month, DOW, Year, Month_cos, Month_sin, Tuesday, Wednesday, Thursday, Friday, Saturday, Sunday]\n",
       "Index: []\n",
       "\n",
       "[0 rows x 23 columns]"
      ]
     },
     "execution_count": 40,
     "metadata": {},
     "output_type": "execute_result"
    }
   ],
   "source": [
    "rows_with_NaN"
   ]
  },
  {
   "cell_type": "code",
   "execution_count": 38,
   "id": "1c306385",
   "metadata": {},
   "outputs": [],
   "source": [
    "#replace with average wind gust\n",
    "df.loc[59, \"wind_gust\"] = np.mean(df[\"wind_gust\"])\n",
    "df.loc[334, \"wind_gust\"] = np.mean(df[\"wind_gust\"])\n",
    "df.loc[336, \"wind_gust\"] = np.mean(df[\"wind_gust\"])"
   ]
  },
  {
   "cell_type": "markdown",
   "id": "5be9a3db",
   "metadata": {},
   "source": [
    "## Spliting Data"
   ]
  },
  {
   "cell_type": "code",
   "execution_count": 41,
   "id": "d92413e6",
   "metadata": {},
   "outputs": [],
   "source": [
    "# columns_for_modeling = ['temp', 'temp_min', 'temp_max', 'pressure',\n",
    "#        'humidity', 'wind_speed', 'wind_gust', 'rain_1h',\n",
    "#        'federal_holiday_flag', 'school_holiday_flag', 'Year',\n",
    "#        'DOW_cos', 'DOW_sin', 'Month_cos', 'Month_sin']\n",
    "\n",
    "columns_for_modeling = ['temp', 'temp_min', 'temp_max', 'pressure',\n",
    "       'humidity', 'wind_speed', 'wind_gust', 'rain_1h',\n",
    "       'federal_holiday_flag', 'school_holiday_flag', 'Year',\n",
    "        'Month_cos', 'Month_sin', \"Sunday\", \"Tuesday\", \"Wednesday\", \"Thursday\", \"Friday\", \"Saturday\", \"Sunday\"]"
   ]
  },
  {
   "cell_type": "code",
   "execution_count": 42,
   "id": "adccf93c",
   "metadata": {},
   "outputs": [],
   "source": [
    "train_x = df.loc[np.where((df[\"Year\"] == 2019) | (df[\"Year\"] == 2020))[0], columns_for_modeling]\n",
    "train_x = train_x.reset_index(drop=True)\n",
    "\n",
    "test_x = df.loc[np.where(df[\"Year\"] == 2021)[0], columns_for_modeling]\n",
    "test_x = test_x.reset_index(drop=True)\n",
    "\n",
    "train_y = df.loc[np.where((df[\"Year\"] == 2019) | (df[\"Year\"] == 2020))[0], 'value']\n",
    "train_y = train_y.reset_index(drop=True)\n",
    "\n",
    "test_y = df.loc[np.where(df[\"Year\"] == 2021)[0], 'value']\n",
    "test_y = test_y.reset_index(drop=True)"
   ]
  },
  {
   "cell_type": "markdown",
   "id": "d54c36e0",
   "metadata": {},
   "source": [
    "## Random Forrest Modeling!"
   ]
  },
  {
   "cell_type": "markdown",
   "id": "c617f1d0",
   "metadata": {},
   "source": [
    "Settings to mess with:\n",
    "- n_estimators\n",
    "- max_depth\n",
    "- squared versus absolute error"
   ]
  },
  {
   "cell_type": "code",
   "execution_count": 43,
   "id": "6806eb96",
   "metadata": {},
   "outputs": [
    {
     "data": {
      "text/plain": [
       "RandomForestRegressor(random_state=0)"
      ]
     },
     "execution_count": 43,
     "metadata": {},
     "output_type": "execute_result"
    }
   ],
   "source": [
    "#Most basic model:\n",
    "regr = RandomForestRegressor(random_state=0)\n",
    "regr.fit(train_x, train_y)"
   ]
  },
  {
   "cell_type": "code",
   "execution_count": 44,
   "id": "50fc0541",
   "metadata": {},
   "outputs": [],
   "source": [
    "pred = regr.predict(test_x)"
   ]
  },
  {
   "cell_type": "code",
   "execution_count": 47,
   "id": "bda7e10a",
   "metadata": {},
   "outputs": [
    {
     "data": {
      "text/plain": [
       "328.96554597658695"
      ]
     },
     "execution_count": 47,
     "metadata": {},
     "output_type": "execute_result"
    }
   ],
   "source": [
    "mean_squared_error(pred, test_y, squared = False)"
   ]
  },
  {
   "cell_type": "code",
   "execution_count": 46,
   "id": "7005ee98",
   "metadata": {},
   "outputs": [],
   "source": [
    "# plt.plot(test_y - pred)"
   ]
  },
  {
   "cell_type": "code",
   "execution_count": 62,
   "id": "de6b2b93",
   "metadata": {},
   "outputs": [],
   "source": [
    "# plt.plot(pred)\n",
    "# plt.plot(test_y)"
   ]
  },
  {
   "cell_type": "code",
   "execution_count": 48,
   "id": "5c6e30f9",
   "metadata": {},
   "outputs": [
    {
     "data": {
      "text/plain": [
       "RandomForestRegressor(criterion='mae', random_state=0)"
      ]
     },
     "execution_count": 48,
     "metadata": {},
     "output_type": "execute_result"
    }
   ],
   "source": [
    "#Most basic model:\n",
    "regr_1 = RandomForestRegressor(random_state=0, criterion=\"mae\")\n",
    "regr_1.fit(train_x, train_y)"
   ]
  },
  {
   "cell_type": "code",
   "execution_count": 49,
   "id": "b85e6838",
   "metadata": {},
   "outputs": [],
   "source": [
    "pred_1 = regr_1.predict(test_x)"
   ]
  },
  {
   "cell_type": "code",
   "execution_count": 50,
   "id": "066aef4f",
   "metadata": {},
   "outputs": [
    {
     "data": {
      "text/plain": [
       "346.5213863004518"
      ]
     },
     "execution_count": 50,
     "metadata": {},
     "output_type": "execute_result"
    }
   ],
   "source": [
    "mean_squared_error(pred_1, test_y, squared = False)"
   ]
  },
  {
   "cell_type": "markdown",
   "id": "584e53ba",
   "metadata": {},
   "source": [
    "### Random Forest Fitting for Max Depth"
   ]
  },
  {
   "cell_type": "code",
   "execution_count": 51,
   "id": "d8bcfb2e",
   "metadata": {},
   "outputs": [
    {
     "ename": "NameError",
     "evalue": "name 'X_train_1' is not defined",
     "output_type": "error",
     "traceback": [
      "\u001b[1;31m---------------------------------------------------------------------------\u001b[0m",
      "\u001b[1;31mNameError\u001b[0m                                 Traceback (most recent call last)",
      "\u001b[1;32m~\\AppData\\Local\\Temp/ipykernel_7848/1206723627.py\u001b[0m in \u001b[0;36m<module>\u001b[1;34m\u001b[0m\n\u001b[0;32m      4\u001b[0m \u001b[1;32mfor\u001b[0m \u001b[0mdepth\u001b[0m \u001b[1;32min\u001b[0m \u001b[0mmax_depth\u001b[0m\u001b[1;33m:\u001b[0m\u001b[1;33m\u001b[0m\u001b[1;33m\u001b[0m\u001b[0m\n\u001b[0;32m      5\u001b[0m     \u001b[0mfit\u001b[0m \u001b[1;33m=\u001b[0m \u001b[0mRandomForestRegressor\u001b[0m\u001b[1;33m(\u001b[0m\u001b[0mmax_depth\u001b[0m\u001b[1;33m=\u001b[0m\u001b[0mdepth\u001b[0m\u001b[1;33m)\u001b[0m\u001b[1;33m\u001b[0m\u001b[1;33m\u001b[0m\u001b[0m\n\u001b[1;32m----> 6\u001b[1;33m     \u001b[0mfit\u001b[0m\u001b[1;33m.\u001b[0m\u001b[0mfit\u001b[0m\u001b[1;33m(\u001b[0m\u001b[0mX_train_1\u001b[0m\u001b[1;33m,\u001b[0m \u001b[0my_train_1\u001b[0m\u001b[1;33m)\u001b[0m\u001b[1;33m\u001b[0m\u001b[1;33m\u001b[0m\u001b[0m\n\u001b[0m\u001b[0;32m      7\u001b[0m     \u001b[0mres\u001b[0m \u001b[1;33m=\u001b[0m \u001b[1;33m[\u001b[0m\u001b[0mmean_squared_error\u001b[0m\u001b[1;33m(\u001b[0m\u001b[0mfit\u001b[0m\u001b[1;33m.\u001b[0m\u001b[0mpredict\u001b[0m\u001b[1;33m(\u001b[0m\u001b[0mX_train_1\u001b[0m\u001b[1;33m)\u001b[0m\u001b[1;33m,\u001b[0m \u001b[0my_train_1\u001b[0m\u001b[1;33m,\u001b[0m \u001b[0msquared\u001b[0m \u001b[1;33m=\u001b[0m \u001b[1;32mFalse\u001b[0m\u001b[1;33m)\u001b[0m\u001b[1;33m,\u001b[0m \u001b[0mmean_squared_error\u001b[0m\u001b[1;33m(\u001b[0m\u001b[0mfit\u001b[0m\u001b[1;33m.\u001b[0m\u001b[0mpredict\u001b[0m\u001b[1;33m(\u001b[0m\u001b[0mX_val\u001b[0m\u001b[1;33m)\u001b[0m\u001b[1;33m,\u001b[0m \u001b[0my_val\u001b[0m\u001b[1;33m,\u001b[0m \u001b[0msquared\u001b[0m \u001b[1;33m=\u001b[0m \u001b[1;32mFalse\u001b[0m\u001b[1;33m)\u001b[0m\u001b[1;33m]\u001b[0m\u001b[1;33m\u001b[0m\u001b[1;33m\u001b[0m\u001b[0m\n\u001b[0;32m      8\u001b[0m     \u001b[0mfits\u001b[0m\u001b[1;33m.\u001b[0m\u001b[0mappend\u001b[0m\u001b[1;33m(\u001b[0m\u001b[0mres\u001b[0m\u001b[1;33m)\u001b[0m\u001b[1;33m\u001b[0m\u001b[1;33m\u001b[0m\u001b[0m\n",
      "\u001b[1;31mNameError\u001b[0m: name 'X_train_1' is not defined"
     ]
    }
   ],
   "source": [
    "fits = []\n",
    "max_depth = [i for i in range(2, 20)]\n",
    "322.52\n",
    "for depth in max_depth:\n",
    "    fit = RandomForestRegressor(max_depth=depth)\n",
    "    fit.fit(X_train_1, y_train_1)\n",
    "    res = [mean_squared_error(fit.predict(X_train_1), y_train_1, squared = False), mean_squared_error(fit.predict(X_val), y_val, squared = False)]\n",
    "    fits.append(res)"
   ]
  },
  {
   "cell_type": "code",
   "execution_count": 52,
   "id": "72f80d30",
   "metadata": {
    "scrolled": true
   },
   "outputs": [
    {
     "ename": "ValueError",
     "evalue": "x and y must have same first dimension, but have shapes (18,) and (0,)",
     "output_type": "error",
     "traceback": [
      "\u001b[1;31m---------------------------------------------------------------------------\u001b[0m",
      "\u001b[1;31mValueError\u001b[0m                                Traceback (most recent call last)",
      "\u001b[1;32m~\\AppData\\Local\\Temp/ipykernel_7848/303254308.py\u001b[0m in \u001b[0;36m<module>\u001b[1;34m\u001b[0m\n\u001b[0;32m      6\u001b[0m \u001b[0max\u001b[0m\u001b[1;33m.\u001b[0m\u001b[0mset_ylabel\u001b[0m\u001b[1;33m(\u001b[0m\u001b[1;34m\"accuracy\"\u001b[0m\u001b[1;33m)\u001b[0m\u001b[1;33m\u001b[0m\u001b[1;33m\u001b[0m\u001b[0m\n\u001b[0;32m      7\u001b[0m \u001b[0max\u001b[0m\u001b[1;33m.\u001b[0m\u001b[0mset_title\u001b[0m\u001b[1;33m(\u001b[0m\u001b[1;34m\"Accuracy vs Tree Depth for Training and Vaidation Sets\"\u001b[0m\u001b[1;33m)\u001b[0m\u001b[1;33m\u001b[0m\u001b[1;33m\u001b[0m\u001b[0m\n\u001b[1;32m----> 8\u001b[1;33m \u001b[0max\u001b[0m\u001b[1;33m.\u001b[0m\u001b[0mplot\u001b[0m\u001b[1;33m(\u001b[0m\u001b[0mmax_depth\u001b[0m\u001b[1;33m,\u001b[0m \u001b[0mtrain_scores\u001b[0m\u001b[1;33m,\u001b[0m \u001b[0mmarker\u001b[0m\u001b[1;33m=\u001b[0m\u001b[1;34m\"o\"\u001b[0m\u001b[1;33m,\u001b[0m \u001b[0mlabel\u001b[0m\u001b[1;33m=\u001b[0m\u001b[1;34m\"train\"\u001b[0m\u001b[1;33m,\u001b[0m \u001b[0mdrawstyle\u001b[0m\u001b[1;33m=\u001b[0m\u001b[1;34m\"steps-post\"\u001b[0m\u001b[1;33m)\u001b[0m\u001b[1;33m\u001b[0m\u001b[1;33m\u001b[0m\u001b[0m\n\u001b[0m\u001b[0;32m      9\u001b[0m \u001b[0max\u001b[0m\u001b[1;33m.\u001b[0m\u001b[0mplot\u001b[0m\u001b[1;33m(\u001b[0m\u001b[0mmax_depth\u001b[0m\u001b[1;33m,\u001b[0m \u001b[0mval_scores\u001b[0m\u001b[1;33m,\u001b[0m \u001b[0mmarker\u001b[0m\u001b[1;33m=\u001b[0m\u001b[1;34m\"o\"\u001b[0m\u001b[1;33m,\u001b[0m \u001b[0mlabel\u001b[0m\u001b[1;33m=\u001b[0m\u001b[1;34m\"validation\"\u001b[0m\u001b[1;33m,\u001b[0m \u001b[0mdrawstyle\u001b[0m\u001b[1;33m=\u001b[0m\u001b[1;34m\"steps-post\"\u001b[0m\u001b[1;33m)\u001b[0m\u001b[1;33m\u001b[0m\u001b[1;33m\u001b[0m\u001b[0m\n\u001b[0;32m     10\u001b[0m \u001b[0max\u001b[0m\u001b[1;33m.\u001b[0m\u001b[0mlegend\u001b[0m\u001b[1;33m(\u001b[0m\u001b[1;33m)\u001b[0m\u001b[1;33m\u001b[0m\u001b[1;33m\u001b[0m\u001b[0m\n",
      "\u001b[1;32m~\\anaconda3\\lib\\site-packages\\matplotlib\\axes\\_axes.py\u001b[0m in \u001b[0;36mplot\u001b[1;34m(self, scalex, scaley, data, *args, **kwargs)\u001b[0m\n\u001b[0;32m   1603\u001b[0m         \"\"\"\n\u001b[0;32m   1604\u001b[0m         \u001b[0mkwargs\u001b[0m \u001b[1;33m=\u001b[0m \u001b[0mcbook\u001b[0m\u001b[1;33m.\u001b[0m\u001b[0mnormalize_kwargs\u001b[0m\u001b[1;33m(\u001b[0m\u001b[0mkwargs\u001b[0m\u001b[1;33m,\u001b[0m \u001b[0mmlines\u001b[0m\u001b[1;33m.\u001b[0m\u001b[0mLine2D\u001b[0m\u001b[1;33m)\u001b[0m\u001b[1;33m\u001b[0m\u001b[1;33m\u001b[0m\u001b[0m\n\u001b[1;32m-> 1605\u001b[1;33m         \u001b[0mlines\u001b[0m \u001b[1;33m=\u001b[0m \u001b[1;33m[\u001b[0m\u001b[1;33m*\u001b[0m\u001b[0mself\u001b[0m\u001b[1;33m.\u001b[0m\u001b[0m_get_lines\u001b[0m\u001b[1;33m(\u001b[0m\u001b[1;33m*\u001b[0m\u001b[0margs\u001b[0m\u001b[1;33m,\u001b[0m \u001b[0mdata\u001b[0m\u001b[1;33m=\u001b[0m\u001b[0mdata\u001b[0m\u001b[1;33m,\u001b[0m \u001b[1;33m**\u001b[0m\u001b[0mkwargs\u001b[0m\u001b[1;33m)\u001b[0m\u001b[1;33m]\u001b[0m\u001b[1;33m\u001b[0m\u001b[1;33m\u001b[0m\u001b[0m\n\u001b[0m\u001b[0;32m   1606\u001b[0m         \u001b[1;32mfor\u001b[0m \u001b[0mline\u001b[0m \u001b[1;32min\u001b[0m \u001b[0mlines\u001b[0m\u001b[1;33m:\u001b[0m\u001b[1;33m\u001b[0m\u001b[1;33m\u001b[0m\u001b[0m\n\u001b[0;32m   1607\u001b[0m             \u001b[0mself\u001b[0m\u001b[1;33m.\u001b[0m\u001b[0madd_line\u001b[0m\u001b[1;33m(\u001b[0m\u001b[0mline\u001b[0m\u001b[1;33m)\u001b[0m\u001b[1;33m\u001b[0m\u001b[1;33m\u001b[0m\u001b[0m\n",
      "\u001b[1;32m~\\anaconda3\\lib\\site-packages\\matplotlib\\axes\\_base.py\u001b[0m in \u001b[0;36m__call__\u001b[1;34m(self, data, *args, **kwargs)\u001b[0m\n\u001b[0;32m    313\u001b[0m                 \u001b[0mthis\u001b[0m \u001b[1;33m+=\u001b[0m \u001b[0margs\u001b[0m\u001b[1;33m[\u001b[0m\u001b[1;36m0\u001b[0m\u001b[1;33m]\u001b[0m\u001b[1;33m,\u001b[0m\u001b[1;33m\u001b[0m\u001b[1;33m\u001b[0m\u001b[0m\n\u001b[0;32m    314\u001b[0m                 \u001b[0margs\u001b[0m \u001b[1;33m=\u001b[0m \u001b[0margs\u001b[0m\u001b[1;33m[\u001b[0m\u001b[1;36m1\u001b[0m\u001b[1;33m:\u001b[0m\u001b[1;33m]\u001b[0m\u001b[1;33m\u001b[0m\u001b[1;33m\u001b[0m\u001b[0m\n\u001b[1;32m--> 315\u001b[1;33m             \u001b[1;32myield\u001b[0m \u001b[1;32mfrom\u001b[0m \u001b[0mself\u001b[0m\u001b[1;33m.\u001b[0m\u001b[0m_plot_args\u001b[0m\u001b[1;33m(\u001b[0m\u001b[0mthis\u001b[0m\u001b[1;33m,\u001b[0m \u001b[0mkwargs\u001b[0m\u001b[1;33m)\u001b[0m\u001b[1;33m\u001b[0m\u001b[1;33m\u001b[0m\u001b[0m\n\u001b[0m\u001b[0;32m    316\u001b[0m \u001b[1;33m\u001b[0m\u001b[0m\n\u001b[0;32m    317\u001b[0m     \u001b[1;32mdef\u001b[0m \u001b[0mget_next_color\u001b[0m\u001b[1;33m(\u001b[0m\u001b[0mself\u001b[0m\u001b[1;33m)\u001b[0m\u001b[1;33m:\u001b[0m\u001b[1;33m\u001b[0m\u001b[1;33m\u001b[0m\u001b[0m\n",
      "\u001b[1;32m~\\anaconda3\\lib\\site-packages\\matplotlib\\axes\\_base.py\u001b[0m in \u001b[0;36m_plot_args\u001b[1;34m(self, tup, kwargs, return_kwargs)\u001b[0m\n\u001b[0;32m    499\u001b[0m \u001b[1;33m\u001b[0m\u001b[0m\n\u001b[0;32m    500\u001b[0m         \u001b[1;32mif\u001b[0m \u001b[0mx\u001b[0m\u001b[1;33m.\u001b[0m\u001b[0mshape\u001b[0m\u001b[1;33m[\u001b[0m\u001b[1;36m0\u001b[0m\u001b[1;33m]\u001b[0m \u001b[1;33m!=\u001b[0m \u001b[0my\u001b[0m\u001b[1;33m.\u001b[0m\u001b[0mshape\u001b[0m\u001b[1;33m[\u001b[0m\u001b[1;36m0\u001b[0m\u001b[1;33m]\u001b[0m\u001b[1;33m:\u001b[0m\u001b[1;33m\u001b[0m\u001b[1;33m\u001b[0m\u001b[0m\n\u001b[1;32m--> 501\u001b[1;33m             raise ValueError(f\"x and y must have same first dimension, but \"\n\u001b[0m\u001b[0;32m    502\u001b[0m                              f\"have shapes {x.shape} and {y.shape}\")\n\u001b[0;32m    503\u001b[0m         \u001b[1;32mif\u001b[0m \u001b[0mx\u001b[0m\u001b[1;33m.\u001b[0m\u001b[0mndim\u001b[0m \u001b[1;33m>\u001b[0m \u001b[1;36m2\u001b[0m \u001b[1;32mor\u001b[0m \u001b[0my\u001b[0m\u001b[1;33m.\u001b[0m\u001b[0mndim\u001b[0m \u001b[1;33m>\u001b[0m \u001b[1;36m2\u001b[0m\u001b[1;33m:\u001b[0m\u001b[1;33m\u001b[0m\u001b[1;33m\u001b[0m\u001b[0m\n",
      "\u001b[1;31mValueError\u001b[0m: x and y must have same first dimension, but have shapes (18,) and (0,)"
     ]
    },
    {
     "data": {
      "image/png": "[encoded data removed]",
      "text/plain": [
       "<Figure size 432x288 with 1 Axes>"
      ]
     },
     "metadata": {
      "needs_background": "light"
     },
     "output_type": "display_data"
    }
   ],
   "source": [
    "train_scores = [i[0] for i in fits]\n",
    "val_scores = [i[1] for i in fits]\n",
    "\n",
    "fig, ax = plt.subplots()\n",
    "ax.set_xlabel(\"Tree Depth\")\n",
    "ax.set_ylabel(\"accuracy\")\n",
    "ax.set_title(\"Accuracy vs Tree Depth for Training and Vaidation Sets\")\n",
    "ax.plot(max_depth, train_scores, marker=\"o\", label=\"train\", drawstyle=\"steps-post\")\n",
    "ax.plot(max_depth, val_scores, marker=\"o\", label=\"validation\", drawstyle=\"steps-post\")\n",
    "ax.legend()\n",
    "plt.show()"
   ]
  },
  {
   "cell_type": "code",
   "execution_count": 119,
   "id": "44996d17",
   "metadata": {},
   "outputs": [],
   "source": [
    "#best is roughly 5"
   ]
  },
  {
   "cell_type": "code",
   "execution_count": 153,
   "id": "95f2342b",
   "metadata": {},
   "outputs": [
    {
     "data": {
      "text/plain": [
       "324.0869163470788"
      ]
     },
     "execution_count": 153,
     "metadata": {},
     "output_type": "execute_result"
    }
   ],
   "source": [
    "regr_2 = RandomForestRegressor(random_state=0, max_depth = 5)\n",
    "regr_2.fit(train_x, train_y)\n",
    "\n",
    "pred_2 = regr_2.predict(test_x)\n",
    "\n",
    "mean_squared_error(pred_2, test_y, squared = False)"
   ]
  },
  {
   "cell_type": "code",
   "execution_count": 121,
   "id": "b463f5f0",
   "metadata": {},
   "outputs": [],
   "source": [
    "fits = []\n",
    "max_depth = [i for i in range(2, 20)]\n",
    "\n",
    "for depth in max_depth:\n",
    "    fit = RandomForestRegressor(max_depth=depth, criterion = 'mae')\n",
    "    fit.fit(X_train_1, y_train_1)\n",
    "    res = [mean_squared_error(fit.predict(X_train_1), y_train_1, squared = False), mean_squared_error(fit.predict(X_val), y_val, squared = False)]\n",
    "    fits.append(res)"
   ]
  },
  {
   "cell_type": "code",
   "execution_count": 122,
   "id": "620ddb51",
   "metadata": {},
   "outputs": [
    {
     "data": {
      "image/png": "[encoded data removed]",
      "text/plain": [
       "<Figure size 432x288 with 1 Axes>"
      ]
     },
     "metadata": {
      "needs_background": "light"
     },
     "output_type": "display_data"
    }
   ],
   "source": [
    "train_scores = [i[0] for i in fits]\n",
    "val_scores = [i[1] for i in fits]\n",
    "\n",
    "fig, ax = plt.subplots()\n",
    "ax.set_xlabel(\"Tree Depth\")\n",
    "ax.set_ylabel(\"accuracy\")\n",
    "ax.set_title(\"Accuracy vs Tree Depth for Training and Vaidation Sets\")\n",
    "ax.plot(max_depth, train_scores, marker=\"o\", label=\"train\", drawstyle=\"steps-post\")\n",
    "ax.plot(max_depth, val_scores, marker=\"o\", label=\"validation\", drawstyle=\"steps-post\")\n",
    "ax.legend()\n",
    "plt.show()"
   ]
  },
  {
   "cell_type": "code",
   "execution_count": 157,
   "id": "bb7247f3",
   "metadata": {},
   "outputs": [
    {
     "data": {
      "text/plain": [
       "336.302878572096"
      ]
     },
     "execution_count": 157,
     "metadata": {},
     "output_type": "execute_result"
    }
   ],
   "source": [
    "regr_2 = RandomForestRegressor(random_state=0, max_depth = 10)#, criterion= 'mae')\n",
    "regr_2.fit(train_x, train_y)\n",
    "\n",
    "pred_2 = regr_2.predict(test_x)\n",
    "\n",
    "mean_squared_error(pred_2, test_y, squared = False)"
   ]
  },
  {
   "cell_type": "markdown",
   "id": "3a632cce",
   "metadata": {},
   "source": [
    "### Random Forest Fitting for Number of estimators"
   ]
  },
  {
   "cell_type": "code",
   "execution_count": 129,
   "id": "c821bd51",
   "metadata": {},
   "outputs": [],
   "source": [
    "fits = []\n",
    "estimator_count = [i for i in range(50, 100)]\n",
    "\n",
    "for est in estimator_count:\n",
    "    fit = RandomForestRegressor(n_estimators=est, criterion = 'mae')\n",
    "    fit.fit(X_train_1, y_train_1)\n",
    "    res = [mean_squared_error(fit.predict(X_train_1), y_train_1, squared = False), mean_squared_error(fit.predict(X_val), y_val, squared = False)]\n",
    "    fits.append(res)"
   ]
  },
  {
   "cell_type": "code",
   "execution_count": 130,
   "id": "bb3ac2b4",
   "metadata": {
    "scrolled": true
   },
   "outputs": [
    {
     "data": {
      "image/png": "[encoded data removed]",
      "text/plain": [
       "<Figure size 432x288 with 1 Axes>"
      ]
     },
     "metadata": {
      "needs_background": "light"
     },
     "output_type": "display_data"
    }
   ],
   "source": [
    "train_scores = [i[0] for i in fits]\n",
    "val_scores = [i[1] for i in fits]\n",
    "\n",
    "fig, ax = plt.subplots()\n",
    "ax.set_xlabel(\"Number of Estimators\")\n",
    "ax.set_ylabel(\"accuracy\")\n",
    "ax.set_title(\"Accuracy vs Number of Estimators for Training and Vaidation Sets\")\n",
    "ax.plot(estimator_count, train_scores, marker=\"o\", label=\"train\", drawstyle=\"steps-post\")\n",
    "ax.plot(estimator_count, val_scores, marker=\"o\", label=\"validation\", drawstyle=\"steps-post\")\n",
    "ax.legend()\n",
    "plt.show()"
   ]
  },
  {
   "cell_type": "markdown",
   "id": "f852218f",
   "metadata": {},
   "source": [
    "### Random Forest Fitting for ccp_alpha"
   ]
  },
  {
   "cell_type": "code",
   "execution_count": 142,
   "id": "0fd74dd6",
   "metadata": {},
   "outputs": [
    {
     "data": {
      "text/plain": [
       "0.0"
      ]
     },
     "execution_count": 142,
     "metadata": {},
     "output_type": "execute_result"
    }
   ],
   "source": [
    "np.linspace(0,1,101)"
   ]
  },
  {
   "cell_type": "code",
   "execution_count": 148,
   "id": "a4c26f38",
   "metadata": {},
   "outputs": [],
   "source": [
    "fits = []\n",
    "alphas = np.linspace(0,1,11)\n",
    "\n",
    "for alpha in alphas:\n",
    "    fit = RandomForestRegressor(ccp_alpha=alpha, criterion = 'mae')\n",
    "    fit.fit(X_train_1, y_train_1)\n",
    "    res = [mean_squared_error(fit.predict(X_train_1), y_train_1, squared = False), mean_squared_error(fit.predict(X_val), y_val, squared = False)]\n",
    "    fits.append(res)"
   ]
  },
  {
   "cell_type": "code",
   "execution_count": 149,
   "id": "ae9d53db",
   "metadata": {
    "scrolled": true
   },
   "outputs": [
    {
     "data": {
      "image/png": "[encoded data removed]",
      "text/plain": [
       "<Figure size 432x288 with 1 Axes>"
      ]
     },
     "metadata": {
      "needs_background": "light"
     },
     "output_type": "display_data"
    }
   ],
   "source": [
    "train_scores = [i[0] for i in fits]\n",
    "val_scores = [i[1] for i in fits]\n",
    "\n",
    "fig, ax = plt.subplots()\n",
    "ax.set_xlabel(\"ccp_alpha\")\n",
    "ax.set_ylabel(\"accuracy\")\n",
    "ax.set_title(\"Accuracy vs ccp_alpha for Training and Vaidation Sets\")\n",
    "ax.plot(alphas, train_scores, marker=\"o\", label=\"train\", drawstyle=\"steps-post\")\n",
    "ax.plot(alphas, val_scores, marker=\"o\", label=\"validation\", drawstyle=\"steps-post\")\n",
    "ax.legend()\n",
    "plt.show()"
   ]
  },
  {
   "cell_type": "markdown",
   "id": "5b83b189",
   "metadata": {},
   "source": [
    "## Plotting Best Model Fit"
   ]
  },
  {
   "cell_type": "code",
   "execution_count": 53,
   "id": "da57a176",
   "metadata": {},
   "outputs": [
    {
     "data": {
      "text/plain": [
       "327.67176061821846"
      ]
     },
     "execution_count": 53,
     "metadata": {},
     "output_type": "execute_result"
    }
   ],
   "source": [
    "regr = RandomForestRegressor(random_state=0, max_depth = 5)\n",
    "regr.fit(train_x, train_y)\n",
    "\n",
    "pred = regr.predict(test_x)\n",
    "\n",
    "mean_squared_error(pred, test_y, squared = False)"
   ]
  },
  {
   "cell_type": "code",
   "execution_count": 54,
   "id": "23bc1fe4",
   "metadata": {},
   "outputs": [],
   "source": [
    "dates = df.loc[np.where(df[\"Year\"] == 2021)[0], \"Full_Date\"]"
   ]
  },
  {
   "cell_type": "code",
   "execution_count": 55,
   "id": "778f277a",
   "metadata": {},
   "outputs": [],
   "source": [
    "dates = dates.reset_index(drop=True)"
   ]
  },
  {
   "cell_type": "code",
   "execution_count": 56,
   "id": "462e6736",
   "metadata": {},
   "outputs": [
    {
     "data": {
      "image/png": "[encoded data removed]",
      "text/plain": [
       "<Figure size 432x288 with 1 Axes>"
      ]
     },
     "metadata": {
      "needs_background": "light"
     },
     "output_type": "display_data"
    }
   ],
   "source": [
    "plt.plot(dates, pred, label = \"Predicted\", color = \"dodgerblue\")\n",
    "plt.plot(dates, test_y, label = \"Actual\", color = \"lightgreen\")\n",
    "\n",
    "plt.title(\"Predicted vs Actual Volumne for 2021\")\n",
    "plt.legend()\n",
    "plt.xticks([0, 31, 61, 92, 123, 153], ['May', 'June', 'July', 'August', 'September', 'October'],\n",
    "       rotation=20) \n",
    "plt.show()"
   ]
  },
  {
   "cell_type": "code",
   "execution_count": 57,
   "id": "ce2cc538",
   "metadata": {},
   "outputs": [
    {
     "data": {
      "image/png": "[encoded data removed]",
      "text/plain": [
       "<Figure size 432x288 with 1 Axes>"
      ]
     },
     "metadata": {
      "needs_background": "light"
     },
     "output_type": "display_data"
    }
   ],
   "source": [
    "plt.scatter(dates, test_y-pred, color = 'mediumorchid')\n",
    "plt.axhline(y = 0, color = 'lightgrey', linestyle = '-', linewidth  = 3)\n",
    "plt.title(\"Residual Plot for Random Forest Model\")\n",
    "plt.xticks([0, 31, 61, 92, 123, 153], ['May', 'June', 'July', 'August', 'September', 'October'],\n",
    "       rotation=20) \n",
    "plt.show()"
   ]
  },
  {
   "cell_type": "code",
   "execution_count": null,
   "id": "f996cc78",
   "metadata": {},
   "outputs": [],
   "source": []
  },
  {
   "cell_type": "code",
   "execution_count": null,
   "id": "48aaf1d2",
   "metadata": {},
   "outputs": [],
   "source": []
  }
 ],
 "metadata": {
  "kernelspec": {
   "display_name": "Python 3 (ipykernel)",
   "language": "python",
   "name": "python3"
  },
  "language_info": {
   "codemirror_mode": {
    "name": "ipython",
    "version": 3
   },
   "file_extension": ".py",
   "mimetype": "text/x-python",
   "name": "python",
   "nbconvert_exporter": "python",
   "pygments_lexer": "ipython3",
   "version": "3.9.7"
  }
 },
 "nbformat": 4,
 "nbformat_minor": 5
}
