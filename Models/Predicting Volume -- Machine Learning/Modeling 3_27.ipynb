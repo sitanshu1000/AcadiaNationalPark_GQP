{
 "cells": [
  {
   "cell_type": "code",
   "execution_count": 1,
   "id": "929d4355",
   "metadata": {},
   "outputs": [],
   "source": [
    "import pandas as pd\n",
    "import numpy as np\n",
    "import matplotlib.pyplot as plt\n",
    "from datetime import datetime\n",
    "import math\n",
    "from sklearn.ensemble import RandomForestRegressor\n",
    "from sklearn.metrics import mean_squared_error\n",
    "from sklearn.preprocessing import OneHotEncoder\n",
    "from sklearn.model_selection import train_test_split"
   ]
  },
  {
   "cell_type": "markdown",
   "id": "348282e1",
   "metadata": {},
   "source": [
    "# Loading and PreProcessing Data"
   ]
  },
  {
   "cell_type": "code",
   "execution_count": 2,
   "id": "710ab4f6",
   "metadata": {},
   "outputs": [],
   "source": [
    "df = pd.read_csv(\"Daily_attendance.csv\")"
   ]
  },
  {
   "cell_type": "code",
   "execution_count": 3,
   "id": "fbdcf1d0",
   "metadata": {},
   "outputs": [],
   "source": [
    "df = df.drop(\"snow_1h\", axis = 1)"
   ]
  },
  {
   "cell_type": "code",
   "execution_count": 4,
   "id": "f1ac8fc2",
   "metadata": {},
   "outputs": [
    {
     "data": {
      "text/plain": [
       "2019"
      ]
     },
     "execution_count": 4,
     "metadata": {},
     "output_type": "execute_result"
    }
   ],
   "source": [
    "datetime.strptime(df.iloc[0,0], '%m/%d/%Y').year"
   ]
  },
  {
   "cell_type": "code",
   "execution_count": 5,
   "id": "d92b51d5",
   "metadata": {},
   "outputs": [],
   "source": [
    "df[\"Month\"] = 0 \n",
    "df[\"DOW\"] = 0 \n",
    "df[\"Year\"] = 0"
   ]
  },
  {
   "cell_type": "code",
   "execution_count": 6,
   "id": "6ac52878",
   "metadata": {},
   "outputs": [],
   "source": [
    "for i in range(0, len(df)):\n",
    "    date = datetime.strptime(df.iloc[i,0], '%m/%d/%Y')\n",
    "    df.loc[i, \"Month\"] = date.month\n",
    "    df.loc[i, \"DOW\"] = date.weekday()\n",
    "    df.loc[i, \"Year\"] = date.year"
   ]
  },
  {
   "cell_type": "code",
   "execution_count": 7,
   "id": "fa71cb39",
   "metadata": {},
   "outputs": [
    {
     "data": {
      "text/plain": [
       "array([ 5,  6,  7,  8,  9, 10], dtype=int64)"
      ]
     },
     "execution_count": 7,
     "metadata": {},
     "output_type": "execute_result"
    }
   ],
   "source": [
    "df[\"Month\"].unique()"
   ]
  },
  {
   "cell_type": "code",
   "execution_count": 8,
   "id": "713721d4",
   "metadata": {},
   "outputs": [
    {
     "data": {
      "text/plain": [
       "array([2, 3, 4, 5, 6, 0, 1], dtype=int64)"
      ]
     },
     "execution_count": 8,
     "metadata": {},
     "output_type": "execute_result"
    }
   ],
   "source": [
    "df[\"DOW\"].unique()"
   ]
  },
  {
   "cell_type": "code",
   "execution_count": 9,
   "id": "7712661b",
   "metadata": {},
   "outputs": [],
   "source": [
    "month_part = 360/6\n",
    "dow_part = 360/7"
   ]
  },
  {
   "cell_type": "code",
   "execution_count": 10,
   "id": "a52daa92",
   "metadata": {},
   "outputs": [],
   "source": [
    "# df[\"DOW_cos\"] = 0 \n",
    "# df[\"DOW_sin\"] =0 \n",
    "df[\"Month_cos\"] = 0\n",
    "df[\"Month_sin\"]  = 0"
   ]
  },
  {
   "cell_type": "code",
   "execution_count": 11,
   "id": "b27de71f",
   "metadata": {},
   "outputs": [],
   "source": [
    "for i in range(0, len(df)):\n",
    "    month_mult = df.loc[i, \"Month\"] - 4\n",
    "#     dow_mult = df.loc[i, \"DOW\"] + 1\n",
    "    \n",
    "#     df.loc[i, \"DOW_cos\"] = math.cos(dow_part*dow_mult)\n",
    "#     df.loc[i, \"DOW_sin\"] = math.sin(dow_part*dow_mult)\n",
    "\n",
    "    df.loc[i, \"Month_cos\"] = math.cos(month_part*month_mult)\n",
    "    df.loc[i, \"Month_sin\"] = math.sin(month_part*month_mult)"
   ]
  },
  {
   "cell_type": "code",
   "execution_count": 12,
   "id": "0bb0ccd2",
   "metadata": {},
   "outputs": [],
   "source": [
    "#into numeric binary:\n",
    "for i in range(0, len(df)):\n",
    "    if df.loc[i, \"school_holiday_flag\"] == \"False\":\n",
    "        df.loc[i, \"school_holiday_flag\"] = 0 \n",
    "    else:\n",
    "        df.loc[i, \"school_holiday_flag\"] = 1\n",
    "    \n",
    "    if df.loc[i, \"federal_holiday_flag\"] == \"False\":\n",
    "        df.loc[i, \"federal_holiday_flag\"] = 0 \n",
    "    else:\n",
    "        df.loc[i, \"federal_holiday_flag\"] = 1    "
   ]
  },
  {
   "cell_type": "code",
   "execution_count": 13,
   "id": "20898124",
   "metadata": {},
   "outputs": [],
   "source": [
    "df[\"Tuesday\"] = 0\n",
    "df[\"Wednesday\"] = 0\n",
    "df[\"Thursday\"] =0 \n",
    "df[\"Friday\"] =0 \n",
    "df[\"Saturday\"] =0 \n",
    "df[\"Sunday\"] = 0"
   ]
  },
  {
   "cell_type": "code",
   "execution_count": 14,
   "id": "3f00dfaf",
   "metadata": {},
   "outputs": [],
   "source": [
    "for i in range(0, len(df)):\n",
    "    if df.loc[i, \"DOW\"] == 0:\n",
    "        df.loc[i, \"Sunday\"] =1\n",
    "    elif df.loc[i, \"DOW\"] ==2:\n",
    "        df.loc[i, \"Tuesday\"] = 1\n",
    "    elif df.loc[i, \"DOW\"] ==3:\n",
    "        df.loc[i, \"Wednesday\"] = 1\n",
    "    elif df.loc[i, \"DOW\"] ==4:\n",
    "        df.loc[i, \"Thursday\"] = 1\n",
    "    elif df.loc[i, \"DOW\"] ==5:\n",
    "        df.loc[i, \"Friday\"] = 1\n",
    "    elif df.loc[i, \"DOW\"] ==6:\n",
    "        df.loc[i, \"Tuesday\"] = 1"
   ]
  },
  {
   "cell_type": "code",
   "execution_count": 15,
   "id": "3e67bd79",
   "metadata": {},
   "outputs": [],
   "source": [
    "#Find and replace NaN values:\n",
    "is_NaN = df.isnull()\n",
    "row_has_NaN = is_NaN.any(axis=1)\n",
    "rows_with_NaN = df[row_has_NaN]"
   ]
  },
  {
   "cell_type": "code",
   "execution_count": 16,
   "id": "42ad8d30",
   "metadata": {},
   "outputs": [
    {
     "data": {
      "text/html": [
       "<div>\n",
       "<style scoped>\n",
       "    .dataframe tbody tr th:only-of-type {\n",
       "        vertical-align: middle;\n",
       "    }\n",
       "\n",
       "    .dataframe tbody tr th {\n",
       "        vertical-align: top;\n",
       "    }\n",
       "\n",
       "    .dataframe thead th {\n",
       "        text-align: right;\n",
       "    }\n",
       "</style>\n",
       "<table border=\"1\" class=\"dataframe\">\n",
       "  <thead>\n",
       "    <tr style=\"text-align: right;\">\n",
       "      <th></th>\n",
       "      <th>Full_Date</th>\n",
       "      <th>value</th>\n",
       "      <th>temp</th>\n",
       "      <th>temp_min</th>\n",
       "      <th>temp_max</th>\n",
       "      <th>pressure</th>\n",
       "      <th>humidity</th>\n",
       "      <th>wind_speed</th>\n",
       "      <th>wind_gust</th>\n",
       "      <th>rain_1h</th>\n",
       "      <th>...</th>\n",
       "      <th>DOW</th>\n",
       "      <th>Year</th>\n",
       "      <th>Month_cos</th>\n",
       "      <th>Month_sin</th>\n",
       "      <th>Tuesday</th>\n",
       "      <th>Wednesday</th>\n",
       "      <th>Thursday</th>\n",
       "      <th>Friday</th>\n",
       "      <th>Saturday</th>\n",
       "      <th>Sunday</th>\n",
       "    </tr>\n",
       "  </thead>\n",
       "  <tbody>\n",
       "    <tr>\n",
       "      <th>59</th>\n",
       "      <td>6/29/2019</td>\n",
       "      <td>1494</td>\n",
       "      <td>58.190</td>\n",
       "      <td>50.49</td>\n",
       "      <td>72.43</td>\n",
       "      <td>1014.583333</td>\n",
       "      <td>82.541667</td>\n",
       "      <td>0.000000</td>\n",
       "      <td>NaN</td>\n",
       "      <td>1.0</td>\n",
       "      <td>...</td>\n",
       "      <td>5</td>\n",
       "      <td>2019</td>\n",
       "      <td>0.814181</td>\n",
       "      <td>0.580611</td>\n",
       "      <td>0</td>\n",
       "      <td>0</td>\n",
       "      <td>0</td>\n",
       "      <td>1</td>\n",
       "      <td>0</td>\n",
       "      <td>0</td>\n",
       "    </tr>\n",
       "    <tr>\n",
       "      <th>334</th>\n",
       "      <td>6/28/2021</td>\n",
       "      <td>1290</td>\n",
       "      <td>72.325</td>\n",
       "      <td>61.09</td>\n",
       "      <td>90.68</td>\n",
       "      <td>1017.083333</td>\n",
       "      <td>86.833333</td>\n",
       "      <td>19.807917</td>\n",
       "      <td>NaN</td>\n",
       "      <td>0.0</td>\n",
       "      <td>...</td>\n",
       "      <td>0</td>\n",
       "      <td>2021</td>\n",
       "      <td>0.814181</td>\n",
       "      <td>0.580611</td>\n",
       "      <td>0</td>\n",
       "      <td>0</td>\n",
       "      <td>0</td>\n",
       "      <td>0</td>\n",
       "      <td>0</td>\n",
       "      <td>1</td>\n",
       "    </tr>\n",
       "    <tr>\n",
       "      <th>336</th>\n",
       "      <td>6/30/2021</td>\n",
       "      <td>1167</td>\n",
       "      <td>74.545</td>\n",
       "      <td>60.51</td>\n",
       "      <td>90.09</td>\n",
       "      <td>1012.875000</td>\n",
       "      <td>84.291667</td>\n",
       "      <td>10.487083</td>\n",
       "      <td>NaN</td>\n",
       "      <td>0.0</td>\n",
       "      <td>...</td>\n",
       "      <td>2</td>\n",
       "      <td>2021</td>\n",
       "      <td>0.814181</td>\n",
       "      <td>0.580611</td>\n",
       "      <td>1</td>\n",
       "      <td>0</td>\n",
       "      <td>0</td>\n",
       "      <td>0</td>\n",
       "      <td>0</td>\n",
       "      <td>0</td>\n",
       "    </tr>\n",
       "  </tbody>\n",
       "</table>\n",
       "<p>3 rows × 23 columns</p>\n",
       "</div>"
      ],
      "text/plain": [
       "     Full_Date  value    temp  temp_min  temp_max     pressure   humidity  \\\n",
       "59   6/29/2019   1494  58.190     50.49     72.43  1014.583333  82.541667   \n",
       "334  6/28/2021   1290  72.325     61.09     90.68  1017.083333  86.833333   \n",
       "336  6/30/2021   1167  74.545     60.51     90.09  1012.875000  84.291667   \n",
       "\n",
       "     wind_speed  wind_gust  rain_1h  ... DOW  Year  Month_cos  Month_sin  \\\n",
       "59     0.000000        NaN      1.0  ...   5  2019   0.814181   0.580611   \n",
       "334   19.807917        NaN      0.0  ...   0  2021   0.814181   0.580611   \n",
       "336   10.487083        NaN      0.0  ...   2  2021   0.814181   0.580611   \n",
       "\n",
       "     Tuesday  Wednesday  Thursday  Friday  Saturday  Sunday  \n",
       "59         0          0         0       1         0       0  \n",
       "334        0          0         0       0         0       1  \n",
       "336        1          0         0       0         0       0  \n",
       "\n",
       "[3 rows x 23 columns]"
      ]
     },
     "execution_count": 16,
     "metadata": {},
     "output_type": "execute_result"
    }
   ],
   "source": [
    "rows_with_NaN"
   ]
  },
  {
   "cell_type": "code",
   "execution_count": 17,
   "id": "1c306385",
   "metadata": {},
   "outputs": [],
   "source": [
    "#replace with average wind gust\n",
    "df.loc[59, \"wind_gust\"] = np.mean(df[\"wind_gust\"])\n",
    "df.loc[334, \"wind_gust\"] = np.mean(df[\"wind_gust\"])\n",
    "df.loc[336, \"wind_gust\"] = np.mean(df[\"wind_gust\"])"
   ]
  },
  {
   "cell_type": "markdown",
   "id": "0a51a398",
   "metadata": {},
   "source": [
    "### Splitting Data"
   ]
  },
  {
   "cell_type": "code",
   "execution_count": 18,
   "id": "e1969e96",
   "metadata": {},
   "outputs": [],
   "source": [
    "columns_for_modeling = ['temp', 'temp_min', 'temp_max', 'pressure',\n",
    "       'humidity', 'wind_speed', 'wind_gust', 'rain_1h',\n",
    "       'federal_holiday_flag', 'school_holiday_flag', 'Year',\n",
    "        'Month_cos', 'Month_sin', \"Sunday\", \"Tuesday\", \"Wednesday\", \"Thursday\", \"Friday\", \"Saturday\", \"Sunday\"]"
   ]
  },
  {
   "cell_type": "code",
   "execution_count": 22,
   "id": "02870358",
   "metadata": {},
   "outputs": [],
   "source": [
    "x_train, x_test, y_train, y_test = train_test_split(df[columns_for_modeling], df[\"value\"], test_size=0.33)"
   ]
  },
  {
   "cell_type": "markdown",
   "id": "ed58e0e8",
   "metadata": {},
   "source": [
    "# Random Forest"
   ]
  },
  {
   "cell_type": "code",
   "execution_count": 23,
   "id": "eaf2f85c",
   "metadata": {},
   "outputs": [
    {
     "data": {
      "text/plain": [
       "RandomForestRegressor(random_state=0)"
      ]
     },
     "execution_count": 23,
     "metadata": {},
     "output_type": "execute_result"
    }
   ],
   "source": [
    "#Most basic model:\n",
    "regr = RandomForestRegressor(random_state=0)\n",
    "regr.fit(x_train, y_train)"
   ]
  },
  {
   "cell_type": "code",
   "execution_count": 25,
   "id": "cb4af4a8",
   "metadata": {},
   "outputs": [],
   "source": [
    "pred = regr.predict(x_test)"
   ]
  },
  {
   "cell_type": "code",
   "execution_count": 27,
   "id": "e17616ea",
   "metadata": {
    "scrolled": true
   },
   "outputs": [
    {
     "data": {
      "text/plain": [
       "279.09796935725296"
      ]
     },
     "execution_count": 27,
     "metadata": {},
     "output_type": "execute_result"
    }
   ],
   "source": [
    "mean_squared_error(pred, y_test, squared = False)"
   ]
  },
  {
   "cell_type": "code",
   "execution_count": 29,
   "id": "e6fbe003",
   "metadata": {},
   "outputs": [
    {
     "data": {
      "text/plain": [
       "RandomForestRegressor(criterion='mae', random_state=0)"
      ]
     },
     "execution_count": 29,
     "metadata": {},
     "output_type": "execute_result"
    }
   ],
   "source": [
    "#Most basic model, absolute error\n",
    "regr = RandomForestRegressor(random_state=0, criterion = 'mae')\n",
    "regr.fit(x_train, y_train)"
   ]
  },
  {
   "cell_type": "code",
   "execution_count": 30,
   "id": "599d6648",
   "metadata": {},
   "outputs": [],
   "source": [
    "pred = regr.predict(x_test)"
   ]
  },
  {
   "cell_type": "code",
   "execution_count": 31,
   "id": "1d844982",
   "metadata": {
    "scrolled": true
   },
   "outputs": [
    {
     "data": {
      "text/plain": [
       "298.82836752693976"
      ]
     },
     "execution_count": 31,
     "metadata": {},
     "output_type": "execute_result"
    }
   ],
   "source": [
    "mean_squared_error(pred, y_test, squared = False)"
   ]
  },
  {
   "cell_type": "markdown",
   "id": "945047a3",
   "metadata": {},
   "source": [
    "### Random Forest Fitting for Max Depth"
   ]
  },
  {
   "cell_type": "code",
   "execution_count": 32,
   "id": "b3ca5d67",
   "metadata": {},
   "outputs": [],
   "source": [
    "x_train_1, x_test_val, y_train_1, y_test_val = train_test_split(x_train, y_train, test_size=0.33)"
   ]
  },
  {
   "cell_type": "code",
   "execution_count": 43,
   "id": "925a4e21",
   "metadata": {},
   "outputs": [],
   "source": [
    "fits = []\n",
    "max_depth = [i for i in range(2, 20)]\n",
    "322.52\n",
    "for depth in max_depth:\n",
    "    fit = RandomForestRegressor(max_depth=depth, criterion =  \"mae\")\n",
    "    fit.fit(x_train_1, y_train_1)\n",
    "    res = [mean_squared_error(fit.predict(x_train_1), y_train_1, squared = False), mean_squared_error(fit.predict(x_test_val), y_test_val, squared = False)]\n",
    "    fits.append(res)"
   ]
  },
  {
   "cell_type": "code",
   "execution_count": 44,
   "id": "c622ea7b",
   "metadata": {},
   "outputs": [
    {
     "data": {
      "image/png": "[encoded data removed]",
      "text/plain": [
       "<Figure size 432x288 with 1 Axes>"
      ]
     },
     "metadata": {
      "needs_background": "light"
     },
     "output_type": "display_data"
    }
   ],
   "source": [
    "train_scores = [i[0] for i in fits]\n",
    "val_scores = [i[1] for i in fits]\n",
    "\n",
    "fig, ax = plt.subplots()\n",
    "ax.set_xlabel(\"Tree Depth\")\n",
    "ax.set_ylabel(\"accuracy\")\n",
    "ax.set_title(\"Accuracy vs Tree Depth for Training and Vaidation Sets\")\n",
    "ax.plot(max_depth, train_scores, marker=\"o\", label=\"train\", drawstyle=\"steps-post\")\n",
    "ax.plot(max_depth, val_scores, marker=\"o\", label=\"validation\", drawstyle=\"steps-post\")\n",
    "ax.legend()\n",
    "plt.show()"
   ]
  },
  {
   "cell_type": "code",
   "execution_count": 51,
   "id": "4b24c57d",
   "metadata": {},
   "outputs": [
    {
     "data": {
      "text/plain": [
       "RandomForestRegressor(criterion='mae', max_depth=10, random_state=0)"
      ]
     },
     "execution_count": 51,
     "metadata": {},
     "output_type": "execute_result"
    }
   ],
   "source": [
    "#Most basic model, absolute error\n",
    "regr = RandomForestRegressor(random_state=0, max_depth = 10, criterion = 'mae')\n",
    "regr.fit(x_train, y_train)"
   ]
  },
  {
   "cell_type": "code",
   "execution_count": 52,
   "id": "aa859e67",
   "metadata": {},
   "outputs": [],
   "source": [
    "pred = regr.predict(x_test)"
   ]
  },
  {
   "cell_type": "code",
   "execution_count": 53,
   "id": "58dd3196",
   "metadata": {
    "scrolled": true
   },
   "outputs": [
    {
     "data": {
      "text/plain": [
       "297.49216769074025"
      ]
     },
     "execution_count": 53,
     "metadata": {},
     "output_type": "execute_result"
    }
   ],
   "source": [
    "mean_squared_error(pred, y_test, squared = False)"
   ]
  },
  {
   "cell_type": "markdown",
   "id": "96217d31",
   "metadata": {},
   "source": [
    "# Linear Regression"
   ]
  },
  {
   "cell_type": "code",
   "execution_count": 98,
   "id": "3c7b6602",
   "metadata": {},
   "outputs": [],
   "source": [
    "from sklearn.linear_model import LinearRegression, Ridge, Lasso, RidgeCV"
   ]
  },
  {
   "cell_type": "markdown",
   "id": "15ec0766",
   "metadata": {},
   "source": [
    "### Linear"
   ]
  },
  {
   "cell_type": "code",
   "execution_count": 56,
   "id": "959a549b",
   "metadata": {},
   "outputs": [],
   "source": [
    "reg = LinearRegression().fit(x_train, y_train)"
   ]
  },
  {
   "cell_type": "code",
   "execution_count": 57,
   "id": "bdadd50f",
   "metadata": {
    "scrolled": true
   },
   "outputs": [
    {
     "data": {
      "text/plain": [
       "0.4301087957100308"
      ]
     },
     "execution_count": 57,
     "metadata": {},
     "output_type": "execute_result"
    }
   ],
   "source": [
    "reg.score(x_train, y_train)"
   ]
  },
  {
   "cell_type": "code",
   "execution_count": 59,
   "id": "50b6af18",
   "metadata": {},
   "outputs": [],
   "source": [
    "pred  = reg.predict(x_test)"
   ]
  },
  {
   "cell_type": "code",
   "execution_count": 63,
   "id": "a581aff5",
   "metadata": {},
   "outputs": [
    {
     "data": {
      "text/plain": [
       "450.42906935379006"
      ]
     },
     "execution_count": 63,
     "metadata": {},
     "output_type": "execute_result"
    }
   ],
   "source": [
    "mean_squared_error(pred, y_test, squared = False)"
   ]
  },
  {
   "cell_type": "markdown",
   "id": "54c2cb5a",
   "metadata": {},
   "source": [
    "### Ridge"
   ]
  },
  {
   "cell_type": "code",
   "execution_count": 69,
   "id": "2e7932ef",
   "metadata": {},
   "outputs": [
    {
     "data": {
      "text/plain": [
       "Ridge()"
      ]
     },
     "execution_count": 69,
     "metadata": {},
     "output_type": "execute_result"
    }
   ],
   "source": [
    "model = Ridge(alpha=1.0)\n",
    "model.fit(x_train, y_train)"
   ]
  },
  {
   "cell_type": "code",
   "execution_count": 73,
   "id": "90607637",
   "metadata": {},
   "outputs": [],
   "source": [
    "pred = model.predict(x_test)"
   ]
  },
  {
   "cell_type": "code",
   "execution_count": 74,
   "id": "d8333054",
   "metadata": {},
   "outputs": [
    {
     "data": {
      "text/plain": [
       "449.23093273838504"
      ]
     },
     "execution_count": 74,
     "metadata": {},
     "output_type": "execute_result"
    }
   ],
   "source": [
    "mean_squared_error(pred, y_test, squared = False)"
   ]
  },
  {
   "cell_type": "markdown",
   "id": "491cc4ed",
   "metadata": {},
   "source": [
    "### Optimal alpha for Ridge"
   ]
  },
  {
   "cell_type": "code",
   "execution_count": 95,
   "id": "e5037f64",
   "metadata": {},
   "outputs": [],
   "source": [
    "alphas = np.linspace(0,.5,11)"
   ]
  },
  {
   "cell_type": "code",
   "execution_count": 96,
   "id": "6735eeea",
   "metadata": {},
   "outputs": [],
   "source": [
    "fits = []\n",
    "for alpha in alphas:\n",
    "    model = Ridge(alpha=alpha)\n",
    "    model.fit(x_train_1, y_train_1)\n",
    "    pred = model.predict(x_test_val)\n",
    "    test_pred = model.predict(x_train_1)\n",
    "    res = [mean_squared_error(pred, y_test_val, squared = False),mean_squared_error(test_pred, y_train_1, squared = False)]\n",
    "    fits.append(res)"
   ]
  },
  {
   "cell_type": "code",
   "execution_count": 97,
   "id": "aaef877a",
   "metadata": {},
   "outputs": [
    {
     "data": {
      "image/png": "[encoded data removed]",
      "text/plain": [
       "<Figure size 432x288 with 1 Axes>"
      ]
     },
     "metadata": {
      "needs_background": "light"
     },
     "output_type": "display_data"
    }
   ],
   "source": [
    "val_scores = [i[0] for i in fits]\n",
    "train_scores = [i[1] for i in fits]\n",
    "\n",
    "fig, ax = plt.subplots()\n",
    "ax.set_xlabel(\"Tree Depth\")\n",
    "ax.set_ylabel(\"accuracy\")\n",
    "ax.set_title(\"Accuracy vs Tree Depth for Training and Vaidation Sets\")\n",
    "ax.plot(alphas, train_scores, marker=\"o\", label=\"train\", drawstyle=\"steps-post\")\n",
    "ax.plot(alphas, val_scores, marker=\"o\", label=\"validation\", drawstyle=\"steps-post\")\n",
    "ax.legend()\n",
    "plt.show()\n",
    "\n"
   ]
  },
  {
   "cell_type": "markdown",
   "id": "db480838",
   "metadata": {},
   "source": [
    "### RidgeCV"
   ]
  },
  {
   "cell_type": "code",
   "execution_count": 99,
   "id": "252c92ec",
   "metadata": {},
   "outputs": [],
   "source": [
    "model = RidgeCV(alphas=[1e-3, 1e-2, 1e-1, 1]).fit(x_train, y_train)"
   ]
  },
  {
   "cell_type": "code",
   "execution_count": 100,
   "id": "78140a0c",
   "metadata": {},
   "outputs": [],
   "source": [
    "pred = model.predict(x_test)"
   ]
  },
  {
   "cell_type": "code",
   "execution_count": 101,
   "id": "1abd5264",
   "metadata": {},
   "outputs": [
    {
     "data": {
      "text/plain": [
       "449.2309327357953"
      ]
     },
     "execution_count": 101,
     "metadata": {},
     "output_type": "execute_result"
    }
   ],
   "source": [
    "mean_squared_error(pred, y_test, squared = False)"
   ]
  },
  {
   "cell_type": "markdown",
   "id": "9d4e62bd",
   "metadata": {},
   "source": [
    "### Lasso"
   ]
  },
  {
   "cell_type": "code",
   "execution_count": 102,
   "id": "61f68527",
   "metadata": {},
   "outputs": [],
   "source": [
    "model = Lasso().fit(x_train, y_train)"
   ]
  },
  {
   "cell_type": "code",
   "execution_count": 103,
   "id": "8f9b1379",
   "metadata": {},
   "outputs": [],
   "source": [
    "pred = model.predict(x_test)"
   ]
  },
  {
   "cell_type": "code",
   "execution_count": 104,
   "id": "2485dad9",
   "metadata": {},
   "outputs": [
    {
     "data": {
      "text/plain": [
       "449.2251271290107"
      ]
     },
     "execution_count": 104,
     "metadata": {},
     "output_type": "execute_result"
    }
   ],
   "source": [
    "mean_squared_error(pred, y_test, squared = False)"
   ]
  },
  {
   "cell_type": "code",
   "execution_count": null,
   "id": "79fc93e2",
   "metadata": {},
   "outputs": [],
   "source": []
  },
  {
   "cell_type": "code",
   "execution_count": null,
   "id": "3f0fbc42",
   "metadata": {},
   "outputs": [],
   "source": []
  },
  {
   "cell_type": "code",
   "execution_count": null,
   "id": "9490815d",
   "metadata": {},
   "outputs": [],
   "source": []
  },
  {
   "cell_type": "code",
   "execution_count": null,
   "id": "cd1977c1",
   "metadata": {},
   "outputs": [],
   "source": []
  },
  {
   "cell_type": "code",
   "execution_count": null,
   "id": "c4c919a3",
   "metadata": {},
   "outputs": [],
   "source": []
  }
 ],
 "metadata": {
  "kernelspec": {
   "display_name": "Python 3 (ipykernel)",
   "language": "python",
   "name": "python3"
  },
  "language_info": {
   "codemirror_mode": {
    "name": "ipython",
    "version": 3
   },
   "file_extension": ".py",
   "mimetype": "text/x-python",
   "name": "python",
   "nbconvert_exporter": "python",
   "pygments_lexer": "ipython3",
   "version": "3.9.7"
  }
 },
 "nbformat": 4,
 "nbformat_minor": 5
}
