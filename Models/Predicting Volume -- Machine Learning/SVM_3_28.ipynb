{
 "cells": [
  {
   "cell_type": "code",
   "execution_count": 1,
   "id": "929d4355",
   "metadata": {},
   "outputs": [],
   "source": [
    "import pandas as pd\n",
    "import numpy as np\n",
    "import matplotlib.pyplot as plt\n",
    "from datetime import datetime\n",
    "import math\n",
    "from sklearn.ensemble import RandomForestRegressor\n",
    "from sklearn.metrics import mean_squared_error\n",
    "from sklearn.preprocessing import OneHotEncoder, Normalizer\n",
    "from sklearn.model_selection import train_test_split"
   ]
  },
  {
   "cell_type": "markdown",
   "id": "348282e1",
   "metadata": {},
   "source": [
    "# Loading and PreProcessing Data"
   ]
  },
  {
   "cell_type": "code",
   "execution_count": 2,
   "id": "710ab4f6",
   "metadata": {},
   "outputs": [],
   "source": [
    "df = pd.read_csv(\"Daily_attendance.csv\")"
   ]
  },
  {
   "cell_type": "code",
   "execution_count": 3,
   "id": "fbdcf1d0",
   "metadata": {},
   "outputs": [],
   "source": [
    "df = df.drop(\"snow_1h\", axis = 1)"
   ]
  },
  {
   "cell_type": "code",
   "execution_count": 4,
   "id": "f1ac8fc2",
   "metadata": {},
   "outputs": [
    {
     "data": {
      "text/plain": [
       "2019"
      ]
     },
     "execution_count": 4,
     "metadata": {},
     "output_type": "execute_result"
    }
   ],
   "source": [
    "datetime.strptime(df.iloc[0,0], '%m/%d/%Y').year"
   ]
  },
  {
   "cell_type": "code",
   "execution_count": 5,
   "id": "d92b51d5",
   "metadata": {},
   "outputs": [],
   "source": [
    "df[\"Month\"] = 0 \n",
    "df[\"DOW\"] = 0 \n",
    "df[\"Year\"] = 0"
   ]
  },
  {
   "cell_type": "code",
   "execution_count": 6,
   "id": "6ac52878",
   "metadata": {},
   "outputs": [],
   "source": [
    "for i in range(0, len(df)):\n",
    "    date = datetime.strptime(df.iloc[i,0], '%m/%d/%Y')\n",
    "    df.loc[i, \"Month\"] = date.month\n",
    "    df.loc[i, \"DOW\"] = date.weekday()\n",
    "    df.loc[i, \"Year\"] = date.year"
   ]
  },
  {
   "cell_type": "code",
   "execution_count": 7,
   "id": "fa71cb39",
   "metadata": {},
   "outputs": [
    {
     "data": {
      "text/plain": [
       "array([ 5,  6,  7,  8,  9, 10], dtype=int64)"
      ]
     },
     "execution_count": 7,
     "metadata": {},
     "output_type": "execute_result"
    }
   ],
   "source": [
    "df[\"Month\"].unique()"
   ]
  },
  {
   "cell_type": "code",
   "execution_count": 8,
   "id": "713721d4",
   "metadata": {},
   "outputs": [
    {
     "data": {
      "text/plain": [
       "array([2, 3, 4, 5, 6, 0, 1], dtype=int64)"
      ]
     },
     "execution_count": 8,
     "metadata": {},
     "output_type": "execute_result"
    }
   ],
   "source": [
    "df[\"DOW\"].unique()"
   ]
  },
  {
   "cell_type": "code",
   "execution_count": 9,
   "id": "7712661b",
   "metadata": {},
   "outputs": [],
   "source": [
    "# month_part = 360/6\n",
    "# dow_part = 360/7"
   ]
  },
  {
   "cell_type": "code",
   "execution_count": 10,
   "id": "a52daa92",
   "metadata": {},
   "outputs": [],
   "source": [
    "# # df[\"DOW_cos\"] = 0 \n",
    "# # df[\"DOW_sin\"] =0 \n",
    "# df[\"Month_cos\"] = 0\n",
    "# df[\"Month_sin\"]  = 0"
   ]
  },
  {
   "cell_type": "code",
   "execution_count": 11,
   "id": "b27de71f",
   "metadata": {},
   "outputs": [],
   "source": [
    "# for i in range(0, len(df)):\n",
    "#     month_mult = df.loc[i, \"Month\"] - 4\n",
    "# #     dow_mult = df.loc[i, \"DOW\"] + 1\n",
    "    \n",
    "# #     df.loc[i, \"DOW_cos\"] = math.cos(dow_part*dow_mult)\n",
    "# #     df.loc[i, \"DOW_sin\"] = math.sin(dow_part*dow_mult)\n",
    "\n",
    "#     df.loc[i, \"Month_cos\"] = math.cos(month_part*month_mult)\n",
    "#     df.loc[i, \"Month_sin\"] = math.sin(month_part*month_mult)"
   ]
  },
  {
   "cell_type": "code",
   "execution_count": 12,
   "id": "0bb0ccd2",
   "metadata": {},
   "outputs": [],
   "source": [
    "#into numeric binary:\n",
    "for i in range(0, len(df)):\n",
    "    if df.loc[i, \"school_holiday_flag\"] == \"False\":\n",
    "        df.loc[i, \"school_holiday_flag\"] = 0 \n",
    "    else:\n",
    "        df.loc[i, \"school_holiday_flag\"] = 1\n",
    "    \n",
    "    if df.loc[i, \"federal_holiday_flag\"] == \"False\":\n",
    "        df.loc[i, \"federal_holiday_flag\"] = 0 \n",
    "    else:\n",
    "        df.loc[i, \"federal_holiday_flag\"] = 1    "
   ]
  },
  {
   "cell_type": "code",
   "execution_count": 13,
   "id": "20898124",
   "metadata": {},
   "outputs": [],
   "source": [
    "df[\"Tuesday\"] = 0\n",
    "df[\"Wednesday\"] = 0\n",
    "df[\"Thursday\"] =0 \n",
    "df[\"Friday\"] =0 \n",
    "df[\"Saturday\"] =0 \n",
    "df[\"Sunday\"] = 0"
   ]
  },
  {
   "cell_type": "code",
   "execution_count": 14,
   "id": "3f00dfaf",
   "metadata": {},
   "outputs": [],
   "source": [
    "for i in range(0, len(df)):\n",
    "    if df.loc[i, \"DOW\"] == 0:\n",
    "        df.loc[i, \"Sunday\"] =1\n",
    "    elif df.loc[i, \"DOW\"] ==2:\n",
    "        df.loc[i, \"Tuesday\"] = 1\n",
    "    elif df.loc[i, \"DOW\"] ==3:\n",
    "        df.loc[i, \"Wednesday\"] = 1\n",
    "    elif df.loc[i, \"DOW\"] ==4:\n",
    "        df.loc[i, \"Thursday\"] = 1\n",
    "    elif df.loc[i, \"DOW\"] ==5:\n",
    "        df.loc[i, \"Friday\"] = 1\n",
    "    elif df.loc[i, \"DOW\"] ==6:\n",
    "        df.loc[i, \"Tuesday\"] = 1"
   ]
  },
  {
   "cell_type": "code",
   "execution_count": 15,
   "id": "695367ee",
   "metadata": {},
   "outputs": [],
   "source": [
    "df[\"June\"] = 0\n",
    "df[\"July\"] = 0\n",
    "df[\"August\"] =0 \n",
    "df[\"September\"] =0 \n",
    "df[\"October\"] =0 "
   ]
  },
  {
   "cell_type": "code",
   "execution_count": 16,
   "id": "80551de9",
   "metadata": {},
   "outputs": [],
   "source": [
    "for i in range(0, len(df)):\n",
    "    if df.loc[i, \"Month\"] == 6:\n",
    "        df.loc[i, \"June\"] =1\n",
    "    elif df.loc[i, \"Month\"] ==7:\n",
    "        df.loc[i, \"July\"] = 1\n",
    "    elif df.loc[i, \"Month\"] ==8:\n",
    "        df.loc[i, \"August\"] = 1\n",
    "    elif df.loc[i, \"Month\"] ==9:\n",
    "        df.loc[i, \"September\"] = 1\n",
    "    elif df.loc[i, \"Month\"] ==10:\n",
    "        df.loc[i, \"October\"] = 1"
   ]
  },
  {
   "cell_type": "code",
   "execution_count": 17,
   "id": "3e67bd79",
   "metadata": {},
   "outputs": [],
   "source": [
    "#Find and replace NaN values:\n",
    "is_NaN = df.isnull()\n",
    "row_has_NaN = is_NaN.any(axis=1)\n",
    "rows_with_NaN = df[row_has_NaN]"
   ]
  },
  {
   "cell_type": "code",
   "execution_count": 18,
   "id": "42ad8d30",
   "metadata": {},
   "outputs": [
    {
     "data": {
      "text/html": [
       "<div>\n",
       "<style scoped>\n",
       "    .dataframe tbody tr th:only-of-type {\n",
       "        vertical-align: middle;\n",
       "    }\n",
       "\n",
       "    .dataframe tbody tr th {\n",
       "        vertical-align: top;\n",
       "    }\n",
       "\n",
       "    .dataframe thead th {\n",
       "        text-align: right;\n",
       "    }\n",
       "</style>\n",
       "<table border=\"1\" class=\"dataframe\">\n",
       "  <thead>\n",
       "    <tr style=\"text-align: right;\">\n",
       "      <th></th>\n",
       "      <th>Full_Date</th>\n",
       "      <th>value</th>\n",
       "      <th>temp</th>\n",
       "      <th>temp_min</th>\n",
       "      <th>temp_max</th>\n",
       "      <th>pressure</th>\n",
       "      <th>humidity</th>\n",
       "      <th>wind_speed</th>\n",
       "      <th>wind_gust</th>\n",
       "      <th>rain_1h</th>\n",
       "      <th>...</th>\n",
       "      <th>Wednesday</th>\n",
       "      <th>Thursday</th>\n",
       "      <th>Friday</th>\n",
       "      <th>Saturday</th>\n",
       "      <th>Sunday</th>\n",
       "      <th>June</th>\n",
       "      <th>July</th>\n",
       "      <th>August</th>\n",
       "      <th>September</th>\n",
       "      <th>October</th>\n",
       "    </tr>\n",
       "  </thead>\n",
       "  <tbody>\n",
       "    <tr>\n",
       "      <th>59</th>\n",
       "      <td>6/29/2019</td>\n",
       "      <td>1494</td>\n",
       "      <td>58.190</td>\n",
       "      <td>50.49</td>\n",
       "      <td>72.43</td>\n",
       "      <td>1014.583333</td>\n",
       "      <td>82.541667</td>\n",
       "      <td>0.000000</td>\n",
       "      <td>NaN</td>\n",
       "      <td>1.0</td>\n",
       "      <td>...</td>\n",
       "      <td>0</td>\n",
       "      <td>0</td>\n",
       "      <td>1</td>\n",
       "      <td>0</td>\n",
       "      <td>0</td>\n",
       "      <td>1</td>\n",
       "      <td>0</td>\n",
       "      <td>0</td>\n",
       "      <td>0</td>\n",
       "      <td>0</td>\n",
       "    </tr>\n",
       "    <tr>\n",
       "      <th>334</th>\n",
       "      <td>6/28/2021</td>\n",
       "      <td>1290</td>\n",
       "      <td>72.325</td>\n",
       "      <td>61.09</td>\n",
       "      <td>90.68</td>\n",
       "      <td>1017.083333</td>\n",
       "      <td>86.833333</td>\n",
       "      <td>19.807917</td>\n",
       "      <td>NaN</td>\n",
       "      <td>0.0</td>\n",
       "      <td>...</td>\n",
       "      <td>0</td>\n",
       "      <td>0</td>\n",
       "      <td>0</td>\n",
       "      <td>0</td>\n",
       "      <td>1</td>\n",
       "      <td>1</td>\n",
       "      <td>0</td>\n",
       "      <td>0</td>\n",
       "      <td>0</td>\n",
       "      <td>0</td>\n",
       "    </tr>\n",
       "    <tr>\n",
       "      <th>336</th>\n",
       "      <td>6/30/2021</td>\n",
       "      <td>1167</td>\n",
       "      <td>74.545</td>\n",
       "      <td>60.51</td>\n",
       "      <td>90.09</td>\n",
       "      <td>1012.875000</td>\n",
       "      <td>84.291667</td>\n",
       "      <td>10.487083</td>\n",
       "      <td>NaN</td>\n",
       "      <td>0.0</td>\n",
       "      <td>...</td>\n",
       "      <td>0</td>\n",
       "      <td>0</td>\n",
       "      <td>0</td>\n",
       "      <td>0</td>\n",
       "      <td>0</td>\n",
       "      <td>1</td>\n",
       "      <td>0</td>\n",
       "      <td>0</td>\n",
       "      <td>0</td>\n",
       "      <td>0</td>\n",
       "    </tr>\n",
       "  </tbody>\n",
       "</table>\n",
       "<p>3 rows × 26 columns</p>\n",
       "</div>"
      ],
      "text/plain": [
       "     Full_Date  value    temp  temp_min  temp_max     pressure   humidity  \\\n",
       "59   6/29/2019   1494  58.190     50.49     72.43  1014.583333  82.541667   \n",
       "334  6/28/2021   1290  72.325     61.09     90.68  1017.083333  86.833333   \n",
       "336  6/30/2021   1167  74.545     60.51     90.09  1012.875000  84.291667   \n",
       "\n",
       "     wind_speed  wind_gust  rain_1h  ... Wednesday Thursday  Friday  Saturday  \\\n",
       "59     0.000000        NaN      1.0  ...         0        0       1         0   \n",
       "334   19.807917        NaN      0.0  ...         0        0       0         0   \n",
       "336   10.487083        NaN      0.0  ...         0        0       0         0   \n",
       "\n",
       "     Sunday  June  July  August  September  October  \n",
       "59        0     1     0       0          0        0  \n",
       "334       1     1     0       0          0        0  \n",
       "336       0     1     0       0          0        0  \n",
       "\n",
       "[3 rows x 26 columns]"
      ]
     },
     "execution_count": 18,
     "metadata": {},
     "output_type": "execute_result"
    }
   ],
   "source": [
    "rows_with_NaN"
   ]
  },
  {
   "cell_type": "code",
   "execution_count": 19,
   "id": "1c306385",
   "metadata": {},
   "outputs": [],
   "source": [
    "#replace with average wind gust\n",
    "df.loc[59, \"wind_gust\"] = np.mean(df[\"wind_gust\"])\n",
    "df.loc[334, \"wind_gust\"] = np.mean(df[\"wind_gust\"])\n",
    "df.loc[336, \"wind_gust\"] = np.mean(df[\"wind_gust\"])"
   ]
  },
  {
   "cell_type": "code",
   "execution_count": 107,
   "id": "16f9549a",
   "metadata": {},
   "outputs": [],
   "source": [
    "#normalization:\n",
    "# df[\"normalized_value\"] = df[\"value\"]/np.linalg.norm(df[\"value\"], ord=np.inf, axis=0, keepdims=True)"
   ]
  },
  {
   "cell_type": "code",
   "execution_count": 110,
   "id": "ced08b42",
   "metadata": {},
   "outputs": [],
   "source": [
    "# #scaling:\n",
    "# target_max = max(df[\"value\"])\n",
    "# target_min =  min(df[\"value\"])\n",
    "# df[\"scaled_value\"] = [(i- target_min)/(target_max - target_min) for i in df[\"value\"]]"
   ]
  },
  {
   "cell_type": "markdown",
   "id": "0a51a398",
   "metadata": {},
   "source": [
    "### Splitting Data"
   ]
  },
  {
   "cell_type": "code",
   "execution_count": 20,
   "id": "e1969e96",
   "metadata": {},
   "outputs": [],
   "source": [
    "columns_for_modeling = ['temp', 'temp_min', 'temp_max', 'pressure',\n",
    "       'humidity', 'wind_speed', 'wind_gust', 'rain_1h',\n",
    "       'federal_holiday_flag', 'school_holiday_flag', 'Year',\n",
    "    \"Sunday\", \"Tuesday\", \"Wednesday\", \"Thursday\", \"Friday\", \"Saturday\", \"Sunday\",\n",
    "                       \"June\", \"July\", \"August\",\"September\", \"October\"]"
   ]
  },
  {
   "cell_type": "code",
   "execution_count": 23,
   "id": "02870358",
   "metadata": {},
   "outputs": [],
   "source": [
    "x_train, x_test, y_train, y_test = train_test_split(df[columns_for_modeling], df[\"value\"], test_size=0.33)"
   ]
  },
  {
   "cell_type": "markdown",
   "id": "04129d15",
   "metadata": {},
   "source": [
    "## SVM:"
   ]
  },
  {
   "cell_type": "code",
   "execution_count": 24,
   "id": "4ea74a8b",
   "metadata": {},
   "outputs": [],
   "source": [
    "from sklearn.svm import SVR\n",
    "from sklearn.pipeline import make_pipeline\n",
    "from sklearn.preprocessing import StandardScaler"
   ]
  },
  {
   "cell_type": "code",
   "execution_count": 25,
   "id": "d4aae941",
   "metadata": {},
   "outputs": [],
   "source": [
    "regr = make_pipeline(StandardScaler(), SVR(kernel=\"poly\", C=100, gamma=\"auto\", degree=3, epsilon=0.1, coef0=1))"
   ]
  },
  {
   "cell_type": "code",
   "execution_count": 26,
   "id": "e1bdfc97",
   "metadata": {},
   "outputs": [
    {
     "data": {
      "text/plain": [
       "Pipeline(steps=[('standardscaler', StandardScaler()),\n",
       "                ('svr', SVR(C=100, coef0=1, gamma='auto', kernel='poly'))])"
      ]
     },
     "execution_count": 26,
     "metadata": {},
     "output_type": "execute_result"
    }
   ],
   "source": [
    "regr.fit(x_train, y_train)"
   ]
  },
  {
   "cell_type": "code",
   "execution_count": 27,
   "id": "b3675a41",
   "metadata": {},
   "outputs": [],
   "source": [
    "pred = regr.predict(x_test)"
   ]
  },
  {
   "cell_type": "code",
   "execution_count": 28,
   "id": "bc04b39f",
   "metadata": {},
   "outputs": [
    {
     "data": {
      "text/plain": [
       "328.52689983137947"
      ]
     },
     "execution_count": 28,
     "metadata": {},
     "output_type": "execute_result"
    }
   ],
   "source": [
    "mean_squared_error(y_test, pred, squared=False)"
   ]
  },
  {
   "cell_type": "code",
   "execution_count": 29,
   "id": "ea2b0100",
   "metadata": {},
   "outputs": [
    {
     "data": {
      "text/plain": [
       "497.8776970342663"
      ]
     },
     "execution_count": 29,
     "metadata": {},
     "output_type": "execute_result"
    }
   ],
   "source": [
    "svr_rbf = SVR(kernel=\"rbf\", C=100, gamma=0.1, epsilon=0.1)\n",
    "svr_rbf.fit(x_train, y_train)\n",
    "pred_rbf = svr_rbf.predict(x_test)\n",
    "mean_squared_error(y_test, pred_rbf, squared=False)"
   ]
  },
  {
   "cell_type": "code",
   "execution_count": 30,
   "id": "ad3ae75d",
   "metadata": {},
   "outputs": [
    {
     "data": {
      "text/plain": [
       "418.11008552803514"
      ]
     },
     "execution_count": 30,
     "metadata": {},
     "output_type": "execute_result"
    }
   ],
   "source": [
    "svr_lin = SVR(kernel=\"linear\", C=100, gamma=\"auto\")\n",
    "svr_lin.fit(x_train, y_train)\n",
    "pred_lin = svr_lin.predict(x_test)\n",
    "mean_squared_error(y_test, pred_lin, squared=False)"
   ]
  },
  {
   "cell_type": "code",
   "execution_count": null,
   "id": "81e23864",
   "metadata": {},
   "outputs": [],
   "source": []
  }
 ],
 "metadata": {
  "kernelspec": {
   "display_name": "Python 3 (ipykernel)",
   "language": "python",
   "name": "python3"
  },
  "language_info": {
   "codemirror_mode": {
    "name": "ipython",
    "version": 3
   },
   "file_extension": ".py",
   "mimetype": "text/x-python",
   "name": "python",
   "nbconvert_exporter": "python",
   "pygments_lexer": "ipython3",
   "version": "3.9.7"
  }
 },
 "nbformat": 4,
 "nbformat_minor": 5
}
