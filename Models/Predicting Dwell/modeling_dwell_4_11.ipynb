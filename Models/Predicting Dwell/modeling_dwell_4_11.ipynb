{
 "cells": [
  {
   "cell_type": "code",
   "execution_count": 1,
   "id": "bf0ed0b8",
   "metadata": {},
   "outputs": [],
   "source": [
    "import numpy as np\n",
    "import pandas as pd\n",
    "import matplotlib.pyplot as plt\n",
    "from sklearn.metrics import mean_squared_error"
   ]
  },
  {
   "cell_type": "markdown",
   "id": "0020a957",
   "metadata": {},
   "source": [
    "# 1. Loading and Cleaning Data"
   ]
  },
  {
   "cell_type": "code",
   "execution_count": 2,
   "id": "0feb374e",
   "metadata": {},
   "outputs": [],
   "source": [
    "df = pd.read_csv(\"dwell_weather_edited.csv\", index_col = \"Unnamed: 0\")"
   ]
  },
  {
   "cell_type": "code",
   "execution_count": 3,
   "id": "b083b003",
   "metadata": {},
   "outputs": [
    {
     "data": {
      "text/html": [
       "<div>\n",
       "<style scoped>\n",
       "    .dataframe tbody tr th:only-of-type {\n",
       "        vertical-align: middle;\n",
       "    }\n",
       "\n",
       "    .dataframe tbody tr th {\n",
       "        vertical-align: top;\n",
       "    }\n",
       "\n",
       "    .dataframe thead th {\n",
       "        text-align: right;\n",
       "    }\n",
       "</style>\n",
       "<table border=\"1\" class=\"dataframe\">\n",
       "  <thead>\n",
       "    <tr style=\"text-align: right;\">\n",
       "      <th></th>\n",
       "      <th>Day Type</th>\n",
       "      <th>Day Part</th>\n",
       "      <th>Avg Trip Time (min)</th>\n",
       "      <th>Month</th>\n",
       "      <th>Year</th>\n",
       "      <th>Month.1</th>\n",
       "      <th>Day</th>\n",
       "      <th>Time</th>\n",
       "      <th>Check_Flag</th>\n",
       "      <th>Average of temp</th>\n",
       "      <th>Average of feels_like</th>\n",
       "      <th>Average of temp_min</th>\n",
       "      <th>Average of temp_max</th>\n",
       "      <th>Average of pressure</th>\n",
       "      <th>Average of humidity</th>\n",
       "      <th>Sum of rain_1h</th>\n",
       "      <th>Average of wind_speed</th>\n",
       "      <th>Average of wind_gust</th>\n",
       "    </tr>\n",
       "  </thead>\n",
       "  <tbody>\n",
       "    <tr>\n",
       "      <th>0</th>\n",
       "      <td>0: All Days (M-Su)</td>\n",
       "      <td>05: 4am (4am-5am)</td>\n",
       "      <td>20.900000</td>\n",
       "      <td>May</td>\n",
       "      <td>19.0</td>\n",
       "      <td>5.0</td>\n",
       "      <td>0.0</td>\n",
       "      <td>4.0</td>\n",
       "      <td>19504</td>\n",
       "      <td>44.160541</td>\n",
       "      <td>41.684054</td>\n",
       "      <td>41.785135</td>\n",
       "      <td>47.123514</td>\n",
       "      <td>1013.972973</td>\n",
       "      <td>80.459459</td>\n",
       "      <td>8.33</td>\n",
       "      <td>4.962162</td>\n",
       "      <td>8.444483</td>\n",
       "    </tr>\n",
       "    <tr>\n",
       "      <th>1</th>\n",
       "      <td>0: All Days (M-Su)</td>\n",
       "      <td>10: 9am (9am-10am)</td>\n",
       "      <td>27.066667</td>\n",
       "      <td>May</td>\n",
       "      <td>19.0</td>\n",
       "      <td>5.0</td>\n",
       "      <td>0.0</td>\n",
       "      <td>9.0</td>\n",
       "      <td>19509</td>\n",
       "      <td>42.815676</td>\n",
       "      <td>39.944324</td>\n",
       "      <td>40.171351</td>\n",
       "      <td>45.736216</td>\n",
       "      <td>1013.216216</td>\n",
       "      <td>83.162162</td>\n",
       "      <td>6.70</td>\n",
       "      <td>5.323243</td>\n",
       "      <td>8.185625</td>\n",
       "    </tr>\n",
       "    <tr>\n",
       "      <th>2</th>\n",
       "      <td>0: All Days (M-Su)</td>\n",
       "      <td>11: 10am (10am-11am)</td>\n",
       "      <td>14.066667</td>\n",
       "      <td>May</td>\n",
       "      <td>19.0</td>\n",
       "      <td>5.0</td>\n",
       "      <td>0.0</td>\n",
       "      <td>10.0</td>\n",
       "      <td>195010</td>\n",
       "      <td>42.677429</td>\n",
       "      <td>39.514571</td>\n",
       "      <td>39.947143</td>\n",
       "      <td>45.499429</td>\n",
       "      <td>1014.457143</td>\n",
       "      <td>83.885714</td>\n",
       "      <td>6.07</td>\n",
       "      <td>5.592286</td>\n",
       "      <td>10.117692</td>\n",
       "    </tr>\n",
       "    <tr>\n",
       "      <th>3</th>\n",
       "      <td>0: All Days (M-Su)</td>\n",
       "      <td>12: 11am (11am-12noon)</td>\n",
       "      <td>20.900000</td>\n",
       "      <td>May</td>\n",
       "      <td>19.0</td>\n",
       "      <td>5.0</td>\n",
       "      <td>0.0</td>\n",
       "      <td>11.0</td>\n",
       "      <td>195011</td>\n",
       "      <td>44.346970</td>\n",
       "      <td>41.048182</td>\n",
       "      <td>42.161515</td>\n",
       "      <td>47.028182</td>\n",
       "      <td>1014.696970</td>\n",
       "      <td>79.393939</td>\n",
       "      <td>6.22</td>\n",
       "      <td>6.637273</td>\n",
       "      <td>10.064839</td>\n",
       "    </tr>\n",
       "    <tr>\n",
       "      <th>4</th>\n",
       "      <td>0: All Days (M-Su)</td>\n",
       "      <td>13: 12pm (12noon-1pm)</td>\n",
       "      <td>9.966667</td>\n",
       "      <td>May</td>\n",
       "      <td>19.0</td>\n",
       "      <td>5.0</td>\n",
       "      <td>0.0</td>\n",
       "      <td>12.0</td>\n",
       "      <td>195012</td>\n",
       "      <td>46.348750</td>\n",
       "      <td>43.662500</td>\n",
       "      <td>44.130000</td>\n",
       "      <td>49.299063</td>\n",
       "      <td>1014.937500</td>\n",
       "      <td>76.593750</td>\n",
       "      <td>4.51</td>\n",
       "      <td>6.826875</td>\n",
       "      <td>10.668000</td>\n",
       "    </tr>\n",
       "  </tbody>\n",
       "</table>\n",
       "</div>"
      ],
      "text/plain": [
       "             Day Type                Day Part  Avg Trip Time (min) Month  \\\n",
       "0  0: All Days (M-Su)       05: 4am (4am-5am)            20.900000   May   \n",
       "1  0: All Days (M-Su)      10: 9am (9am-10am)            27.066667   May   \n",
       "2  0: All Days (M-Su)    11: 10am (10am-11am)            14.066667   May   \n",
       "3  0: All Days (M-Su)  12: 11am (11am-12noon)            20.900000   May   \n",
       "4  0: All Days (M-Su)   13: 12pm (12noon-1pm)             9.966667   May   \n",
       "\n",
       "   Year  Month.1  Day  Time  Check_Flag  Average of temp  \\\n",
       "0  19.0      5.0  0.0   4.0       19504        44.160541   \n",
       "1  19.0      5.0  0.0   9.0       19509        42.815676   \n",
       "2  19.0      5.0  0.0  10.0      195010        42.677429   \n",
       "3  19.0      5.0  0.0  11.0      195011        44.346970   \n",
       "4  19.0      5.0  0.0  12.0      195012        46.348750   \n",
       "\n",
       "   Average of feels_like  Average of temp_min  Average of temp_max  \\\n",
       "0              41.684054            41.785135            47.123514   \n",
       "1              39.944324            40.171351            45.736216   \n",
       "2              39.514571            39.947143            45.499429   \n",
       "3              41.048182            42.161515            47.028182   \n",
       "4              43.662500            44.130000            49.299063   \n",
       "\n",
       "   Average of pressure  Average of humidity  Sum of rain_1h  \\\n",
       "0          1013.972973            80.459459            8.33   \n",
       "1          1013.216216            83.162162            6.70   \n",
       "2          1014.457143            83.885714            6.07   \n",
       "3          1014.696970            79.393939            6.22   \n",
       "4          1014.937500            76.593750            4.51   \n",
       "\n",
       "   Average of wind_speed  Average of wind_gust  \n",
       "0               4.962162              8.444483  \n",
       "1               5.323243              8.185625  \n",
       "2               5.592286             10.117692  \n",
       "3               6.637273             10.064839  \n",
       "4               6.826875             10.668000  "
      ]
     },
     "execution_count": 3,
     "metadata": {},
     "output_type": "execute_result"
    }
   ],
   "source": [
    "df.head()"
   ]
  },
  {
   "cell_type": "markdown",
   "id": "01aee98e",
   "metadata": {},
   "source": [
    "### 1.1 Data Cleaning"
   ]
  },
  {
   "cell_type": "code",
   "execution_count": 4,
   "id": "8163c27a",
   "metadata": {},
   "outputs": [],
   "source": [
    "df = df.drop([\"Month\", \"Check_Flag\"], axis=1)"
   ]
  },
  {
   "cell_type": "code",
   "execution_count": 5,
   "id": "191a45f2",
   "metadata": {},
   "outputs": [],
   "source": [
    "df = df.drop(np.where(df[\"Day Type\"] == \"0: All Days (M-Su)\")[0])"
   ]
  },
  {
   "cell_type": "code",
   "execution_count": 6,
   "id": "0d378eda",
   "metadata": {},
   "outputs": [],
   "source": [
    "df = df.reset_index(drop=True)"
   ]
  },
  {
   "cell_type": "code",
   "execution_count": 7,
   "id": "b70b3a2d",
   "metadata": {},
   "outputs": [],
   "source": [
    "# sorted(df[\"Day Part\"].unique())"
   ]
  },
  {
   "cell_type": "code",
   "execution_count": 8,
   "id": "83be1daa",
   "metadata": {},
   "outputs": [],
   "source": [
    "morning = ['05: 4am (4am-5am)','06: 5am (5am-6am)','07: 6am (6am-7am)',\n",
    "              '08: 7am (7am-8am)', '09: 8am (8am-9am)', '11: 10am (10am-11am)',]\n",
    "noon = ['12: 11am (11am-12noon)', '12: 11am (11am-12noon)','13: 12pm (12noon-1pm)',\n",
    "        '14: 1pm (1pm-2pm)','15: 2pm (2pm-3pm)','16: 3pm (3pm-4pm)']\n",
    "evening = ['17: 4pm (4pm-5pm)','18: 5pm (5pm-6pm)','19: 6pm (6pm-7pm)','20: 7pm (7pm-8pm)','21: 8pm (8pm-9pm)']"
   ]
  },
  {
   "cell_type": "code",
   "execution_count": 9,
   "id": "37f19ec6",
   "metadata": {},
   "outputs": [
    {
     "data": {
      "text/plain": [
       "Index(['Day Type', 'Day Part', 'Avg Trip Time (min)', 'Year', 'Month.1', 'Day',\n",
       "       'Time', 'Average of temp', 'Average of feels_like',\n",
       "       'Average of temp_min', 'Average of temp_max', 'Average of pressure',\n",
       "       'Average of humidity', 'Sum of rain_1h', 'Average of wind_speed',\n",
       "       'Average of wind_gust'],\n",
       "      dtype='object')"
      ]
     },
     "execution_count": 9,
     "metadata": {},
     "output_type": "execute_result"
    }
   ],
   "source": [
    "df.columns"
   ]
  },
  {
   "cell_type": "code",
   "execution_count": 13,
   "id": "b97297ae",
   "metadata": {},
   "outputs": [],
   "source": [
    "new_df = pd.DataFrame()"
   ]
  },
  {
   "cell_type": "code",
   "execution_count": 14,
   "id": "2318cbc3",
   "metadata": {},
   "outputs": [],
   "source": [
    "for year in df[\"Year\"].unique():\n",
    "    for month in df[\"Month.1\"].unique():\n",
    "        for day in df[\"Day\"].unique():\n",
    "            temp_df = df.loc[np.where((df[\"Year\"] == year) & (df[\"Month.1\"] == month) & (df[\"Day\"] == day))[0], :]\n",
    "            new_row = [day, month, year, temp_df[\"Avg Trip Time (min)\"].mean()] +list(temp_df.loc[:, \"Average of temp\":].mean(skipna=True))\n",
    "            new_df = new_df.append(pd.Series(new_row), ignore_index=True)\n",
    "            \n",
    "#             morning_index = [i for i in temp_df.index if temp_df.loc[i, \"Day Part\"] in morning]\n",
    "#             new_row = [1,0, day, month, year, temp_df.loc[morning_index, \"Avg Trip Time (min)\"].mean(skipna=True)] +list(temp_df.loc[morning_index, \"Average of temp\":].mean(skipna=True))\n",
    "#             new_df = new_df.append(pd.Series(new_row), ignore_index=True)\n",
    "            \n",
    "            \n",
    "#             noon_index = [i for i in temp_df.index if temp_df.loc[i, \"Day Part\"] in noon]\n",
    "#             new_row = [0,1, day, month, year, temp_df.loc[noon_index, \"Avg Trip Time (min)\"].mean(skipna=True)] +list(temp_df.loc[noon_index, \"Average of temp\":].mean(skipna=True))\n",
    "#             new_df = new_df.append(pd.Series(new_row), ignore_index=True)\n",
    "\n",
    "            \n",
    "            \n",
    "#             evening_index = [i for i in temp_df.index if temp_df.loc[i, \"Day Part\"] in evening]\n",
    "#             new_row = [0,0, day, month, year, temp_df.loc[evening_index, \"Avg Trip Time (min)\"].mean(skipna=True)] +list(temp_df.loc[evening_index, \"Average of temp\":].mean(skipna=True))\n",
    "#             new_df = new_df.append(pd.Series(new_row), ignore_index=True)\n",
    "\n",
    "            "
   ]
  },
  {
   "cell_type": "code",
   "execution_count": 15,
   "id": "0039f8c1",
   "metadata": {},
   "outputs": [],
   "source": [
    "new_df.columns = [\"Day\", \"Month\", \"Year\", 'Avg Trip Time (min)','Average of temp',\n",
    "       'Average of feels_like', 'Average of temp_min', 'Average of temp_max',\n",
    "       'Average of pressure', 'Average of humidity', 'Sum of rain_1h',\n",
    "       'Average of wind_speed', 'Average of wind_gust']"
   ]
  },
  {
   "cell_type": "code",
   "execution_count": 13,
   "id": "a5b5912e",
   "metadata": {},
   "outputs": [],
   "source": [
    "# new_df.columns = [\"Morning\", \"Afternoon\", \"Day\", \"Month\", \"Year\", 'Avg Trip Time (min)','Average of temp',\n",
    "#        'Average of feels_like', 'Average of temp_min', 'Average of temp_max',\n",
    "#        'Average of pressure', 'Average of humidity', 'Sum of rain_1h',\n",
    "#        'Average of wind_speed', 'Average of wind_gust']"
   ]
  },
  {
   "cell_type": "code",
   "execution_count": 16,
   "id": "5e9dde0a",
   "metadata": {},
   "outputs": [],
   "source": [
    "df = new_df"
   ]
  },
  {
   "cell_type": "code",
   "execution_count": 17,
   "id": "00dc26e9",
   "metadata": {},
   "outputs": [],
   "source": [
    "df[\"is_summer\"] = 0"
   ]
  },
  {
   "cell_type": "code",
   "execution_count": 18,
   "id": "f625e23e",
   "metadata": {},
   "outputs": [],
   "source": [
    "for i in range(0, len(df)):\n",
    "    if df.loc[i, \"Month\"] in [6,7,8]:\n",
    "        df.loc[i, \"is_summer\"] =1"
   ]
  },
  {
   "cell_type": "code",
   "execution_count": 19,
   "id": "9e84852a",
   "metadata": {},
   "outputs": [
    {
     "data": {
      "text/html": [
       "<div>\n",
       "<style scoped>\n",
       "    .dataframe tbody tr th:only-of-type {\n",
       "        vertical-align: middle;\n",
       "    }\n",
       "\n",
       "    .dataframe tbody tr th {\n",
       "        vertical-align: top;\n",
       "    }\n",
       "\n",
       "    .dataframe thead th {\n",
       "        text-align: right;\n",
       "    }\n",
       "</style>\n",
       "<table border=\"1\" class=\"dataframe\">\n",
       "  <thead>\n",
       "    <tr style=\"text-align: right;\">\n",
       "      <th></th>\n",
       "      <th>Day</th>\n",
       "      <th>Month</th>\n",
       "      <th>Year</th>\n",
       "      <th>Avg Trip Time (min)</th>\n",
       "      <th>Average of temp</th>\n",
       "      <th>Average of feels_like</th>\n",
       "      <th>Average of temp_min</th>\n",
       "      <th>Average of temp_max</th>\n",
       "      <th>Average of pressure</th>\n",
       "      <th>Average of humidity</th>\n",
       "      <th>Sum of rain_1h</th>\n",
       "      <th>Average of wind_speed</th>\n",
       "      <th>Average of wind_gust</th>\n",
       "      <th>is_summer</th>\n",
       "    </tr>\n",
       "  </thead>\n",
       "  <tbody>\n",
       "    <tr>\n",
       "      <th>0</th>\n",
       "      <td>1.0</td>\n",
       "      <td>5.0</td>\n",
       "      <td>19.0</td>\n",
       "      <td>17.221429</td>\n",
       "      <td>48.632929</td>\n",
       "      <td>46.856786</td>\n",
       "      <td>45.639643</td>\n",
       "      <td>52.718000</td>\n",
       "      <td>1013.257143</td>\n",
       "      <td>78.792857</td>\n",
       "      <td>1.220000</td>\n",
       "      <td>4.711571</td>\n",
       "      <td>7.659071</td>\n",
       "      <td>0</td>\n",
       "    </tr>\n",
       "    <tr>\n",
       "      <th>1</th>\n",
       "      <td>2.0</td>\n",
       "      <td>5.0</td>\n",
       "      <td>19.0</td>\n",
       "      <td>14.622222</td>\n",
       "      <td>47.245833</td>\n",
       "      <td>43.716167</td>\n",
       "      <td>43.662250</td>\n",
       "      <td>51.279583</td>\n",
       "      <td>1011.608333</td>\n",
       "      <td>68.875000</td>\n",
       "      <td>0.860000</td>\n",
       "      <td>9.016167</td>\n",
       "      <td>14.021528</td>\n",
       "      <td>0</td>\n",
       "    </tr>\n",
       "    <tr>\n",
       "      <th>2</th>\n",
       "      <td>3.0</td>\n",
       "      <td>5.0</td>\n",
       "      <td>19.0</td>\n",
       "      <td>19.761905</td>\n",
       "      <td>44.762667</td>\n",
       "      <td>40.465714</td>\n",
       "      <td>42.134429</td>\n",
       "      <td>47.884905</td>\n",
       "      <td>1016.457143</td>\n",
       "      <td>66.195238</td>\n",
       "      <td>0.364286</td>\n",
       "      <td>8.097714</td>\n",
       "      <td>13.471071</td>\n",
       "      <td>0</td>\n",
       "    </tr>\n",
       "    <tr>\n",
       "      <th>3</th>\n",
       "      <td>4.0</td>\n",
       "      <td>5.0</td>\n",
       "      <td>19.0</td>\n",
       "      <td>23.363636</td>\n",
       "      <td>46.319000</td>\n",
       "      <td>43.705333</td>\n",
       "      <td>42.993364</td>\n",
       "      <td>50.035000</td>\n",
       "      <td>1018.500000</td>\n",
       "      <td>69.436364</td>\n",
       "      <td>0.207273</td>\n",
       "      <td>5.188273</td>\n",
       "      <td>8.200545</td>\n",
       "      <td>0</td>\n",
       "    </tr>\n",
       "    <tr>\n",
       "      <th>4</th>\n",
       "      <td>6.0</td>\n",
       "      <td>5.0</td>\n",
       "      <td>19.0</td>\n",
       "      <td>18.003333</td>\n",
       "      <td>49.428533</td>\n",
       "      <td>47.492883</td>\n",
       "      <td>46.456483</td>\n",
       "      <td>52.701400</td>\n",
       "      <td>1013.138333</td>\n",
       "      <td>79.206667</td>\n",
       "      <td>0.417000</td>\n",
       "      <td>7.170933</td>\n",
       "      <td>11.451233</td>\n",
       "      <td>0</td>\n",
       "    </tr>\n",
       "  </tbody>\n",
       "</table>\n",
       "</div>"
      ],
      "text/plain": [
       "   Day  Month  Year  Avg Trip Time (min)  Average of temp  \\\n",
       "0  1.0    5.0  19.0            17.221429        48.632929   \n",
       "1  2.0    5.0  19.0            14.622222        47.245833   \n",
       "2  3.0    5.0  19.0            19.761905        44.762667   \n",
       "3  4.0    5.0  19.0            23.363636        46.319000   \n",
       "4  6.0    5.0  19.0            18.003333        49.428533   \n",
       "\n",
       "   Average of feels_like  Average of temp_min  Average of temp_max  \\\n",
       "0              46.856786            45.639643            52.718000   \n",
       "1              43.716167            43.662250            51.279583   \n",
       "2              40.465714            42.134429            47.884905   \n",
       "3              43.705333            42.993364            50.035000   \n",
       "4              47.492883            46.456483            52.701400   \n",
       "\n",
       "   Average of pressure  Average of humidity  Sum of rain_1h  \\\n",
       "0          1013.257143            78.792857        1.220000   \n",
       "1          1011.608333            68.875000        0.860000   \n",
       "2          1016.457143            66.195238        0.364286   \n",
       "3          1018.500000            69.436364        0.207273   \n",
       "4          1013.138333            79.206667        0.417000   \n",
       "\n",
       "   Average of wind_speed  Average of wind_gust  is_summer  \n",
       "0               4.711571              7.659071          0  \n",
       "1               9.016167             14.021528          0  \n",
       "2               8.097714             13.471071          0  \n",
       "3               5.188273              8.200545          0  \n",
       "4               7.170933             11.451233          0  "
      ]
     },
     "execution_count": 19,
     "metadata": {},
     "output_type": "execute_result"
    }
   ],
   "source": [
    "df.head()"
   ]
  },
  {
   "cell_type": "code",
   "execution_count": 20,
   "id": "f93a7ec2",
   "metadata": {},
   "outputs": [],
   "source": [
    "df[\"Tuesday\"] = 0\n",
    "df[\"Wednesday\"] = 0\n",
    "df[\"Thursday\"] = 0 \n",
    "df[\"Friday\"] = 0 \n",
    "df[\"Saturday\"] = 0 \n",
    "df[\"Sunday\"] = 0"
   ]
  },
  {
   "cell_type": "code",
   "execution_count": 21,
   "id": "022c2834",
   "metadata": {},
   "outputs": [],
   "source": [
    "for i in range(0, len(df)):\n",
    "    if df.loc[i, \"Day\"] == 1:\n",
    "        df.loc[i, \"Sunday\"] = 1\n",
    "    elif df.loc[i, \"Day\"] == 3:\n",
    "        df.loc[i, \"Tuesday\"] = 1\n",
    "    elif df.loc[i, \"Day\"] == 4:\n",
    "        df.loc[i, \"Wednesday\"] = 1\n",
    "    elif df.loc[i, \"Day\"] == 5:\n",
    "        df.loc[i, \"Thursday\"] = 1\n",
    "    elif df.loc[i, \"Day\"] == 6:\n",
    "        df.loc[i, \"Friday\"] = 1\n",
    "    elif df.loc[i, \"Day\"] == 7:\n",
    "        df.loc[i, \"Saturday\"] = 1"
   ]
  },
  {
   "cell_type": "code",
   "execution_count": 22,
   "id": "846fb822",
   "metadata": {},
   "outputs": [
    {
     "data": {
      "text/plain": [
       "Index(['Day', 'Month', 'Year', 'Avg Trip Time (min)', 'Average of temp',\n",
       "       'Average of feels_like', 'Average of temp_min', 'Average of temp_max',\n",
       "       'Average of pressure', 'Average of humidity', 'Sum of rain_1h',\n",
       "       'Average of wind_speed', 'Average of wind_gust', 'is_summer', 'Tuesday',\n",
       "       'Wednesday', 'Thursday', 'Friday', 'Saturday', 'Sunday'],\n",
       "      dtype='object')"
      ]
     },
     "execution_count": 22,
     "metadata": {},
     "output_type": "execute_result"
    }
   ],
   "source": [
    "df.columns"
   ]
  },
  {
   "cell_type": "code",
   "execution_count": 23,
   "id": "1b23801f",
   "metadata": {},
   "outputs": [],
   "source": [
    "df = df.drop([\"Day\"], axis=1)"
   ]
  },
  {
   "cell_type": "code",
   "execution_count": 24,
   "id": "cb3766a9",
   "metadata": {},
   "outputs": [],
   "source": [
    "#Find and replace NaN values:\n",
    "is_NaN = df.isnull()\n",
    "row_has_NaN = is_NaN.any(axis=1)\n",
    "rows_with_NaN = df[row_has_NaN]"
   ]
  },
  {
   "cell_type": "code",
   "execution_count": 25,
   "id": "02e16dfc",
   "metadata": {
    "scrolled": true
   },
   "outputs": [
    {
     "data": {
      "text/html": [
       "<div>\n",
       "<style scoped>\n",
       "    .dataframe tbody tr th:only-of-type {\n",
       "        vertical-align: middle;\n",
       "    }\n",
       "\n",
       "    .dataframe tbody tr th {\n",
       "        vertical-align: top;\n",
       "    }\n",
       "\n",
       "    .dataframe thead th {\n",
       "        text-align: right;\n",
       "    }\n",
       "</style>\n",
       "<table border=\"1\" class=\"dataframe\">\n",
       "  <thead>\n",
       "    <tr style=\"text-align: right;\">\n",
       "      <th></th>\n",
       "      <th>Month</th>\n",
       "      <th>Year</th>\n",
       "      <th>Avg Trip Time (min)</th>\n",
       "      <th>Average of temp</th>\n",
       "      <th>Average of feels_like</th>\n",
       "      <th>Average of temp_min</th>\n",
       "      <th>Average of temp_max</th>\n",
       "      <th>Average of pressure</th>\n",
       "      <th>Average of humidity</th>\n",
       "      <th>Sum of rain_1h</th>\n",
       "      <th>Average of wind_speed</th>\n",
       "      <th>Average of wind_gust</th>\n",
       "      <th>is_summer</th>\n",
       "      <th>Tuesday</th>\n",
       "      <th>Wednesday</th>\n",
       "      <th>Thursday</th>\n",
       "      <th>Friday</th>\n",
       "      <th>Saturday</th>\n",
       "      <th>Sunday</th>\n",
       "    </tr>\n",
       "  </thead>\n",
       "  <tbody>\n",
       "    <tr>\n",
       "      <th>42</th>\n",
       "      <td>5.0</td>\n",
       "      <td>20.0</td>\n",
       "      <td>NaN</td>\n",
       "      <td>NaN</td>\n",
       "      <td>NaN</td>\n",
       "      <td>NaN</td>\n",
       "      <td>NaN</td>\n",
       "      <td>NaN</td>\n",
       "      <td>NaN</td>\n",
       "      <td>NaN</td>\n",
       "      <td>NaN</td>\n",
       "      <td>NaN</td>\n",
       "      <td>0</td>\n",
       "      <td>0</td>\n",
       "      <td>0</td>\n",
       "      <td>0</td>\n",
       "      <td>0</td>\n",
       "      <td>0</td>\n",
       "      <td>1</td>\n",
       "    </tr>\n",
       "    <tr>\n",
       "      <th>43</th>\n",
       "      <td>5.0</td>\n",
       "      <td>20.0</td>\n",
       "      <td>NaN</td>\n",
       "      <td>NaN</td>\n",
       "      <td>NaN</td>\n",
       "      <td>NaN</td>\n",
       "      <td>NaN</td>\n",
       "      <td>NaN</td>\n",
       "      <td>NaN</td>\n",
       "      <td>NaN</td>\n",
       "      <td>NaN</td>\n",
       "      <td>NaN</td>\n",
       "      <td>0</td>\n",
       "      <td>0</td>\n",
       "      <td>0</td>\n",
       "      <td>0</td>\n",
       "      <td>0</td>\n",
       "      <td>0</td>\n",
       "      <td>0</td>\n",
       "    </tr>\n",
       "    <tr>\n",
       "      <th>45</th>\n",
       "      <td>5.0</td>\n",
       "      <td>20.0</td>\n",
       "      <td>NaN</td>\n",
       "      <td>NaN</td>\n",
       "      <td>NaN</td>\n",
       "      <td>NaN</td>\n",
       "      <td>NaN</td>\n",
       "      <td>NaN</td>\n",
       "      <td>NaN</td>\n",
       "      <td>NaN</td>\n",
       "      <td>NaN</td>\n",
       "      <td>NaN</td>\n",
       "      <td>0</td>\n",
       "      <td>0</td>\n",
       "      <td>1</td>\n",
       "      <td>0</td>\n",
       "      <td>0</td>\n",
       "      <td>0</td>\n",
       "      <td>0</td>\n",
       "    </tr>\n",
       "    <tr>\n",
       "      <th>46</th>\n",
       "      <td>5.0</td>\n",
       "      <td>20.0</td>\n",
       "      <td>NaN</td>\n",
       "      <td>NaN</td>\n",
       "      <td>NaN</td>\n",
       "      <td>NaN</td>\n",
       "      <td>NaN</td>\n",
       "      <td>NaN</td>\n",
       "      <td>NaN</td>\n",
       "      <td>NaN</td>\n",
       "      <td>NaN</td>\n",
       "      <td>NaN</td>\n",
       "      <td>0</td>\n",
       "      <td>0</td>\n",
       "      <td>0</td>\n",
       "      <td>0</td>\n",
       "      <td>1</td>\n",
       "      <td>0</td>\n",
       "      <td>0</td>\n",
       "    </tr>\n",
       "    <tr>\n",
       "      <th>47</th>\n",
       "      <td>5.0</td>\n",
       "      <td>20.0</td>\n",
       "      <td>NaN</td>\n",
       "      <td>NaN</td>\n",
       "      <td>NaN</td>\n",
       "      <td>NaN</td>\n",
       "      <td>NaN</td>\n",
       "      <td>NaN</td>\n",
       "      <td>NaN</td>\n",
       "      <td>NaN</td>\n",
       "      <td>NaN</td>\n",
       "      <td>NaN</td>\n",
       "      <td>0</td>\n",
       "      <td>0</td>\n",
       "      <td>0</td>\n",
       "      <td>0</td>\n",
       "      <td>0</td>\n",
       "      <td>1</td>\n",
       "      <td>0</td>\n",
       "    </tr>\n",
       "  </tbody>\n",
       "</table>\n",
       "</div>"
      ],
      "text/plain": [
       "    Month  Year  Avg Trip Time (min)  Average of temp  Average of feels_like  \\\n",
       "42    5.0  20.0                  NaN              NaN                    NaN   \n",
       "43    5.0  20.0                  NaN              NaN                    NaN   \n",
       "45    5.0  20.0                  NaN              NaN                    NaN   \n",
       "46    5.0  20.0                  NaN              NaN                    NaN   \n",
       "47    5.0  20.0                  NaN              NaN                    NaN   \n",
       "\n",
       "    Average of temp_min  Average of temp_max  Average of pressure  \\\n",
       "42                  NaN                  NaN                  NaN   \n",
       "43                  NaN                  NaN                  NaN   \n",
       "45                  NaN                  NaN                  NaN   \n",
       "46                  NaN                  NaN                  NaN   \n",
       "47                  NaN                  NaN                  NaN   \n",
       "\n",
       "    Average of humidity  Sum of rain_1h  Average of wind_speed  \\\n",
       "42                  NaN             NaN                    NaN   \n",
       "43                  NaN             NaN                    NaN   \n",
       "45                  NaN             NaN                    NaN   \n",
       "46                  NaN             NaN                    NaN   \n",
       "47                  NaN             NaN                    NaN   \n",
       "\n",
       "    Average of wind_gust  is_summer  Tuesday  Wednesday  Thursday  Friday  \\\n",
       "42                   NaN          0        0          0         0       0   \n",
       "43                   NaN          0        0          0         0       0   \n",
       "45                   NaN          0        0          1         0       0   \n",
       "46                   NaN          0        0          0         0       1   \n",
       "47                   NaN          0        0          0         0       0   \n",
       "\n",
       "    Saturday  Sunday  \n",
       "42         0       1  \n",
       "43         0       0  \n",
       "45         0       0  \n",
       "46         0       0  \n",
       "47         1       0  "
      ]
     },
     "execution_count": 25,
     "metadata": {},
     "output_type": "execute_result"
    }
   ],
   "source": [
    "rows_with_NaN #fuk"
   ]
  },
  {
   "cell_type": "code",
   "execution_count": 26,
   "id": "c510245d",
   "metadata": {},
   "outputs": [],
   "source": [
    "df = df.drop(df[row_has_NaN].index).reset_index(drop=True)"
   ]
  },
  {
   "cell_type": "code",
   "execution_count": 27,
   "id": "cc81902f",
   "metadata": {},
   "outputs": [],
   "source": [
    "to_drop = [i for i in range(0, len(df)) if (df.loc[i, \"Avg Trip Time (min)\"] > 60 or df.loc[i, \"Avg Trip Time (min)\" ] < 5)]"
   ]
  },
  {
   "cell_type": "code",
   "execution_count": 28,
   "id": "edc9b536",
   "metadata": {},
   "outputs": [],
   "source": [
    "df = df.drop(to_drop, axis=0).reset_index(drop=True)"
   ]
  },
  {
   "cell_type": "markdown",
   "id": "22f59bec",
   "metadata": {},
   "source": [
    "### 1.2 Checking y-range"
   ]
  },
  {
   "cell_type": "code",
   "execution_count": 29,
   "id": "7de05217",
   "metadata": {},
   "outputs": [
    {
     "name": "stdout",
     "output_type": "stream",
     "text": [
      "9.283333333\n",
      "23.727099033161235\n",
      "44.58888888822223\n"
     ]
    }
   ],
   "source": [
    "print(min(df[\"Avg Trip Time (min)\"]))\n",
    "print(np.mean(df[\"Avg Trip Time (min)\"]))\n",
    "print(max(df[\"Avg Trip Time (min)\"]))"
   ]
  },
  {
   "cell_type": "code",
   "execution_count": 30,
   "id": "4987a63a",
   "metadata": {},
   "outputs": [
    {
     "data": {
      "image/png": "[encoded data removed]",
      "text/plain": [
       "<Figure size 720x504 with 1 Axes>"
      ]
     },
     "metadata": {
      "needs_background": "light"
     },
     "output_type": "display_data"
    }
   ],
   "source": [
    "fig = plt.figure(figsize =(10, 7))\n",
    "# Creating plot\n",
    "plt.boxplot(df[\"Avg Trip Time (min)\"])\n",
    "# show plot\n",
    "plt.show()"
   ]
  },
  {
   "cell_type": "markdown",
   "id": "f01aec6c",
   "metadata": {},
   "source": [
    "### 1.3 Data Splitting"
   ]
  },
  {
   "cell_type": "code",
   "execution_count": 31,
   "id": "e9b0f8a2",
   "metadata": {},
   "outputs": [],
   "source": [
    "from sklearn.model_selection import train_test_split"
   ]
  },
  {
   "cell_type": "code",
   "execution_count": 32,
   "id": "3cd1d4bb",
   "metadata": {},
   "outputs": [],
   "source": [
    "columns_for_modeling = [i for i in df.columns if i != \"Avg Trip Time (min)\"]"
   ]
  },
  {
   "cell_type": "code",
   "execution_count": 33,
   "id": "cdf00d9c",
   "metadata": {},
   "outputs": [],
   "source": [
    "#Main split for training and splitting:\n",
    "x_train, x_test, y_train, y_test = train_test_split(df[columns_for_modeling], df[\"Avg Trip Time (min)\"], test_size=0.33)"
   ]
  },
  {
   "cell_type": "code",
   "execution_count": 34,
   "id": "10d796a5",
   "metadata": {},
   "outputs": [],
   "source": [
    "#Second split for parameter tuning:\n",
    "x_train_1, x_test_val, y_train_1, y_test_val = train_test_split(x_train, y_train, test_size=0.33, random_state=42)"
   ]
  },
  {
   "cell_type": "code",
   "execution_count": 35,
   "id": "4f7121b3",
   "metadata": {
    "scrolled": true
   },
   "outputs": [
    {
     "data": {
      "text/plain": [
       "Index(['Month', 'Year', 'Average of temp', 'Average of feels_like',\n",
       "       'Average of temp_min', 'Average of temp_max', 'Average of pressure',\n",
       "       'Average of humidity', 'Sum of rain_1h', 'Average of wind_speed',\n",
       "       'Average of wind_gust', 'is_summer', 'Tuesday', 'Wednesday', 'Thursday',\n",
       "       'Friday', 'Saturday', 'Sunday'],\n",
       "      dtype='object')"
      ]
     },
     "execution_count": 35,
     "metadata": {},
     "output_type": "execute_result"
    }
   ],
   "source": [
    "x_train_1.columns"
   ]
  },
  {
   "cell_type": "markdown",
   "id": "bfde257d",
   "metadata": {},
   "source": [
    "# 2.  Linear Regression"
   ]
  },
  {
   "cell_type": "code",
   "execution_count": 36,
   "id": "0990c7c8",
   "metadata": {},
   "outputs": [],
   "source": [
    "from sklearn.linear_model import LinearRegression, Ridge, Lasso, RidgeCV"
   ]
  },
  {
   "cell_type": "markdown",
   "id": "15ec0766",
   "metadata": {},
   "source": [
    "### 2.1 Linear"
   ]
  },
  {
   "cell_type": "code",
   "execution_count": 37,
   "id": "959a549b",
   "metadata": {},
   "outputs": [],
   "source": [
    "reg = LinearRegression().fit(x_train, y_train)"
   ]
  },
  {
   "cell_type": "code",
   "execution_count": 38,
   "id": "bdadd50f",
   "metadata": {
    "scrolled": true
   },
   "outputs": [
    {
     "data": {
      "text/plain": [
       "0.4550033812789981"
      ]
     },
     "execution_count": 38,
     "metadata": {},
     "output_type": "execute_result"
    }
   ],
   "source": [
    "reg.score(x_train, y_train)"
   ]
  },
  {
   "cell_type": "code",
   "execution_count": 39,
   "id": "50b6af18",
   "metadata": {},
   "outputs": [],
   "source": [
    "pred  = reg.predict(x_test)"
   ]
  },
  {
   "cell_type": "code",
   "execution_count": 40,
   "id": "a581aff5",
   "metadata": {},
   "outputs": [
    {
     "data": {
      "text/plain": [
       "6.1992332888075"
      ]
     },
     "execution_count": 40,
     "metadata": {},
     "output_type": "execute_result"
    }
   ],
   "source": [
    "mean_squared_error(pred, y_test, squared = False)"
   ]
  },
  {
   "cell_type": "code",
   "execution_count": 41,
   "id": "cd589b9d",
   "metadata": {},
   "outputs": [
    {
     "data": {
      "text/plain": [
       "{'copy_X': True,\n",
       " 'fit_intercept': True,\n",
       " 'n_jobs': None,\n",
       " 'normalize': False,\n",
       " 'positive': False}"
      ]
     },
     "execution_count": 41,
     "metadata": {},
     "output_type": "execute_result"
    }
   ],
   "source": [
    "reg.get_params()"
   ]
  },
  {
   "cell_type": "code",
   "execution_count": 42,
   "id": "be3b01b8",
   "metadata": {},
   "outputs": [],
   "source": [
    "import statsmodels.api as sm\n",
    "from scipy import stats"
   ]
  },
  {
   "cell_type": "code",
   "execution_count": 43,
   "id": "9b88cb6a",
   "metadata": {},
   "outputs": [],
   "source": [
    "# x_train_ols = x_train\n",
    "# x_test_ols = x_test\n",
    "\n",
    "# x_train_ols[\"intercept\"] = 1\n",
    "# x_test_ols[\"interccept\"] =1"
   ]
  },
  {
   "cell_type": "code",
   "execution_count": 44,
   "id": "edb435c4",
   "metadata": {
    "scrolled": false
   },
   "outputs": [
    {
     "name": "stdout",
     "output_type": "stream",
     "text": [
      "                                 OLS Regression Results                                 \n",
      "========================================================================================\n",
      "Dep. Variable:     Avg Trip Time (min)   R-squared (uncentered):                   0.962\n",
      "Model:                             OLS   Adj. R-squared (uncentered):              0.951\n",
      "Method:                  Least Squares   F-statistic:                              88.14\n",
      "Date:                 Mon, 18 Apr 2022   Prob (F-statistic):                    3.12e-37\n",
      "Time:                         18:39:35   Log-Likelihood:                         -239.51\n",
      "No. Observations:                   80   AIC:                                      515.0\n",
      "Df Residuals:                       62   BIC:                                      557.9\n",
      "Df Model:                           18                                                  \n",
      "Covariance Type:             nonrobust                                                  \n",
      "=========================================================================================\n",
      "                            coef    std err          t      P>|t|      [0.025      0.975]\n",
      "-----------------------------------------------------------------------------------------\n",
      "Month                     0.1414      0.585      0.242      0.810      -1.029       1.311\n",
      "Year                      2.4462      0.894      2.736      0.008       0.659       4.233\n",
      "Average of temp           5.7127      4.344      1.315      0.193      -2.971      14.396\n",
      "Average of feels_like     0.0329      2.133      0.015      0.988      -4.231       4.297\n",
      "Average of temp_min      -2.1743      1.646     -1.321      0.191      -5.465       1.116\n",
      "Average of temp_max      -3.3262      1.631     -2.039      0.046      -6.587      -0.066\n",
      "Average of pressure      -0.0511      0.033     -1.563      0.123      -0.116       0.014\n",
      "Average of humidity       0.1656      0.181      0.913      0.365      -0.197       0.528\n",
      "Sum of rain_1h           -0.3951      0.283     -1.398      0.167      -0.960       0.170\n",
      "Average of wind_speed     0.1104      0.470      0.235      0.815      -0.830       1.050\n",
      "Average of wind_gust      0.1946      0.161      1.207      0.232      -0.128       0.517\n",
      "is_summer                 0.8452      2.543      0.332      0.741      -4.237       5.928\n",
      "Tuesday                   0.0306      2.346      0.013      0.990      -4.660       4.721\n",
      "Wednesday                 5.6576      2.440      2.319      0.024       0.780      10.535\n",
      "Thursday                  2.0652      2.406      0.859      0.394      -2.743       6.874\n",
      "Friday                    3.3462      2.327      1.438      0.155      -1.306       7.998\n",
      "Saturday                  3.2433      2.582      1.256      0.214      -1.919       8.405\n",
      "Sunday                   -0.2864      2.521     -0.114      0.910      -5.325       4.752\n",
      "==============================================================================\n",
      "Omnibus:                        1.692   Durbin-Watson:                   2.452\n",
      "Prob(Omnibus):                  0.429   Jarque-Bera (JB):                1.057\n",
      "Skew:                           0.195   Prob(JB):                        0.590\n",
      "Kurtosis:                       3.406   Cond. No.                     8.73e+03\n",
      "==============================================================================\n",
      "\n",
      "Notes:\n",
      "[1] R² is computed without centering (uncentered) since the model does not contain a constant.\n",
      "[2] Standard Errors assume that the covariance matrix of the errors is correctly specified.\n",
      "[3] The condition number is large, 8.73e+03. This might indicate that there are\n",
      "strong multicollinearity or other numerical problems.\n"
     ]
    }
   ],
   "source": [
    "est = sm.OLS(y_train, x_train)\n",
    "est2 = est.fit()\n",
    "print(est2.summary())"
   ]
  },
  {
   "cell_type": "code",
   "execution_count": 45,
   "id": "292a2da0",
   "metadata": {},
   "outputs": [],
   "source": [
    "pred = est2.predict(x_test)"
   ]
  },
  {
   "cell_type": "code",
   "execution_count": 46,
   "id": "e36d6b0d",
   "metadata": {},
   "outputs": [
    {
     "data": {
      "text/plain": [
       "6.139369664362359"
      ]
     },
     "execution_count": 46,
     "metadata": {},
     "output_type": "execute_result"
    }
   ],
   "source": [
    "mean_squared_error(pred, y_test, squared = False)"
   ]
  },
  {
   "cell_type": "markdown",
   "id": "54c2cb5a",
   "metadata": {},
   "source": [
    "### 2.2 Ridge"
   ]
  },
  {
   "cell_type": "code",
   "execution_count": 47,
   "id": "2e7932ef",
   "metadata": {},
   "outputs": [
    {
     "data": {
      "text/plain": [
       "Ridge()"
      ]
     },
     "execution_count": 47,
     "metadata": {},
     "output_type": "execute_result"
    }
   ],
   "source": [
    "model = Ridge(alpha=1.0)\n",
    "model.fit(x_train, y_train)"
   ]
  },
  {
   "cell_type": "code",
   "execution_count": 48,
   "id": "90607637",
   "metadata": {},
   "outputs": [],
   "source": [
    "pred = model.predict(x_test)"
   ]
  },
  {
   "cell_type": "code",
   "execution_count": 49,
   "id": "d8333054",
   "metadata": {},
   "outputs": [
    {
     "data": {
      "text/plain": [
       "6.19168592169429"
      ]
     },
     "execution_count": 49,
     "metadata": {},
     "output_type": "execute_result"
    }
   ],
   "source": [
    "mean_squared_error(pred, y_test, squared = False)"
   ]
  },
  {
   "cell_type": "markdown",
   "id": "491cc4ed",
   "metadata": {},
   "source": [
    "### 2.2.1 Optimal alpha for Ridge"
   ]
  },
  {
   "cell_type": "code",
   "execution_count": 50,
   "id": "e5037f64",
   "metadata": {},
   "outputs": [],
   "source": [
    "alphas = np.linspace(0,.5,11)"
   ]
  },
  {
   "cell_type": "code",
   "execution_count": 51,
   "id": "6735eeea",
   "metadata": {},
   "outputs": [],
   "source": [
    "fits = []\n",
    "for alpha in alphas:\n",
    "    model = Ridge(alpha=alpha)\n",
    "    model.fit(x_train_1, y_train_1)\n",
    "    pred = model.predict(x_test_val)\n",
    "    test_pred = model.predict(x_train_1)\n",
    "    res = [mean_squared_error(pred, y_test_val, squared = False),mean_squared_error(test_pred, y_train_1, squared = False)]\n",
    "    fits.append(res)"
   ]
  },
  {
   "cell_type": "code",
   "execution_count": 52,
   "id": "aaef877a",
   "metadata": {
    "scrolled": true
   },
   "outputs": [
    {
     "data": {
      "image/png": "[encoded data removed]",
      "text/plain": [
       "<Figure size 432x288 with 1 Axes>"
      ]
     },
     "metadata": {
      "needs_background": "light"
     },
     "output_type": "display_data"
    }
   ],
   "source": [
    "val_scores = [i[0] for i in fits]\n",
    "train_scores = [i[1] for i in fits]\n",
    "\n",
    "fig, ax = plt.subplots()\n",
    "ax.set_xlabel(\"Tree Depth\")\n",
    "ax.set_ylabel(\"accuracy\")\n",
    "ax.set_title(\"Accuracy vs Tree Depth for Training and Vaidation Sets\")\n",
    "ax.plot(alphas, train_scores, marker=\"o\", label=\"train\", drawstyle=\"steps-post\")\n",
    "ax.plot(alphas, val_scores, marker=\"o\", label=\"validation\", drawstyle=\"steps-post\")\n",
    "ax.legend()\n",
    "plt.show()\n",
    "\n",
    "#Nothing interesting, rip"
   ]
  },
  {
   "cell_type": "markdown",
   "id": "db480838",
   "metadata": {},
   "source": [
    "### 2.2.2 RidgeCV"
   ]
  },
  {
   "cell_type": "code",
   "execution_count": 53,
   "id": "252c92ec",
   "metadata": {},
   "outputs": [],
   "source": [
    "model = RidgeCV(alphas=[1e-3, 1e-2, 1e-1, 1]).fit(x_train, y_train)"
   ]
  },
  {
   "cell_type": "code",
   "execution_count": 54,
   "id": "78140a0c",
   "metadata": {},
   "outputs": [],
   "source": [
    "pred = model.predict(x_test)"
   ]
  },
  {
   "cell_type": "code",
   "execution_count": 55,
   "id": "1abd5264",
   "metadata": {},
   "outputs": [
    {
     "data": {
      "text/plain": [
       "6.191685921697594"
      ]
     },
     "execution_count": 55,
     "metadata": {},
     "output_type": "execute_result"
    }
   ],
   "source": [
    "mean_squared_error(pred, y_test, squared = False)"
   ]
  },
  {
   "cell_type": "markdown",
   "id": "9d4e62bd",
   "metadata": {},
   "source": [
    "### 2.3 Lasso"
   ]
  },
  {
   "cell_type": "code",
   "execution_count": 56,
   "id": "61f68527",
   "metadata": {},
   "outputs": [],
   "source": [
    "model = Lasso().fit(x_train, y_train)"
   ]
  },
  {
   "cell_type": "code",
   "execution_count": 57,
   "id": "8f9b1379",
   "metadata": {},
   "outputs": [],
   "source": [
    "pred = model.predict(x_test)"
   ]
  },
  {
   "cell_type": "code",
   "execution_count": 59,
   "id": "2485dad9",
   "metadata": {},
   "outputs": [
    {
     "data": {
      "text/plain": [
       "5.639858808434533"
      ]
     },
     "execution_count": 59,
     "metadata": {},
     "output_type": "execute_result"
    }
   ],
   "source": [
    "mean_squared_error(pred, y_test, squared = False)"
   ]
  },
  {
   "cell_type": "markdown",
   "id": "5d64bbd2",
   "metadata": {},
   "source": [
    "# 3. Support Vector Regression"
   ]
  },
  {
   "cell_type": "code",
   "execution_count": 60,
   "id": "4ea74a8b",
   "metadata": {},
   "outputs": [],
   "source": [
    "from sklearn.svm import SVR\n",
    "from sklearn.pipeline import make_pipeline\n",
    "from sklearn.preprocessing import StandardScaler"
   ]
  },
  {
   "cell_type": "code",
   "execution_count": 61,
   "id": "d4aae941",
   "metadata": {},
   "outputs": [],
   "source": [
    "regr = make_pipeline(StandardScaler(), SVR(kernel=\"poly\", C=100, gamma=\"auto\", degree=3, epsilon=0.1, coef0=1))"
   ]
  },
  {
   "cell_type": "code",
   "execution_count": 62,
   "id": "e1bdfc97",
   "metadata": {},
   "outputs": [
    {
     "data": {
      "text/plain": [
       "Pipeline(steps=[('standardscaler', StandardScaler()),\n",
       "                ('svr', SVR(C=100, coef0=1, gamma='auto', kernel='poly'))])"
      ]
     },
     "execution_count": 62,
     "metadata": {},
     "output_type": "execute_result"
    }
   ],
   "source": [
    "regr.fit(x_train, y_train)"
   ]
  },
  {
   "cell_type": "code",
   "execution_count": 63,
   "id": "b3675a41",
   "metadata": {},
   "outputs": [],
   "source": [
    "pred = regr.predict(x_test)"
   ]
  },
  {
   "cell_type": "code",
   "execution_count": 64,
   "id": "bc04b39f",
   "metadata": {},
   "outputs": [
    {
     "data": {
      "text/plain": [
       "9.080019469507008"
      ]
     },
     "execution_count": 64,
     "metadata": {},
     "output_type": "execute_result"
    }
   ],
   "source": [
    "mean_squared_error(y_test, pred, squared=False)"
   ]
  },
  {
   "cell_type": "markdown",
   "id": "96f7a6c4",
   "metadata": {},
   "source": [
    "### 3.2 RBF Kernal"
   ]
  },
  {
   "cell_type": "code",
   "execution_count": 65,
   "id": "ea2b0100",
   "metadata": {},
   "outputs": [
    {
     "data": {
      "text/plain": [
       "6.1588359565459525"
      ]
     },
     "execution_count": 65,
     "metadata": {},
     "output_type": "execute_result"
    }
   ],
   "source": [
    "svr_rbf = SVR(kernel=\"rbf\", C=100, gamma=0.1, epsilon=0.1)\n",
    "svr_rbf.fit(x_train, y_train)\n",
    "pred_rbf = svr_rbf.predict(x_test)\n",
    "mean_squared_error(y_test, pred_rbf, squared=False)"
   ]
  },
  {
   "cell_type": "markdown",
   "id": "31abad28",
   "metadata": {},
   "source": [
    "### 3.3 Linear Kernal"
   ]
  },
  {
   "cell_type": "code",
   "execution_count": 66,
   "id": "ad3ae75d",
   "metadata": {},
   "outputs": [
    {
     "data": {
      "text/plain": [
       "20.77336061327452"
      ]
     },
     "execution_count": 66,
     "metadata": {},
     "output_type": "execute_result"
    }
   ],
   "source": [
    "svr_lin = SVR(kernel=\"linear\", C=100, gamma=\"auto\")\n",
    "svr_lin.fit(x_train, y_train)\n",
    "pred_lin = svr_lin.predict(x_test)\n",
    "mean_squared_error(y_test, pred_lin, squared=False)"
   ]
  },
  {
   "cell_type": "markdown",
   "id": "09565f1e",
   "metadata": {},
   "source": [
    "# Random Forest"
   ]
  },
  {
   "cell_type": "code",
   "execution_count": 67,
   "id": "3af4f9c5",
   "metadata": {},
   "outputs": [],
   "source": [
    "from sklearn.ensemble import RandomForestRegressor"
   ]
  },
  {
   "cell_type": "code",
   "execution_count": 68,
   "id": "6806eb96",
   "metadata": {},
   "outputs": [
    {
     "data": {
      "text/plain": [
       "RandomForestRegressor(random_state=0)"
      ]
     },
     "execution_count": 68,
     "metadata": {},
     "output_type": "execute_result"
    }
   ],
   "source": [
    "#Most basic model:\n",
    "regr = RandomForestRegressor(random_state=0)\n",
    "regr.fit(x_train, y_train)"
   ]
  },
  {
   "cell_type": "code",
   "execution_count": 69,
   "id": "50fc0541",
   "metadata": {},
   "outputs": [],
   "source": [
    "pred = regr.predict(x_test)"
   ]
  },
  {
   "cell_type": "code",
   "execution_count": 70,
   "id": "bda7e10a",
   "metadata": {},
   "outputs": [
    {
     "data": {
      "text/plain": [
       "5.995632456014772"
      ]
     },
     "execution_count": 70,
     "metadata": {},
     "output_type": "execute_result"
    }
   ],
   "source": [
    "mean_squared_error(pred, y_test, squared = False)"
   ]
  },
  {
   "cell_type": "code",
   "execution_count": 71,
   "id": "5c6e30f9",
   "metadata": {},
   "outputs": [
    {
     "data": {
      "text/plain": [
       "RandomForestRegressor(criterion='mae', random_state=0)"
      ]
     },
     "execution_count": 71,
     "metadata": {},
     "output_type": "execute_result"
    }
   ],
   "source": [
    "#Most basic model:\n",
    "regr_1 = RandomForestRegressor(random_state=0, criterion=\"mae\")\n",
    "regr_1.fit(x_train, y_train)"
   ]
  },
  {
   "cell_type": "code",
   "execution_count": 72,
   "id": "b85e6838",
   "metadata": {},
   "outputs": [],
   "source": [
    "pred_1 = regr_1.predict(x_test)"
   ]
  },
  {
   "cell_type": "code",
   "execution_count": 73,
   "id": "066aef4f",
   "metadata": {},
   "outputs": [
    {
     "data": {
      "text/plain": [
       "5.785378811774551"
      ]
     },
     "execution_count": 73,
     "metadata": {},
     "output_type": "execute_result"
    }
   ],
   "source": [
    "mean_squared_error(pred_1, y_test, squared = False)"
   ]
  },
  {
   "cell_type": "markdown",
   "id": "3bc30027",
   "metadata": {},
   "source": [
    "### 4.2 Fitting for Max Depth"
   ]
  },
  {
   "cell_type": "code",
   "execution_count": null,
   "id": "0751009a",
   "metadata": {},
   "outputs": [],
   "source": [
    "fits = []\n",
    "max_depth = [i for i in range(2, 20)]\n",
    "322.52\n",
    "for depth in max_depth:\n",
    "    fit = RandomForestRegressor(max_depth=depth)\n",
    "    fit.fit(x_train_1, y_train_1)\n",
    "    res = [mean_squared_error(fit.predict(x_train_1), y_train_1, squared = False), mean_squared_error(fit.predict(x_test_val), y_test_val, squared = False)]\n",
    "    fits.append(res)"
   ]
  },
  {
   "cell_type": "code",
   "execution_count": null,
   "id": "2476f715",
   "metadata": {},
   "outputs": [],
   "source": [
    "train_scores = [i[0] for i in fits]\n",
    "val_scores = [i[1] for i in fits]\n",
    "\n",
    "fig, ax = plt.subplots()\n",
    "ax.set_xlabel(\"Tree Depth\")\n",
    "ax.set_ylabel(\"accuracy\")\n",
    "ax.set_title(\"Accuracy vs Tree Depth for Training and Vaidation Sets\")\n",
    "ax.plot(max_depth, train_scores, marker=\"o\", label=\"train\", drawstyle=\"steps-post\")\n",
    "ax.plot(max_depth, val_scores, marker=\"o\", label=\"validation\", drawstyle=\"steps-post\")\n",
    "ax.legend()\n",
    "plt.show()"
   ]
  },
  {
   "cell_type": "code",
   "execution_count": null,
   "id": "3748fa58",
   "metadata": {},
   "outputs": [],
   "source": [
    "fits = []\n",
    "max_depth = [i for i in range(2, 20)]\n",
    "322.52\n",
    "for depth in max_depth:\n",
    "    fit = RandomForestRegressor(max_depth=depth, criterion = 'mae')\n",
    "    fit.fit(x_train_1, y_train_1)\n",
    "    res = [mean_squared_error(fit.predict(x_train_1), y_train_1, squared = False), mean_squared_error(fit.predict(x_test_val), y_test_val, squared = False)]\n",
    "    fits.append(res)"
   ]
  },
  {
   "cell_type": "code",
   "execution_count": null,
   "id": "7b09c9b1",
   "metadata": {},
   "outputs": [],
   "source": [
    "train_scores = [i[0] for i in fits]\n",
    "val_scores = [i[1] for i in fits]\n",
    "\n",
    "fig, ax = plt.subplots()\n",
    "ax.set_xlabel(\"Tree Depth\")\n",
    "ax.set_ylabel(\"accuracy\")\n",
    "ax.set_title(\"Accuracy vs Tree Depth for Training and Vaidation Sets\")\n",
    "ax.plot(max_depth, train_scores, marker=\"o\", label=\"train\", drawstyle=\"steps-post\")\n",
    "ax.plot(max_depth, val_scores, marker=\"o\", label=\"validation\", drawstyle=\"steps-post\")\n",
    "ax.legend()\n",
    "plt.show()"
   ]
  },
  {
   "cell_type": "markdown",
   "id": "c292ebbd",
   "metadata": {},
   "source": [
    "### 4.3 Fitting for Number of Estimators"
   ]
  },
  {
   "cell_type": "code",
   "execution_count": null,
   "id": "bde4f3d6",
   "metadata": {},
   "outputs": [],
   "source": [
    "fits = []\n",
    "estimator_count = [i for i in range(50, 100)]\n",
    "\n",
    "for est in estimator_count:\n",
    "    fit = RandomForestRegressor(n_estimators=est)\n",
    "    fit.fit(x_train_1, y_train_1)\n",
    "    res = [mean_squared_error(fit.predict(x_train_1), y_train_1, squared = False), mean_squared_error(fit.predict(x_test_val), y_test_val, squared = False)]\n",
    "    fits.append(res)"
   ]
  },
  {
   "cell_type": "code",
   "execution_count": null,
   "id": "db15a689",
   "metadata": {},
   "outputs": [],
   "source": [
    "train_scores = [i[0] for i in fits]\n",
    "val_scores = [i[1] for i in fits]\n",
    "\n",
    "fig, ax = plt.subplots()\n",
    "ax.set_xlabel(\"Number of Estimators\")\n",
    "ax.set_ylabel(\"accuracy\")\n",
    "ax.set_title(\"Accuracy vs Number of Estimators for Training and Vaidation Sets\")\n",
    "ax.plot(estimator_count, train_scores, marker=\"o\", label=\"train\", drawstyle=\"steps-post\")\n",
    "ax.plot(estimator_count, val_scores, marker=\"o\", label=\"validation\", drawstyle=\"steps-post\")\n",
    "ax.legend()\n",
    "plt.show()"
   ]
  },
  {
   "cell_type": "code",
   "execution_count": null,
   "id": "87b3de3b",
   "metadata": {},
   "outputs": [],
   "source": [
    "fits = []\n",
    "estimator_count = [i for i in range(50, 100)]\n",
    "\n",
    "for est in estimator_count:\n",
    "    fit = RandomForestRegressor(n_estimators=est, criterion= 'mae')\n",
    "    fit.fit(x_train_1, y_train_1)\n",
    "    res = [mean_squared_error(fit.predict(x_train_1), y_train_1, squared = False), mean_squared_error(fit.predict(x_test_val), y_test_val, squared = False)]\n",
    "    fits.append(res)"
   ]
  },
  {
   "cell_type": "code",
   "execution_count": null,
   "id": "67a0cc0e",
   "metadata": {},
   "outputs": [],
   "source": [
    "train_scores = [i[0] for i in fits]\n",
    "val_scores = [i[1] for i in fits]\n",
    "\n",
    "fig, ax = plt.subplots()\n",
    "ax.set_xlabel(\"Number of Estimators\")\n",
    "ax.set_ylabel(\"accuracy\")\n",
    "ax.set_title(\"Accuracy vs Number of Estimators for Training and Vaidation Sets\")\n",
    "ax.plot(estimator_count, train_scores, marker=\"o\", label=\"train\", drawstyle=\"steps-post\")\n",
    "ax.plot(estimator_count, val_scores, marker=\"o\", label=\"validation\", drawstyle=\"steps-post\")\n",
    "ax.legend()\n",
    "plt.show()"
   ]
  },
  {
   "cell_type": "markdown",
   "id": "f852218f",
   "metadata": {},
   "source": [
    "### 4.4 Fitting for ccp_alpha"
   ]
  },
  {
   "cell_type": "code",
   "execution_count": null,
   "id": "0fd74dd6",
   "metadata": {},
   "outputs": [],
   "source": [
    "np.linspace(0,1,101)"
   ]
  },
  {
   "cell_type": "code",
   "execution_count": null,
   "id": "a4c26f38",
   "metadata": {},
   "outputs": [],
   "source": [
    "fits = []\n",
    "alphas = np.linspace(0,1,11)\n",
    "\n",
    "for alpha in alphas:\n",
    "    fit = RandomForestRegressor(ccp_alpha=alpha)\n",
    "    fit.fit(x_train_1, y_train_1)\n",
    "    res = [mean_squared_error(fit.predict(x_train_1), y_train_1, squared = False), mean_squared_error(fit.predict(x_test_val), y_test_val, squared = False)]\n",
    "    fits.append(res)"
   ]
  },
  {
   "cell_type": "code",
   "execution_count": null,
   "id": "ae9d53db",
   "metadata": {
    "scrolled": false
   },
   "outputs": [],
   "source": [
    "train_scores = [i[0] for i in fits]\n",
    "val_scores = [i[1] for i in fits]\n",
    "\n",
    "fig, ax = plt.subplots()\n",
    "ax.set_xlabel(\"ccp_alpha\")\n",
    "ax.set_ylabel(\"accuracy\")\n",
    "ax.set_title(\"Accuracy vs ccp_alpha for Training and Vaidation Sets\")\n",
    "ax.plot(alphas, train_scores, marker=\"o\", label=\"train\", drawstyle=\"steps-post\")\n",
    "ax.plot(alphas, val_scores, marker=\"o\", label=\"validation\", drawstyle=\"steps-post\")\n",
    "ax.legend()\n",
    "plt.show()"
   ]
  },
  {
   "cell_type": "code",
   "execution_count": null,
   "id": "2399f396",
   "metadata": {},
   "outputs": [],
   "source": [
    "fits = []\n",
    "alphas = np.linspace(0,1,11)\n",
    "\n",
    "for alpha in alphas:\n",
    "    fit = RandomForestRegressor(ccp_alpha=alpha, criterion = 'mae')\n",
    "    fit.fit(x_train_1, y_train_1)\n",
    "    res = [mean_squared_error(fit.predict(x_train_1), y_train_1, squared = False), mean_squared_error(fit.predict(x_test_val), y_test_val, squared = False)]\n",
    "    fits.append(res)"
   ]
  },
  {
   "cell_type": "code",
   "execution_count": null,
   "id": "4a7798cd",
   "metadata": {
    "scrolled": true
   },
   "outputs": [],
   "source": [
    "train_scores = [i[0] for i in fits]\n",
    "val_scores = [i[1] for i in fits]\n",
    "\n",
    "fig, ax = plt.subplots()\n",
    "ax.set_xlabel(\"ccp_alpha\")\n",
    "ax.set_ylabel(\"accuracy\")\n",
    "ax.set_title(\"Accuracy vs ccp_alpha for Training and Vaidation Sets\")\n",
    "ax.plot(alphas, train_scores, marker=\"o\", label=\"train\", drawstyle=\"steps-post\")\n",
    "ax.plot(alphas, val_scores, marker=\"o\", label=\"validation\", drawstyle=\"steps-post\")\n",
    "ax.legend()\n",
    "plt.show()"
   ]
  },
  {
   "cell_type": "markdown",
   "id": "88d75cb6",
   "metadata": {},
   "source": [
    "## 5. Ensemble Models"
   ]
  },
  {
   "cell_type": "code",
   "execution_count": null,
   "id": "b973e7e8",
   "metadata": {},
   "outputs": [],
   "source": []
  }
 ],
 "metadata": {
  "kernelspec": {
   "display_name": "Python 3 (ipykernel)",
   "language": "python",
   "name": "python3"
  },
  "language_info": {
   "codemirror_mode": {
    "name": "ipython",
    "version": 3
   },
   "file_extension": ".py",
   "mimetype": "text/x-python",
   "name": "python",
   "nbconvert_exporter": "python",
   "pygments_lexer": "ipython3",
   "version": "3.9.7"
  }
 },
 "nbformat": 4,
 "nbformat_minor": 5
}
