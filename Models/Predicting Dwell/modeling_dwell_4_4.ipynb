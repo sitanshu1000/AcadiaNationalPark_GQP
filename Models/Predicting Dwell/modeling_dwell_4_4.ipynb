{
 "cells": [
  {
   "cell_type": "code",
   "execution_count": 1,
   "id": "bf0ed0b8",
   "metadata": {},
   "outputs": [],
   "source": [
    "import numpy as np\n",
    "import pandas as pd\n",
    "import matplotlib.pyplot as plt\n",
    "from sklearn.metrics import mean_squared_error"
   ]
  },
  {
   "cell_type": "markdown",
   "id": "0020a957",
   "metadata": {},
   "source": [
    "# 1. Loading and Cleaning Data"
   ]
  },
  {
   "cell_type": "code",
   "execution_count": 2,
   "id": "0feb374e",
   "metadata": {},
   "outputs": [],
   "source": [
    "df = pd.read_csv(\"dwell_weather_edited.csv\", index_col = \"Unnamed: 0\")"
   ]
  },
  {
   "cell_type": "code",
   "execution_count": 3,
   "id": "b083b003",
   "metadata": {},
   "outputs": [
    {
     "data": {
      "text/html": [
       "<div>\n",
       "<style scoped>\n",
       "    .dataframe tbody tr th:only-of-type {\n",
       "        vertical-align: middle;\n",
       "    }\n",
       "\n",
       "    .dataframe tbody tr th {\n",
       "        vertical-align: top;\n",
       "    }\n",
       "\n",
       "    .dataframe thead th {\n",
       "        text-align: right;\n",
       "    }\n",
       "</style>\n",
       "<table border=\"1\" class=\"dataframe\">\n",
       "  <thead>\n",
       "    <tr style=\"text-align: right;\">\n",
       "      <th></th>\n",
       "      <th>Day Type</th>\n",
       "      <th>Day Part</th>\n",
       "      <th>Avg Trip Time (min)</th>\n",
       "      <th>Month</th>\n",
       "      <th>Year</th>\n",
       "      <th>Month.1</th>\n",
       "      <th>Day</th>\n",
       "      <th>Time</th>\n",
       "      <th>Check_Flag</th>\n",
       "      <th>Average of temp</th>\n",
       "      <th>Average of feels_like</th>\n",
       "      <th>Average of temp_min</th>\n",
       "      <th>Average of temp_max</th>\n",
       "      <th>Average of pressure</th>\n",
       "      <th>Average of humidity</th>\n",
       "      <th>Sum of rain_1h</th>\n",
       "      <th>Average of wind_speed</th>\n",
       "      <th>Average of wind_gust</th>\n",
       "    </tr>\n",
       "  </thead>\n",
       "  <tbody>\n",
       "    <tr>\n",
       "      <th>0</th>\n",
       "      <td>0: All Days (M-Su)</td>\n",
       "      <td>05: 4am (4am-5am)</td>\n",
       "      <td>20.900000</td>\n",
       "      <td>May</td>\n",
       "      <td>19.0</td>\n",
       "      <td>5.0</td>\n",
       "      <td>0.0</td>\n",
       "      <td>4.0</td>\n",
       "      <td>19504</td>\n",
       "      <td>44.160541</td>\n",
       "      <td>41.684054</td>\n",
       "      <td>41.785135</td>\n",
       "      <td>47.123514</td>\n",
       "      <td>1013.972973</td>\n",
       "      <td>80.459459</td>\n",
       "      <td>8.33</td>\n",
       "      <td>4.962162</td>\n",
       "      <td>8.444483</td>\n",
       "    </tr>\n",
       "    <tr>\n",
       "      <th>1</th>\n",
       "      <td>0: All Days (M-Su)</td>\n",
       "      <td>10: 9am (9am-10am)</td>\n",
       "      <td>27.066667</td>\n",
       "      <td>May</td>\n",
       "      <td>19.0</td>\n",
       "      <td>5.0</td>\n",
       "      <td>0.0</td>\n",
       "      <td>9.0</td>\n",
       "      <td>19509</td>\n",
       "      <td>42.815676</td>\n",
       "      <td>39.944324</td>\n",
       "      <td>40.171351</td>\n",
       "      <td>45.736216</td>\n",
       "      <td>1013.216216</td>\n",
       "      <td>83.162162</td>\n",
       "      <td>6.70</td>\n",
       "      <td>5.323243</td>\n",
       "      <td>8.185625</td>\n",
       "    </tr>\n",
       "    <tr>\n",
       "      <th>2</th>\n",
       "      <td>0: All Days (M-Su)</td>\n",
       "      <td>11: 10am (10am-11am)</td>\n",
       "      <td>14.066667</td>\n",
       "      <td>May</td>\n",
       "      <td>19.0</td>\n",
       "      <td>5.0</td>\n",
       "      <td>0.0</td>\n",
       "      <td>10.0</td>\n",
       "      <td>195010</td>\n",
       "      <td>42.677429</td>\n",
       "      <td>39.514571</td>\n",
       "      <td>39.947143</td>\n",
       "      <td>45.499429</td>\n",
       "      <td>1014.457143</td>\n",
       "      <td>83.885714</td>\n",
       "      <td>6.07</td>\n",
       "      <td>5.592286</td>\n",
       "      <td>10.117692</td>\n",
       "    </tr>\n",
       "    <tr>\n",
       "      <th>3</th>\n",
       "      <td>0: All Days (M-Su)</td>\n",
       "      <td>12: 11am (11am-12noon)</td>\n",
       "      <td>20.900000</td>\n",
       "      <td>May</td>\n",
       "      <td>19.0</td>\n",
       "      <td>5.0</td>\n",
       "      <td>0.0</td>\n",
       "      <td>11.0</td>\n",
       "      <td>195011</td>\n",
       "      <td>44.346970</td>\n",
       "      <td>41.048182</td>\n",
       "      <td>42.161515</td>\n",
       "      <td>47.028182</td>\n",
       "      <td>1014.696970</td>\n",
       "      <td>79.393939</td>\n",
       "      <td>6.22</td>\n",
       "      <td>6.637273</td>\n",
       "      <td>10.064839</td>\n",
       "    </tr>\n",
       "    <tr>\n",
       "      <th>4</th>\n",
       "      <td>0: All Days (M-Su)</td>\n",
       "      <td>13: 12pm (12noon-1pm)</td>\n",
       "      <td>9.966667</td>\n",
       "      <td>May</td>\n",
       "      <td>19.0</td>\n",
       "      <td>5.0</td>\n",
       "      <td>0.0</td>\n",
       "      <td>12.0</td>\n",
       "      <td>195012</td>\n",
       "      <td>46.348750</td>\n",
       "      <td>43.662500</td>\n",
       "      <td>44.130000</td>\n",
       "      <td>49.299063</td>\n",
       "      <td>1014.937500</td>\n",
       "      <td>76.593750</td>\n",
       "      <td>4.51</td>\n",
       "      <td>6.826875</td>\n",
       "      <td>10.668000</td>\n",
       "    </tr>\n",
       "  </tbody>\n",
       "</table>\n",
       "</div>"
      ],
      "text/plain": [
       "             Day Type                Day Part  Avg Trip Time (min) Month  \\\n",
       "0  0: All Days (M-Su)       05: 4am (4am-5am)            20.900000   May   \n",
       "1  0: All Days (M-Su)      10: 9am (9am-10am)            27.066667   May   \n",
       "2  0: All Days (M-Su)    11: 10am (10am-11am)            14.066667   May   \n",
       "3  0: All Days (M-Su)  12: 11am (11am-12noon)            20.900000   May   \n",
       "4  0: All Days (M-Su)   13: 12pm (12noon-1pm)             9.966667   May   \n",
       "\n",
       "   Year  Month.1  Day  Time  Check_Flag  Average of temp  \\\n",
       "0  19.0      5.0  0.0   4.0       19504        44.160541   \n",
       "1  19.0      5.0  0.0   9.0       19509        42.815676   \n",
       "2  19.0      5.0  0.0  10.0      195010        42.677429   \n",
       "3  19.0      5.0  0.0  11.0      195011        44.346970   \n",
       "4  19.0      5.0  0.0  12.0      195012        46.348750   \n",
       "\n",
       "   Average of feels_like  Average of temp_min  Average of temp_max  \\\n",
       "0              41.684054            41.785135            47.123514   \n",
       "1              39.944324            40.171351            45.736216   \n",
       "2              39.514571            39.947143            45.499429   \n",
       "3              41.048182            42.161515            47.028182   \n",
       "4              43.662500            44.130000            49.299063   \n",
       "\n",
       "   Average of pressure  Average of humidity  Sum of rain_1h  \\\n",
       "0          1013.972973            80.459459            8.33   \n",
       "1          1013.216216            83.162162            6.70   \n",
       "2          1014.457143            83.885714            6.07   \n",
       "3          1014.696970            79.393939            6.22   \n",
       "4          1014.937500            76.593750            4.51   \n",
       "\n",
       "   Average of wind_speed  Average of wind_gust  \n",
       "0               4.962162              8.444483  \n",
       "1               5.323243              8.185625  \n",
       "2               5.592286             10.117692  \n",
       "3               6.637273             10.064839  \n",
       "4               6.826875             10.668000  "
      ]
     },
     "execution_count": 3,
     "metadata": {},
     "output_type": "execute_result"
    }
   ],
   "source": [
    "df.head()"
   ]
  },
  {
   "cell_type": "markdown",
   "id": "01aee98e",
   "metadata": {},
   "source": [
    "### 1.1 Data Cleaning"
   ]
  },
  {
   "cell_type": "code",
   "execution_count": 4,
   "id": "9456269b",
   "metadata": {},
   "outputs": [],
   "source": [
    "# df[\"Month.1\"].unique()"
   ]
  },
  {
   "cell_type": "code",
   "execution_count": 5,
   "id": "00dc26e9",
   "metadata": {},
   "outputs": [],
   "source": [
    "# df[\"is_summer\"] = 0"
   ]
  },
  {
   "cell_type": "code",
   "execution_count": 6,
   "id": "f625e23e",
   "metadata": {},
   "outputs": [],
   "source": [
    "# for i in range(0, len(df)):\n",
    "#     if df.loc[i, \"Month.1\"] in [6,7,8]:\n",
    "#         df.loc[i, \"is_summer\"] =1"
   ]
  },
  {
   "cell_type": "code",
   "execution_count": 7,
   "id": "672e9bee",
   "metadata": {},
   "outputs": [
    {
     "data": {
      "text/plain": [
       "array(['0: All Days (M-Su)', '1: Monday (M-M)', '2: Tuesday (Tu-Tu)',\n",
       "       '3: Wednesday (W-W)', '4: Thursday (Th-Th)', '6: Saturday (Sa-Sa)',\n",
       "       '7: Sunday (Su-Su)', '5: Friday (F-F)'], dtype=object)"
      ]
     },
     "execution_count": 7,
     "metadata": {},
     "output_type": "execute_result"
    }
   ],
   "source": [
    "df[\"Day Type\"].unique()"
   ]
  },
  {
   "cell_type": "code",
   "execution_count": 8,
   "id": "f93a7ec2",
   "metadata": {},
   "outputs": [],
   "source": [
    "df[\"Tuesday\"] = 0\n",
    "df[\"Wednesday\"] = 0\n",
    "df[\"Thursday\"] =0 \n",
    "df[\"Friday\"] =0 \n",
    "df[\"Saturday\"] = 0 \n",
    "df[\"Sunday\"] = 0"
   ]
  },
  {
   "cell_type": "code",
   "execution_count": 9,
   "id": "022c2834",
   "metadata": {},
   "outputs": [],
   "source": [
    "for i in range(0, len(df)):\n",
    "    if df.loc[i, \"Day Type\"] == '7: Sunday (Su-Su)':\n",
    "        df.loc[i, \"Sunday\"] =1\n",
    "    elif df.loc[i, \"Day Type\"] == '2: Tuesday (Tu-Tu)':\n",
    "        df.loc[i, \"Tuesday\"] = 1\n",
    "    elif df.loc[i, \"Day Type\"] == '3: Wednesday (W-W)':\n",
    "        df.loc[i, \"Wednesday\"] = 1\n",
    "    elif df.loc[i, \"Day Type\"] == '4: Thursday (Th-Th)':\n",
    "        df.loc[i, \"Thursday\"] = 1\n",
    "    elif df.loc[i, \"Day Type\"] == '5: Friday (F-F)':\n",
    "        df.loc[i, \"Friday\"] = 1\n",
    "    elif df.loc[i, \"Day Type\"] == '6: Saturday (Sa-Sa)':\n",
    "        df.loc[i, \"Saturday\"] = 1"
   ]
  },
  {
   "cell_type": "code",
   "execution_count": 10,
   "id": "cc25823a",
   "metadata": {},
   "outputs": [],
   "source": [
    "drop_list = [\"Day Type\", \"Day Part\", \"Month\", \"Check_Flag\", \"Day\", \"Average of feels_like\",\n",
    "             \"Average of temp_min\", \"Average of temp_max\", \"Average of wind_speed\"]"
   ]
  },
  {
   "cell_type": "code",
   "execution_count": 11,
   "id": "1b23801f",
   "metadata": {},
   "outputs": [],
   "source": [
    "df = df.drop(drop_list, axis=1)"
   ]
  },
  {
   "cell_type": "code",
   "execution_count": 12,
   "id": "66400aff",
   "metadata": {},
   "outputs": [],
   "source": [
    "# df[\"Time\"] #I'm going to leave time for now...."
   ]
  },
  {
   "cell_type": "code",
   "execution_count": 13,
   "id": "cb3766a9",
   "metadata": {},
   "outputs": [],
   "source": [
    "#Find and replace NaN values:\n",
    "is_NaN = df.isnull()\n",
    "row_has_NaN = is_NaN.any(axis=1)\n",
    "rows_with_NaN = df[row_has_NaN]"
   ]
  },
  {
   "cell_type": "code",
   "execution_count": 14,
   "id": "02e16dfc",
   "metadata": {},
   "outputs": [
    {
     "data": {
      "text/html": [
       "<div>\n",
       "<style scoped>\n",
       "    .dataframe tbody tr th:only-of-type {\n",
       "        vertical-align: middle;\n",
       "    }\n",
       "\n",
       "    .dataframe tbody tr th {\n",
       "        vertical-align: top;\n",
       "    }\n",
       "\n",
       "    .dataframe thead th {\n",
       "        text-align: right;\n",
       "    }\n",
       "</style>\n",
       "<table border=\"1\" class=\"dataframe\">\n",
       "  <thead>\n",
       "    <tr style=\"text-align: right;\">\n",
       "      <th></th>\n",
       "      <th>Avg Trip Time (min)</th>\n",
       "      <th>Year</th>\n",
       "      <th>Month.1</th>\n",
       "      <th>Time</th>\n",
       "      <th>Average of temp</th>\n",
       "      <th>Average of pressure</th>\n",
       "      <th>Average of humidity</th>\n",
       "      <th>Sum of rain_1h</th>\n",
       "      <th>Average of wind_gust</th>\n",
       "      <th>Tuesday</th>\n",
       "      <th>Wednesday</th>\n",
       "      <th>Thursday</th>\n",
       "      <th>Friday</th>\n",
       "      <th>Saturday</th>\n",
       "      <th>Sunday</th>\n",
       "    </tr>\n",
       "  </thead>\n",
       "  <tbody>\n",
       "  </tbody>\n",
       "</table>\n",
       "</div>"
      ],
      "text/plain": [
       "Empty DataFrame\n",
       "Columns: [Avg Trip Time (min), Year, Month.1, Time, Average of temp, Average of pressure, Average of humidity, Sum of rain_1h, Average of wind_gust, Tuesday, Wednesday, Thursday, Friday, Saturday, Sunday]\n",
       "Index: []"
      ]
     },
     "execution_count": 14,
     "metadata": {},
     "output_type": "execute_result"
    }
   ],
   "source": [
    "rows_with_NaN #all good!"
   ]
  },
  {
   "cell_type": "code",
   "execution_count": 15,
   "id": "cc81902f",
   "metadata": {},
   "outputs": [],
   "source": [
    "to_drop = [i for i in range(0, len(df)) if (df.loc[i, \"Avg Trip Time (min)\"] > 60 or df.loc[i, \"Avg Trip Time (min)\" ] < 5)]"
   ]
  },
  {
   "cell_type": "code",
   "execution_count": 16,
   "id": "edc9b536",
   "metadata": {},
   "outputs": [],
   "source": [
    "df = df.drop(to_drop, axis=0).reset_index(drop=True)"
   ]
  },
  {
   "cell_type": "markdown",
   "id": "22f59bec",
   "metadata": {},
   "source": [
    "### 1.2 Checking y-range"
   ]
  },
  {
   "cell_type": "code",
   "execution_count": 17,
   "id": "7de05217",
   "metadata": {},
   "outputs": [
    {
     "name": "stdout",
     "output_type": "stream",
     "text": [
      "5.0\n",
      "23.809308692579044\n",
      "60.0\n"
     ]
    }
   ],
   "source": [
    "print(min(df[\"Avg Trip Time (min)\"]))\n",
    "print(np.mean(df[\"Avg Trip Time (min)\"]))\n",
    "print(max(df[\"Avg Trip Time (min)\"]))"
   ]
  },
  {
   "cell_type": "code",
   "execution_count": 18,
   "id": "4987a63a",
   "metadata": {},
   "outputs": [
    {
     "data": {
      "image/png": "[encoded data removed]",
      "text/plain": [
       "<Figure size 720x504 with 1 Axes>"
      ]
     },
     "metadata": {
      "needs_background": "light"
     },
     "output_type": "display_data"
    }
   ],
   "source": [
    "fig = plt.figure(figsize =(10, 7))\n",
    "# Creating plot\n",
    "plt.boxplot(df[\"Avg Trip Time (min)\"])\n",
    "# show plot\n",
    "plt.show()"
   ]
  },
  {
   "cell_type": "markdown",
   "id": "f01aec6c",
   "metadata": {},
   "source": [
    "### 1.3 Data Splitting"
   ]
  },
  {
   "cell_type": "code",
   "execution_count": 19,
   "id": "e9b0f8a2",
   "metadata": {},
   "outputs": [],
   "source": [
    "from sklearn.model_selection import train_test_split"
   ]
  },
  {
   "cell_type": "code",
   "execution_count": 20,
   "id": "3cd1d4bb",
   "metadata": {},
   "outputs": [],
   "source": [
    "columns_for_modeling = [i for i in df.columns if i != \"Avg Trip Time (min)\"]"
   ]
  },
  {
   "cell_type": "code",
   "execution_count": 21,
   "id": "cdf00d9c",
   "metadata": {},
   "outputs": [],
   "source": [
    "#Main split for training and splitting:\n",
    "x_train, x_test, y_train, y_test = train_test_split(df[columns_for_modeling], df[\"Avg Trip Time (min)\"], test_size=0.33)"
   ]
  },
  {
   "cell_type": "code",
   "execution_count": 22,
   "id": "10d796a5",
   "metadata": {},
   "outputs": [],
   "source": [
    "#Second split for parameter tuning:\n",
    "x_train_1, x_test_val, y_train_1, y_test_val = train_test_split(x_train, y_train, test_size=0.33)"
   ]
  },
  {
   "cell_type": "code",
   "execution_count": 23,
   "id": "4f7121b3",
   "metadata": {},
   "outputs": [
    {
     "data": {
      "text/plain": [
       "Index(['Year', 'Month.1', 'Time', 'Average of temp', 'Average of pressure',\n",
       "       'Average of humidity', 'Sum of rain_1h', 'Average of wind_gust',\n",
       "       'Tuesday', 'Wednesday', 'Thursday', 'Friday', 'Saturday', 'Sunday'],\n",
       "      dtype='object')"
      ]
     },
     "execution_count": 23,
     "metadata": {},
     "output_type": "execute_result"
    }
   ],
   "source": [
    "x_train_1.columns"
   ]
  },
  {
   "cell_type": "markdown",
   "id": "bfde257d",
   "metadata": {},
   "source": [
    "# 2.  Linear Regression"
   ]
  },
  {
   "cell_type": "code",
   "execution_count": 24,
   "id": "0990c7c8",
   "metadata": {},
   "outputs": [],
   "source": [
    "from sklearn.linear_model import LinearRegression, Ridge, Lasso, RidgeCV"
   ]
  },
  {
   "cell_type": "markdown",
   "id": "15ec0766",
   "metadata": {},
   "source": [
    "### 2.1 Linear"
   ]
  },
  {
   "cell_type": "code",
   "execution_count": 25,
   "id": "959a549b",
   "metadata": {},
   "outputs": [],
   "source": [
    "reg = LinearRegression().fit(x_train, y_train)"
   ]
  },
  {
   "cell_type": "code",
   "execution_count": 26,
   "id": "bdadd50f",
   "metadata": {
    "scrolled": true
   },
   "outputs": [
    {
     "data": {
      "text/plain": [
       "0.05317036982276413"
      ]
     },
     "execution_count": 26,
     "metadata": {},
     "output_type": "execute_result"
    }
   ],
   "source": [
    "reg.score(x_train, y_train)"
   ]
  },
  {
   "cell_type": "code",
   "execution_count": 27,
   "id": "50b6af18",
   "metadata": {},
   "outputs": [],
   "source": [
    "pred  = reg.predict(x_test)"
   ]
  },
  {
   "cell_type": "code",
   "execution_count": 28,
   "id": "a581aff5",
   "metadata": {},
   "outputs": [
    {
     "data": {
      "text/plain": [
       "11.07497344471895"
      ]
     },
     "execution_count": 28,
     "metadata": {},
     "output_type": "execute_result"
    }
   ],
   "source": [
    "mean_squared_error(pred, y_test, squared = False)"
   ]
  },
  {
   "cell_type": "code",
   "execution_count": 29,
   "id": "cd589b9d",
   "metadata": {},
   "outputs": [
    {
     "data": {
      "text/plain": [
       "{'copy_X': True,\n",
       " 'fit_intercept': True,\n",
       " 'n_jobs': None,\n",
       " 'normalize': False,\n",
       " 'positive': False}"
      ]
     },
     "execution_count": 29,
     "metadata": {},
     "output_type": "execute_result"
    }
   ],
   "source": [
    "reg.get_params()"
   ]
  },
  {
   "cell_type": "code",
   "execution_count": 30,
   "id": "be3b01b8",
   "metadata": {},
   "outputs": [],
   "source": [
    "import statsmodels.api as sm\n",
    "from scipy import stats"
   ]
  },
  {
   "cell_type": "code",
   "execution_count": 31,
   "id": "edb435c4",
   "metadata": {
    "scrolled": false
   },
   "outputs": [
    {
     "name": "stdout",
     "output_type": "stream",
     "text": [
      "                                 OLS Regression Results                                 \n",
      "========================================================================================\n",
      "Dep. Variable:     Avg Trip Time (min)   R-squared (uncentered):                   0.821\n",
      "Model:                             OLS   Adj. R-squared (uncentered):              0.818\n",
      "Method:                  Least Squares   F-statistic:                              315.2\n",
      "Date:                 Tue, 05 Apr 2022   Prob (F-statistic):                        0.00\n",
      "Time:                         20:41:52   Log-Likelihood:                         -3752.2\n",
      "No. Observations:                  978   AIC:                                      7532.\n",
      "Df Residuals:                      964   BIC:                                      7601.\n",
      "Df Model:                           14                                                  \n",
      "Covariance Type:             nonrobust                                                  \n",
      "========================================================================================\n",
      "                           coef    std err          t      P>|t|      [0.025      0.975]\n",
      "----------------------------------------------------------------------------------------\n",
      "Year                     1.6072      0.481      3.340      0.001       0.663       2.552\n",
      "Month.1                 -0.1285      0.262     -0.491      0.624      -0.642       0.385\n",
      "Time                    -0.1810      0.138     -1.310      0.191      -0.452       0.090\n",
      "Average of temp          0.1440      0.052      2.748      0.006       0.041       0.247\n",
      "Average of pressure     -0.0212      0.010     -2.210      0.027      -0.040      -0.002\n",
      "Average of humidity      0.1015      0.052      1.968      0.049       0.000       0.203\n",
      "Sum of rain_1h          -0.0002      0.064     -0.004      0.997      -0.126       0.126\n",
      "Average of wind_gust    -0.0317      0.079     -0.401      0.689      -0.187       0.124\n",
      "Tuesday                 -0.8766      1.310     -0.669      0.504      -3.448       1.694\n",
      "Wednesday               -0.1650      1.302     -0.127      0.899      -2.721       2.391\n",
      "Thursday                 0.7309      1.240      0.590      0.556      -1.702       3.164\n",
      "Friday                  -0.4884      1.275     -0.383      0.702      -2.990       2.013\n",
      "Saturday                 1.7088      1.282      1.333      0.183      -0.807       4.225\n",
      "Sunday                  -1.3156      1.283     -1.025      0.306      -3.834       1.203\n",
      "==============================================================================\n",
      "Omnibus:                       80.154   Durbin-Watson:                   2.038\n",
      "Prob(Omnibus):                  0.000   Jarque-Bera (JB):               98.176\n",
      "Skew:                           0.756   Prob(JB):                     4.80e-22\n",
      "Kurtosis:                       3.347   Cond. No.                     5.80e+03\n",
      "==============================================================================\n",
      "\n",
      "Notes:\n",
      "[1] R² is computed without centering (uncentered) since the model does not contain a constant.\n",
      "[2] Standard Errors assume that the covariance matrix of the errors is correctly specified.\n",
      "[3] The condition number is large, 5.8e+03. This might indicate that there are\n",
      "strong multicollinearity or other numerical problems.\n"
     ]
    }
   ],
   "source": [
    "est = sm.OLS(y_train, x_train)\n",
    "est2 = est.fit()\n",
    "print(est2.summary())"
   ]
  },
  {
   "cell_type": "code",
   "execution_count": 32,
   "id": "292a2da0",
   "metadata": {},
   "outputs": [],
   "source": [
    "pred = est2.predict(x_test)"
   ]
  },
  {
   "cell_type": "code",
   "execution_count": null,
   "id": "e36d6b0d",
   "metadata": {},
   "outputs": [],
   "source": [
    "mean_squared_error(pred, y_test, squared = False)"
   ]
  },
  {
   "cell_type": "markdown",
   "id": "54c2cb5a",
   "metadata": {},
   "source": [
    "### 2.2 Ridge"
   ]
  },
  {
   "cell_type": "code",
   "execution_count": null,
   "id": "2e7932ef",
   "metadata": {},
   "outputs": [],
   "source": [
    "model = Ridge(alpha=1.0)\n",
    "model.fit(x_train, y_train)"
   ]
  },
  {
   "cell_type": "code",
   "execution_count": null,
   "id": "90607637",
   "metadata": {},
   "outputs": [],
   "source": [
    "pred = model.predict(x_test)"
   ]
  },
  {
   "cell_type": "code",
   "execution_count": null,
   "id": "d8333054",
   "metadata": {},
   "outputs": [],
   "source": [
    "mean_squared_error(pred, y_test, squared = False)"
   ]
  },
  {
   "cell_type": "markdown",
   "id": "491cc4ed",
   "metadata": {},
   "source": [
    "### 2.2.1 Optimal alpha for Ridge"
   ]
  },
  {
   "cell_type": "code",
   "execution_count": null,
   "id": "e5037f64",
   "metadata": {},
   "outputs": [],
   "source": [
    "alphas = np.linspace(0,.5,11)"
   ]
  },
  {
   "cell_type": "code",
   "execution_count": null,
   "id": "6735eeea",
   "metadata": {},
   "outputs": [],
   "source": [
    "fits = []\n",
    "for alpha in alphas:\n",
    "    model = Ridge(alpha=alpha)\n",
    "    model.fit(x_train_1, y_train_1)\n",
    "    pred = model.predict(x_test_val)\n",
    "    test_pred = model.predict(x_train_1)\n",
    "    res = [mean_squared_error(pred, y_test_val, squared = False),mean_squared_error(test_pred, y_train_1, squared = False)]\n",
    "    fits.append(res)"
   ]
  },
  {
   "cell_type": "code",
   "execution_count": null,
   "id": "aaef877a",
   "metadata": {
    "scrolled": true
   },
   "outputs": [],
   "source": [
    "val_scores = [i[0] for i in fits]\n",
    "train_scores = [i[1] for i in fits]\n",
    "\n",
    "fig, ax = plt.subplots()\n",
    "ax.set_xlabel(\"Tree Depth\")\n",
    "ax.set_ylabel(\"accuracy\")\n",
    "ax.set_title(\"Accuracy vs Tree Depth for Training and Vaidation Sets\")\n",
    "ax.plot(alphas, train_scores, marker=\"o\", label=\"train\", drawstyle=\"steps-post\")\n",
    "ax.plot(alphas, val_scores, marker=\"o\", label=\"validation\", drawstyle=\"steps-post\")\n",
    "ax.legend()\n",
    "plt.show()\n",
    "\n",
    "#Nothing interesting, rip"
   ]
  },
  {
   "cell_type": "markdown",
   "id": "db480838",
   "metadata": {},
   "source": [
    "### 2.2.2 RidgeCV"
   ]
  },
  {
   "cell_type": "code",
   "execution_count": null,
   "id": "252c92ec",
   "metadata": {},
   "outputs": [],
   "source": [
    "model = RidgeCV(alphas=[1e-3, 1e-2, 1e-1, 1]).fit(x_train, y_train)"
   ]
  },
  {
   "cell_type": "code",
   "execution_count": null,
   "id": "78140a0c",
   "metadata": {},
   "outputs": [],
   "source": [
    "pred = model.predict(x_test)"
   ]
  },
  {
   "cell_type": "code",
   "execution_count": null,
   "id": "1abd5264",
   "metadata": {},
   "outputs": [],
   "source": [
    "mean_squared_error(pred, y_test, squared = False)"
   ]
  },
  {
   "cell_type": "markdown",
   "id": "9d4e62bd",
   "metadata": {},
   "source": [
    "### 2.3 Lasso"
   ]
  },
  {
   "cell_type": "code",
   "execution_count": null,
   "id": "61f68527",
   "metadata": {},
   "outputs": [],
   "source": [
    "model = Lasso().fit(x_train, y_train)"
   ]
  },
  {
   "cell_type": "code",
   "execution_count": null,
   "id": "8f9b1379",
   "metadata": {},
   "outputs": [],
   "source": [
    "pred = model.predict(x_test)"
   ]
  },
  {
   "cell_type": "code",
   "execution_count": null,
   "id": "2485dad9",
   "metadata": {},
   "outputs": [],
   "source": [
    "mean_squared_error(pred, y_test, squared = False)"
   ]
  },
  {
   "cell_type": "markdown",
   "id": "5d64bbd2",
   "metadata": {},
   "source": [
    "# 3. Support Vector Regression"
   ]
  },
  {
   "cell_type": "code",
   "execution_count": null,
   "id": "4ea74a8b",
   "metadata": {},
   "outputs": [],
   "source": [
    "from sklearn.svm import SVR\n",
    "from sklearn.pipeline import make_pipeline\n",
    "from sklearn.preprocessing import StandardScaler"
   ]
  },
  {
   "cell_type": "code",
   "execution_count": null,
   "id": "d4aae941",
   "metadata": {},
   "outputs": [],
   "source": [
    "regr = make_pipeline(StandardScaler(), SVR(kernel=\"poly\", C=100, gamma=\"auto\", degree=3, epsilon=0.1, coef0=1))"
   ]
  },
  {
   "cell_type": "code",
   "execution_count": null,
   "id": "e1bdfc97",
   "metadata": {},
   "outputs": [],
   "source": [
    "regr.fit(x_train, y_train)"
   ]
  },
  {
   "cell_type": "code",
   "execution_count": null,
   "id": "b3675a41",
   "metadata": {},
   "outputs": [],
   "source": [
    "pred = regr.predict(x_test)"
   ]
  },
  {
   "cell_type": "code",
   "execution_count": null,
   "id": "bc04b39f",
   "metadata": {},
   "outputs": [],
   "source": [
    "mean_squared_error(y_test, pred, squared=False)"
   ]
  },
  {
   "cell_type": "markdown",
   "id": "96f7a6c4",
   "metadata": {},
   "source": [
    "### 3.2 RBF Kernal"
   ]
  },
  {
   "cell_type": "code",
   "execution_count": null,
   "id": "ea2b0100",
   "metadata": {},
   "outputs": [],
   "source": [
    "svr_rbf = SVR(kernel=\"rbf\", C=100, gamma=0.1, epsilon=0.1)\n",
    "svr_rbf.fit(x_train, y_train)\n",
    "pred_rbf = svr_rbf.predict(x_test)\n",
    "mean_squared_error(y_test, pred_rbf, squared=False)"
   ]
  },
  {
   "cell_type": "markdown",
   "id": "31abad28",
   "metadata": {},
   "source": [
    "### 3.3 Linear Kernal"
   ]
  },
  {
   "cell_type": "code",
   "execution_count": null,
   "id": "ad3ae75d",
   "metadata": {},
   "outputs": [],
   "source": [
    "svr_lin = SVR(kernel=\"linear\", C=100, gamma=\"auto\")\n",
    "svr_lin.fit(x_train, y_train)\n",
    "pred_lin = svr_lin.predict(x_test)\n",
    "mean_squared_error(y_test, pred_lin, squared=False)"
   ]
  },
  {
   "cell_type": "markdown",
   "id": "09565f1e",
   "metadata": {},
   "source": [
    "# Random Forest"
   ]
  },
  {
   "cell_type": "code",
   "execution_count": null,
   "id": "3af4f9c5",
   "metadata": {},
   "outputs": [],
   "source": [
    "from sklearn.ensemble import RandomForestRegressor"
   ]
  },
  {
   "cell_type": "code",
   "execution_count": null,
   "id": "6806eb96",
   "metadata": {},
   "outputs": [],
   "source": [
    "#Most basic model:\n",
    "regr = RandomForestRegressor(random_state=0)\n",
    "regr.fit(x_train, y_train)"
   ]
  },
  {
   "cell_type": "code",
   "execution_count": null,
   "id": "50fc0541",
   "metadata": {},
   "outputs": [],
   "source": [
    "pred = regr.predict(x_test)"
   ]
  },
  {
   "cell_type": "code",
   "execution_count": null,
   "id": "bda7e10a",
   "metadata": {},
   "outputs": [],
   "source": [
    "mean_squared_error(pred, y_test, squared = False)"
   ]
  },
  {
   "cell_type": "code",
   "execution_count": null,
   "id": "5c6e30f9",
   "metadata": {},
   "outputs": [],
   "source": [
    "#Most basic model:\n",
    "regr_1 = RandomForestRegressor(random_state=0, criterion=\"mae\")\n",
    "regr_1.fit(x_train, y_train)"
   ]
  },
  {
   "cell_type": "code",
   "execution_count": null,
   "id": "b85e6838",
   "metadata": {},
   "outputs": [],
   "source": [
    "pred_1 = regr_1.predict(x_test)"
   ]
  },
  {
   "cell_type": "code",
   "execution_count": null,
   "id": "066aef4f",
   "metadata": {},
   "outputs": [],
   "source": [
    "mean_squared_error(pred_1, y_test, squared = False)"
   ]
  },
  {
   "cell_type": "markdown",
   "id": "3bc30027",
   "metadata": {},
   "source": [
    "### 4.2 Fitting for Max Depth"
   ]
  },
  {
   "cell_type": "code",
   "execution_count": null,
   "id": "0751009a",
   "metadata": {},
   "outputs": [],
   "source": [
    "fits = []\n",
    "max_depth = [i for i in range(2, 20)]\n",
    "322.52\n",
    "for depth in max_depth:\n",
    "    fit = RandomForestRegressor(max_depth=depth)\n",
    "    fit.fit(x_train_1, y_train_1)\n",
    "    res = [mean_squared_error(fit.predict(x_train_1), y_train_1, squared = False), mean_squared_error(fit.predict(x_test_val), y_test_val, squared = False)]\n",
    "    fits.append(res)"
   ]
  },
  {
   "cell_type": "code",
   "execution_count": null,
   "id": "2476f715",
   "metadata": {},
   "outputs": [],
   "source": [
    "train_scores = [i[0] for i in fits]\n",
    "val_scores = [i[1] for i in fits]\n",
    "\n",
    "fig, ax = plt.subplots()\n",
    "ax.set_xlabel(\"Tree Depth\")\n",
    "ax.set_ylabel(\"accuracy\")\n",
    "ax.set_title(\"Accuracy vs Tree Depth for Training and Vaidation Sets\")\n",
    "ax.plot(max_depth, train_scores, marker=\"o\", label=\"train\", drawstyle=\"steps-post\")\n",
    "ax.plot(max_depth, val_scores, marker=\"o\", label=\"validation\", drawstyle=\"steps-post\")\n",
    "ax.legend()\n",
    "plt.show()"
   ]
  },
  {
   "cell_type": "code",
   "execution_count": null,
   "id": "3748fa58",
   "metadata": {},
   "outputs": [],
   "source": [
    "fits = []\n",
    "max_depth = [i for i in range(2, 20)]\n",
    "322.52\n",
    "for depth in max_depth:\n",
    "    fit = RandomForestRegressor(max_depth=depth, criterion = 'mae')\n",
    "    fit.fit(x_train_1, y_train_1)\n",
    "    res = [mean_squared_error(fit.predict(x_train_1), y_train_1, squared = False), mean_squared_error(fit.predict(x_test_val), y_test_val, squared = False)]\n",
    "    fits.append(res)"
   ]
  },
  {
   "cell_type": "code",
   "execution_count": null,
   "id": "7b09c9b1",
   "metadata": {},
   "outputs": [],
   "source": [
    "train_scores = [i[0] for i in fits]\n",
    "val_scores = [i[1] for i in fits]\n",
    "\n",
    "fig, ax = plt.subplots()\n",
    "ax.set_xlabel(\"Tree Depth\")\n",
    "ax.set_ylabel(\"accuracy\")\n",
    "ax.set_title(\"Accuracy vs Tree Depth for Training and Vaidation Sets\")\n",
    "ax.plot(max_depth, train_scores, marker=\"o\", label=\"train\", drawstyle=\"steps-post\")\n",
    "ax.plot(max_depth, val_scores, marker=\"o\", label=\"validation\", drawstyle=\"steps-post\")\n",
    "ax.legend()\n",
    "plt.show()"
   ]
  },
  {
   "cell_type": "markdown",
   "id": "c292ebbd",
   "metadata": {},
   "source": [
    "### 4.3 Fitting for Number of Estimators"
   ]
  },
  {
   "cell_type": "code",
   "execution_count": null,
   "id": "bde4f3d6",
   "metadata": {},
   "outputs": [],
   "source": [
    "fits = []\n",
    "estimator_count = [i for i in range(50, 100)]\n",
    "\n",
    "for est in estimator_count:\n",
    "    fit = RandomForestRegressor(n_estimators=est)\n",
    "    fit.fit(x_train_1, y_train_1)\n",
    "    res = [mean_squared_error(fit.predict(x_train_1), y_train_1, squared = False), mean_squared_error(fit.predict(x_test_val), y_test_val, squared = False)]\n",
    "    fits.append(res)"
   ]
  },
  {
   "cell_type": "code",
   "execution_count": null,
   "id": "db15a689",
   "metadata": {},
   "outputs": [],
   "source": [
    "train_scores = [i[0] for i in fits]\n",
    "val_scores = [i[1] for i in fits]\n",
    "\n",
    "fig, ax = plt.subplots()\n",
    "ax.set_xlabel(\"Number of Estimators\")\n",
    "ax.set_ylabel(\"accuracy\")\n",
    "ax.set_title(\"Accuracy vs Number of Estimators for Training and Vaidation Sets\")\n",
    "ax.plot(estimator_count, train_scores, marker=\"o\", label=\"train\", drawstyle=\"steps-post\")\n",
    "ax.plot(estimator_count, val_scores, marker=\"o\", label=\"validation\", drawstyle=\"steps-post\")\n",
    "ax.legend()\n",
    "plt.show()"
   ]
  },
  {
   "cell_type": "code",
   "execution_count": null,
   "id": "87b3de3b",
   "metadata": {},
   "outputs": [],
   "source": [
    "fits = []\n",
    "estimator_count = [i for i in range(50, 100)]\n",
    "\n",
    "for est in estimator_count:\n",
    "    fit = RandomForestRegressor(n_estimators=est, criterion= 'mae')\n",
    "    fit.fit(x_train_1, y_train_1)\n",
    "    res = [mean_squared_error(fit.predict(x_train_1), y_train_1, squared = False), mean_squared_error(fit.predict(x_test_val), y_test_val, squared = False)]\n",
    "    fits.append(res)"
   ]
  },
  {
   "cell_type": "code",
   "execution_count": null,
   "id": "67a0cc0e",
   "metadata": {},
   "outputs": [],
   "source": [
    "train_scores = [i[0] for i in fits]\n",
    "val_scores = [i[1] for i in fits]\n",
    "\n",
    "fig, ax = plt.subplots()\n",
    "ax.set_xlabel(\"Number of Estimators\")\n",
    "ax.set_ylabel(\"accuracy\")\n",
    "ax.set_title(\"Accuracy vs Number of Estimators for Training and Vaidation Sets\")\n",
    "ax.plot(estimator_count, train_scores, marker=\"o\", label=\"train\", drawstyle=\"steps-post\")\n",
    "ax.plot(estimator_count, val_scores, marker=\"o\", label=\"validation\", drawstyle=\"steps-post\")\n",
    "ax.legend()\n",
    "plt.show()"
   ]
  },
  {
   "cell_type": "markdown",
   "id": "f852218f",
   "metadata": {},
   "source": [
    "### 4.4 Fitting for ccp_alpha"
   ]
  },
  {
   "cell_type": "code",
   "execution_count": null,
   "id": "0fd74dd6",
   "metadata": {},
   "outputs": [],
   "source": [
    "np.linspace(0,1,101)"
   ]
  },
  {
   "cell_type": "code",
   "execution_count": null,
   "id": "a4c26f38",
   "metadata": {},
   "outputs": [],
   "source": [
    "fits = []\n",
    "alphas = np.linspace(0,1,11)\n",
    "\n",
    "for alpha in alphas:\n",
    "    fit = RandomForestRegressor(ccp_alpha=alpha)\n",
    "    fit.fit(x_train_1, y_train_1)\n",
    "    res = [mean_squared_error(fit.predict(x_train_1), y_train_1, squared = False), mean_squared_error(fit.predict(x_test_val), y_test_val, squared = False)]\n",
    "    fits.append(res)"
   ]
  },
  {
   "cell_type": "code",
   "execution_count": null,
   "id": "ae9d53db",
   "metadata": {
    "scrolled": false
   },
   "outputs": [],
   "source": [
    "train_scores = [i[0] for i in fits]\n",
    "val_scores = [i[1] for i in fits]\n",
    "\n",
    "fig, ax = plt.subplots()\n",
    "ax.set_xlabel(\"ccp_alpha\")\n",
    "ax.set_ylabel(\"accuracy\")\n",
    "ax.set_title(\"Accuracy vs ccp_alpha for Training and Vaidation Sets\")\n",
    "ax.plot(alphas, train_scores, marker=\"o\", label=\"train\", drawstyle=\"steps-post\")\n",
    "ax.plot(alphas, val_scores, marker=\"o\", label=\"validation\", drawstyle=\"steps-post\")\n",
    "ax.legend()\n",
    "plt.show()"
   ]
  },
  {
   "cell_type": "code",
   "execution_count": null,
   "id": "2399f396",
   "metadata": {},
   "outputs": [],
   "source": [
    "fits = []\n",
    "alphas = np.linspace(0,1,11)\n",
    "\n",
    "for alpha in alphas:\n",
    "    fit = RandomForestRegressor(ccp_alpha=alpha, criterion = 'mae')\n",
    "    fit.fit(x_train_1, y_train_1)\n",
    "    res = [mean_squared_error(fit.predict(x_train_1), y_train_1, squared = False), mean_squared_error(fit.predict(x_test_val), y_test_val, squared = False)]\n",
    "    fits.append(res)"
   ]
  },
  {
   "cell_type": "code",
   "execution_count": null,
   "id": "4a7798cd",
   "metadata": {
    "scrolled": true
   },
   "outputs": [],
   "source": [
    "train_scores = [i[0] for i in fits]\n",
    "val_scores = [i[1] for i in fits]\n",
    "\n",
    "fig, ax = plt.subplots()\n",
    "ax.set_xlabel(\"ccp_alpha\")\n",
    "ax.set_ylabel(\"accuracy\")\n",
    "ax.set_title(\"Accuracy vs ccp_alpha for Training and Vaidation Sets\")\n",
    "ax.plot(alphas, train_scores, marker=\"o\", label=\"train\", drawstyle=\"steps-post\")\n",
    "ax.plot(alphas, val_scores, marker=\"o\", label=\"validation\", drawstyle=\"steps-post\")\n",
    "ax.legend()\n",
    "plt.show()"
   ]
  },
  {
   "cell_type": "code",
   "execution_count": null,
   "id": "11ec601c",
   "metadata": {},
   "outputs": [],
   "source": []
  },
  {
   "cell_type": "code",
   "execution_count": null,
   "id": "b973e7e8",
   "metadata": {},
   "outputs": [],
   "source": []
  }
 ],
 "metadata": {
  "kernelspec": {
   "display_name": "Python 3 (ipykernel)",
   "language": "python",
   "name": "python3"
  },
  "language_info": {
   "codemirror_mode": {
    "name": "ipython",
    "version": 3
   },
   "file_extension": ".py",
   "mimetype": "text/x-python",
   "name": "python",
   "nbconvert_exporter": "python",
   "pygments_lexer": "ipython3",
   "version": "3.9.7"
  }
 },
 "nbformat": 4,
 "nbformat_minor": 5
}
