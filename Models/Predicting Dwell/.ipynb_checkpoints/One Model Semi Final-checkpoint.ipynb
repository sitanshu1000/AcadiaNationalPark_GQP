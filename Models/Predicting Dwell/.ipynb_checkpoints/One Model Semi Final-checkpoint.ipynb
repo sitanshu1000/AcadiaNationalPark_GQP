{
 "cells": [
  {
   "cell_type": "code",
   "execution_count": 1,
   "id": "bf0ed0b8",
   "metadata": {},
   "outputs": [],
   "source": [
    "import numpy as np\n",
    "import pandas as pd\n",
    "import matplotlib.pyplot as plt\n",
    "from sklearn.metrics import mean_squared_error"
   ]
  },
  {
   "cell_type": "code",
   "execution_count": 2,
   "id": "45cb32a9",
   "metadata": {},
   "outputs": [],
   "source": [
    "import joblib\n",
    "import pickle"
   ]
  },
  {
   "cell_type": "markdown",
   "id": "0020a957",
   "metadata": {},
   "source": [
    "# 1. Loading and Cleaning Data"
   ]
  },
  {
   "cell_type": "code",
   "execution_count": 3,
   "id": "0feb374e",
   "metadata": {},
   "outputs": [],
   "source": [
    "df = pd.read_csv(\"dwell_weather_edited.csv\", index_col = \"Unnamed: 0\")"
   ]
  },
  {
   "cell_type": "code",
   "execution_count": 4,
   "id": "b083b003",
   "metadata": {},
   "outputs": [
    {
     "data": {
      "text/html": [
       "<div>\n",
       "<style scoped>\n",
       "    .dataframe tbody tr th:only-of-type {\n",
       "        vertical-align: middle;\n",
       "    }\n",
       "\n",
       "    .dataframe tbody tr th {\n",
       "        vertical-align: top;\n",
       "    }\n",
       "\n",
       "    .dataframe thead th {\n",
       "        text-align: right;\n",
       "    }\n",
       "</style>\n",
       "<table border=\"1\" class=\"dataframe\">\n",
       "  <thead>\n",
       "    <tr style=\"text-align: right;\">\n",
       "      <th></th>\n",
       "      <th>Day Type</th>\n",
       "      <th>Day Part</th>\n",
       "      <th>Avg Trip Time (min)</th>\n",
       "      <th>Month</th>\n",
       "      <th>Year</th>\n",
       "      <th>Month.1</th>\n",
       "      <th>Day</th>\n",
       "      <th>Time</th>\n",
       "      <th>Check_Flag</th>\n",
       "      <th>Average of temp</th>\n",
       "      <th>Average of feels_like</th>\n",
       "      <th>Average of temp_min</th>\n",
       "      <th>Average of temp_max</th>\n",
       "      <th>Average of pressure</th>\n",
       "      <th>Average of humidity</th>\n",
       "      <th>Sum of rain_1h</th>\n",
       "      <th>Average of wind_speed</th>\n",
       "      <th>Average of wind_gust</th>\n",
       "    </tr>\n",
       "  </thead>\n",
       "  <tbody>\n",
       "    <tr>\n",
       "      <th>0</th>\n",
       "      <td>0: All Days (M-Su)</td>\n",
       "      <td>05: 4am (4am-5am)</td>\n",
       "      <td>20.900000</td>\n",
       "      <td>May</td>\n",
       "      <td>19.0</td>\n",
       "      <td>5.0</td>\n",
       "      <td>0.0</td>\n",
       "      <td>4.0</td>\n",
       "      <td>19504</td>\n",
       "      <td>44.160541</td>\n",
       "      <td>41.684054</td>\n",
       "      <td>41.785135</td>\n",
       "      <td>47.123514</td>\n",
       "      <td>1013.972973</td>\n",
       "      <td>80.459459</td>\n",
       "      <td>8.33</td>\n",
       "      <td>4.962162</td>\n",
       "      <td>8.444483</td>\n",
       "    </tr>\n",
       "    <tr>\n",
       "      <th>1</th>\n",
       "      <td>0: All Days (M-Su)</td>\n",
       "      <td>10: 9am (9am-10am)</td>\n",
       "      <td>27.066667</td>\n",
       "      <td>May</td>\n",
       "      <td>19.0</td>\n",
       "      <td>5.0</td>\n",
       "      <td>0.0</td>\n",
       "      <td>9.0</td>\n",
       "      <td>19509</td>\n",
       "      <td>42.815676</td>\n",
       "      <td>39.944324</td>\n",
       "      <td>40.171351</td>\n",
       "      <td>45.736216</td>\n",
       "      <td>1013.216216</td>\n",
       "      <td>83.162162</td>\n",
       "      <td>6.70</td>\n",
       "      <td>5.323243</td>\n",
       "      <td>8.185625</td>\n",
       "    </tr>\n",
       "    <tr>\n",
       "      <th>2</th>\n",
       "      <td>0: All Days (M-Su)</td>\n",
       "      <td>11: 10am (10am-11am)</td>\n",
       "      <td>14.066667</td>\n",
       "      <td>May</td>\n",
       "      <td>19.0</td>\n",
       "      <td>5.0</td>\n",
       "      <td>0.0</td>\n",
       "      <td>10.0</td>\n",
       "      <td>195010</td>\n",
       "      <td>42.677429</td>\n",
       "      <td>39.514571</td>\n",
       "      <td>39.947143</td>\n",
       "      <td>45.499429</td>\n",
       "      <td>1014.457143</td>\n",
       "      <td>83.885714</td>\n",
       "      <td>6.07</td>\n",
       "      <td>5.592286</td>\n",
       "      <td>10.117692</td>\n",
       "    </tr>\n",
       "    <tr>\n",
       "      <th>3</th>\n",
       "      <td>0: All Days (M-Su)</td>\n",
       "      <td>12: 11am (11am-12noon)</td>\n",
       "      <td>20.900000</td>\n",
       "      <td>May</td>\n",
       "      <td>19.0</td>\n",
       "      <td>5.0</td>\n",
       "      <td>0.0</td>\n",
       "      <td>11.0</td>\n",
       "      <td>195011</td>\n",
       "      <td>44.346970</td>\n",
       "      <td>41.048182</td>\n",
       "      <td>42.161515</td>\n",
       "      <td>47.028182</td>\n",
       "      <td>1014.696970</td>\n",
       "      <td>79.393939</td>\n",
       "      <td>6.22</td>\n",
       "      <td>6.637273</td>\n",
       "      <td>10.064839</td>\n",
       "    </tr>\n",
       "    <tr>\n",
       "      <th>4</th>\n",
       "      <td>0: All Days (M-Su)</td>\n",
       "      <td>13: 12pm (12noon-1pm)</td>\n",
       "      <td>9.966667</td>\n",
       "      <td>May</td>\n",
       "      <td>19.0</td>\n",
       "      <td>5.0</td>\n",
       "      <td>0.0</td>\n",
       "      <td>12.0</td>\n",
       "      <td>195012</td>\n",
       "      <td>46.348750</td>\n",
       "      <td>43.662500</td>\n",
       "      <td>44.130000</td>\n",
       "      <td>49.299063</td>\n",
       "      <td>1014.937500</td>\n",
       "      <td>76.593750</td>\n",
       "      <td>4.51</td>\n",
       "      <td>6.826875</td>\n",
       "      <td>10.668000</td>\n",
       "    </tr>\n",
       "  </tbody>\n",
       "</table>\n",
       "</div>"
      ],
      "text/plain": [
       "             Day Type                Day Part  Avg Trip Time (min) Month  \\\n",
       "0  0: All Days (M-Su)       05: 4am (4am-5am)            20.900000   May   \n",
       "1  0: All Days (M-Su)      10: 9am (9am-10am)            27.066667   May   \n",
       "2  0: All Days (M-Su)    11: 10am (10am-11am)            14.066667   May   \n",
       "3  0: All Days (M-Su)  12: 11am (11am-12noon)            20.900000   May   \n",
       "4  0: All Days (M-Su)   13: 12pm (12noon-1pm)             9.966667   May   \n",
       "\n",
       "   Year  Month.1  Day  Time  Check_Flag  Average of temp  \\\n",
       "0  19.0      5.0  0.0   4.0       19504        44.160541   \n",
       "1  19.0      5.0  0.0   9.0       19509        42.815676   \n",
       "2  19.0      5.0  0.0  10.0      195010        42.677429   \n",
       "3  19.0      5.0  0.0  11.0      195011        44.346970   \n",
       "4  19.0      5.0  0.0  12.0      195012        46.348750   \n",
       "\n",
       "   Average of feels_like  Average of temp_min  Average of temp_max  \\\n",
       "0              41.684054            41.785135            47.123514   \n",
       "1              39.944324            40.171351            45.736216   \n",
       "2              39.514571            39.947143            45.499429   \n",
       "3              41.048182            42.161515            47.028182   \n",
       "4              43.662500            44.130000            49.299063   \n",
       "\n",
       "   Average of pressure  Average of humidity  Sum of rain_1h  \\\n",
       "0          1013.972973            80.459459            8.33   \n",
       "1          1013.216216            83.162162            6.70   \n",
       "2          1014.457143            83.885714            6.07   \n",
       "3          1014.696970            79.393939            6.22   \n",
       "4          1014.937500            76.593750            4.51   \n",
       "\n",
       "   Average of wind_speed  Average of wind_gust  \n",
       "0               4.962162              8.444483  \n",
       "1               5.323243              8.185625  \n",
       "2               5.592286             10.117692  \n",
       "3               6.637273             10.064839  \n",
       "4               6.826875             10.668000  "
      ]
     },
     "execution_count": 4,
     "metadata": {},
     "output_type": "execute_result"
    }
   ],
   "source": [
    "df.head()"
   ]
  },
  {
   "cell_type": "markdown",
   "id": "01aee98e",
   "metadata": {},
   "source": [
    "### 1.1 Data Cleaning"
   ]
  },
  {
   "cell_type": "code",
   "execution_count": 5,
   "id": "8163c27a",
   "metadata": {},
   "outputs": [],
   "source": [
    "df = df.drop([\"Month\", \"Check_Flag\"], axis=1)"
   ]
  },
  {
   "cell_type": "code",
   "execution_count": 6,
   "id": "191a45f2",
   "metadata": {},
   "outputs": [],
   "source": [
    "df = df.drop(np.where(df[\"Day Type\"] == \"0: All Days (M-Su)\")[0])"
   ]
  },
  {
   "cell_type": "code",
   "execution_count": 7,
   "id": "0d378eda",
   "metadata": {},
   "outputs": [],
   "source": [
    "df = df.reset_index(drop=True)"
   ]
  },
  {
   "cell_type": "code",
   "execution_count": 8,
   "id": "b97297ae",
   "metadata": {},
   "outputs": [],
   "source": [
    "new_df = pd.DataFrame()"
   ]
  },
  {
   "cell_type": "code",
   "execution_count": 9,
   "id": "2318cbc3",
   "metadata": {},
   "outputs": [],
   "source": [
    "for year in df[\"Year\"].unique():\n",
    "    for month in df[\"Month.1\"].unique():\n",
    "        for day in df[\"Day\"].unique():\n",
    "            temp_df = df.loc[np.where((df[\"Year\"] == year) & (df[\"Month.1\"] == month) & (df[\"Day\"] == day))[0], :]\n",
    "            new_row = [day, month, year, temp_df[\"Avg Trip Time (min)\"].mean()] +list(temp_df.loc[:, \"Average of temp\":].mean(skipna=True))\n",
    "            new_df = new_df.append(pd.Series(new_row), ignore_index=True)\n",
    "            "
   ]
  },
  {
   "cell_type": "code",
   "execution_count": 10,
   "id": "0039f8c1",
   "metadata": {},
   "outputs": [],
   "source": [
    "new_df.columns = [\"Day\", \"Month\", \"Year\", 'Avg Trip Time (min)','Average of temp',\n",
    "       'Average of feels_like', 'Average of temp_min', 'Average of temp_max',\n",
    "       'Average of pressure', 'Average of humidity', 'Sum of rain_1h',\n",
    "       'Average of wind_speed', 'Average of wind_gust']"
   ]
  },
  {
   "cell_type": "code",
   "execution_count": 11,
   "id": "5e9dde0a",
   "metadata": {},
   "outputs": [],
   "source": [
    "df = new_df"
   ]
  },
  {
   "cell_type": "code",
   "execution_count": 12,
   "id": "00dc26e9",
   "metadata": {},
   "outputs": [],
   "source": [
    "df[\"is_summer\"] = 0"
   ]
  },
  {
   "cell_type": "code",
   "execution_count": 13,
   "id": "f625e23e",
   "metadata": {},
   "outputs": [],
   "source": [
    "for i in range(0, len(df)):\n",
    "    if df.loc[i, \"Month\"] in [6,7,8]:\n",
    "        df.loc[i, \"is_summer\"] =1"
   ]
  },
  {
   "cell_type": "code",
   "execution_count": 14,
   "id": "9e84852a",
   "metadata": {},
   "outputs": [
    {
     "data": {
      "text/html": [
       "<div>\n",
       "<style scoped>\n",
       "    .dataframe tbody tr th:only-of-type {\n",
       "        vertical-align: middle;\n",
       "    }\n",
       "\n",
       "    .dataframe tbody tr th {\n",
       "        vertical-align: top;\n",
       "    }\n",
       "\n",
       "    .dataframe thead th {\n",
       "        text-align: right;\n",
       "    }\n",
       "</style>\n",
       "<table border=\"1\" class=\"dataframe\">\n",
       "  <thead>\n",
       "    <tr style=\"text-align: right;\">\n",
       "      <th></th>\n",
       "      <th>Day</th>\n",
       "      <th>Month</th>\n",
       "      <th>Year</th>\n",
       "      <th>Avg Trip Time (min)</th>\n",
       "      <th>Average of temp</th>\n",
       "      <th>Average of feels_like</th>\n",
       "      <th>Average of temp_min</th>\n",
       "      <th>Average of temp_max</th>\n",
       "      <th>Average of pressure</th>\n",
       "      <th>Average of humidity</th>\n",
       "      <th>Sum of rain_1h</th>\n",
       "      <th>Average of wind_speed</th>\n",
       "      <th>Average of wind_gust</th>\n",
       "      <th>is_summer</th>\n",
       "    </tr>\n",
       "  </thead>\n",
       "  <tbody>\n",
       "    <tr>\n",
       "      <th>0</th>\n",
       "      <td>1.0</td>\n",
       "      <td>5.0</td>\n",
       "      <td>19.0</td>\n",
       "      <td>17.221429</td>\n",
       "      <td>48.632929</td>\n",
       "      <td>46.856786</td>\n",
       "      <td>45.639643</td>\n",
       "      <td>52.718000</td>\n",
       "      <td>1013.257143</td>\n",
       "      <td>78.792857</td>\n",
       "      <td>1.220000</td>\n",
       "      <td>4.711571</td>\n",
       "      <td>7.659071</td>\n",
       "      <td>0</td>\n",
       "    </tr>\n",
       "    <tr>\n",
       "      <th>1</th>\n",
       "      <td>2.0</td>\n",
       "      <td>5.0</td>\n",
       "      <td>19.0</td>\n",
       "      <td>14.622222</td>\n",
       "      <td>47.245833</td>\n",
       "      <td>43.716167</td>\n",
       "      <td>43.662250</td>\n",
       "      <td>51.279583</td>\n",
       "      <td>1011.608333</td>\n",
       "      <td>68.875000</td>\n",
       "      <td>0.860000</td>\n",
       "      <td>9.016167</td>\n",
       "      <td>14.021528</td>\n",
       "      <td>0</td>\n",
       "    </tr>\n",
       "    <tr>\n",
       "      <th>2</th>\n",
       "      <td>3.0</td>\n",
       "      <td>5.0</td>\n",
       "      <td>19.0</td>\n",
       "      <td>19.761905</td>\n",
       "      <td>44.762667</td>\n",
       "      <td>40.465714</td>\n",
       "      <td>42.134429</td>\n",
       "      <td>47.884905</td>\n",
       "      <td>1016.457143</td>\n",
       "      <td>66.195238</td>\n",
       "      <td>0.364286</td>\n",
       "      <td>8.097714</td>\n",
       "      <td>13.471071</td>\n",
       "      <td>0</td>\n",
       "    </tr>\n",
       "    <tr>\n",
       "      <th>3</th>\n",
       "      <td>4.0</td>\n",
       "      <td>5.0</td>\n",
       "      <td>19.0</td>\n",
       "      <td>23.363636</td>\n",
       "      <td>46.319000</td>\n",
       "      <td>43.705333</td>\n",
       "      <td>42.993364</td>\n",
       "      <td>50.035000</td>\n",
       "      <td>1018.500000</td>\n",
       "      <td>69.436364</td>\n",
       "      <td>0.207273</td>\n",
       "      <td>5.188273</td>\n",
       "      <td>8.200545</td>\n",
       "      <td>0</td>\n",
       "    </tr>\n",
       "    <tr>\n",
       "      <th>4</th>\n",
       "      <td>6.0</td>\n",
       "      <td>5.0</td>\n",
       "      <td>19.0</td>\n",
       "      <td>18.003333</td>\n",
       "      <td>49.428533</td>\n",
       "      <td>47.492883</td>\n",
       "      <td>46.456483</td>\n",
       "      <td>52.701400</td>\n",
       "      <td>1013.138333</td>\n",
       "      <td>79.206667</td>\n",
       "      <td>0.417000</td>\n",
       "      <td>7.170933</td>\n",
       "      <td>11.451233</td>\n",
       "      <td>0</td>\n",
       "    </tr>\n",
       "  </tbody>\n",
       "</table>\n",
       "</div>"
      ],
      "text/plain": [
       "   Day  Month  Year  Avg Trip Time (min)  Average of temp  \\\n",
       "0  1.0    5.0  19.0            17.221429        48.632929   \n",
       "1  2.0    5.0  19.0            14.622222        47.245833   \n",
       "2  3.0    5.0  19.0            19.761905        44.762667   \n",
       "3  4.0    5.0  19.0            23.363636        46.319000   \n",
       "4  6.0    5.0  19.0            18.003333        49.428533   \n",
       "\n",
       "   Average of feels_like  Average of temp_min  Average of temp_max  \\\n",
       "0              46.856786            45.639643            52.718000   \n",
       "1              43.716167            43.662250            51.279583   \n",
       "2              40.465714            42.134429            47.884905   \n",
       "3              43.705333            42.993364            50.035000   \n",
       "4              47.492883            46.456483            52.701400   \n",
       "\n",
       "   Average of pressure  Average of humidity  Sum of rain_1h  \\\n",
       "0          1013.257143            78.792857        1.220000   \n",
       "1          1011.608333            68.875000        0.860000   \n",
       "2          1016.457143            66.195238        0.364286   \n",
       "3          1018.500000            69.436364        0.207273   \n",
       "4          1013.138333            79.206667        0.417000   \n",
       "\n",
       "   Average of wind_speed  Average of wind_gust  is_summer  \n",
       "0               4.711571              7.659071          0  \n",
       "1               9.016167             14.021528          0  \n",
       "2               8.097714             13.471071          0  \n",
       "3               5.188273              8.200545          0  \n",
       "4               7.170933             11.451233          0  "
      ]
     },
     "execution_count": 14,
     "metadata": {},
     "output_type": "execute_result"
    }
   ],
   "source": [
    "df.head()"
   ]
  },
  {
   "cell_type": "code",
   "execution_count": 15,
   "id": "f93a7ec2",
   "metadata": {},
   "outputs": [],
   "source": [
    "df[\"Monday\"] = 0\n",
    "df[\"Tuesday\"] = 0\n",
    "df[\"Wednesday\"] = 0\n",
    "df[\"Thursday\"] = 0 \n",
    "df[\"Friday\"] = 0 \n",
    "df[\"Saturday\"] = 0 \n",
    "df[\"Sunday\"] = 0"
   ]
  },
  {
   "cell_type": "code",
   "execution_count": 16,
   "id": "022c2834",
   "metadata": {},
   "outputs": [],
   "source": [
    "for i in range(0, len(df)):\n",
    "    if df.loc[i, \"Day\"] == 1:\n",
    "        df.loc[i, \"Sunday\"] = 1\n",
    "    elif df.loc[i, \"Day\"] == 2:\n",
    "        df.loc[i, \"Monday\"] = 1\n",
    "    elif df.loc[i, \"Day\"] == 3:\n",
    "        df.loc[i, \"Tuesday\"] = 1\n",
    "    elif df.loc[i, \"Day\"] == 4:\n",
    "        df.loc[i, \"Wednesday\"] = 1\n",
    "    elif df.loc[i, \"Day\"] == 5:\n",
    "        df.loc[i, \"Thursday\"] = 1\n",
    "    elif df.loc[i, \"Day\"] == 6:\n",
    "        df.loc[i, \"Friday\"] = 1\n",
    "    elif df.loc[i, \"Day\"] == 7:\n",
    "        df.loc[i, \"Saturday\"] = 1"
   ]
  },
  {
   "cell_type": "code",
   "execution_count": 17,
   "id": "846fb822",
   "metadata": {},
   "outputs": [
    {
     "data": {
      "text/plain": [
       "Index(['Day', 'Month', 'Year', 'Avg Trip Time (min)', 'Average of temp',\n",
       "       'Average of feels_like', 'Average of temp_min', 'Average of temp_max',\n",
       "       'Average of pressure', 'Average of humidity', 'Sum of rain_1h',\n",
       "       'Average of wind_speed', 'Average of wind_gust', 'is_summer', 'Monday',\n",
       "       'Tuesday', 'Wednesday', 'Thursday', 'Friday', 'Saturday', 'Sunday'],\n",
       "      dtype='object')"
      ]
     },
     "execution_count": 17,
     "metadata": {},
     "output_type": "execute_result"
    }
   ],
   "source": [
    "df.columns"
   ]
  },
  {
   "cell_type": "code",
   "execution_count": 18,
   "id": "1b23801f",
   "metadata": {},
   "outputs": [],
   "source": [
    "df = df.drop([\"Day\"], axis=1)"
   ]
  },
  {
   "cell_type": "code",
   "execution_count": 19,
   "id": "cb3766a9",
   "metadata": {},
   "outputs": [],
   "source": [
    "#Find and replace NaN values:\n",
    "is_NaN = df.isnull()\n",
    "row_has_NaN = is_NaN.any(axis=1)\n",
    "rows_with_NaN = df[row_has_NaN]"
   ]
  },
  {
   "cell_type": "code",
   "execution_count": 20,
   "id": "02e16dfc",
   "metadata": {
    "scrolled": true
   },
   "outputs": [
    {
     "data": {
      "text/html": [
       "<div>\n",
       "<style scoped>\n",
       "    .dataframe tbody tr th:only-of-type {\n",
       "        vertical-align: middle;\n",
       "    }\n",
       "\n",
       "    .dataframe tbody tr th {\n",
       "        vertical-align: top;\n",
       "    }\n",
       "\n",
       "    .dataframe thead th {\n",
       "        text-align: right;\n",
       "    }\n",
       "</style>\n",
       "<table border=\"1\" class=\"dataframe\">\n",
       "  <thead>\n",
       "    <tr style=\"text-align: right;\">\n",
       "      <th></th>\n",
       "      <th>Month</th>\n",
       "      <th>Year</th>\n",
       "      <th>Avg Trip Time (min)</th>\n",
       "      <th>Average of temp</th>\n",
       "      <th>Average of feels_like</th>\n",
       "      <th>Average of temp_min</th>\n",
       "      <th>Average of temp_max</th>\n",
       "      <th>Average of pressure</th>\n",
       "      <th>Average of humidity</th>\n",
       "      <th>Sum of rain_1h</th>\n",
       "      <th>Average of wind_speed</th>\n",
       "      <th>Average of wind_gust</th>\n",
       "      <th>is_summer</th>\n",
       "      <th>Monday</th>\n",
       "      <th>Tuesday</th>\n",
       "      <th>Wednesday</th>\n",
       "      <th>Thursday</th>\n",
       "      <th>Friday</th>\n",
       "      <th>Saturday</th>\n",
       "      <th>Sunday</th>\n",
       "    </tr>\n",
       "  </thead>\n",
       "  <tbody>\n",
       "    <tr>\n",
       "      <th>42</th>\n",
       "      <td>5.0</td>\n",
       "      <td>20.0</td>\n",
       "      <td>NaN</td>\n",
       "      <td>NaN</td>\n",
       "      <td>NaN</td>\n",
       "      <td>NaN</td>\n",
       "      <td>NaN</td>\n",
       "      <td>NaN</td>\n",
       "      <td>NaN</td>\n",
       "      <td>NaN</td>\n",
       "      <td>NaN</td>\n",
       "      <td>NaN</td>\n",
       "      <td>0</td>\n",
       "      <td>0</td>\n",
       "      <td>0</td>\n",
       "      <td>0</td>\n",
       "      <td>0</td>\n",
       "      <td>0</td>\n",
       "      <td>0</td>\n",
       "      <td>1</td>\n",
       "    </tr>\n",
       "    <tr>\n",
       "      <th>43</th>\n",
       "      <td>5.0</td>\n",
       "      <td>20.0</td>\n",
       "      <td>NaN</td>\n",
       "      <td>NaN</td>\n",
       "      <td>NaN</td>\n",
       "      <td>NaN</td>\n",
       "      <td>NaN</td>\n",
       "      <td>NaN</td>\n",
       "      <td>NaN</td>\n",
       "      <td>NaN</td>\n",
       "      <td>NaN</td>\n",
       "      <td>NaN</td>\n",
       "      <td>0</td>\n",
       "      <td>1</td>\n",
       "      <td>0</td>\n",
       "      <td>0</td>\n",
       "      <td>0</td>\n",
       "      <td>0</td>\n",
       "      <td>0</td>\n",
       "      <td>0</td>\n",
       "    </tr>\n",
       "    <tr>\n",
       "      <th>45</th>\n",
       "      <td>5.0</td>\n",
       "      <td>20.0</td>\n",
       "      <td>NaN</td>\n",
       "      <td>NaN</td>\n",
       "      <td>NaN</td>\n",
       "      <td>NaN</td>\n",
       "      <td>NaN</td>\n",
       "      <td>NaN</td>\n",
       "      <td>NaN</td>\n",
       "      <td>NaN</td>\n",
       "      <td>NaN</td>\n",
       "      <td>NaN</td>\n",
       "      <td>0</td>\n",
       "      <td>0</td>\n",
       "      <td>0</td>\n",
       "      <td>1</td>\n",
       "      <td>0</td>\n",
       "      <td>0</td>\n",
       "      <td>0</td>\n",
       "      <td>0</td>\n",
       "    </tr>\n",
       "    <tr>\n",
       "      <th>46</th>\n",
       "      <td>5.0</td>\n",
       "      <td>20.0</td>\n",
       "      <td>NaN</td>\n",
       "      <td>NaN</td>\n",
       "      <td>NaN</td>\n",
       "      <td>NaN</td>\n",
       "      <td>NaN</td>\n",
       "      <td>NaN</td>\n",
       "      <td>NaN</td>\n",
       "      <td>NaN</td>\n",
       "      <td>NaN</td>\n",
       "      <td>NaN</td>\n",
       "      <td>0</td>\n",
       "      <td>0</td>\n",
       "      <td>0</td>\n",
       "      <td>0</td>\n",
       "      <td>0</td>\n",
       "      <td>1</td>\n",
       "      <td>0</td>\n",
       "      <td>0</td>\n",
       "    </tr>\n",
       "    <tr>\n",
       "      <th>47</th>\n",
       "      <td>5.0</td>\n",
       "      <td>20.0</td>\n",
       "      <td>NaN</td>\n",
       "      <td>NaN</td>\n",
       "      <td>NaN</td>\n",
       "      <td>NaN</td>\n",
       "      <td>NaN</td>\n",
       "      <td>NaN</td>\n",
       "      <td>NaN</td>\n",
       "      <td>NaN</td>\n",
       "      <td>NaN</td>\n",
       "      <td>NaN</td>\n",
       "      <td>0</td>\n",
       "      <td>0</td>\n",
       "      <td>0</td>\n",
       "      <td>0</td>\n",
       "      <td>0</td>\n",
       "      <td>0</td>\n",
       "      <td>1</td>\n",
       "      <td>0</td>\n",
       "    </tr>\n",
       "  </tbody>\n",
       "</table>\n",
       "</div>"
      ],
      "text/plain": [
       "    Month  Year  Avg Trip Time (min)  Average of temp  Average of feels_like  \\\n",
       "42    5.0  20.0                  NaN              NaN                    NaN   \n",
       "43    5.0  20.0                  NaN              NaN                    NaN   \n",
       "45    5.0  20.0                  NaN              NaN                    NaN   \n",
       "46    5.0  20.0                  NaN              NaN                    NaN   \n",
       "47    5.0  20.0                  NaN              NaN                    NaN   \n",
       "\n",
       "    Average of temp_min  Average of temp_max  Average of pressure  \\\n",
       "42                  NaN                  NaN                  NaN   \n",
       "43                  NaN                  NaN                  NaN   \n",
       "45                  NaN                  NaN                  NaN   \n",
       "46                  NaN                  NaN                  NaN   \n",
       "47                  NaN                  NaN                  NaN   \n",
       "\n",
       "    Average of humidity  Sum of rain_1h  Average of wind_speed  \\\n",
       "42                  NaN             NaN                    NaN   \n",
       "43                  NaN             NaN                    NaN   \n",
       "45                  NaN             NaN                    NaN   \n",
       "46                  NaN             NaN                    NaN   \n",
       "47                  NaN             NaN                    NaN   \n",
       "\n",
       "    Average of wind_gust  is_summer  Monday  Tuesday  Wednesday  Thursday  \\\n",
       "42                   NaN          0       0        0          0         0   \n",
       "43                   NaN          0       1        0          0         0   \n",
       "45                   NaN          0       0        0          1         0   \n",
       "46                   NaN          0       0        0          0         0   \n",
       "47                   NaN          0       0        0          0         0   \n",
       "\n",
       "    Friday  Saturday  Sunday  \n",
       "42       0         0       1  \n",
       "43       0         0       0  \n",
       "45       0         0       0  \n",
       "46       1         0       0  \n",
       "47       0         1       0  "
      ]
     },
     "execution_count": 20,
     "metadata": {},
     "output_type": "execute_result"
    }
   ],
   "source": [
    "rows_with_NaN "
   ]
  },
  {
   "cell_type": "code",
   "execution_count": 21,
   "id": "c510245d",
   "metadata": {},
   "outputs": [],
   "source": [
    "df = df.drop(df[row_has_NaN].index).reset_index(drop=True)"
   ]
  },
  {
   "cell_type": "code",
   "execution_count": 22,
   "id": "cc81902f",
   "metadata": {},
   "outputs": [],
   "source": [
    "to_drop = [i for i in range(0, len(df)) if (df.loc[i, \"Avg Trip Time (min)\"] > 60 or df.loc[i, \"Avg Trip Time (min)\" ] < 5)]"
   ]
  },
  {
   "cell_type": "code",
   "execution_count": 23,
   "id": "edc9b536",
   "metadata": {},
   "outputs": [],
   "source": [
    "df = df.drop(to_drop, axis=0).reset_index(drop=True)"
   ]
  },
  {
   "cell_type": "code",
   "execution_count": 24,
   "id": "3b26f5d2",
   "metadata": {},
   "outputs": [
    {
     "data": {
      "text/html": [
       "<div>\n",
       "<style scoped>\n",
       "    .dataframe tbody tr th:only-of-type {\n",
       "        vertical-align: middle;\n",
       "    }\n",
       "\n",
       "    .dataframe tbody tr th {\n",
       "        vertical-align: top;\n",
       "    }\n",
       "\n",
       "    .dataframe thead th {\n",
       "        text-align: right;\n",
       "    }\n",
       "</style>\n",
       "<table border=\"1\" class=\"dataframe\">\n",
       "  <thead>\n",
       "    <tr style=\"text-align: right;\">\n",
       "      <th></th>\n",
       "      <th>Month</th>\n",
       "      <th>Year</th>\n",
       "      <th>Avg Trip Time (min)</th>\n",
       "      <th>Average of temp</th>\n",
       "      <th>Average of feels_like</th>\n",
       "      <th>Average of temp_min</th>\n",
       "      <th>Average of temp_max</th>\n",
       "      <th>Average of pressure</th>\n",
       "      <th>Average of humidity</th>\n",
       "      <th>Sum of rain_1h</th>\n",
       "      <th>Average of wind_speed</th>\n",
       "      <th>Average of wind_gust</th>\n",
       "      <th>is_summer</th>\n",
       "      <th>Monday</th>\n",
       "      <th>Tuesday</th>\n",
       "      <th>Wednesday</th>\n",
       "      <th>Thursday</th>\n",
       "      <th>Friday</th>\n",
       "      <th>Saturday</th>\n",
       "      <th>Sunday</th>\n",
       "    </tr>\n",
       "  </thead>\n",
       "  <tbody>\n",
       "    <tr>\n",
       "      <th>0</th>\n",
       "      <td>5.0</td>\n",
       "      <td>19.0</td>\n",
       "      <td>17.221429</td>\n",
       "      <td>48.632929</td>\n",
       "      <td>46.856786</td>\n",
       "      <td>45.639643</td>\n",
       "      <td>52.718000</td>\n",
       "      <td>1013.257143</td>\n",
       "      <td>78.792857</td>\n",
       "      <td>1.220000</td>\n",
       "      <td>4.711571</td>\n",
       "      <td>7.659071</td>\n",
       "      <td>0</td>\n",
       "      <td>0</td>\n",
       "      <td>0</td>\n",
       "      <td>0</td>\n",
       "      <td>0</td>\n",
       "      <td>0</td>\n",
       "      <td>0</td>\n",
       "      <td>1</td>\n",
       "    </tr>\n",
       "    <tr>\n",
       "      <th>1</th>\n",
       "      <td>5.0</td>\n",
       "      <td>19.0</td>\n",
       "      <td>14.622222</td>\n",
       "      <td>47.245833</td>\n",
       "      <td>43.716167</td>\n",
       "      <td>43.662250</td>\n",
       "      <td>51.279583</td>\n",
       "      <td>1011.608333</td>\n",
       "      <td>68.875000</td>\n",
       "      <td>0.860000</td>\n",
       "      <td>9.016167</td>\n",
       "      <td>14.021528</td>\n",
       "      <td>0</td>\n",
       "      <td>1</td>\n",
       "      <td>0</td>\n",
       "      <td>0</td>\n",
       "      <td>0</td>\n",
       "      <td>0</td>\n",
       "      <td>0</td>\n",
       "      <td>0</td>\n",
       "    </tr>\n",
       "    <tr>\n",
       "      <th>2</th>\n",
       "      <td>5.0</td>\n",
       "      <td>19.0</td>\n",
       "      <td>19.761905</td>\n",
       "      <td>44.762667</td>\n",
       "      <td>40.465714</td>\n",
       "      <td>42.134429</td>\n",
       "      <td>47.884905</td>\n",
       "      <td>1016.457143</td>\n",
       "      <td>66.195238</td>\n",
       "      <td>0.364286</td>\n",
       "      <td>8.097714</td>\n",
       "      <td>13.471071</td>\n",
       "      <td>0</td>\n",
       "      <td>0</td>\n",
       "      <td>1</td>\n",
       "      <td>0</td>\n",
       "      <td>0</td>\n",
       "      <td>0</td>\n",
       "      <td>0</td>\n",
       "      <td>0</td>\n",
       "    </tr>\n",
       "    <tr>\n",
       "      <th>3</th>\n",
       "      <td>5.0</td>\n",
       "      <td>19.0</td>\n",
       "      <td>23.363636</td>\n",
       "      <td>46.319000</td>\n",
       "      <td>43.705333</td>\n",
       "      <td>42.993364</td>\n",
       "      <td>50.035000</td>\n",
       "      <td>1018.500000</td>\n",
       "      <td>69.436364</td>\n",
       "      <td>0.207273</td>\n",
       "      <td>5.188273</td>\n",
       "      <td>8.200545</td>\n",
       "      <td>0</td>\n",
       "      <td>0</td>\n",
       "      <td>0</td>\n",
       "      <td>1</td>\n",
       "      <td>0</td>\n",
       "      <td>0</td>\n",
       "      <td>0</td>\n",
       "      <td>0</td>\n",
       "    </tr>\n",
       "    <tr>\n",
       "      <th>4</th>\n",
       "      <td>5.0</td>\n",
       "      <td>19.0</td>\n",
       "      <td>18.003333</td>\n",
       "      <td>49.428533</td>\n",
       "      <td>47.492883</td>\n",
       "      <td>46.456483</td>\n",
       "      <td>52.701400</td>\n",
       "      <td>1013.138333</td>\n",
       "      <td>79.206667</td>\n",
       "      <td>0.417000</td>\n",
       "      <td>7.170933</td>\n",
       "      <td>11.451233</td>\n",
       "      <td>0</td>\n",
       "      <td>0</td>\n",
       "      <td>0</td>\n",
       "      <td>0</td>\n",
       "      <td>0</td>\n",
       "      <td>1</td>\n",
       "      <td>0</td>\n",
       "      <td>0</td>\n",
       "    </tr>\n",
       "  </tbody>\n",
       "</table>\n",
       "</div>"
      ],
      "text/plain": [
       "   Month  Year  Avg Trip Time (min)  Average of temp  Average of feels_like  \\\n",
       "0    5.0  19.0            17.221429        48.632929              46.856786   \n",
       "1    5.0  19.0            14.622222        47.245833              43.716167   \n",
       "2    5.0  19.0            19.761905        44.762667              40.465714   \n",
       "3    5.0  19.0            23.363636        46.319000              43.705333   \n",
       "4    5.0  19.0            18.003333        49.428533              47.492883   \n",
       "\n",
       "   Average of temp_min  Average of temp_max  Average of pressure  \\\n",
       "0            45.639643            52.718000          1013.257143   \n",
       "1            43.662250            51.279583          1011.608333   \n",
       "2            42.134429            47.884905          1016.457143   \n",
       "3            42.993364            50.035000          1018.500000   \n",
       "4            46.456483            52.701400          1013.138333   \n",
       "\n",
       "   Average of humidity  Sum of rain_1h  Average of wind_speed  \\\n",
       "0            78.792857        1.220000               4.711571   \n",
       "1            68.875000        0.860000               9.016167   \n",
       "2            66.195238        0.364286               8.097714   \n",
       "3            69.436364        0.207273               5.188273   \n",
       "4            79.206667        0.417000               7.170933   \n",
       "\n",
       "   Average of wind_gust  is_summer  Monday  Tuesday  Wednesday  Thursday  \\\n",
       "0              7.659071          0       0        0          0         0   \n",
       "1             14.021528          0       1        0          0         0   \n",
       "2             13.471071          0       0        1          0         0   \n",
       "3              8.200545          0       0        0          1         0   \n",
       "4             11.451233          0       0        0          0         0   \n",
       "\n",
       "   Friday  Saturday  Sunday  \n",
       "0       0         0       1  \n",
       "1       0         0       0  \n",
       "2       0         0       0  \n",
       "3       0         0       0  \n",
       "4       1         0       0  "
      ]
     },
     "execution_count": 24,
     "metadata": {},
     "output_type": "execute_result"
    }
   ],
   "source": [
    "df.head()"
   ]
  },
  {
   "cell_type": "markdown",
   "id": "f01aec6c",
   "metadata": {},
   "source": [
    "### 1.3 Data Splitting"
   ]
  },
  {
   "cell_type": "code",
   "execution_count": 25,
   "id": "e9b0f8a2",
   "metadata": {},
   "outputs": [],
   "source": [
    "from sklearn.model_selection import train_test_split"
   ]
  },
  {
   "cell_type": "code",
   "execution_count": 26,
   "id": "3cd1d4bb",
   "metadata": {},
   "outputs": [],
   "source": [
    "columns_for_modeling = [i for i in df.columns if i != \"Avg Trip Time (min)\"]"
   ]
  },
  {
   "cell_type": "code",
   "execution_count": 27,
   "id": "cdf00d9c",
   "metadata": {},
   "outputs": [],
   "source": [
    "#Main split for training and splitting:\n",
    "x_train, x_test, y_train, y_test = train_test_split(df[columns_for_modeling], df[\"Avg Trip Time (min)\"], test_size=0.20, random_state=32)"
   ]
  },
  {
   "cell_type": "code",
   "execution_count": 28,
   "id": "b552b0b5",
   "metadata": {},
   "outputs": [],
   "source": [
    "x_test.to_csv(\"X_Test.csv\")"
   ]
  },
  {
   "cell_type": "code",
   "execution_count": 29,
   "id": "10d796a5",
   "metadata": {},
   "outputs": [],
   "source": [
    "#Second split for parameter tuning:\n",
    "x_train_1, x_test_val, y_train_1, y_test_val = train_test_split(x_train, y_train, test_size=0.33, random_state=42)"
   ]
  },
  {
   "cell_type": "code",
   "execution_count": 30,
   "id": "4f7121b3",
   "metadata": {
    "scrolled": true
   },
   "outputs": [
    {
     "data": {
      "text/plain": [
       "Index(['Month', 'Year', 'Average of temp', 'Average of feels_like',\n",
       "       'Average of temp_min', 'Average of temp_max', 'Average of pressure',\n",
       "       'Average of humidity', 'Sum of rain_1h', 'Average of wind_speed',\n",
       "       'Average of wind_gust', 'is_summer', 'Monday', 'Tuesday', 'Wednesday',\n",
       "       'Thursday', 'Friday', 'Saturday', 'Sunday'],\n",
       "      dtype='object')"
      ]
     },
     "execution_count": 30,
     "metadata": {},
     "output_type": "execute_result"
    }
   ],
   "source": [
    "x_train_1.columns"
   ]
  },
  {
   "cell_type": "markdown",
   "id": "09565f1e",
   "metadata": {},
   "source": [
    "# Random Forest"
   ]
  },
  {
   "cell_type": "code",
   "execution_count": 40,
   "id": "3af4f9c5",
   "metadata": {},
   "outputs": [],
   "source": [
    "from sklearn.ensemble import RandomForestRegressor"
   ]
  },
  {
   "cell_type": "code",
   "execution_count": 54,
   "id": "6806eb96",
   "metadata": {},
   "outputs": [
    {
     "data": {
      "text/plain": [
       "RandomForestRegressor(max_depth=6, n_estimators=50, random_state=2)"
      ]
     },
     "execution_count": 54,
     "metadata": {},
     "output_type": "execute_result"
    }
   ],
   "source": [
    "#Current best model:\n",
    "regr = RandomForestRegressor(random_state=2, n_estimators = 50, max_depth = 6)\n",
    "regr.fit(x_train, y_train)"
   ]
  },
  {
   "cell_type": "code",
   "execution_count": 55,
   "id": "50fc0541",
   "metadata": {},
   "outputs": [],
   "source": [
    "pred = regr.predict(x_test)"
   ]
  },
  {
   "cell_type": "code",
   "execution_count": 56,
   "id": "bda7e10a",
   "metadata": {},
   "outputs": [
    {
     "data": {
      "text/plain": [
       "5.058513008485708"
      ]
     },
     "execution_count": 56,
     "metadata": {},
     "output_type": "execute_result"
    }
   ],
   "source": [
    "mean_squared_error(pred, y_test, squared = False)"
   ]
  },
  {
   "cell_type": "code",
   "execution_count": 63,
   "id": "4a348906",
   "metadata": {},
   "outputs": [
    {
     "data": {
      "text/plain": [
       "{'bootstrap': True,\n",
       " 'ccp_alpha': 0.0,\n",
       " 'criterion': 'mse',\n",
       " 'max_depth': 6,\n",
       " 'max_features': 'auto',\n",
       " 'max_leaf_nodes': None,\n",
       " 'max_samples': None,\n",
       " 'min_impurity_decrease': 0.0,\n",
       " 'min_impurity_split': None,\n",
       " 'min_samples_leaf': 1,\n",
       " 'min_samples_split': 2,\n",
       " 'min_weight_fraction_leaf': 0.0,\n",
       " 'n_estimators': 50,\n",
       " 'n_jobs': None,\n",
       " 'oob_score': False,\n",
       " 'random_state': 2,\n",
       " 'verbose': 0,\n",
       " 'warm_start': False}"
      ]
     },
     "execution_count": 63,
     "metadata": {},
     "output_type": "execute_result"
    }
   ],
   "source": [
    "regr.get_params()"
   ]
  },
  {
   "cell_type": "code",
   "execution_count": 57,
   "id": "6ee55e13",
   "metadata": {},
   "outputs": [
    {
     "data": {
      "text/plain": [
       "['RF.joblib']"
      ]
     },
     "execution_count": 57,
     "metadata": {},
     "output_type": "execute_result"
    }
   ],
   "source": [
    "filename = \"RF.joblib\"\n",
    "joblib.dump(regr, filename)"
   ]
  },
  {
   "cell_type": "code",
   "execution_count": 36,
   "id": "5c6e30f9",
   "metadata": {},
   "outputs": [
    {
     "data": {
      "text/plain": [
       "RandomForestRegressor(criterion='mae', random_state=0)"
      ]
     },
     "execution_count": 36,
     "metadata": {},
     "output_type": "execute_result"
    }
   ],
   "source": [
    "#Most basic model:\n",
    "regr_1 = RandomForestRegressor(random_state=0, criterion=\"mae\")\n",
    "regr_1.fit(x_train, y_train)"
   ]
  },
  {
   "cell_type": "code",
   "execution_count": 37,
   "id": "b85e6838",
   "metadata": {},
   "outputs": [],
   "source": [
    "pred_1 = regr_1.predict(x_test)"
   ]
  },
  {
   "cell_type": "code",
   "execution_count": 38,
   "id": "066aef4f",
   "metadata": {},
   "outputs": [
    {
     "data": {
      "text/plain": [
       "5.450484372115995"
      ]
     },
     "execution_count": 38,
     "metadata": {},
     "output_type": "execute_result"
    }
   ],
   "source": [
    "mean_squared_error(pred_1, y_test, squared = False)"
   ]
  },
  {
   "cell_type": "markdown",
   "id": "3bc30027",
   "metadata": {},
   "source": [
    "### 4.2 Fitting for Max Depth"
   ]
  },
  {
   "cell_type": "code",
   "execution_count": 35,
   "id": "0751009a",
   "metadata": {},
   "outputs": [],
   "source": [
    "fits = []\n",
    "max_depth = [i for i in range(2, 20)]\n",
    "322.52\n",
    "for depth in max_depth:\n",
    "    fit = RandomForestRegressor(max_depth=depth)\n",
    "    fit.fit(x_train_1, y_train_1)\n",
    "    res = [mean_squared_error(fit.predict(x_train_1), y_train_1, squared = False), mean_squared_error(fit.predict(x_test_val), y_test_val, squared = False)]\n",
    "    fits.append(res)"
   ]
  },
  {
   "cell_type": "code",
   "execution_count": 36,
   "id": "2476f715",
   "metadata": {},
   "outputs": [
    {
     "data": {
      "image/png": "[encoded data removed]",
      "text/plain": [
       "<Figure size 432x288 with 1 Axes>"
      ]
     },
     "metadata": {
      "needs_background": "light"
     },
     "output_type": "display_data"
    }
   ],
   "source": [
    "train_scores = [i[0] for i in fits]\n",
    "val_scores = [i[1] for i in fits]\n",
    "\n",
    "fig, ax = plt.subplots()\n",
    "ax.set_xlabel(\"Tree Depth\")\n",
    "ax.set_ylabel(\"accuracy\")\n",
    "ax.set_title(\"Accuracy vs Tree Depth for Training and Vaidation Sets\")\n",
    "ax.plot(max_depth, train_scores, marker=\"o\", label=\"train\", drawstyle=\"steps-post\")\n",
    "ax.plot(max_depth, val_scores, marker=\"o\", label=\"validation\", drawstyle=\"steps-post\")\n",
    "ax.legend()\n",
    "plt.show()"
   ]
  },
  {
   "cell_type": "code",
   "execution_count": 37,
   "id": "3748fa58",
   "metadata": {},
   "outputs": [],
   "source": [
    "fits = []\n",
    "max_depth = [i for i in range(2, 20)]\n",
    "322.52\n",
    "for depth in max_depth:\n",
    "    fit = RandomForestRegressor(max_depth=depth, criterion = 'mae')\n",
    "    fit.fit(x_train_1, y_train_1)\n",
    "    res = [mean_squared_error(fit.predict(x_train_1), y_train_1, squared = False), mean_squared_error(fit.predict(x_test_val), y_test_val, squared = False)]\n",
    "    fits.append(res)"
   ]
  },
  {
   "cell_type": "code",
   "execution_count": 38,
   "id": "7b09c9b1",
   "metadata": {},
   "outputs": [
    {
     "data": {
      "image/png": "[encoded data removed]",
      "text/plain": [
       "<Figure size 432x288 with 1 Axes>"
      ]
     },
     "metadata": {
      "needs_background": "light"
     },
     "output_type": "display_data"
    }
   ],
   "source": [
    "train_scores = [i[0] for i in fits]\n",
    "val_scores = [i[1] for i in fits]\n",
    "\n",
    "fig, ax = plt.subplots()\n",
    "ax.set_xlabel(\"Tree Depth\")\n",
    "ax.set_ylabel(\"accuracy\")\n",
    "ax.set_title(\"Accuracy vs Tree Depth for Training and Vaidation Sets\")\n",
    "ax.plot(max_depth, train_scores, marker=\"o\", label=\"train\", drawstyle=\"steps-post\")\n",
    "ax.plot(max_depth, val_scores, marker=\"o\", label=\"validation\", drawstyle=\"steps-post\")\n",
    "ax.legend()\n",
    "plt.show()"
   ]
  },
  {
   "cell_type": "markdown",
   "id": "c292ebbd",
   "metadata": {},
   "source": [
    "### 4.3 Fitting for Number of Estimators"
   ]
  },
  {
   "cell_type": "code",
   "execution_count": 39,
   "id": "bde4f3d6",
   "metadata": {},
   "outputs": [],
   "source": [
    "fits = []\n",
    "estimator_count = [i for i in range(50, 100)]\n",
    "\n",
    "for est in estimator_count:\n",
    "    fit = RandomForestRegressor(n_estimators=est)\n",
    "    fit.fit(x_train_1, y_train_1)\n",
    "    res = [mean_squared_error(fit.predict(x_train_1), y_train_1, squared = False), mean_squared_error(fit.predict(x_test_val), y_test_val, squared = False)]\n",
    "    fits.append(res)"
   ]
  },
  {
   "cell_type": "code",
   "execution_count": 40,
   "id": "db15a689",
   "metadata": {},
   "outputs": [
    {
     "data": {
      "image/png": "[encoded data removed]",
      "text/plain": [
       "<Figure size 432x288 with 1 Axes>"
      ]
     },
     "metadata": {
      "needs_background": "light"
     },
     "output_type": "display_data"
    }
   ],
   "source": [
    "train_scores = [i[0] for i in fits]\n",
    "val_scores = [i[1] for i in fits]\n",
    "\n",
    "fig, ax = plt.subplots()\n",
    "ax.set_xlabel(\"Number of Estimators\")\n",
    "ax.set_ylabel(\"accuracy\")\n",
    "ax.set_title(\"Accuracy vs Number of Estimators for Training and Vaidation Sets\")\n",
    "ax.plot(estimator_count, train_scores, marker=\"o\", label=\"train\", drawstyle=\"steps-post\")\n",
    "ax.plot(estimator_count, val_scores, marker=\"o\", label=\"validation\", drawstyle=\"steps-post\")\n",
    "ax.legend()\n",
    "plt.show()"
   ]
  },
  {
   "cell_type": "code",
   "execution_count": 41,
   "id": "87b3de3b",
   "metadata": {},
   "outputs": [],
   "source": [
    "fits = []\n",
    "estimator_count = [i for i in range(50, 100)]\n",
    "\n",
    "for est in estimator_count:\n",
    "    fit = RandomForestRegressor(n_estimators=est, criterion= 'mae')\n",
    "    fit.fit(x_train_1, y_train_1)\n",
    "    res = [mean_squared_error(fit.predict(x_train_1), y_train_1, squared = False), mean_squared_error(fit.predict(x_test_val), y_test_val, squared = False)]\n",
    "    fits.append(res)"
   ]
  },
  {
   "cell_type": "code",
   "execution_count": 42,
   "id": "67a0cc0e",
   "metadata": {},
   "outputs": [
    {
     "data": {
      "image/png": "[encoded data removed]",
      "text/plain": [
       "<Figure size 432x288 with 1 Axes>"
      ]
     },
     "metadata": {
      "needs_background": "light"
     },
     "output_type": "display_data"
    }
   ],
   "source": [
    "train_scores = [i[0] for i in fits]\n",
    "val_scores = [i[1] for i in fits]\n",
    "\n",
    "fig, ax = plt.subplots()\n",
    "ax.set_xlabel(\"Number of Estimators\")\n",
    "ax.set_ylabel(\"accuracy\")\n",
    "ax.set_title(\"Accuracy vs Number of Estimators for Training and Vaidation Sets\")\n",
    "ax.plot(estimator_count, train_scores, marker=\"o\", label=\"train\", drawstyle=\"steps-post\")\n",
    "ax.plot(estimator_count, val_scores, marker=\"o\", label=\"validation\", drawstyle=\"steps-post\")\n",
    "ax.legend()\n",
    "plt.show()"
   ]
  },
  {
   "cell_type": "markdown",
   "id": "f852218f",
   "metadata": {},
   "source": [
    "### 4.4 Fitting for ccp_alpha"
   ]
  },
  {
   "cell_type": "code",
   "execution_count": 43,
   "id": "0fd74dd6",
   "metadata": {},
   "outputs": [
    {
     "data": {
      "text/plain": [
       "array([0.  , 0.01, 0.02, 0.03, 0.04, 0.05, 0.06, 0.07, 0.08, 0.09, 0.1 ,\n",
       "       0.11, 0.12, 0.13, 0.14, 0.15, 0.16, 0.17, 0.18, 0.19, 0.2 , 0.21,\n",
       "       0.22, 0.23, 0.24, 0.25, 0.26, 0.27, 0.28, 0.29, 0.3 , 0.31, 0.32,\n",
       "       0.33, 0.34, 0.35, 0.36, 0.37, 0.38, 0.39, 0.4 , 0.41, 0.42, 0.43,\n",
       "       0.44, 0.45, 0.46, 0.47, 0.48, 0.49, 0.5 , 0.51, 0.52, 0.53, 0.54,\n",
       "       0.55, 0.56, 0.57, 0.58, 0.59, 0.6 , 0.61, 0.62, 0.63, 0.64, 0.65,\n",
       "       0.66, 0.67, 0.68, 0.69, 0.7 , 0.71, 0.72, 0.73, 0.74, 0.75, 0.76,\n",
       "       0.77, 0.78, 0.79, 0.8 , 0.81, 0.82, 0.83, 0.84, 0.85, 0.86, 0.87,\n",
       "       0.88, 0.89, 0.9 , 0.91, 0.92, 0.93, 0.94, 0.95, 0.96, 0.97, 0.98,\n",
       "       0.99, 1.  ])"
      ]
     },
     "execution_count": 43,
     "metadata": {},
     "output_type": "execute_result"
    }
   ],
   "source": [
    "np.linspace(0,1,101)"
   ]
  },
  {
   "cell_type": "code",
   "execution_count": 44,
   "id": "a4c26f38",
   "metadata": {},
   "outputs": [],
   "source": [
    "fits = []\n",
    "alphas = np.linspace(0,1,11)\n",
    "\n",
    "for alpha in alphas:\n",
    "    fit = RandomForestRegressor(ccp_alpha=alpha)\n",
    "    fit.fit(x_train_1, y_train_1)\n",
    "    res = [mean_squared_error(fit.predict(x_train_1), y_train_1, squared = False), mean_squared_error(fit.predict(x_test_val), y_test_val, squared = False)]\n",
    "    fits.append(res)"
   ]
  },
  {
   "cell_type": "code",
   "execution_count": 45,
   "id": "ae9d53db",
   "metadata": {
    "scrolled": false
   },
   "outputs": [
    {
     "data": {
      "image/png": "[encoded data removed]",
      "text/plain": [
       "<Figure size 432x288 with 1 Axes>"
      ]
     },
     "metadata": {
      "needs_background": "light"
     },
     "output_type": "display_data"
    }
   ],
   "source": [
    "train_scores = [i[0] for i in fits]\n",
    "val_scores = [i[1] for i in fits]\n",
    "\n",
    "fig, ax = plt.subplots()\n",
    "ax.set_xlabel(\"ccp_alpha\")\n",
    "ax.set_ylabel(\"accuracy\")\n",
    "ax.set_title(\"Accuracy vs ccp_alpha for Training and Vaidation Sets\")\n",
    "ax.plot(alphas, train_scores, marker=\"o\", label=\"train\", drawstyle=\"steps-post\")\n",
    "ax.plot(alphas, val_scores, marker=\"o\", label=\"validation\", drawstyle=\"steps-post\")\n",
    "ax.legend()\n",
    "plt.show()"
   ]
  },
  {
   "cell_type": "code",
   "execution_count": 46,
   "id": "2399f396",
   "metadata": {},
   "outputs": [],
   "source": [
    "fits = []\n",
    "alphas = np.linspace(0,1,11)\n",
    "\n",
    "for alpha in alphas:\n",
    "    fit = RandomForestRegressor(ccp_alpha=alpha, criterion = 'mae')\n",
    "    fit.fit(x_train_1, y_train_1)\n",
    "    res = [mean_squared_error(fit.predict(x_train_1), y_train_1, squared = False), mean_squared_error(fit.predict(x_test_val), y_test_val, squared = False)]\n",
    "    fits.append(res)"
   ]
  },
  {
   "cell_type": "code",
   "execution_count": 47,
   "id": "4a7798cd",
   "metadata": {
    "scrolled": true
   },
   "outputs": [
    {
     "data": {
      "image/png": "[encoded data removed]",
      "text/plain": [
       "<Figure size 432x288 with 1 Axes>"
      ]
     },
     "metadata": {
      "needs_background": "light"
     },
     "output_type": "display_data"
    }
   ],
   "source": [
    "train_scores = [i[0] for i in fits]\n",
    "val_scores = [i[1] for i in fits]\n",
    "\n",
    "fig, ax = plt.subplots()\n",
    "ax.set_xlabel(\"ccp_alpha\")\n",
    "ax.set_ylabel(\"accuracy\")\n",
    "ax.set_title(\"Accuracy vs ccp_alpha for Training and Vaidation Sets\")\n",
    "ax.plot(alphas, train_scores, marker=\"o\", label=\"train\", drawstyle=\"steps-post\")\n",
    "ax.plot(alphas, val_scores, marker=\"o\", label=\"validation\", drawstyle=\"steps-post\")\n",
    "ax.legend()\n",
    "plt.show()"
   ]
  },
  {
   "cell_type": "code",
   "execution_count": null,
   "id": "f9a3431c",
   "metadata": {},
   "outputs": [],
   "source": []
  },
  {
   "cell_type": "code",
   "execution_count": null,
   "id": "c9537270",
   "metadata": {},
   "outputs": [],
   "source": []
  }
 ],
 "metadata": {
  "kernelspec": {
   "display_name": "Python 3 (ipykernel)",
   "language": "python",
   "name": "python3"
  },
  "language_info": {
   "codemirror_mode": {
    "name": "ipython",
    "version": 3
   },
   "file_extension": ".py",
   "mimetype": "text/x-python",
   "name": "python",
   "nbconvert_exporter": "python",
   "pygments_lexer": "ipython3",
   "version": "3.9.7"
  }
 },
 "nbformat": 4,
 "nbformat_minor": 5
}
