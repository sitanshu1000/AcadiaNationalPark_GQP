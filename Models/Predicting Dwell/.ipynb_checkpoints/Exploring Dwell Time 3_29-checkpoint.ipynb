{
 "cells": [
  {
   "cell_type": "code",
   "execution_count": 2,
   "id": "2210f92b",
   "metadata": {},
   "outputs": [],
   "source": [
    "import pandas as pd\n",
    "import numpy as np\n",
    "import matplotlib.pyplot as plt"
   ]
  },
  {
   "cell_type": "markdown",
   "id": "5ab063e7",
   "metadata": {},
   "source": [
    "## Loading and cleaning the data"
   ]
  },
  {
   "cell_type": "code",
   "execution_count": 3,
   "id": "f527d0c0",
   "metadata": {},
   "outputs": [],
   "source": [
    "df = pd.read_excel(\"Dwell_Time_Weather.xlsx\", index_col = \"Unnamed: 0\")"
   ]
  },
  {
   "cell_type": "markdown",
   "id": "ded181ea",
   "metadata": {},
   "source": [
    "combining \"trip ending\" and \"trip begining\" information"
   ]
  },
  {
   "cell_type": "code",
   "execution_count": 4,
   "id": "dbf2d7c7",
   "metadata": {},
   "outputs": [],
   "source": [
    "day_types =  [i for i in df[\"Day Type\"].unique()]\n",
    "day_parts = [i for i in df[\"Day Part\"].unique()]"
   ]
  },
  {
   "cell_type": "code",
   "execution_count": 5,
   "id": "0867944a",
   "metadata": {},
   "outputs": [],
   "source": [
    "months = [i for i in df[\"Month\"].unique()]\n",
    "years = [i for i in df[\"Year\"].unique()]"
   ]
  },
  {
   "cell_type": "code",
   "execution_count": 6,
   "id": "77355873",
   "metadata": {},
   "outputs": [],
   "source": [
    "new_df = pd.DataFrame()"
   ]
  },
  {
   "cell_type": "code",
   "execution_count": 7,
   "id": "b89a02c6",
   "metadata": {
    "scrolled": false
   },
   "outputs": [
    {
     "data": {
      "text/plain": [
       "2989"
      ]
     },
     "execution_count": 7,
     "metadata": {},
     "output_type": "execute_result"
    }
   ],
   "source": [
    "len(df)"
   ]
  },
  {
   "cell_type": "code",
   "execution_count": 8,
   "id": "9b1f28f9",
   "metadata": {},
   "outputs": [],
   "source": [
    "for month in months:\n",
    "    for year in years:\n",
    "        for dow in day_types:\n",
    "            for part in day_parts:\n",
    "                index = np.where((df[\"Day Type\"] ==  dow) & (df[\"Day Part\"] == part) &(df[\"Month\"] ==  month) & (df[\"Year\"] == year))[0]\n",
    "                temp_df = df.loc[index, :].reset_index(drop=True)\n",
    "                if len(temp_df) == 0:\n",
    "                    continue\n",
    "                if len(temp_df) == 1:\n",
    "                    new_df = new_df.append(temp_df, ignore_index=True)\n",
    "                else:\n",
    "#                     print(dow, part)\n",
    "                    avg_time = np.mean(temp_df[\"Avg Trip Time (min)\"])\n",
    "                    temp_df.loc[0, \"Avg Trip Time (min)\"] ==  avg_time\n",
    "                    new_df = new_df.append(temp_df.loc[0,:], ignore_index=True)"
   ]
  },
  {
   "cell_type": "code",
   "execution_count": 9,
   "id": "66227861",
   "metadata": {},
   "outputs": [
    {
     "data": {
      "text/plain": [
       "1803"
      ]
     },
     "execution_count": 9,
     "metadata": {},
     "output_type": "execute_result"
    }
   ],
   "source": [
    "len(new_df)"
   ]
  },
  {
   "cell_type": "code",
   "execution_count": 10,
   "id": "403c2059",
   "metadata": {},
   "outputs": [],
   "source": [
    "df = new_df #changing name just since code below is for df"
   ]
  },
  {
   "cell_type": "markdown",
   "id": "01609f13",
   "metadata": {},
   "source": [
    "## Getting Unique Hours per day and Hour Counts Overall"
   ]
  },
  {
   "cell_type": "code",
   "execution_count": 11,
   "id": "f10e9d4e",
   "metadata": {},
   "outputs": [],
   "source": [
    "day_types =  [i for i in df[\"Day Type\"].unique() if i != '0: All Days (M-Su)']"
   ]
  },
  {
   "cell_type": "code",
   "execution_count": 12,
   "id": "6e4a7ccc",
   "metadata": {},
   "outputs": [],
   "source": [
    "hour_avalible = {}"
   ]
  },
  {
   "cell_type": "code",
   "execution_count": 13,
   "id": "da40596a",
   "metadata": {},
   "outputs": [],
   "source": [
    "hour_count = []"
   ]
  },
  {
   "cell_type": "code",
   "execution_count": 14,
   "id": "dff832e7",
   "metadata": {},
   "outputs": [],
   "source": [
    "tot_hour_counts = []"
   ]
  },
  {
   "cell_type": "code",
   "execution_count": 15,
   "id": "965d871e",
   "metadata": {},
   "outputs": [],
   "source": [
    "for i in day_types:\n",
    "    temp_df = df.loc[np.where(df[\"Day Type\"] == i)[0], :]\n",
    "    unique_hours = temp_df[\"Day Part\"].unique()\n",
    "    hour_count.append(len(unique_hours))\n",
    "    tot_hour_counts  = tot_hour_counts + list(unique_hours)\n",
    "    hour_avalible[i] = [len(unique_hours), temp_df[\"Day Part\"].unique()]"
   ]
  },
  {
   "cell_type": "code",
   "execution_count": 16,
   "id": "3436de93",
   "metadata": {},
   "outputs": [
    {
     "data": {
      "text/html": [
       "<div>\n",
       "<style scoped>\n",
       "    .dataframe tbody tr th:only-of-type {\n",
       "        vertical-align: middle;\n",
       "    }\n",
       "\n",
       "    .dataframe tbody tr th {\n",
       "        vertical-align: top;\n",
       "    }\n",
       "\n",
       "    .dataframe thead th {\n",
       "        text-align: right;\n",
       "    }\n",
       "</style>\n",
       "<table border=\"1\" class=\"dataframe\">\n",
       "  <thead>\n",
       "    <tr style=\"text-align: right;\">\n",
       "      <th></th>\n",
       "      <th>Day Type</th>\n",
       "      <th>Day Part</th>\n",
       "      <th>Avg Trip Time (min)</th>\n",
       "      <th>Month</th>\n",
       "      <th>Year</th>\n",
       "      <th>Month.1</th>\n",
       "      <th>Day</th>\n",
       "      <th>Time</th>\n",
       "      <th>Check_Flag</th>\n",
       "      <th>Average of temp</th>\n",
       "      <th>Average of feels_like</th>\n",
       "      <th>Average of temp_min</th>\n",
       "      <th>Average of temp_max</th>\n",
       "      <th>Average of pressure</th>\n",
       "      <th>Average of humidity</th>\n",
       "      <th>Sum of rain_1h</th>\n",
       "      <th>Average of wind_speed</th>\n",
       "      <th>Average of wind_gust</th>\n",
       "    </tr>\n",
       "  </thead>\n",
       "  <tbody>\n",
       "    <tr>\n",
       "      <th>67</th>\n",
       "      <td>5: Friday (F-F)</td>\n",
       "      <td>00: All Day (12am-12am)</td>\n",
       "      <td>30.733333</td>\n",
       "      <td>May</td>\n",
       "      <td>19.0</td>\n",
       "      <td>5.0</td>\n",
       "      <td>5.0</td>\n",
       "      <td>-1.0</td>\n",
       "      <td>1955-1</td>\n",
       "      <td>46.597710</td>\n",
       "      <td>44.447786</td>\n",
       "      <td>44.462290</td>\n",
       "      <td>49.266107</td>\n",
       "      <td>1013.381679</td>\n",
       "      <td>80.503817</td>\n",
       "      <td>44.91</td>\n",
       "      <td>4.856489</td>\n",
       "      <td>8.991161</td>\n",
       "    </tr>\n",
       "    <tr>\n",
       "      <th>68</th>\n",
       "      <td>5: Friday (F-F)</td>\n",
       "      <td>15: 2pm (2pm-3pm)</td>\n",
       "      <td>8.033333</td>\n",
       "      <td>May</td>\n",
       "      <td>19.0</td>\n",
       "      <td>5.0</td>\n",
       "      <td>5.0</td>\n",
       "      <td>14.0</td>\n",
       "      <td>195514</td>\n",
       "      <td>47.341667</td>\n",
       "      <td>44.873333</td>\n",
       "      <td>44.880000</td>\n",
       "      <td>50.488333</td>\n",
       "      <td>1011.833333</td>\n",
       "      <td>81.333333</td>\n",
       "      <td>1.97</td>\n",
       "      <td>4.666667</td>\n",
       "      <td>11.005000</td>\n",
       "    </tr>\n",
       "    <tr>\n",
       "      <th>69</th>\n",
       "      <td>5: Friday (F-F)</td>\n",
       "      <td>17: 4pm (4pm-5pm)</td>\n",
       "      <td>53.433333</td>\n",
       "      <td>May</td>\n",
       "      <td>19.0</td>\n",
       "      <td>5.0</td>\n",
       "      <td>5.0</td>\n",
       "      <td>16.0</td>\n",
       "      <td>195516</td>\n",
       "      <td>48.744000</td>\n",
       "      <td>45.348000</td>\n",
       "      <td>46.134000</td>\n",
       "      <td>51.718000</td>\n",
       "      <td>1013.400000</td>\n",
       "      <td>76.600000</td>\n",
       "      <td>1.52</td>\n",
       "      <td>7.802000</td>\n",
       "      <td>13.002000</td>\n",
       "    </tr>\n",
       "    <tr>\n",
       "      <th>77</th>\n",
       "      <td>5: Friday (F-F)</td>\n",
       "      <td>00: All Day (12am-12am)</td>\n",
       "      <td>20.683333</td>\n",
       "      <td>May</td>\n",
       "      <td>20.0</td>\n",
       "      <td>5.0</td>\n",
       "      <td>5.0</td>\n",
       "      <td>-1.0</td>\n",
       "      <td>2055-1</td>\n",
       "      <td>52.333588</td>\n",
       "      <td>49.780000</td>\n",
       "      <td>48.440992</td>\n",
       "      <td>57.296336</td>\n",
       "      <td>1012.946565</td>\n",
       "      <td>73.145038</td>\n",
       "      <td>67.78</td>\n",
       "      <td>10.811756</td>\n",
       "      <td>0.190609</td>\n",
       "    </tr>\n",
       "    <tr>\n",
       "      <th>78</th>\n",
       "      <td>5: Friday (F-F)</td>\n",
       "      <td>16: 3pm (3pm-4pm)</td>\n",
       "      <td>20.683333</td>\n",
       "      <td>May</td>\n",
       "      <td>20.0</td>\n",
       "      <td>5.0</td>\n",
       "      <td>5.0</td>\n",
       "      <td>15.0</td>\n",
       "      <td>205515</td>\n",
       "      <td>55.508333</td>\n",
       "      <td>52.156667</td>\n",
       "      <td>52.020000</td>\n",
       "      <td>59.476667</td>\n",
       "      <td>1013.000000</td>\n",
       "      <td>63.500000</td>\n",
       "      <td>2.04</td>\n",
       "      <td>10.328333</td>\n",
       "      <td>0.000000</td>\n",
       "    </tr>\n",
       "    <tr>\n",
       "      <th>...</th>\n",
       "      <td>...</td>\n",
       "      <td>...</td>\n",
       "      <td>...</td>\n",
       "      <td>...</td>\n",
       "      <td>...</td>\n",
       "      <td>...</td>\n",
       "      <td>...</td>\n",
       "      <td>...</td>\n",
       "      <td>...</td>\n",
       "      <td>...</td>\n",
       "      <td>...</td>\n",
       "      <td>...</td>\n",
       "      <td>...</td>\n",
       "      <td>...</td>\n",
       "      <td>...</td>\n",
       "      <td>...</td>\n",
       "      <td>...</td>\n",
       "      <td>...</td>\n",
       "    </tr>\n",
       "    <tr>\n",
       "      <th>1798</th>\n",
       "      <td>5: Friday (F-F)</td>\n",
       "      <td>17: 4pm (4pm-5pm)</td>\n",
       "      <td>26.000000</td>\n",
       "      <td>Oct</td>\n",
       "      <td>21.0</td>\n",
       "      <td>10.0</td>\n",
       "      <td>5.0</td>\n",
       "      <td>16.0</td>\n",
       "      <td>2110516</td>\n",
       "      <td>56.886000</td>\n",
       "      <td>55.838000</td>\n",
       "      <td>54.586000</td>\n",
       "      <td>59.274000</td>\n",
       "      <td>1016.000000</td>\n",
       "      <td>76.600000</td>\n",
       "      <td>0.00</td>\n",
       "      <td>7.322000</td>\n",
       "      <td>11.252500</td>\n",
       "    </tr>\n",
       "    <tr>\n",
       "      <th>1799</th>\n",
       "      <td>5: Friday (F-F)</td>\n",
       "      <td>19: 6pm (6pm-7pm)</td>\n",
       "      <td>3.083333</td>\n",
       "      <td>Oct</td>\n",
       "      <td>21.0</td>\n",
       "      <td>10.0</td>\n",
       "      <td>5.0</td>\n",
       "      <td>18.0</td>\n",
       "      <td>2110518</td>\n",
       "      <td>58.080000</td>\n",
       "      <td>57.046000</td>\n",
       "      <td>55.406000</td>\n",
       "      <td>60.986000</td>\n",
       "      <td>1015.800000</td>\n",
       "      <td>73.600000</td>\n",
       "      <td>0.00</td>\n",
       "      <td>6.396000</td>\n",
       "      <td>10.800000</td>\n",
       "    </tr>\n",
       "    <tr>\n",
       "      <th>1800</th>\n",
       "      <td>5: Friday (F-F)</td>\n",
       "      <td>06: 5am (5am-6am)</td>\n",
       "      <td>30.466667</td>\n",
       "      <td>Oct</td>\n",
       "      <td>21.0</td>\n",
       "      <td>10.0</td>\n",
       "      <td>5.0</td>\n",
       "      <td>5.0</td>\n",
       "      <td>211055</td>\n",
       "      <td>50.462000</td>\n",
       "      <td>48.410000</td>\n",
       "      <td>47.330000</td>\n",
       "      <td>53.538000</td>\n",
       "      <td>1015.400000</td>\n",
       "      <td>88.000000</td>\n",
       "      <td>0.00</td>\n",
       "      <td>5.324000</td>\n",
       "      <td>8.997500</td>\n",
       "    </tr>\n",
       "    <tr>\n",
       "      <th>1801</th>\n",
       "      <td>5: Friday (F-F)</td>\n",
       "      <td>07: 6am (6am-7am)</td>\n",
       "      <td>26.383333</td>\n",
       "      <td>Oct</td>\n",
       "      <td>21.0</td>\n",
       "      <td>10.0</td>\n",
       "      <td>5.0</td>\n",
       "      <td>6.0</td>\n",
       "      <td>211056</td>\n",
       "      <td>50.204000</td>\n",
       "      <td>47.932000</td>\n",
       "      <td>47.092000</td>\n",
       "      <td>53.390000</td>\n",
       "      <td>1015.400000</td>\n",
       "      <td>88.200000</td>\n",
       "      <td>0.00</td>\n",
       "      <td>7.090000</td>\n",
       "      <td>12.007500</td>\n",
       "    </tr>\n",
       "    <tr>\n",
       "      <th>1802</th>\n",
       "      <td>5: Friday (F-F)</td>\n",
       "      <td>09: 8am (8am-9am)</td>\n",
       "      <td>6.566667</td>\n",
       "      <td>Oct</td>\n",
       "      <td>21.0</td>\n",
       "      <td>10.0</td>\n",
       "      <td>5.0</td>\n",
       "      <td>8.0</td>\n",
       "      <td>211058</td>\n",
       "      <td>49.972000</td>\n",
       "      <td>47.576000</td>\n",
       "      <td>47.148000</td>\n",
       "      <td>52.704000</td>\n",
       "      <td>1014.800000</td>\n",
       "      <td>88.200000</td>\n",
       "      <td>0.00</td>\n",
       "      <td>7.400000</td>\n",
       "      <td>10.202000</td>\n",
       "    </tr>\n",
       "  </tbody>\n",
       "</table>\n",
       "<p>204 rows × 18 columns</p>\n",
       "</div>"
      ],
      "text/plain": [
       "             Day Type                 Day Part  Avg Trip Time (min) Month  \\\n",
       "67    5: Friday (F-F)  00: All Day (12am-12am)            30.733333   May   \n",
       "68    5: Friday (F-F)        15: 2pm (2pm-3pm)             8.033333   May   \n",
       "69    5: Friday (F-F)        17: 4pm (4pm-5pm)            53.433333   May   \n",
       "77    5: Friday (F-F)  00: All Day (12am-12am)            20.683333   May   \n",
       "78    5: Friday (F-F)        16: 3pm (3pm-4pm)            20.683333   May   \n",
       "...               ...                      ...                  ...   ...   \n",
       "1798  5: Friday (F-F)        17: 4pm (4pm-5pm)            26.000000   Oct   \n",
       "1799  5: Friday (F-F)        19: 6pm (6pm-7pm)             3.083333   Oct   \n",
       "1800  5: Friday (F-F)        06: 5am (5am-6am)            30.466667   Oct   \n",
       "1801  5: Friday (F-F)        07: 6am (6am-7am)            26.383333   Oct   \n",
       "1802  5: Friday (F-F)        09: 8am (8am-9am)             6.566667   Oct   \n",
       "\n",
       "      Year  Month.1  Day  Time Check_Flag  Average of temp  \\\n",
       "67    19.0      5.0  5.0  -1.0     1955-1        46.597710   \n",
       "68    19.0      5.0  5.0  14.0     195514        47.341667   \n",
       "69    19.0      5.0  5.0  16.0     195516        48.744000   \n",
       "77    20.0      5.0  5.0  -1.0     2055-1        52.333588   \n",
       "78    20.0      5.0  5.0  15.0     205515        55.508333   \n",
       "...    ...      ...  ...   ...        ...              ...   \n",
       "1798  21.0     10.0  5.0  16.0    2110516        56.886000   \n",
       "1799  21.0     10.0  5.0  18.0    2110518        58.080000   \n",
       "1800  21.0     10.0  5.0   5.0     211055        50.462000   \n",
       "1801  21.0     10.0  5.0   6.0     211056        50.204000   \n",
       "1802  21.0     10.0  5.0   8.0     211058        49.972000   \n",
       "\n",
       "      Average of feels_like  Average of temp_min  Average of temp_max  \\\n",
       "67                44.447786            44.462290            49.266107   \n",
       "68                44.873333            44.880000            50.488333   \n",
       "69                45.348000            46.134000            51.718000   \n",
       "77                49.780000            48.440992            57.296336   \n",
       "78                52.156667            52.020000            59.476667   \n",
       "...                     ...                  ...                  ...   \n",
       "1798              55.838000            54.586000            59.274000   \n",
       "1799              57.046000            55.406000            60.986000   \n",
       "1800              48.410000            47.330000            53.538000   \n",
       "1801              47.932000            47.092000            53.390000   \n",
       "1802              47.576000            47.148000            52.704000   \n",
       "\n",
       "      Average of pressure  Average of humidity  Sum of rain_1h  \\\n",
       "67            1013.381679            80.503817           44.91   \n",
       "68            1011.833333            81.333333            1.97   \n",
       "69            1013.400000            76.600000            1.52   \n",
       "77            1012.946565            73.145038           67.78   \n",
       "78            1013.000000            63.500000            2.04   \n",
       "...                   ...                  ...             ...   \n",
       "1798          1016.000000            76.600000            0.00   \n",
       "1799          1015.800000            73.600000            0.00   \n",
       "1800          1015.400000            88.000000            0.00   \n",
       "1801          1015.400000            88.200000            0.00   \n",
       "1802          1014.800000            88.200000            0.00   \n",
       "\n",
       "      Average of wind_speed  Average of wind_gust  \n",
       "67                 4.856489              8.991161  \n",
       "68                 4.666667             11.005000  \n",
       "69                 7.802000             13.002000  \n",
       "77                10.811756              0.190609  \n",
       "78                10.328333              0.000000  \n",
       "...                     ...                   ...  \n",
       "1798               7.322000             11.252500  \n",
       "1799               6.396000             10.800000  \n",
       "1800               5.324000              8.997500  \n",
       "1801               7.090000             12.007500  \n",
       "1802               7.400000             10.202000  \n",
       "\n",
       "[204 rows x 18 columns]"
      ]
     },
     "execution_count": 16,
     "metadata": {},
     "output_type": "execute_result"
    }
   ],
   "source": [
    "temp_df"
   ]
  },
  {
   "cell_type": "code",
   "execution_count": 17,
   "id": "3e3a15b5",
   "metadata": {
    "scrolled": true
   },
   "outputs": [
    {
     "data": {
      "text/plain": [
       "21"
      ]
     },
     "execution_count": 17,
     "metadata": {},
     "output_type": "execute_result"
    }
   ],
   "source": [
    "hour_avalible[\"1: Monday (M-M)\"][0]"
   ]
  },
  {
   "cell_type": "code",
   "execution_count": 18,
   "id": "2c676e38",
   "metadata": {},
   "outputs": [
    {
     "data": {
      "text/plain": [
       "[21, 21, 21, 21, 22, 21, 20]"
      ]
     },
     "execution_count": 18,
     "metadata": {},
     "output_type": "execute_result"
    }
   ],
   "source": [
    "hour_count"
   ]
  },
  {
   "cell_type": "code",
   "execution_count": 19,
   "id": "0b20f109",
   "metadata": {},
   "outputs": [
    {
     "data": {
      "text/plain": [
       "Text(0.5, 1.0, 'Number of Hours Avalible Per Day')"
      ]
     },
     "execution_count": 19,
     "metadata": {},
     "output_type": "execute_result"
    },
    {
     "data": {
      "image/png": "[encoded data removed]",
      "text/plain": [
       "<Figure size 432x288 with 1 Axes>"
      ]
     },
     "metadata": {
      "needs_background": "light"
     },
     "output_type": "display_data"
    }
   ],
   "source": [
    "plt.bar(day_types, [i-1 for i in hour_count])\n",
    "plt.xticks(rotation= -45, ha=\"left\")\n",
    "plt.title(\"Number of Hours Avalible Per Day\")"
   ]
  },
  {
   "cell_type": "code",
   "execution_count": 20,
   "id": "4b4cf09a",
   "metadata": {},
   "outputs": [],
   "source": [
    " from collections import Counter"
   ]
  },
  {
   "cell_type": "code",
   "execution_count": 21,
   "id": "387769e0",
   "metadata": {},
   "outputs": [],
   "source": [
    "counts = Counter(tot_hour_counts)"
   ]
  },
  {
   "cell_type": "code",
   "execution_count": 22,
   "id": "13ec7df2",
   "metadata": {},
   "outputs": [],
   "source": [
    "counts = sorted(counts.items(), key=lambda pair: pair[0], reverse=True)"
   ]
  },
  {
   "cell_type": "code",
   "execution_count": 23,
   "id": "4b95a91f",
   "metadata": {
    "scrolled": false
   },
   "outputs": [
    {
     "data": {
      "text/plain": [
       "[('24: 11pm (11pm-12am)', 1),\n",
       " ('23: 10pm (10pm-11pm)', 4),\n",
       " ('22: 9pm (9pm-10pm)', 7),\n",
       " ('21: 8pm (8pm-9pm)', 7),\n",
       " ('20: 7pm (7pm-8pm)', 7),\n",
       " ('19: 6pm (6pm-7pm)', 7),\n",
       " ('18: 5pm (5pm-6pm)', 7),\n",
       " ('17: 4pm (4pm-5pm)', 7),\n",
       " ('16: 3pm (3pm-4pm)', 7),\n",
       " ('15: 2pm (2pm-3pm)', 7),\n",
       " ('14: 1pm (1pm-2pm)', 7),\n",
       " ('13: 12pm (12noon-1pm)', 7),\n",
       " ('12: 11am (11am-12noon)', 7),\n",
       " ('11: 10am (10am-11am)', 7),\n",
       " ('10: 9am (9am-10am)', 7),\n",
       " ('09: 8am (8am-9am)', 7),\n",
       " ('08: 7am (7am-8am)', 7),\n",
       " ('07: 6am (6am-7am)', 7),\n",
       " ('06: 5am (5am-6am)', 7),\n",
       " ('05: 4am (4am-5am)', 7),\n",
       " ('04: 3am (3am-4am)', 7),\n",
       " ('01: 12am (12am-1am)', 2),\n",
       " ('00: All Day (12am-12am)', 7)]"
      ]
     },
     "execution_count": 23,
     "metadata": {},
     "output_type": "execute_result"
    }
   ],
   "source": [
    "counts"
   ]
  },
  {
   "cell_type": "markdown",
   "id": "84e0ad60",
   "metadata": {},
   "source": [
    "## Graphing Dwell Time"
   ]
  },
  {
   "cell_type": "code",
   "execution_count": 24,
   "id": "96db4048",
   "metadata": {},
   "outputs": [],
   "source": [
    "hours_to_remove = ['00: All Day (12am-12am)',\n",
    " '01: 12am (12am-1am)','04: 3am (3am-4am)','23: 10pm (10pm-11pm)',\n",
    " '24: 11pm (11pm-12am)', '22: 9pm (9pm-10pm)']"
   ]
  },
  {
   "cell_type": "code",
   "execution_count": 25,
   "id": "cb68b97b",
   "metadata": {},
   "outputs": [],
   "source": [
    "rows_to_remove = []"
   ]
  },
  {
   "cell_type": "code",
   "execution_count": 26,
   "id": "0e6be2c4",
   "metadata": {},
   "outputs": [],
   "source": [
    "for i in range(0, len(df)):\n",
    "    if df.loc[i, \"Day Part\"] in hours_to_remove:\n",
    "        rows_to_remove.append(i)"
   ]
  },
  {
   "cell_type": "code",
   "execution_count": 27,
   "id": "bbf301a1",
   "metadata": {},
   "outputs": [],
   "source": [
    "df = df.drop(rows_to_remove, axis=0).reset_index(drop=True)"
   ]
  },
  {
   "cell_type": "code",
   "execution_count": 28,
   "id": "928c5456",
   "metadata": {},
   "outputs": [],
   "source": [
    "df.to_csv(\"dwell_weather_edited.csv\")"
   ]
  },
  {
   "cell_type": "code",
   "execution_count": 29,
   "id": "ef684b1c",
   "metadata": {},
   "outputs": [],
   "source": [
    "df.to_excel(\"dwell_weather_edited.xlsx\")"
   ]
  },
  {
   "cell_type": "markdown",
   "id": "de64ca90",
   "metadata": {},
   "source": [
    "## Predicting"
   ]
  },
  {
   "cell_type": "code",
   "execution_count": null,
   "id": "a7d1bf22",
   "metadata": {},
   "outputs": [],
   "source": []
  }
 ],
 "metadata": {
  "kernelspec": {
   "display_name": "Python 3 (ipykernel)",
   "language": "python",
   "name": "python3"
  },
  "language_info": {
   "codemirror_mode": {
    "name": "ipython",
    "version": 3
   },
   "file_extension": ".py",
   "mimetype": "text/x-python",
   "name": "python",
   "nbconvert_exporter": "python",
   "pygments_lexer": "ipython3",
   "version": "3.9.7"
  }
 },
 "nbformat": 4,
 "nbformat_minor": 5
}
