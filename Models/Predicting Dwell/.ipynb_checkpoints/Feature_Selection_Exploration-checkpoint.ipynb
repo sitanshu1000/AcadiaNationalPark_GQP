{
 "cells": [
  {
   "cell_type": "code",
   "execution_count": 1,
   "id": "bf0ed0b8",
   "metadata": {},
   "outputs": [],
   "source": [
    "import numpy as np\n",
    "import pandas as pd\n",
    "import matplotlib.pyplot as plt\n",
    "from sklearn.metrics import mean_squared_error\n",
    "from sklearn.feature_selection import RFE"
   ]
  },
  {
   "cell_type": "markdown",
   "id": "0020a957",
   "metadata": {},
   "source": [
    "# 1. Loading and Cleaning Data"
   ]
  },
  {
   "cell_type": "code",
   "execution_count": 2,
   "id": "0feb374e",
   "metadata": {},
   "outputs": [],
   "source": [
    "df = pd.read_csv(\"dwell_weather_edited.csv\", index_col = \"Unnamed: 0\")"
   ]
  },
  {
   "cell_type": "code",
   "execution_count": 3,
   "id": "b083b003",
   "metadata": {},
   "outputs": [
    {
     "data": {
      "text/html": [
       "<div>\n",
       "<style scoped>\n",
       "    .dataframe tbody tr th:only-of-type {\n",
       "        vertical-align: middle;\n",
       "    }\n",
       "\n",
       "    .dataframe tbody tr th {\n",
       "        vertical-align: top;\n",
       "    }\n",
       "\n",
       "    .dataframe thead th {\n",
       "        text-align: right;\n",
       "    }\n",
       "</style>\n",
       "<table border=\"1\" class=\"dataframe\">\n",
       "  <thead>\n",
       "    <tr style=\"text-align: right;\">\n",
       "      <th></th>\n",
       "      <th>Day Type</th>\n",
       "      <th>Day Part</th>\n",
       "      <th>Avg Trip Time (min)</th>\n",
       "      <th>Month</th>\n",
       "      <th>Year</th>\n",
       "      <th>Month.1</th>\n",
       "      <th>Day</th>\n",
       "      <th>Time</th>\n",
       "      <th>Check_Flag</th>\n",
       "      <th>Average of temp</th>\n",
       "      <th>Average of feels_like</th>\n",
       "      <th>Average of temp_min</th>\n",
       "      <th>Average of temp_max</th>\n",
       "      <th>Average of pressure</th>\n",
       "      <th>Average of humidity</th>\n",
       "      <th>Sum of rain_1h</th>\n",
       "      <th>Average of wind_speed</th>\n",
       "      <th>Average of wind_gust</th>\n",
       "    </tr>\n",
       "  </thead>\n",
       "  <tbody>\n",
       "    <tr>\n",
       "      <th>0</th>\n",
       "      <td>0: All Days (M-Su)</td>\n",
       "      <td>05: 4am (4am-5am)</td>\n",
       "      <td>20.900000</td>\n",
       "      <td>May</td>\n",
       "      <td>19.0</td>\n",
       "      <td>5.0</td>\n",
       "      <td>0.0</td>\n",
       "      <td>4.0</td>\n",
       "      <td>19504</td>\n",
       "      <td>44.160541</td>\n",
       "      <td>41.684054</td>\n",
       "      <td>41.785135</td>\n",
       "      <td>47.123514</td>\n",
       "      <td>1013.972973</td>\n",
       "      <td>80.459459</td>\n",
       "      <td>8.33</td>\n",
       "      <td>4.962162</td>\n",
       "      <td>8.444483</td>\n",
       "    </tr>\n",
       "    <tr>\n",
       "      <th>1</th>\n",
       "      <td>0: All Days (M-Su)</td>\n",
       "      <td>10: 9am (9am-10am)</td>\n",
       "      <td>27.066667</td>\n",
       "      <td>May</td>\n",
       "      <td>19.0</td>\n",
       "      <td>5.0</td>\n",
       "      <td>0.0</td>\n",
       "      <td>9.0</td>\n",
       "      <td>19509</td>\n",
       "      <td>42.815676</td>\n",
       "      <td>39.944324</td>\n",
       "      <td>40.171351</td>\n",
       "      <td>45.736216</td>\n",
       "      <td>1013.216216</td>\n",
       "      <td>83.162162</td>\n",
       "      <td>6.70</td>\n",
       "      <td>5.323243</td>\n",
       "      <td>8.185625</td>\n",
       "    </tr>\n",
       "    <tr>\n",
       "      <th>2</th>\n",
       "      <td>0: All Days (M-Su)</td>\n",
       "      <td>11: 10am (10am-11am)</td>\n",
       "      <td>14.066667</td>\n",
       "      <td>May</td>\n",
       "      <td>19.0</td>\n",
       "      <td>5.0</td>\n",
       "      <td>0.0</td>\n",
       "      <td>10.0</td>\n",
       "      <td>195010</td>\n",
       "      <td>42.677429</td>\n",
       "      <td>39.514571</td>\n",
       "      <td>39.947143</td>\n",
       "      <td>45.499429</td>\n",
       "      <td>1014.457143</td>\n",
       "      <td>83.885714</td>\n",
       "      <td>6.07</td>\n",
       "      <td>5.592286</td>\n",
       "      <td>10.117692</td>\n",
       "    </tr>\n",
       "    <tr>\n",
       "      <th>3</th>\n",
       "      <td>0: All Days (M-Su)</td>\n",
       "      <td>12: 11am (11am-12noon)</td>\n",
       "      <td>20.900000</td>\n",
       "      <td>May</td>\n",
       "      <td>19.0</td>\n",
       "      <td>5.0</td>\n",
       "      <td>0.0</td>\n",
       "      <td>11.0</td>\n",
       "      <td>195011</td>\n",
       "      <td>44.346970</td>\n",
       "      <td>41.048182</td>\n",
       "      <td>42.161515</td>\n",
       "      <td>47.028182</td>\n",
       "      <td>1014.696970</td>\n",
       "      <td>79.393939</td>\n",
       "      <td>6.22</td>\n",
       "      <td>6.637273</td>\n",
       "      <td>10.064839</td>\n",
       "    </tr>\n",
       "    <tr>\n",
       "      <th>4</th>\n",
       "      <td>0: All Days (M-Su)</td>\n",
       "      <td>13: 12pm (12noon-1pm)</td>\n",
       "      <td>9.966667</td>\n",
       "      <td>May</td>\n",
       "      <td>19.0</td>\n",
       "      <td>5.0</td>\n",
       "      <td>0.0</td>\n",
       "      <td>12.0</td>\n",
       "      <td>195012</td>\n",
       "      <td>46.348750</td>\n",
       "      <td>43.662500</td>\n",
       "      <td>44.130000</td>\n",
       "      <td>49.299063</td>\n",
       "      <td>1014.937500</td>\n",
       "      <td>76.593750</td>\n",
       "      <td>4.51</td>\n",
       "      <td>6.826875</td>\n",
       "      <td>10.668000</td>\n",
       "    </tr>\n",
       "  </tbody>\n",
       "</table>\n",
       "</div>"
      ],
      "text/plain": [
       "             Day Type                Day Part  Avg Trip Time (min) Month  \\\n",
       "0  0: All Days (M-Su)       05: 4am (4am-5am)            20.900000   May   \n",
       "1  0: All Days (M-Su)      10: 9am (9am-10am)            27.066667   May   \n",
       "2  0: All Days (M-Su)    11: 10am (10am-11am)            14.066667   May   \n",
       "3  0: All Days (M-Su)  12: 11am (11am-12noon)            20.900000   May   \n",
       "4  0: All Days (M-Su)   13: 12pm (12noon-1pm)             9.966667   May   \n",
       "\n",
       "   Year  Month.1  Day  Time  Check_Flag  Average of temp  \\\n",
       "0  19.0      5.0  0.0   4.0       19504        44.160541   \n",
       "1  19.0      5.0  0.0   9.0       19509        42.815676   \n",
       "2  19.0      5.0  0.0  10.0      195010        42.677429   \n",
       "3  19.0      5.0  0.0  11.0      195011        44.346970   \n",
       "4  19.0      5.0  0.0  12.0      195012        46.348750   \n",
       "\n",
       "   Average of feels_like  Average of temp_min  Average of temp_max  \\\n",
       "0              41.684054            41.785135            47.123514   \n",
       "1              39.944324            40.171351            45.736216   \n",
       "2              39.514571            39.947143            45.499429   \n",
       "3              41.048182            42.161515            47.028182   \n",
       "4              43.662500            44.130000            49.299063   \n",
       "\n",
       "   Average of pressure  Average of humidity  Sum of rain_1h  \\\n",
       "0          1013.972973            80.459459            8.33   \n",
       "1          1013.216216            83.162162            6.70   \n",
       "2          1014.457143            83.885714            6.07   \n",
       "3          1014.696970            79.393939            6.22   \n",
       "4          1014.937500            76.593750            4.51   \n",
       "\n",
       "   Average of wind_speed  Average of wind_gust  \n",
       "0               4.962162              8.444483  \n",
       "1               5.323243              8.185625  \n",
       "2               5.592286             10.117692  \n",
       "3               6.637273             10.064839  \n",
       "4               6.826875             10.668000  "
      ]
     },
     "execution_count": 3,
     "metadata": {},
     "output_type": "execute_result"
    }
   ],
   "source": [
    "df.head()"
   ]
  },
  {
   "cell_type": "markdown",
   "id": "01aee98e",
   "metadata": {},
   "source": [
    "### 1.1 Data Cleaning"
   ]
  },
  {
   "cell_type": "code",
   "execution_count": 4,
   "id": "8163c27a",
   "metadata": {},
   "outputs": [],
   "source": [
    "df = df.drop([\"Month\", \"Check_Flag\"], axis=1)"
   ]
  },
  {
   "cell_type": "code",
   "execution_count": 5,
   "id": "191a45f2",
   "metadata": {},
   "outputs": [],
   "source": [
    "df = df.drop(np.where(df[\"Day Type\"] == \"0: All Days (M-Su)\")[0])"
   ]
  },
  {
   "cell_type": "code",
   "execution_count": 6,
   "id": "0d378eda",
   "metadata": {},
   "outputs": [],
   "source": [
    "df = df.reset_index(drop=True)"
   ]
  },
  {
   "cell_type": "code",
   "execution_count": null,
   "id": "b70b3a2d",
   "metadata": {},
   "outputs": [],
   "source": [
    "# sorted(df[\"Day Part\"].unique())"
   ]
  },
  {
   "cell_type": "code",
   "execution_count": null,
   "id": "83be1daa",
   "metadata": {},
   "outputs": [],
   "source": [
    "# morning = ['05: 4am (4am-5am)','06: 5am (5am-6am)','07: 6am (6am-7am)',\n",
    "#               '08: 7am (7am-8am)', '09: 8am (8am-9am)', '11: 10am (10am-11am)',]\n",
    "# noon = ['12: 11am (11am-12noon)', '12: 11am (11am-12noon)','13: 12pm (12noon-1pm)',\n",
    "#         '14: 1pm (1pm-2pm)','15: 2pm (2pm-3pm)','16: 3pm (3pm-4pm)']\n",
    "# evening = ['17: 4pm (4pm-5pm)','18: 5pm (5pm-6pm)','19: 6pm (6pm-7pm)','20: 7pm (7pm-8pm)','21: 8pm (8pm-9pm)']"
   ]
  },
  {
   "cell_type": "code",
   "execution_count": 7,
   "id": "37f19ec6",
   "metadata": {},
   "outputs": [
    {
     "data": {
      "text/plain": [
       "Index(['Day Type', 'Day Part', 'Avg Trip Time (min)', 'Year', 'Month.1', 'Day',\n",
       "       'Time', 'Average of temp', 'Average of feels_like',\n",
       "       'Average of temp_min', 'Average of temp_max', 'Average of pressure',\n",
       "       'Average of humidity', 'Sum of rain_1h', 'Average of wind_speed',\n",
       "       'Average of wind_gust'],\n",
       "      dtype='object')"
      ]
     },
     "execution_count": 7,
     "metadata": {},
     "output_type": "execute_result"
    }
   ],
   "source": [
    "df.columns"
   ]
  },
  {
   "cell_type": "code",
   "execution_count": 8,
   "id": "b97297ae",
   "metadata": {},
   "outputs": [],
   "source": [
    "new_df = pd.DataFrame()"
   ]
  },
  {
   "cell_type": "code",
   "execution_count": 9,
   "id": "2318cbc3",
   "metadata": {},
   "outputs": [],
   "source": [
    "for year in df[\"Year\"].unique():\n",
    "    for month in df[\"Month.1\"].unique():\n",
    "        for day in df[\"Day\"].unique():\n",
    "            temp_df = df.loc[np.where((df[\"Year\"] == year) & (df[\"Month.1\"] == month) & (df[\"Day\"] == day))[0], :]\n",
    "            new_row = [day, month, year, temp_df[\"Avg Trip Time (min)\"].mean()] +list(temp_df.loc[:, \"Average of temp\":].mean(skipna=True))\n",
    "            new_df = new_df.append(pd.Series(new_row), ignore_index=True)\n",
    "            \n",
    "#             morning_index = [i for i in temp_df.index if temp_df.loc[i, \"Day Part\"] in morning]\n",
    "#             new_row = [1,0, day, month, year, temp_df.loc[morning_index, \"Avg Trip Time (min)\"].mean(skipna=True)] +list(temp_df.loc[morning_index, \"Average of temp\":].mean(skipna=True))\n",
    "#             new_df = new_df.append(pd.Series(new_row), ignore_index=True)\n",
    "            \n",
    "            \n",
    "#             noon_index = [i for i in temp_df.index if temp_df.loc[i, \"Day Part\"] in noon]\n",
    "#             new_row = [0,1, day, month, year, temp_df.loc[noon_index, \"Avg Trip Time (min)\"].mean(skipna=True)] +list(temp_df.loc[noon_index, \"Average of temp\":].mean(skipna=True))\n",
    "#             new_df = new_df.append(pd.Series(new_row), ignore_index=True)\n",
    "\n",
    "            \n",
    "            \n",
    "#             evening_index = [i for i in temp_df.index if temp_df.loc[i, \"Day Part\"] in evening]\n",
    "#             new_row = [0,0, day, month, year, temp_df.loc[evening_index, \"Avg Trip Time (min)\"].mean(skipna=True)] +list(temp_df.loc[evening_index, \"Average of temp\":].mean(skipna=True))\n",
    "#             new_df = new_df.append(pd.Series(new_row), ignore_index=True)\n",
    "\n",
    "            "
   ]
  },
  {
   "cell_type": "code",
   "execution_count": 10,
   "id": "0039f8c1",
   "metadata": {},
   "outputs": [],
   "source": [
    "new_df.columns = [\"Day\", \"Month\", \"Year\", 'Avg Trip Time (min)','Average of temp',\n",
    "       'Average of feels_like', 'Average of temp_min', 'Average of temp_max',\n",
    "       'Average of pressure', 'Average of humidity', 'Sum of rain_1h',\n",
    "       'Average of wind_speed', 'Average of wind_gust']"
   ]
  },
  {
   "cell_type": "code",
   "execution_count": null,
   "id": "a5b5912e",
   "metadata": {},
   "outputs": [],
   "source": [
    "# new_df.columns = [\"Morning\", \"Afternoon\", \"Day\", \"Month\", \"Year\", 'Avg Trip Time (min)','Average of temp',\n",
    "#        'Average of feels_like', 'Average of temp_min', 'Average of temp_max',\n",
    "#        'Average of pressure', 'Average of humidity', 'Sum of rain_1h',\n",
    "#        'Average of wind_speed', 'Average of wind_gust']"
   ]
  },
  {
   "cell_type": "code",
   "execution_count": 11,
   "id": "5e9dde0a",
   "metadata": {},
   "outputs": [],
   "source": [
    "df = new_df"
   ]
  },
  {
   "cell_type": "code",
   "execution_count": 12,
   "id": "00dc26e9",
   "metadata": {},
   "outputs": [],
   "source": [
    "df[\"is_summer\"] = 0"
   ]
  },
  {
   "cell_type": "code",
   "execution_count": 13,
   "id": "f625e23e",
   "metadata": {},
   "outputs": [],
   "source": [
    "for i in range(0, len(df)):\n",
    "    if df.loc[i, \"Month\"] in [6,7,8]:\n",
    "        df.loc[i, \"is_summer\"] =1"
   ]
  },
  {
   "cell_type": "code",
   "execution_count": 14,
   "id": "9e84852a",
   "metadata": {},
   "outputs": [
    {
     "data": {
      "text/html": [
       "<div>\n",
       "<style scoped>\n",
       "    .dataframe tbody tr th:only-of-type {\n",
       "        vertical-align: middle;\n",
       "    }\n",
       "\n",
       "    .dataframe tbody tr th {\n",
       "        vertical-align: top;\n",
       "    }\n",
       "\n",
       "    .dataframe thead th {\n",
       "        text-align: right;\n",
       "    }\n",
       "</style>\n",
       "<table border=\"1\" class=\"dataframe\">\n",
       "  <thead>\n",
       "    <tr style=\"text-align: right;\">\n",
       "      <th></th>\n",
       "      <th>Day</th>\n",
       "      <th>Month</th>\n",
       "      <th>Year</th>\n",
       "      <th>Avg Trip Time (min)</th>\n",
       "      <th>Average of temp</th>\n",
       "      <th>Average of feels_like</th>\n",
       "      <th>Average of temp_min</th>\n",
       "      <th>Average of temp_max</th>\n",
       "      <th>Average of pressure</th>\n",
       "      <th>Average of humidity</th>\n",
       "      <th>Sum of rain_1h</th>\n",
       "      <th>Average of wind_speed</th>\n",
       "      <th>Average of wind_gust</th>\n",
       "      <th>is_summer</th>\n",
       "    </tr>\n",
       "  </thead>\n",
       "  <tbody>\n",
       "    <tr>\n",
       "      <th>0</th>\n",
       "      <td>1.0</td>\n",
       "      <td>5.0</td>\n",
       "      <td>19.0</td>\n",
       "      <td>17.221429</td>\n",
       "      <td>48.632929</td>\n",
       "      <td>46.856786</td>\n",
       "      <td>45.639643</td>\n",
       "      <td>52.718000</td>\n",
       "      <td>1013.257143</td>\n",
       "      <td>78.792857</td>\n",
       "      <td>1.220000</td>\n",
       "      <td>4.711571</td>\n",
       "      <td>7.659071</td>\n",
       "      <td>0</td>\n",
       "    </tr>\n",
       "    <tr>\n",
       "      <th>1</th>\n",
       "      <td>2.0</td>\n",
       "      <td>5.0</td>\n",
       "      <td>19.0</td>\n",
       "      <td>14.622222</td>\n",
       "      <td>47.245833</td>\n",
       "      <td>43.716167</td>\n",
       "      <td>43.662250</td>\n",
       "      <td>51.279583</td>\n",
       "      <td>1011.608333</td>\n",
       "      <td>68.875000</td>\n",
       "      <td>0.860000</td>\n",
       "      <td>9.016167</td>\n",
       "      <td>14.021528</td>\n",
       "      <td>0</td>\n",
       "    </tr>\n",
       "    <tr>\n",
       "      <th>2</th>\n",
       "      <td>3.0</td>\n",
       "      <td>5.0</td>\n",
       "      <td>19.0</td>\n",
       "      <td>19.761905</td>\n",
       "      <td>44.762667</td>\n",
       "      <td>40.465714</td>\n",
       "      <td>42.134429</td>\n",
       "      <td>47.884905</td>\n",
       "      <td>1016.457143</td>\n",
       "      <td>66.195238</td>\n",
       "      <td>0.364286</td>\n",
       "      <td>8.097714</td>\n",
       "      <td>13.471071</td>\n",
       "      <td>0</td>\n",
       "    </tr>\n",
       "    <tr>\n",
       "      <th>3</th>\n",
       "      <td>4.0</td>\n",
       "      <td>5.0</td>\n",
       "      <td>19.0</td>\n",
       "      <td>23.363636</td>\n",
       "      <td>46.319000</td>\n",
       "      <td>43.705333</td>\n",
       "      <td>42.993364</td>\n",
       "      <td>50.035000</td>\n",
       "      <td>1018.500000</td>\n",
       "      <td>69.436364</td>\n",
       "      <td>0.207273</td>\n",
       "      <td>5.188273</td>\n",
       "      <td>8.200545</td>\n",
       "      <td>0</td>\n",
       "    </tr>\n",
       "    <tr>\n",
       "      <th>4</th>\n",
       "      <td>6.0</td>\n",
       "      <td>5.0</td>\n",
       "      <td>19.0</td>\n",
       "      <td>18.003333</td>\n",
       "      <td>49.428533</td>\n",
       "      <td>47.492883</td>\n",
       "      <td>46.456483</td>\n",
       "      <td>52.701400</td>\n",
       "      <td>1013.138333</td>\n",
       "      <td>79.206667</td>\n",
       "      <td>0.417000</td>\n",
       "      <td>7.170933</td>\n",
       "      <td>11.451233</td>\n",
       "      <td>0</td>\n",
       "    </tr>\n",
       "  </tbody>\n",
       "</table>\n",
       "</div>"
      ],
      "text/plain": [
       "   Day  Month  Year  Avg Trip Time (min)  Average of temp  \\\n",
       "0  1.0    5.0  19.0            17.221429        48.632929   \n",
       "1  2.0    5.0  19.0            14.622222        47.245833   \n",
       "2  3.0    5.0  19.0            19.761905        44.762667   \n",
       "3  4.0    5.0  19.0            23.363636        46.319000   \n",
       "4  6.0    5.0  19.0            18.003333        49.428533   \n",
       "\n",
       "   Average of feels_like  Average of temp_min  Average of temp_max  \\\n",
       "0              46.856786            45.639643            52.718000   \n",
       "1              43.716167            43.662250            51.279583   \n",
       "2              40.465714            42.134429            47.884905   \n",
       "3              43.705333            42.993364            50.035000   \n",
       "4              47.492883            46.456483            52.701400   \n",
       "\n",
       "   Average of pressure  Average of humidity  Sum of rain_1h  \\\n",
       "0          1013.257143            78.792857        1.220000   \n",
       "1          1011.608333            68.875000        0.860000   \n",
       "2          1016.457143            66.195238        0.364286   \n",
       "3          1018.500000            69.436364        0.207273   \n",
       "4          1013.138333            79.206667        0.417000   \n",
       "\n",
       "   Average of wind_speed  Average of wind_gust  is_summer  \n",
       "0               4.711571              7.659071          0  \n",
       "1               9.016167             14.021528          0  \n",
       "2               8.097714             13.471071          0  \n",
       "3               5.188273              8.200545          0  \n",
       "4               7.170933             11.451233          0  "
      ]
     },
     "execution_count": 14,
     "metadata": {},
     "output_type": "execute_result"
    }
   ],
   "source": [
    "df.head()"
   ]
  },
  {
   "cell_type": "code",
   "execution_count": 15,
   "id": "f93a7ec2",
   "metadata": {},
   "outputs": [],
   "source": [
    "df[\"Tuesday\"] = 0\n",
    "df[\"Wednesday\"] = 0\n",
    "df[\"Thursday\"] = 0 \n",
    "df[\"Friday\"] = 0 \n",
    "df[\"Saturday\"] = 0 \n",
    "df[\"Sunday\"] = 0"
   ]
  },
  {
   "cell_type": "code",
   "execution_count": 16,
   "id": "022c2834",
   "metadata": {},
   "outputs": [],
   "source": [
    "for i in range(0, len(df)):\n",
    "    if df.loc[i, \"Day\"] == 1:\n",
    "        df.loc[i, \"Sunday\"] = 1\n",
    "    elif df.loc[i, \"Day\"] == 3:\n",
    "        df.loc[i, \"Tuesday\"] = 1\n",
    "    elif df.loc[i, \"Day\"] == 4:\n",
    "        df.loc[i, \"Wednesday\"] = 1\n",
    "    elif df.loc[i, \"Day\"] == 5:\n",
    "        df.loc[i, \"Thursday\"] = 1\n",
    "    elif df.loc[i, \"Day\"] == 6:\n",
    "        df.loc[i, \"Friday\"] = 1\n",
    "    elif df.loc[i, \"Day\"] == 7:\n",
    "        df.loc[i, \"Saturday\"] = 1"
   ]
  },
  {
   "cell_type": "code",
   "execution_count": 17,
   "id": "846fb822",
   "metadata": {},
   "outputs": [
    {
     "data": {
      "text/plain": [
       "Index(['Day', 'Month', 'Year', 'Avg Trip Time (min)', 'Average of temp',\n",
       "       'Average of feels_like', 'Average of temp_min', 'Average of temp_max',\n",
       "       'Average of pressure', 'Average of humidity', 'Sum of rain_1h',\n",
       "       'Average of wind_speed', 'Average of wind_gust', 'is_summer', 'Tuesday',\n",
       "       'Wednesday', 'Thursday', 'Friday', 'Saturday', 'Sunday'],\n",
       "      dtype='object')"
      ]
     },
     "execution_count": 17,
     "metadata": {},
     "output_type": "execute_result"
    }
   ],
   "source": [
    "df.columns"
   ]
  },
  {
   "cell_type": "code",
   "execution_count": 18,
   "id": "1b23801f",
   "metadata": {},
   "outputs": [],
   "source": [
    "df = df.drop([\"Day\"], axis=1)"
   ]
  },
  {
   "cell_type": "code",
   "execution_count": 19,
   "id": "cb3766a9",
   "metadata": {},
   "outputs": [],
   "source": [
    "#Find and replace NaN values:\n",
    "is_NaN = df.isnull()\n",
    "row_has_NaN = is_NaN.any(axis=1)\n",
    "rows_with_NaN = df[row_has_NaN]"
   ]
  },
  {
   "cell_type": "code",
   "execution_count": 20,
   "id": "02e16dfc",
   "metadata": {
    "scrolled": true
   },
   "outputs": [
    {
     "data": {
      "text/html": [
       "<div>\n",
       "<style scoped>\n",
       "    .dataframe tbody tr th:only-of-type {\n",
       "        vertical-align: middle;\n",
       "    }\n",
       "\n",
       "    .dataframe tbody tr th {\n",
       "        vertical-align: top;\n",
       "    }\n",
       "\n",
       "    .dataframe thead th {\n",
       "        text-align: right;\n",
       "    }\n",
       "</style>\n",
       "<table border=\"1\" class=\"dataframe\">\n",
       "  <thead>\n",
       "    <tr style=\"text-align: right;\">\n",
       "      <th></th>\n",
       "      <th>Month</th>\n",
       "      <th>Year</th>\n",
       "      <th>Avg Trip Time (min)</th>\n",
       "      <th>Average of temp</th>\n",
       "      <th>Average of feels_like</th>\n",
       "      <th>Average of temp_min</th>\n",
       "      <th>Average of temp_max</th>\n",
       "      <th>Average of pressure</th>\n",
       "      <th>Average of humidity</th>\n",
       "      <th>Sum of rain_1h</th>\n",
       "      <th>Average of wind_speed</th>\n",
       "      <th>Average of wind_gust</th>\n",
       "      <th>is_summer</th>\n",
       "      <th>Tuesday</th>\n",
       "      <th>Wednesday</th>\n",
       "      <th>Thursday</th>\n",
       "      <th>Friday</th>\n",
       "      <th>Saturday</th>\n",
       "      <th>Sunday</th>\n",
       "    </tr>\n",
       "  </thead>\n",
       "  <tbody>\n",
       "    <tr>\n",
       "      <th>42</th>\n",
       "      <td>5.0</td>\n",
       "      <td>20.0</td>\n",
       "      <td>NaN</td>\n",
       "      <td>NaN</td>\n",
       "      <td>NaN</td>\n",
       "      <td>NaN</td>\n",
       "      <td>NaN</td>\n",
       "      <td>NaN</td>\n",
       "      <td>NaN</td>\n",
       "      <td>NaN</td>\n",
       "      <td>NaN</td>\n",
       "      <td>NaN</td>\n",
       "      <td>0</td>\n",
       "      <td>0</td>\n",
       "      <td>0</td>\n",
       "      <td>0</td>\n",
       "      <td>0</td>\n",
       "      <td>0</td>\n",
       "      <td>1</td>\n",
       "    </tr>\n",
       "    <tr>\n",
       "      <th>43</th>\n",
       "      <td>5.0</td>\n",
       "      <td>20.0</td>\n",
       "      <td>NaN</td>\n",
       "      <td>NaN</td>\n",
       "      <td>NaN</td>\n",
       "      <td>NaN</td>\n",
       "      <td>NaN</td>\n",
       "      <td>NaN</td>\n",
       "      <td>NaN</td>\n",
       "      <td>NaN</td>\n",
       "      <td>NaN</td>\n",
       "      <td>NaN</td>\n",
       "      <td>0</td>\n",
       "      <td>0</td>\n",
       "      <td>0</td>\n",
       "      <td>0</td>\n",
       "      <td>0</td>\n",
       "      <td>0</td>\n",
       "      <td>0</td>\n",
       "    </tr>\n",
       "    <tr>\n",
       "      <th>45</th>\n",
       "      <td>5.0</td>\n",
       "      <td>20.0</td>\n",
       "      <td>NaN</td>\n",
       "      <td>NaN</td>\n",
       "      <td>NaN</td>\n",
       "      <td>NaN</td>\n",
       "      <td>NaN</td>\n",
       "      <td>NaN</td>\n",
       "      <td>NaN</td>\n",
       "      <td>NaN</td>\n",
       "      <td>NaN</td>\n",
       "      <td>NaN</td>\n",
       "      <td>0</td>\n",
       "      <td>0</td>\n",
       "      <td>1</td>\n",
       "      <td>0</td>\n",
       "      <td>0</td>\n",
       "      <td>0</td>\n",
       "      <td>0</td>\n",
       "    </tr>\n",
       "    <tr>\n",
       "      <th>46</th>\n",
       "      <td>5.0</td>\n",
       "      <td>20.0</td>\n",
       "      <td>NaN</td>\n",
       "      <td>NaN</td>\n",
       "      <td>NaN</td>\n",
       "      <td>NaN</td>\n",
       "      <td>NaN</td>\n",
       "      <td>NaN</td>\n",
       "      <td>NaN</td>\n",
       "      <td>NaN</td>\n",
       "      <td>NaN</td>\n",
       "      <td>NaN</td>\n",
       "      <td>0</td>\n",
       "      <td>0</td>\n",
       "      <td>0</td>\n",
       "      <td>0</td>\n",
       "      <td>1</td>\n",
       "      <td>0</td>\n",
       "      <td>0</td>\n",
       "    </tr>\n",
       "    <tr>\n",
       "      <th>47</th>\n",
       "      <td>5.0</td>\n",
       "      <td>20.0</td>\n",
       "      <td>NaN</td>\n",
       "      <td>NaN</td>\n",
       "      <td>NaN</td>\n",
       "      <td>NaN</td>\n",
       "      <td>NaN</td>\n",
       "      <td>NaN</td>\n",
       "      <td>NaN</td>\n",
       "      <td>NaN</td>\n",
       "      <td>NaN</td>\n",
       "      <td>NaN</td>\n",
       "      <td>0</td>\n",
       "      <td>0</td>\n",
       "      <td>0</td>\n",
       "      <td>0</td>\n",
       "      <td>0</td>\n",
       "      <td>1</td>\n",
       "      <td>0</td>\n",
       "    </tr>\n",
       "  </tbody>\n",
       "</table>\n",
       "</div>"
      ],
      "text/plain": [
       "    Month  Year  Avg Trip Time (min)  Average of temp  Average of feels_like  \\\n",
       "42    5.0  20.0                  NaN              NaN                    NaN   \n",
       "43    5.0  20.0                  NaN              NaN                    NaN   \n",
       "45    5.0  20.0                  NaN              NaN                    NaN   \n",
       "46    5.0  20.0                  NaN              NaN                    NaN   \n",
       "47    5.0  20.0                  NaN              NaN                    NaN   \n",
       "\n",
       "    Average of temp_min  Average of temp_max  Average of pressure  \\\n",
       "42                  NaN                  NaN                  NaN   \n",
       "43                  NaN                  NaN                  NaN   \n",
       "45                  NaN                  NaN                  NaN   \n",
       "46                  NaN                  NaN                  NaN   \n",
       "47                  NaN                  NaN                  NaN   \n",
       "\n",
       "    Average of humidity  Sum of rain_1h  Average of wind_speed  \\\n",
       "42                  NaN             NaN                    NaN   \n",
       "43                  NaN             NaN                    NaN   \n",
       "45                  NaN             NaN                    NaN   \n",
       "46                  NaN             NaN                    NaN   \n",
       "47                  NaN             NaN                    NaN   \n",
       "\n",
       "    Average of wind_gust  is_summer  Tuesday  Wednesday  Thursday  Friday  \\\n",
       "42                   NaN          0        0          0         0       0   \n",
       "43                   NaN          0        0          0         0       0   \n",
       "45                   NaN          0        0          1         0       0   \n",
       "46                   NaN          0        0          0         0       1   \n",
       "47                   NaN          0        0          0         0       0   \n",
       "\n",
       "    Saturday  Sunday  \n",
       "42         0       1  \n",
       "43         0       0  \n",
       "45         0       0  \n",
       "46         0       0  \n",
       "47         1       0  "
      ]
     },
     "execution_count": 20,
     "metadata": {},
     "output_type": "execute_result"
    }
   ],
   "source": [
    "rows_with_NaN #fuk"
   ]
  },
  {
   "cell_type": "code",
   "execution_count": 21,
   "id": "c510245d",
   "metadata": {},
   "outputs": [],
   "source": [
    "df = df.drop(df[row_has_NaN].index).reset_index(drop=True)"
   ]
  },
  {
   "cell_type": "code",
   "execution_count": 22,
   "id": "cc81902f",
   "metadata": {},
   "outputs": [],
   "source": [
    "to_drop = [i for i in range(0, len(df)) if (df.loc[i, \"Avg Trip Time (min)\"] > 60 or df.loc[i, \"Avg Trip Time (min)\" ] < 5)]"
   ]
  },
  {
   "cell_type": "code",
   "execution_count": 23,
   "id": "edc9b536",
   "metadata": {},
   "outputs": [],
   "source": [
    "df = df.drop(to_drop, axis=0).reset_index(drop=True)"
   ]
  },
  {
   "cell_type": "markdown",
   "id": "f01aec6c",
   "metadata": {},
   "source": [
    "### 1.3 Data Splitting"
   ]
  },
  {
   "cell_type": "code",
   "execution_count": 24,
   "id": "e9b0f8a2",
   "metadata": {},
   "outputs": [],
   "source": [
    "from sklearn.model_selection import train_test_split"
   ]
  },
  {
   "cell_type": "code",
   "execution_count": 25,
   "id": "3cd1d4bb",
   "metadata": {},
   "outputs": [],
   "source": [
    "columns_for_modeling = [i for i in df.columns if i != \"Avg Trip Time (min)\"]"
   ]
  },
  {
   "cell_type": "code",
   "execution_count": 26,
   "id": "cdf00d9c",
   "metadata": {},
   "outputs": [],
   "source": [
    "#Main split for training and splitting:\n",
    "x_train, x_test, y_train, y_test = train_test_split(df[columns_for_modeling], df[\"Avg Trip Time (min)\"], test_size=0.33)"
   ]
  },
  {
   "cell_type": "code",
   "execution_count": 27,
   "id": "10d796a5",
   "metadata": {},
   "outputs": [],
   "source": [
    "#Second split for parameter tuning:\n",
    "x_train_1, x_test_val, y_train_1, y_test_val = train_test_split(x_train, y_train, test_size=0.33)"
   ]
  },
  {
   "cell_type": "code",
   "execution_count": 28,
   "id": "4f7121b3",
   "metadata": {},
   "outputs": [
    {
     "data": {
      "text/plain": [
       "Index(['Month', 'Year', 'Average of temp', 'Average of feels_like',\n",
       "       'Average of temp_min', 'Average of temp_max', 'Average of pressure',\n",
       "       'Average of humidity', 'Sum of rain_1h', 'Average of wind_speed',\n",
       "       'Average of wind_gust', 'is_summer', 'Tuesday', 'Wednesday', 'Thursday',\n",
       "       'Friday', 'Saturday', 'Sunday'],\n",
       "      dtype='object')"
      ]
     },
     "execution_count": 28,
     "metadata": {},
     "output_type": "execute_result"
    }
   ],
   "source": [
    "x_train_1.columns"
   ]
  },
  {
   "cell_type": "markdown",
   "id": "bfde257d",
   "metadata": {},
   "source": [
    "# 2.  ML with Feature Selection"
   ]
  },
  {
   "cell_type": "code",
   "execution_count": 29,
   "id": "0990c7c8",
   "metadata": {},
   "outputs": [],
   "source": [
    "from sklearn.linear_model import LinearRegression, Ridge, Lasso, RidgeCV\n",
    "from sklearn.ensemble import RandomForestRegressor\n",
    "from sklearn.svm import SVR"
   ]
  },
  {
   "cell_type": "markdown",
   "id": "15ec0766",
   "metadata": {},
   "source": [
    "### 2.1 Linear"
   ]
  },
  {
   "cell_type": "code",
   "execution_count": 30,
   "id": "959a549b",
   "metadata": {},
   "outputs": [],
   "source": [
    "reg = LinearRegression()"
   ]
  },
  {
   "cell_type": "code",
   "execution_count": 31,
   "id": "9164e39f",
   "metadata": {},
   "outputs": [],
   "source": [
    "selector = RFE(reg, n_features_to_select=5, step=1)"
   ]
  },
  {
   "cell_type": "code",
   "execution_count": 32,
   "id": "f581dd04",
   "metadata": {},
   "outputs": [],
   "source": [
    "selector = selector.fit(x_train, y_train)"
   ]
  },
  {
   "cell_type": "code",
   "execution_count": 33,
   "id": "85fb7b32",
   "metadata": {},
   "outputs": [],
   "source": [
    "lin_reg_choices = selector.support_"
   ]
  },
  {
   "cell_type": "code",
   "execution_count": 34,
   "id": "e981c013",
   "metadata": {},
   "outputs": [
    {
     "data": {
      "text/plain": [
       "array([ 8,  1,  1, 10,  3,  2, 14, 12, 11, 13,  9,  7,  5,  1,  4,  1,  1,\n",
       "        6])"
      ]
     },
     "execution_count": 34,
     "metadata": {},
     "output_type": "execute_result"
    }
   ],
   "source": [
    "selector.ranking_"
   ]
  },
  {
   "cell_type": "code",
   "execution_count": 35,
   "id": "0f9f7365",
   "metadata": {},
   "outputs": [],
   "source": [
    "pred =selector.predict(x_test)"
   ]
  },
  {
   "cell_type": "code",
   "execution_count": 36,
   "id": "44524c69",
   "metadata": {},
   "outputs": [
    {
     "data": {
      "text/plain": [
       "4.976360352966269"
      ]
     },
     "execution_count": 36,
     "metadata": {},
     "output_type": "execute_result"
    }
   ],
   "source": [
    "mean_squared_error(y_test, pred, squared=False)"
   ]
  },
  {
   "cell_type": "code",
   "execution_count": 37,
   "id": "230deca3",
   "metadata": {},
   "outputs": [
    {
     "data": {
      "text/plain": [
       "Index(['Year', 'Average of temp', 'Wednesday', 'Friday', 'Saturday'], dtype='object')"
      ]
     },
     "execution_count": 37,
     "metadata": {},
     "output_type": "execute_result"
    }
   ],
   "source": [
    "x_train.columns[np.where(lin_reg_choices == True)[0]]"
   ]
  },
  {
   "cell_type": "markdown",
   "id": "f2f97909",
   "metadata": {},
   "source": [
    "### 2.2 Random Forest"
   ]
  },
  {
   "cell_type": "code",
   "execution_count": 38,
   "id": "88ba091f",
   "metadata": {},
   "outputs": [],
   "source": [
    "regr_1 = RandomForestRegressor(random_state=0, criterion=\"mae\")"
   ]
  },
  {
   "cell_type": "code",
   "execution_count": 39,
   "id": "5d26374c",
   "metadata": {},
   "outputs": [],
   "source": [
    "selector = RFE(regr_1, n_features_to_select=5, step=1)"
   ]
  },
  {
   "cell_type": "code",
   "execution_count": 40,
   "id": "fa235b67",
   "metadata": {},
   "outputs": [],
   "source": [
    "selector = selector.fit(x_train, y_train)"
   ]
  },
  {
   "cell_type": "code",
   "execution_count": 41,
   "id": "47e66495",
   "metadata": {},
   "outputs": [],
   "source": [
    "rf_choices  = selector.support_"
   ]
  },
  {
   "cell_type": "code",
   "execution_count": 42,
   "id": "b5ee35f4",
   "metadata": {},
   "outputs": [],
   "source": [
    "pred =selector.predict(x_test)"
   ]
  },
  {
   "cell_type": "code",
   "execution_count": 43,
   "id": "43ca44ef",
   "metadata": {},
   "outputs": [
    {
     "data": {
      "text/plain": [
       "4.790278556103554"
      ]
     },
     "execution_count": 43,
     "metadata": {},
     "output_type": "execute_result"
    }
   ],
   "source": [
    "mean_squared_error(y_test, pred, squared=False)"
   ]
  },
  {
   "cell_type": "code",
   "execution_count": 44,
   "id": "29bb8611",
   "metadata": {
    "scrolled": true
   },
   "outputs": [
    {
     "data": {
      "text/plain": [
       "Index(['Year', 'Average of temp_min', 'Average of pressure',\n",
       "       'Average of humidity', 'Average of wind_speed'],\n",
       "      dtype='object')"
      ]
     },
     "execution_count": 44,
     "metadata": {},
     "output_type": "execute_result"
    }
   ],
   "source": [
    "x_train.columns[np.where(rf_choices == True)[0]]"
   ]
  },
  {
   "cell_type": "markdown",
   "id": "c1db1191",
   "metadata": {},
   "source": [
    "### 2.3 Ridge"
   ]
  },
  {
   "cell_type": "code",
   "execution_count": 45,
   "id": "88ba091f",
   "metadata": {},
   "outputs": [],
   "source": [
    "ridge = Ridge(alpha=1.0)"
   ]
  },
  {
   "cell_type": "code",
   "execution_count": 46,
   "id": "5d26374c",
   "metadata": {},
   "outputs": [],
   "source": [
    "selector = RFE(ridge, n_features_to_select=5, step=1)"
   ]
  },
  {
   "cell_type": "code",
   "execution_count": 47,
   "id": "fa235b67",
   "metadata": {},
   "outputs": [],
   "source": [
    "selector = selector.fit(x_train, y_train)"
   ]
  },
  {
   "cell_type": "code",
   "execution_count": 48,
   "id": "47e66495",
   "metadata": {},
   "outputs": [],
   "source": [
    "ridge_choices  = selector.support_"
   ]
  },
  {
   "cell_type": "code",
   "execution_count": 49,
   "id": "b5ee35f4",
   "metadata": {},
   "outputs": [],
   "source": [
    "pred =selector.predict(x_test)"
   ]
  },
  {
   "cell_type": "code",
   "execution_count": 50,
   "id": "43ca44ef",
   "metadata": {},
   "outputs": [
    {
     "data": {
      "text/plain": [
       "5.041629724240931"
      ]
     },
     "execution_count": 50,
     "metadata": {},
     "output_type": "execute_result"
    }
   ],
   "source": [
    "mean_squared_error(y_test, pred, squared=False)"
   ]
  },
  {
   "cell_type": "code",
   "execution_count": 51,
   "id": "29bb8611",
   "metadata": {
    "scrolled": true
   },
   "outputs": [
    {
     "data": {
      "text/plain": [
       "Index(['Year', 'Wednesday', 'Thursday', 'Friday', 'Saturday'], dtype='object')"
      ]
     },
     "execution_count": 51,
     "metadata": {},
     "output_type": "execute_result"
    }
   ],
   "source": [
    "x_train.columns[np.where(ridge_choices == True)[0]]"
   ]
  },
  {
   "cell_type": "markdown",
   "id": "f2f97909",
   "metadata": {},
   "source": [
    "### 2.4 Lasso"
   ]
  },
  {
   "cell_type": "code",
   "execution_count": 52,
   "id": "88ba091f",
   "metadata": {},
   "outputs": [],
   "source": [
    "las = Lasso()"
   ]
  },
  {
   "cell_type": "code",
   "execution_count": 53,
   "id": "5d26374c",
   "metadata": {},
   "outputs": [],
   "source": [
    "selector = RFE(las, n_features_to_select=5, step=1)"
   ]
  },
  {
   "cell_type": "code",
   "execution_count": 54,
   "id": "fa235b67",
   "metadata": {},
   "outputs": [],
   "source": [
    "selector = selector.fit(x_train, y_train)"
   ]
  },
  {
   "cell_type": "code",
   "execution_count": 55,
   "id": "47e66495",
   "metadata": {},
   "outputs": [],
   "source": [
    "las_choices  = selector.support_"
   ]
  },
  {
   "cell_type": "code",
   "execution_count": 56,
   "id": "b5ee35f4",
   "metadata": {},
   "outputs": [],
   "source": [
    "pred =selector.predict(x_test)"
   ]
  },
  {
   "cell_type": "code",
   "execution_count": 57,
   "id": "43ca44ef",
   "metadata": {},
   "outputs": [
    {
     "data": {
      "text/plain": [
       "5.299581270051477"
      ]
     },
     "execution_count": 57,
     "metadata": {},
     "output_type": "execute_result"
    }
   ],
   "source": [
    "mean_squared_error(y_test, pred, squared=False)"
   ]
  },
  {
   "cell_type": "code",
   "execution_count": 58,
   "id": "29bb8611",
   "metadata": {
    "scrolled": true
   },
   "outputs": [
    {
     "data": {
      "text/plain": [
       "Index(['Month', 'Year', 'Average of feels_like', 'Average of humidity',\n",
       "       'Average of wind_gust'],\n",
       "      dtype='object')"
      ]
     },
     "execution_count": 58,
     "metadata": {},
     "output_type": "execute_result"
    }
   ],
   "source": [
    "x_train.columns[np.where(las_choices == True)[0]]"
   ]
  },
  {
   "cell_type": "code",
   "execution_count": null,
   "id": "e392da76",
   "metadata": {},
   "outputs": [],
   "source": []
  }
 ],
 "metadata": {
  "kernelspec": {
   "display_name": "Python 3 (ipykernel)",
   "language": "python",
   "name": "python3"
  },
  "language_info": {
   "codemirror_mode": {
    "name": "ipython",
    "version": 3
   },
   "file_extension": ".py",
   "mimetype": "text/x-python",
   "name": "python",
   "nbconvert_exporter": "python",
   "pygments_lexer": "ipython3",
   "version": "3.9.7"
  }
 },
 "nbformat": 4,
 "nbformat_minor": 5
}
