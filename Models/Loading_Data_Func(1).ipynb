{
 "cells": [
  {
   "cell_type": "code",
   "execution_count": 9,
   "id": "539a5e58",
   "metadata": {},
   "outputs": [],
   "source": [
    "import pandas as pd\n",
    "import numpy as np\n",
    "import joblib"
   ]
  },
  {
   "cell_type": "code",
   "execution_count": 10,
   "id": "88bd5d19",
   "metadata": {},
   "outputs": [],
   "source": [
    "df = pd.read_csv(\"Example.csv\", index_col = \"Index\")"
   ]
  },
  {
   "cell_type": "code",
   "execution_count": 11,
   "id": "64fe3d98",
   "metadata": {},
   "outputs": [
    {
     "data": {
      "text/plain": [
       "Index(['Month', 'Year', 'DOW', 'Average of temp', 'Average of feels_like',\n",
       "       'Average of temp_min', 'Average of temp_max', 'Average of pressure',\n",
       "       'Average of humidity', 'Sum of rain_1h', 'Average of wind_speed',\n",
       "       'Average of wind_gust'],\n",
       "      dtype='object')"
      ]
     },
     "execution_count": 11,
     "metadata": {},
     "output_type": "execute_result"
    }
   ],
   "source": [
    "df.columns"
   ]
  },
  {
   "cell_type": "code",
   "execution_count": 12,
   "id": "5a0c9bd4",
   "metadata": {},
   "outputs": [],
   "source": [
    "def prep_data_random_forest(df):\n",
    "    #add summer variable\n",
    "    df[\"is_summer\"] = 0\n",
    "    for i in df.index:\n",
    "        if df.loc[i, \"Month\"] in [6,7,8]:\n",
    "            df.loc[i, \"is_summer\"] =1\n",
    "    \n",
    "    #one hot encoding for DOW\n",
    "    df[\"Monday\"] = 0\n",
    "    df[\"Tuesday\"] = 0\n",
    "    df[\"Wednesday\"] = 0\n",
    "    df[\"Thursday\"] = 0 \n",
    "    df[\"Friday\"] = 0 \n",
    "    df[\"Saturday\"] = 0 \n",
    "    df[\"Sunday\"] = 0\n",
    "    \n",
    "    for i in df.index:\n",
    "        if df.loc[i, \"DOW\"] == 1:\n",
    "            df.loc[i, \"Sunday\"] = 1\n",
    "        elif df.loc[i, \"DOW\"] == 2:\n",
    "            df.loc[i, \"Monday\"] = 1\n",
    "        elif df.loc[i, \"DOW\"] == 3:\n",
    "            df.loc[i, \"Tuesday\"] = 1\n",
    "        elif df.loc[i, \"DOW\"] == 4:\n",
    "            df.loc[i, \"Wednesday\"] = 1\n",
    "        elif df.loc[i, \"DOW\"] == 5:\n",
    "            df.loc[i, \"Thursday\"] = 1\n",
    "        elif df.loc[i, \"DOW\"] == 6:\n",
    "            df.loc[i, \"Friday\"] = 1\n",
    "        elif df.loc[i, \"DOW\"] == 7:\n",
    "            df.loc[i, \"Saturday\"] = 1\n",
    "        \n",
    "        \n",
    "    df = df.drop([\"DOW\"], axis=1)\n",
    "    \n",
    "    return df"
   ]
  },
  {
   "cell_type": "code",
   "execution_count": 13,
   "id": "63421a7b",
   "metadata": {},
   "outputs": [],
   "source": [
    "df = prep_data_random_forest(df)"
   ]
  },
  {
   "cell_type": "code",
   "execution_count": 14,
   "id": "29947a22",
   "metadata": {},
   "outputs": [],
   "source": [
    "loaded_model = joblib.load(\"RF.joblib\")"
   ]
  },
  {
   "cell_type": "code",
   "execution_count": 15,
   "id": "855ffa11",
   "metadata": {},
   "outputs": [
    {
     "data": {
      "text/plain": [
       "array([22.46670027, 23.22371064, 18.82014031, 27.85934707, 22.10386214,\n",
       "       25.2892642 ])"
      ]
     },
     "execution_count": 15,
     "metadata": {},
     "output_type": "execute_result"
    }
   ],
   "source": [
    "loaded_model.predict(df)"
   ]
  },
  {
   "cell_type": "code",
   "execution_count": null,
   "id": "87d46100",
   "metadata": {},
   "outputs": [],
   "source": []
  }
 ],
 "metadata": {
  "kernelspec": {
   "display_name": "Python 3 (ipykernel)",
   "language": "python",
   "name": "python3"
  },
  "language_info": {
   "codemirror_mode": {
    "name": "ipython",
    "version": 3
   },
   "file_extension": ".py",
   "mimetype": "text/x-python",
   "name": "python",
   "nbconvert_exporter": "python",
   "pygments_lexer": "ipython3",
   "version": "3.9.7"
  }
 },
 "nbformat": 4,
 "nbformat_minor": 5
}
