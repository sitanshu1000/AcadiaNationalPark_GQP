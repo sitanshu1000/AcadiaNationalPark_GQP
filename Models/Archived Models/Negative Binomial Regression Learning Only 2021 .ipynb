{
 "cells": [
  {
   "cell_type": "code",
   "execution_count": 41,
   "metadata": {
    "collapsed": true
   },
   "outputs": [],
   "source": [
    "import pandas as pd\n",
    "from patsy import dmatrices\n",
    "import numpy as np\n",
    "import statsmodels.api as sm\n",
    "import statsmodels.formula.api as smf\n",
    "from statsmodels.tools.eval_measures import rmse\n",
    "import matplotlib.pyplot as plt"
   ]
  },
  {
   "cell_type": "code",
   "execution_count": 42,
   "outputs": [],
   "source": [
    "data_import = pd.read_csv('/Users/sitanshurupani/Data Science Coursework/Sem 4/GQP - National Parks/DataSpell Project/Data/Daily_attendance.csv')"
   ],
   "metadata": {
    "collapsed": false,
    "pycharm": {
     "name": "#%%\n"
    }
   }
  },
  {
   "cell_type": "code",
   "execution_count": 43,
   "outputs": [],
   "source": [
    "all_years_test = data_import\n",
    "all_years_test.set_index('Full_Date', inplace=True)"
   ],
   "metadata": {
    "collapsed": false,
    "pycharm": {
     "name": "#%%\n"
    }
   }
  },
  {
   "cell_type": "code",
   "execution_count": 44,
   "outputs": [],
   "source": [
    "all_years_test.index = pd.to_datetime(all_years_test.index)\n",
    "ds = all_years_test.index.to_series()\n",
    "all_years_test['YEAR'] = ds.dt.year\n",
    "all_years_test['MONTH'] = ds.dt.month\n",
    "all_years_test['DAY_OF_WEEK'] = ds.dt.dayofweek\n",
    "all_years_test['DAY'] = ds.dt.day"
   ],
   "metadata": {
    "collapsed": false,
    "pycharm": {
     "name": "#%%\n"
    }
   }
  },
  {
   "cell_type": "code",
   "execution_count": 45,
   "outputs": [],
   "source": [
    "all_years_test.drop(columns=['snow_1h', 'temp_max', 'temp_min','YEAR', 'wind_gust', 'pressure'], inplace=True)\n",
    "all_years_test[\"federal_holiday_flag\"] = all_years_test[\"federal_holiday_flag\"].astype(int)\n",
    "all_years_test[\"school_holiday_flag\"] = all_years_test[\"school_holiday_flag\"].astype(int)"
   ],
   "metadata": {
    "collapsed": false,
    "pycharm": {
     "name": "#%%\n"
    }
   }
  },
  {
   "cell_type": "code",
   "execution_count": 46,
   "outputs": [
    {
     "data": {
      "text/plain": "value                   0\ntemp                    0\nhumidity                0\nwind_speed              0\nrain_1h                 0\nfederal_holiday_flag    0\nschool_holiday_flag     0\nMONTH                   0\nDAY_OF_WEEK             0\nDAY                     0\ndtype: int64"
     },
     "execution_count": 46,
     "metadata": {},
     "output_type": "execute_result"
    }
   ],
   "source": [
    "all_years_test.isna().sum()"
   ],
   "metadata": {
    "collapsed": false,
    "pycharm": {
     "name": "#%%\n"
    }
   }
  },
  {
   "cell_type": "code",
   "execution_count": 47,
   "outputs": [],
   "source": [
    "df_2021 = all_years_test[all_years_test.index.year==2021]"
   ],
   "metadata": {
    "collapsed": false,
    "pycharm": {
     "name": "#%%\n"
    }
   }
  },
  {
   "cell_type": "code",
   "execution_count": 48,
   "outputs": [
    {
     "name": "stdout",
     "output_type": "stream",
     "text": [
      "Training data set length=147\n",
      "Testing data set length=37\n"
     ]
    }
   ],
   "source": [
    "mask = np.random.rand(len(df_2021)) < 0.8\n",
    "df_train = df_2021[mask]\n",
    "df_test = df_2021[~mask]\n",
    "print('Training data set length='+str(len(df_train)))\n",
    "print('Testing data set length='+str(len(df_test)))"
   ],
   "metadata": {
    "collapsed": false,
    "pycharm": {
     "name": "#%%\n"
    }
   }
  },
  {
   "cell_type": "code",
   "execution_count": 49,
   "outputs": [],
   "source": [
    "expr = \"\"\"value ~ DAY  + DAY_OF_WEEK + MONTH + temp + humidity + wind_speed + rain_1h + federal_holiday_flag + school_holiday_flag\"\"\""
   ],
   "metadata": {
    "collapsed": false,
    "pycharm": {
     "name": "#%%\n"
    }
   }
  },
  {
   "cell_type": "code",
   "execution_count": 50,
   "outputs": [],
   "source": [
    "# X_train, X_test, y_train, y_test = train_test_split(all_years_test.loc[:, all_years_test.columns != 'value'], all_years_test['value'], test_size =0.2, random_state = 42)"
   ],
   "metadata": {
    "collapsed": false,
    "pycharm": {
     "name": "#%%\n"
    }
   }
  },
  {
   "cell_type": "code",
   "execution_count": 51,
   "outputs": [],
   "source": [
    "y_train, X_train = dmatrices(expr, df_train, return_type='dataframe')\n",
    "y_test, X_test = dmatrices(expr, df_test, return_type='dataframe')"
   ],
   "metadata": {
    "collapsed": false,
    "pycharm": {
     "name": "#%%\n"
    }
   }
  },
  {
   "cell_type": "code",
   "execution_count": 52,
   "outputs": [],
   "source": [
    "poisson_training_results = sm.GLM(y_train, X_train, family=sm.families.Poisson()).fit()"
   ],
   "metadata": {
    "collapsed": false,
    "pycharm": {
     "name": "#%%\n"
    }
   }
  },
  {
   "cell_type": "code",
   "execution_count": 53,
   "outputs": [
    {
     "name": "stdout",
     "output_type": "stream",
     "text": [
      "                 Generalized Linear Model Regression Results                  \n",
      "==============================================================================\n",
      "Dep. Variable:                  value   No. Observations:                  147\n",
      "Model:                            GLM   Df Residuals:                      137\n",
      "Model Family:                 Poisson   Df Model:                            9\n",
      "Link Function:                    log   Scale:                          1.0000\n",
      "Method:                          IRLS   Log-Likelihood:                -4643.2\n",
      "Date:                Tue, 19 Apr 2022   Deviance:                       7989.7\n",
      "Time:                        15:11:31   Pearson chi2:                 7.89e+03\n",
      "No. Iterations:                     4                                         \n",
      "Covariance Type:            nonrobust                                         \n",
      "========================================================================================\n",
      "                           coef    std err          z      P>|z|      [0.025      0.975]\n",
      "----------------------------------------------------------------------------------------\n",
      "Intercept                6.2365      0.033    188.300      0.000       6.172       6.301\n",
      "DAY                      0.0062      0.000     22.213      0.000       0.006       0.007\n",
      "DAY_OF_WEEK              0.0134      0.001     10.211      0.000       0.011       0.016\n",
      "MONTH                    0.0923      0.002     51.979      0.000       0.089       0.096\n",
      "temp                     0.0086      0.000     18.037      0.000       0.008       0.010\n",
      "humidity                -0.0076      0.000    -25.216      0.000      -0.008      -0.007\n",
      "wind_speed              -0.0024      0.001     -2.639      0.008      -0.004      -0.001\n",
      "rain_1h                 -0.0025      0.000    -21.426      0.000      -0.003      -0.002\n",
      "federal_holiday_flag     0.1238      0.016      7.607      0.000       0.092       0.156\n",
      "school_holiday_flag      0.1285      0.007     17.763      0.000       0.114       0.143\n",
      "========================================================================================\n"
     ]
    }
   ],
   "source": [
    "print(poisson_training_results.summary())"
   ],
   "metadata": {
    "collapsed": false,
    "pycharm": {
     "name": "#%%\n"
    }
   }
  },
  {
   "cell_type": "code",
   "execution_count": 54,
   "outputs": [
    {
     "name": "stdout",
     "output_type": "stream",
     "text": [
      "[ 724.26337236  876.69477476  654.907994    659.4224344   820.6149404\n",
      "  909.48668284  756.36853753  873.82776109  958.47219824  945.64426321\n",
      "  860.34541583  851.79122384 1025.82205529  823.38651704  818.54756467\n",
      "  815.73467623  898.32329141  932.06927332  831.14261888  901.88871494\n",
      " 1016.64561811  864.20112709  841.09043397  746.05293923  911.60053894\n",
      " 1064.98859146  913.53291337  892.04434964 1017.3712177  1133.9115923\n",
      " 1112.99005998 1120.4988141   916.77823896 1347.36550246 1030.68173242\n",
      " 1014.0316275  1147.02178981 1003.49624036  898.47640583 1117.38601143\n",
      " 1265.90320884 1088.43981709 1234.71118602 1050.96715733 1064.0755298\n",
      " 1174.51643933 1055.199808   1221.88540714 1118.14706493  963.8831242\n",
      " 1021.41556266  859.11035471 1154.57195977 1018.35977713 1239.96458602\n",
      "  824.76740683 1133.05779088 1116.71397671 1091.47962931 1094.62329599\n",
      " 1135.08897236 1237.38969991 1056.25233362 1060.0959775  1129.27107736\n",
      " 1149.45566014 1207.0611202  1301.3192312  1155.28991093 1120.25370759\n",
      " 1330.57519038 1373.13025859 1340.3454919  1139.25914337 1307.05872297\n",
      " 1187.75374552  893.35092046 1145.81923865 1249.2229457  1214.56814615\n",
      " 1129.93529979 1345.36745121 1379.43652012 1235.55529074 1271.26040095\n",
      " 1251.13254943 1343.70714004 1288.68741495 1040.08711232 1255.28421472\n",
      " 1424.65260207 1478.63025038 1611.32156612 1592.08275107 1463.27797305\n",
      " 1295.26945166 1427.78180789 1191.99015977  796.88426447 1199.59175163\n",
      " 1135.41872539 1138.77464161 1142.90326268 1102.09975907  706.07400604\n",
      " 1268.5949718  1207.36424716 1234.80153824 1115.87921464 1226.78460488\n",
      " 1393.228187   1228.44384673 1151.52996056 1227.09475554 1246.00747415\n",
      " 1250.44121587 1168.41622349 1096.06152784 1229.21663065 1350.66575526\n",
      " 1251.38046821 1125.10615169 1235.95704515 1114.15978936 1164.89559911\n",
      " 1253.65309996 1240.34097872 1176.6557924  1322.60045939 1215.37649444\n",
      " 1259.17616456 1269.88313654 1237.17912572 1196.12762795 1149.7007133\n",
      " 1241.14056707 1253.20629424 1259.75227858 1322.06870309 1408.69819879\n",
      " 1236.92207605 1177.60449839 1158.73873468 1381.55969861 1342.11795797\n",
      " 1314.8016669   932.18552595]\n"
     ]
    }
   ],
   "source": [
    "print(poisson_training_results.mu)"
   ],
   "metadata": {
    "collapsed": false,
    "pycharm": {
     "name": "#%%\n"
    }
   }
  },
  {
   "cell_type": "code",
   "execution_count": 55,
   "outputs": [],
   "source": [
    "mu_glm = poisson_training_results.mu"
   ],
   "metadata": {
    "collapsed": false,
    "pycharm": {
     "name": "#%%\n"
    }
   }
  },
  {
   "cell_type": "code",
   "execution_count": 56,
   "outputs": [
    {
     "name": "stderr",
     "output_type": "stream",
     "text": [
      "/var/folders/90/98s1yvbs2zq9h146qcbc3t_h0000gn/T/ipykernel_68352/2113704252.py:1: SettingWithCopyWarning: \n",
      "A value is trying to be set on a copy of a slice from a DataFrame.\n",
      "Try using .loc[row_indexer,col_indexer] = value instead\n",
      "\n",
      "See the caveats in the documentation: https://pandas.pydata.org/pandas-docs/stable/user_guide/indexing.html#returning-a-view-versus-a-copy\n",
      "  df_train['Value_LAMBDA'] = mu_glm\n"
     ]
    }
   ],
   "source": [
    "df_train['Value_LAMBDA'] = mu_glm"
   ],
   "metadata": {
    "collapsed": false,
    "pycharm": {
     "name": "#%%\n"
    }
   }
  },
  {
   "cell_type": "code",
   "execution_count": 57,
   "outputs": [
    {
     "name": "stderr",
     "output_type": "stream",
     "text": [
      "/var/folders/90/98s1yvbs2zq9h146qcbc3t_h0000gn/T/ipykernel_68352/1666380816.py:1: SettingWithCopyWarning: \n",
      "A value is trying to be set on a copy of a slice from a DataFrame.\n",
      "Try using .loc[row_indexer,col_indexer] = value instead\n",
      "\n",
      "See the caveats in the documentation: https://pandas.pydata.org/pandas-docs/stable/user_guide/indexing.html#returning-a-view-versus-a-copy\n",
      "  df_train['AUX_OLS_DEP'] = df_train.apply(lambda x: ((x['value'] - x['Value_LAMBDA'])**2 - x['Value_LAMBDA']) / x['Value_LAMBDA'], axis=1)\n"
     ]
    }
   ],
   "source": [
    "df_train['AUX_OLS_DEP'] = df_train.apply(lambda x: ((x['value'] - x['Value_LAMBDA'])**2 - x['Value_LAMBDA']) / x['Value_LAMBDA'], axis=1)"
   ],
   "metadata": {
    "collapsed": false,
    "pycharm": {
     "name": "#%%\n"
    }
   }
  },
  {
   "cell_type": "code",
   "execution_count": 58,
   "outputs": [],
   "source": [
    "ols_expr = \"\"\"AUX_OLS_DEP ~ Value_LAMBDA - 1\"\"\""
   ],
   "metadata": {
    "collapsed": false,
    "pycharm": {
     "name": "#%%\n"
    }
   }
  },
  {
   "cell_type": "code",
   "execution_count": 59,
   "outputs": [],
   "source": [
    "aux_olsr_results = smf.ols(ols_expr, df_train).fit()"
   ],
   "metadata": {
    "collapsed": false,
    "pycharm": {
     "name": "#%%\n"
    }
   }
  },
  {
   "cell_type": "code",
   "execution_count": 60,
   "outputs": [
    {
     "name": "stdout",
     "output_type": "stream",
     "text": [
      "Value_LAMBDA    0.044177\n",
      "dtype: float64\n"
     ]
    }
   ],
   "source": [
    "print(aux_olsr_results.params)"
   ],
   "metadata": {
    "collapsed": false,
    "pycharm": {
     "name": "#%%\n"
    }
   }
  },
  {
   "cell_type": "code",
   "execution_count": 61,
   "outputs": [
    {
     "data": {
      "text/plain": "Value_LAMBDA    6.236349\ndtype: float64"
     },
     "execution_count": 61,
     "metadata": {},
     "output_type": "execute_result"
    }
   ],
   "source": [
    "aux_olsr_results.tvalues"
   ],
   "metadata": {
    "collapsed": false,
    "pycharm": {
     "name": "#%%\n"
    }
   }
  },
  {
   "cell_type": "code",
   "execution_count": 62,
   "outputs": [],
   "source": [
    "nb2_training_results = sm.GLM(y_train, X_train,family=sm.families.NegativeBinomial(alpha=aux_olsr_results.params[0])).fit()"
   ],
   "metadata": {
    "collapsed": false,
    "pycharm": {
     "name": "#%%\n"
    }
   }
  },
  {
   "cell_type": "code",
   "execution_count": 63,
   "outputs": [
    {
     "name": "stdout",
     "output_type": "stream",
     "text": [
      "                 Generalized Linear Model Regression Results                  \n",
      "==============================================================================\n",
      "Dep. Variable:                  value   No. Observations:                  147\n",
      "Model:                            GLM   Df Residuals:                      137\n",
      "Model Family:        NegativeBinomial   Df Model:                            9\n",
      "Link Function:                    log   Scale:                          1.0000\n",
      "Method:                          IRLS   Log-Likelihood:                -1025.1\n",
      "Date:                Tue, 19 Apr 2022   Deviance:                       181.58\n",
      "Time:                        15:11:38   Pearson chi2:                     168.\n",
      "No. Iterations:                     6                                         \n",
      "Covariance Type:            nonrobust                                         \n",
      "========================================================================================\n",
      "                           coef    std err          z      P>|z|      [0.025      0.975]\n",
      "----------------------------------------------------------------------------------------\n",
      "Intercept                6.1581      0.232     26.584      0.000       5.704       6.612\n",
      "DAY                      0.0072      0.002      3.617      0.000       0.003       0.011\n",
      "DAY_OF_WEEK              0.0161      0.009      1.715      0.086      -0.002       0.034\n",
      "MONTH                    0.0940      0.012      7.856      0.000       0.071       0.117\n",
      "temp                     0.0105      0.003      3.095      0.002       0.004       0.017\n",
      "humidity                -0.0084      0.002     -3.887      0.000      -0.013      -0.004\n",
      "wind_speed              -0.0038      0.006     -0.594      0.553      -0.016       0.009\n",
      "rain_1h                 -0.0022      0.001     -3.005      0.003      -0.004      -0.001\n",
      "federal_holiday_flag     0.1262      0.115      1.102      0.271      -0.098       0.351\n",
      "school_holiday_flag      0.1224      0.051      2.409      0.016       0.023       0.222\n",
      "========================================================================================\n"
     ]
    }
   ],
   "source": [
    "print(nb2_training_results.summary())"
   ],
   "metadata": {
    "collapsed": false,
    "pycharm": {
     "name": "#%%\n"
    }
   }
  },
  {
   "cell_type": "code",
   "execution_count": 64,
   "outputs": [],
   "source": [
    "nb2_predictions = nb2_training_results.get_prediction(X_test)"
   ],
   "metadata": {
    "collapsed": false,
    "pycharm": {
     "name": "#%%\n"
    }
   }
  },
  {
   "cell_type": "code",
   "execution_count": 65,
   "outputs": [
    {
     "name": "stdout",
     "output_type": "stream",
     "text": [
      "                   mean     mean_se  mean_ci_lower  mean_ci_upper\n",
      "Full_Date                                                        \n",
      "2021-05-03   900.881307   73.740569     767.349977    1057.649252\n",
      "2021-05-04   782.553972   50.771177     689.111265     888.667405\n",
      "2021-05-08   712.127162   41.038985     636.068496     797.280635\n",
      "2021-05-10   741.990080   43.537644     661.381846     832.422724\n",
      "2021-05-11   677.780364   40.301050     603.220720     761.555773\n",
      "2021-05-17   783.330322   45.147738     699.657347     877.009861\n",
      "2021-05-28  1136.284991   86.838714     978.217866    1319.893682\n",
      "2021-06-18  1213.740367   45.148278    1128.400077    1305.534897\n",
      "2021-06-22   984.361858   52.926076     885.907375    1093.757987\n",
      "2021-06-25   971.199149   49.217688     879.370216    1072.617393\n",
      "2021-06-27  1116.967766  134.667752     881.891425    1414.705887\n",
      "2021-06-28  1099.142632  113.755627     897.344194    1346.322329\n",
      "2021-06-29  1248.638999   83.636662    1095.018590    1423.810851\n",
      "2021-07-07  1222.542072   48.728984    1130.670327    1321.878785\n",
      "2021-07-10  1138.585284   40.138802    1062.571021    1220.037460\n",
      "2021-07-11  1242.392054   51.997337    1144.547095    1348.601575\n",
      "2021-07-23  1284.070919   46.413891    1196.248951    1378.340288\n",
      "2021-07-31  1440.974346   88.081440    1278.278376    1624.377839\n",
      "2021-08-02  1066.464070   56.088615     962.008546    1182.261445\n",
      "2021-08-04  1189.306107   45.031128    1104.242089    1280.922934\n",
      "2021-08-08  1301.681940   62.962312    1183.947075    1431.124675\n",
      "2021-08-10  1110.801155   48.168923    1020.292537    1209.338656\n",
      "2021-08-12  1230.440195   45.329271    1144.728105    1322.570020\n",
      "2021-08-13  1417.804649   62.583425    1300.299642    1545.928307\n",
      "2021-08-15  1522.940275   77.324623    1378.683588    1682.291066\n",
      "2021-08-17  1280.524510   42.050522    1200.703294    1365.652138\n",
      "2021-09-03  1108.072174   53.330354    1008.325173    1217.686493\n",
      "2021-09-07  1125.843747   55.584572    1022.005047    1240.232763\n",
      "2021-09-13  1227.012788   61.358048    1112.458638    1353.363020\n",
      "2021-09-16  1245.770672   54.613748    1143.199431    1357.544909\n",
      "2021-09-18  1228.840766   62.361981    1112.495599    1357.353350\n",
      "2021-09-27  1242.734437   66.051892    1119.790012    1379.177224\n",
      "2021-10-03  1234.660204   71.162085    1102.774624    1382.318549\n",
      "2021-10-06  1183.778742   54.067479    1082.413169    1294.636975\n",
      "2021-10-08  1215.842476   49.447440    1122.689230    1316.724955\n",
      "2021-10-20  1244.365765   60.173087    1131.845075    1368.072531\n",
      "2021-10-21  1263.720219   52.136478    1165.556872    1370.150896\n"
     ]
    }
   ],
   "source": [
    "predictions_summary_frame = nb2_predictions.summary_frame()\n",
    "print(predictions_summary_frame)"
   ],
   "metadata": {
    "collapsed": false,
    "pycharm": {
     "name": "#%%\n"
    }
   }
  },
  {
   "cell_type": "code",
   "execution_count": 66,
   "outputs": [
    {
     "data": {
      "text/plain": "<Figure size 432x288 with 1 Axes>",
      "image/png": "[encoded data removed]"
     },
     "metadata": {
      "needs_background": "light"
     },
     "output_type": "display_data"
    }
   ],
   "source": [
    "predicted_counts=predictions_summary_frame['mean']\n",
    "actual_counts = y_test['value']\n",
    "fig = plt.figure()\n",
    "fig.suptitle('Predicted versus actual bicyclist counts on the Brooklyn bridge')\n",
    "predicted, = plt.plot(X_test.index, predicted_counts, 'go-', label='Predicted counts')\n",
    "actual, = plt.plot(X_test.index, actual_counts, 'ro-', label='Actual counts')\n",
    "plt.legend(handles=[predicted, actual])\n",
    "plt.show()"
   ],
   "metadata": {
    "collapsed": false,
    "pycharm": {
     "name": "#%%\n"
    }
   }
  },
  {
   "cell_type": "code",
   "execution_count": 67,
   "outputs": [
    {
     "data": {
      "text/plain": "<Figure size 720x360 with 1 Axes>",
      "image/png": "[encoded data removed]"
     },
     "metadata": {
      "needs_background": "light"
     },
     "output_type": "display_data"
    }
   ],
   "source": [
    "predicted_counts=predictions_summary_frame['mean']\n",
    "actual_counts = y_test['value']\n",
    "fig = plt.figure(figsize=(10,5))\n",
    "fig.suptitle('Predicted versus Actual Vehicle Counts - 2021')\n",
    "predicted, = plt.plot(predicted_counts.index, predicted_counts, 'go-', label='Predicted counts')\n",
    "actual, = plt.plot(actual_counts.index, actual_counts, 'ro-', label='Actual counts')\n",
    "fig.autofmt_xdate()\n",
    "plt.legend(handles=[predicted, actual])\n",
    "plt.show()"
   ],
   "metadata": {
    "collapsed": false,
    "pycharm": {
     "name": "#%%\n"
    }
   }
  },
  {
   "cell_type": "code",
   "execution_count": 68,
   "outputs": [
    {
     "data": {
      "text/plain": "<Figure size 432x288 with 1 Axes>",
      "image/png": "[encoded data removed]"
     },
     "metadata": {
      "needs_background": "light"
     },
     "output_type": "display_data"
    }
   ],
   "source": [
    "predicted_mean_se=predictions_summary_frame['mean_se']\n",
    "predicted_mean_se = predicted_mean_se[predicted_mean_se.index.year==2021]\n",
    "fig = plt.figure()\n",
    "fig.suptitle('Predicted versus actual bicyclist counts on the Brooklyn bridge')\n",
    "predicted, = plt.plot(predicted_mean_se.index, predicted_mean_se, 'go-', label='Mean SE')\n",
    "fig.autofmt_xdate()\n",
    "plt.legend(handles=[predicted])\n",
    "plt.show()"
   ],
   "metadata": {
    "collapsed": false,
    "pycharm": {
     "name": "#%%\n"
    }
   }
  },
  {
   "cell_type": "code",
   "execution_count": 69,
   "outputs": [
    {
     "data": {
      "text/plain": "array([440.09145401, 519.19163394, 572.72657058, 549.5611906 ,\n       600.10244551, 518.62399157, 354.955432  , 357.70761035,\n       396.22488987, 402.30966664, 356.89434484, 359.59594801,\n       364.36171829, 359.07774425, 354.79392545, 362.9330759 ,\n       374.33882597, 450.49381432, 366.75369698, 355.02177739,\n       380.42991008, 357.73080153, 360.48577526, 436.54357293,\n       505.31007867, 373.20074906, 358.1342383 , 355.87456881,\n       359.85414401, 363.69312155, 360.18709837, 363.00873819,\n       361.30662005, 354.64494448, 358.01564763, 363.37345477,\n       368.22486473])"
     },
     "execution_count": 69,
     "metadata": {},
     "output_type": "execute_result"
    }
   ],
   "source": [
    "from statsmodels.tools.eval_measures import rmse\n",
    "rmse(y_test, predictions_summary_frame['mean'])"
   ],
   "metadata": {
    "collapsed": false,
    "pycharm": {
     "name": "#%%\n"
    }
   }
  },
  {
   "cell_type": "code",
   "execution_count": 70,
   "outputs": [
    {
     "data": {
      "text/plain": "<Figure size 432x288 with 0 Axes>"
     },
     "metadata": {},
     "output_type": "display_data"
    },
    {
     "data": {
      "text/plain": "<Figure size 432x288 with 1 Axes>",
      "image/png": "[encoded data removed]"
     },
     "metadata": {
      "needs_background": "light"
     },
     "output_type": "display_data"
    }
   ],
   "source": [
    "predicted_counts=predictions_summary_frame['mean']\n",
    "actual_counts = y_test['value']\n",
    "plt.clf()\n",
    "fig = plt.figure()\n",
    "fig.suptitle('Scatter plot of Actual versus Predicted counts')\n",
    "plt.scatter(x=predicted_counts, y=actual_counts, marker='.')\n",
    "plt.xlabel('Predicted counts')\n",
    "plt.ylabel('Actual counts')\n",
    "plt.show()"
   ],
   "metadata": {
    "collapsed": false,
    "pycharm": {
     "name": "#%%\n"
    }
   }
  },
  {
   "cell_type": "code",
   "execution_count": 71,
   "outputs": [
    {
     "data": {
      "text/plain": "54.59555037452469"
     },
     "execution_count": 71,
     "metadata": {},
     "output_type": "execute_result"
    }
   ],
   "source": [
    "from sklearn.metrics import mean_poisson_deviance, mean_squared_error\n",
    "from math import sqrt\n",
    "mean_poisson_deviance(y_test, predictions_summary_frame['mean'])"
   ],
   "metadata": {
    "collapsed": false,
    "pycharm": {
     "name": "#%%\n"
    }
   }
  },
  {
   "cell_type": "code",
   "execution_count": 72,
   "outputs": [
    {
     "data": {
      "text/plain": "228.7160787232443"
     },
     "execution_count": 72,
     "metadata": {},
     "output_type": "execute_result"
    }
   ],
   "source": [
    "sqrt(mean_squared_error(y_test, predictions_summary_frame['mean']))"
   ],
   "metadata": {
    "collapsed": false,
    "pycharm": {
     "name": "#%%\n"
    }
   }
  },
  {
   "cell_type": "code",
   "execution_count": 82,
   "outputs": [
    {
     "name": "stderr",
     "output_type": "stream",
     "text": [
      "/Library/anaconda3/envs/ds_env/lib/python3.9/site-packages/pandas/core/frame.py:4308: SettingWithCopyWarning: \n",
      "A value is trying to be set on a copy of a slice from a DataFrame\n",
      "\n",
      "See the caveats in the documentation: https://pandas.pydata.org/pandas-docs/stable/user_guide/indexing.html#returning-a-view-versus-a-copy\n",
      "  return super().drop(\n"
     ]
    }
   ],
   "source": [
    "df_2019 = all_years_test[all_years_test.index.year==2019]\n",
    "df_2019.drop(columns=['value'],inplace=True)\n",
    "# df_2019['Intercept'] = 1.0\n",
    "df_2019= sm.add_constant(df_2019)"
   ],
   "metadata": {
    "collapsed": false,
    "pycharm": {
     "name": "#%%\n"
    }
   }
  },
  {
   "cell_type": "code",
   "execution_count": 85,
   "outputs": [],
   "source": [
    "y_out_of_sample_pred = nb2_training_results.predict(df_2019)\n",
    "y_out_of_sample_pred.index = df_2019.index"
   ],
   "metadata": {
    "collapsed": false,
    "pycharm": {
     "name": "#%%\n"
    }
   }
  },
  {
   "cell_type": "code",
   "execution_count": null,
   "outputs": [],
   "source": [],
   "metadata": {
    "collapsed": false,
    "pycharm": {
     "name": "#%%\n"
    }
   }
  }
 ],
 "metadata": {
  "kernelspec": {
   "display_name": "Python 3",
   "language": "python",
   "name": "python3"
  },
  "language_info": {
   "codemirror_mode": {
    "name": "ipython",
    "version": 2
   },
   "file_extension": ".py",
   "mimetype": "text/x-python",
   "name": "python",
   "nbconvert_exporter": "python",
   "pygments_lexer": "ipython2",
   "version": "2.7.6"
  }
 },
 "nbformat": 4,
 "nbformat_minor": 0
}