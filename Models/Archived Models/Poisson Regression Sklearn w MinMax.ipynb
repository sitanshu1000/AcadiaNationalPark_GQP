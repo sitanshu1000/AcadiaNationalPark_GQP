{
 "cells": [
  {
   "cell_type": "code",
   "execution_count": 1,
   "metadata": {
    "collapsed": true
   },
   "outputs": [],
   "source": [
    "import pandas as pd\n",
    "import matplotlib.pyplot as plt"
   ]
  },
  {
   "cell_type": "code",
   "execution_count": 2,
   "outputs": [],
   "source": [
    "from sklearn.linear_model import PoissonRegressor\n",
    "from sklearn.model_selection import train_test_split\n",
    "from sklearn.preprocessing import MinMaxScaler\n",
    "from sklearn.metrics import mean_squared_error, r2_score\n",
    "from math import sqrt"
   ],
   "metadata": {
    "collapsed": false,
    "pycharm": {
     "name": "#%%\n"
    }
   }
  },
  {
   "cell_type": "code",
   "execution_count": 3,
   "outputs": [],
   "source": [
    "data_import = pd.read_csv('/Users/sitanshurupani/Data Science Coursework/Sem 4/GQP - National Parks/DataSpell Project/Data/Daily_attendance.csv')"
   ],
   "metadata": {
    "collapsed": false,
    "pycharm": {
     "name": "#%%\n"
    }
   }
  },
  {
   "cell_type": "code",
   "execution_count": 4,
   "outputs": [],
   "source": [
    "all_years_test = data_import\n",
    "all_years_test.set_index('Full_Date', inplace=True)"
   ],
   "metadata": {
    "collapsed": false,
    "pycharm": {
     "name": "#%%\n"
    }
   }
  },
  {
   "cell_type": "code",
   "execution_count": 5,
   "outputs": [],
   "source": [
    "all_years_test.index = pd.to_datetime(all_years_test.index)\n",
    "ds = all_years_test.index.to_series()\n",
    "all_years_test['YEAR'] = ds.dt.year\n",
    "all_years_test['MONTH'] = ds.dt.month\n",
    "all_years_test['DAY_OF_WEEK'] = ds.dt.dayofweek\n",
    "all_years_test['DAY'] = ds.dt.day\n",
    "all_years_test['value'] = all_years_test['value'].astype(int)"
   ],
   "metadata": {
    "collapsed": false,
    "pycharm": {
     "name": "#%%\n"
    }
   }
  },
  {
   "cell_type": "code",
   "execution_count": 6,
   "outputs": [
    {
     "data": {
      "text/plain": "                         value      temp  temp_min  temp_max  pressure  \\\nvalue                 1.000000  0.383747  0.236426  0.361013 -0.006360   \ntemp                  0.383747  1.000000  0.884068  0.916106 -0.170859   \ntemp_min              0.236426  0.884068  1.000000  0.716206 -0.275061   \ntemp_max              0.361013  0.916106  0.716206  1.000000 -0.101160   \npressure             -0.006360 -0.170859 -0.275061 -0.101160  1.000000   \nhumidity             -0.080232  0.184420  0.473171  0.074207 -0.151078   \nwind_speed           -0.040493 -0.064564 -0.041455 -0.128698 -0.261664   \nwind_gust            -0.187228 -0.099358 -0.068832 -0.092744 -0.192304   \nrain_1h              -0.204429 -0.065368  0.091801 -0.182735 -0.223442   \nsnow_1h                    NaN       NaN       NaN       NaN       NaN   \nfederal_holiday_flag  0.023399 -0.034990 -0.034893 -0.012978  0.024658   \nschool_holiday_flag   0.183453  0.681820  0.602505  0.668548 -0.170473   \nYEAR                 -0.322319  0.125922  0.176047  0.077834  0.021888   \nMONTH                 0.382692  0.004860  0.035879 -0.149850  0.139853   \nDAY_OF_WEEK           0.104315 -0.028838 -0.021230 -0.042699 -0.013212   \nDAY                   0.087985  0.074614  0.100506  0.023036 -0.032163   \n\n                      humidity  wind_speed  wind_gust   rain_1h  snow_1h  \\\nvalue                -0.080232   -0.040493  -0.187228 -0.204429      NaN   \ntemp                  0.184420   -0.064564  -0.099358 -0.065368      NaN   \ntemp_min              0.473171   -0.041455  -0.068832  0.091801      NaN   \ntemp_max              0.074207   -0.128698  -0.092744 -0.182735      NaN   \npressure             -0.151078   -0.261664  -0.192304 -0.223442      NaN   \nhumidity              1.000000   -0.166255  -0.108602  0.310624      NaN   \nwind_speed           -0.166255    1.000000   0.398268  0.086697      NaN   \nwind_gust            -0.108602    0.398268   1.000000  0.079415      NaN   \nrain_1h               0.310624    0.086697   0.079415  1.000000      NaN   \nsnow_1h                    NaN         NaN        NaN       NaN      NaN   \nfederal_holiday_flag  0.091253   -0.067907  -0.019251 -0.003268      NaN   \nschool_holiday_flag   0.114111   -0.167995  -0.120408 -0.022279      NaN   \nYEAR                  0.121595    0.092684   0.372464  0.008303      NaN   \nMONTH                 0.197270    0.002754  -0.268234  0.040190      NaN   \nDAY_OF_WEEK           0.027986    0.031832   0.050283  0.050744      NaN   \nDAY                   0.092139   -0.011943  -0.017901  0.059481      NaN   \n\n                      federal_holiday_flag  school_holiday_flag          YEAR  \\\nvalue                         2.339855e-02         1.834527e-01 -3.223185e-01   \ntemp                         -3.499000e-02         6.818203e-01  1.259219e-01   \ntemp_min                     -3.489339e-02         6.025052e-01  1.760473e-01   \ntemp_max                     -1.297826e-02         6.685481e-01  7.783382e-02   \npressure                      2.465772e-02        -1.704731e-01  2.188783e-02   \nhumidity                      9.125324e-02         1.141114e-01  1.215953e-01   \nwind_speed                   -6.790653e-02        -1.679953e-01  9.268370e-02   \nwind_gust                    -1.925144e-02        -1.204078e-01  3.724639e-01   \nrain_1h                      -3.267958e-03        -2.227864e-02  8.302651e-03   \nsnow_1h                                NaN                  NaN           NaN   \nfederal_holiday_flag          1.000000e+00        -7.689464e-02  1.492751e-14   \nschool_holiday_flag          -7.689464e-02         1.000000e+00 -6.288873e-14   \nYEAR                          1.492751e-14        -6.288873e-14  1.000000e+00   \nMONTH                         2.358361e-02        -3.024989e-01  1.181892e-13   \nDAY_OF_WEEK                  -1.569863e-01        -7.980968e-03  7.285593e-03   \nDAY                          -7.008020e-02        -1.014895e-16 -1.269456e-14   \n\n                             MONTH  DAY_OF_WEEK           DAY  \nvalue                 3.826924e-01     0.104315  8.798483e-02  \ntemp                  4.859773e-03    -0.028838  7.461442e-02  \ntemp_min              3.587900e-02    -0.021230  1.005057e-01  \ntemp_max             -1.498501e-01    -0.042699  2.303637e-02  \npressure              1.398530e-01    -0.013212 -3.216336e-02  \nhumidity              1.972699e-01     0.027986  9.213877e-02  \nwind_speed            2.754173e-03     0.031832 -1.194273e-02  \nwind_gust            -2.682338e-01     0.050283 -1.790077e-02  \nrain_1h               4.019039e-02     0.050744  5.948148e-02  \nsnow_1h                        NaN          NaN           NaN  \nfederal_holiday_flag  2.358361e-02    -0.156986 -7.008020e-02  \nschool_holiday_flag  -3.024989e-01    -0.007981 -1.014895e-16  \nYEAR                  1.181892e-13     0.007286 -1.269456e-14  \nMONTH                 1.000000e+00     0.005894  2.349857e-03  \nDAY_OF_WEEK           5.894010e-03     1.000000  1.737259e-03  \nDAY                   2.349857e-03     0.001737  1.000000e+00  ",
      "text/html": "<div>\n<style scoped>\n    .dataframe tbody tr th:only-of-type {\n        vertical-align: middle;\n    }\n\n    .dataframe tbody tr th {\n        vertical-align: top;\n    }\n\n    .dataframe thead th {\n        text-align: right;\n    }\n</style>\n<table border=\"1\" class=\"dataframe\">\n  <thead>\n    <tr style=\"text-align: right;\">\n      <th></th>\n      <th>value</th>\n      <th>temp</th>\n      <th>temp_min</th>\n      <th>temp_max</th>\n      <th>pressure</th>\n      <th>humidity</th>\n      <th>wind_speed</th>\n      <th>wind_gust</th>\n      <th>rain_1h</th>\n      <th>snow_1h</th>\n      <th>federal_holiday_flag</th>\n      <th>school_holiday_flag</th>\n      <th>YEAR</th>\n      <th>MONTH</th>\n      <th>DAY_OF_WEEK</th>\n      <th>DAY</th>\n    </tr>\n  </thead>\n  <tbody>\n    <tr>\n      <th>value</th>\n      <td>1.000000</td>\n      <td>0.383747</td>\n      <td>0.236426</td>\n      <td>0.361013</td>\n      <td>-0.006360</td>\n      <td>-0.080232</td>\n      <td>-0.040493</td>\n      <td>-0.187228</td>\n      <td>-0.204429</td>\n      <td>NaN</td>\n      <td>2.339855e-02</td>\n      <td>1.834527e-01</td>\n      <td>-3.223185e-01</td>\n      <td>3.826924e-01</td>\n      <td>0.104315</td>\n      <td>8.798483e-02</td>\n    </tr>\n    <tr>\n      <th>temp</th>\n      <td>0.383747</td>\n      <td>1.000000</td>\n      <td>0.884068</td>\n      <td>0.916106</td>\n      <td>-0.170859</td>\n      <td>0.184420</td>\n      <td>-0.064564</td>\n      <td>-0.099358</td>\n      <td>-0.065368</td>\n      <td>NaN</td>\n      <td>-3.499000e-02</td>\n      <td>6.818203e-01</td>\n      <td>1.259219e-01</td>\n      <td>4.859773e-03</td>\n      <td>-0.028838</td>\n      <td>7.461442e-02</td>\n    </tr>\n    <tr>\n      <th>temp_min</th>\n      <td>0.236426</td>\n      <td>0.884068</td>\n      <td>1.000000</td>\n      <td>0.716206</td>\n      <td>-0.275061</td>\n      <td>0.473171</td>\n      <td>-0.041455</td>\n      <td>-0.068832</td>\n      <td>0.091801</td>\n      <td>NaN</td>\n      <td>-3.489339e-02</td>\n      <td>6.025052e-01</td>\n      <td>1.760473e-01</td>\n      <td>3.587900e-02</td>\n      <td>-0.021230</td>\n      <td>1.005057e-01</td>\n    </tr>\n    <tr>\n      <th>temp_max</th>\n      <td>0.361013</td>\n      <td>0.916106</td>\n      <td>0.716206</td>\n      <td>1.000000</td>\n      <td>-0.101160</td>\n      <td>0.074207</td>\n      <td>-0.128698</td>\n      <td>-0.092744</td>\n      <td>-0.182735</td>\n      <td>NaN</td>\n      <td>-1.297826e-02</td>\n      <td>6.685481e-01</td>\n      <td>7.783382e-02</td>\n      <td>-1.498501e-01</td>\n      <td>-0.042699</td>\n      <td>2.303637e-02</td>\n    </tr>\n    <tr>\n      <th>pressure</th>\n      <td>-0.006360</td>\n      <td>-0.170859</td>\n      <td>-0.275061</td>\n      <td>-0.101160</td>\n      <td>1.000000</td>\n      <td>-0.151078</td>\n      <td>-0.261664</td>\n      <td>-0.192304</td>\n      <td>-0.223442</td>\n      <td>NaN</td>\n      <td>2.465772e-02</td>\n      <td>-1.704731e-01</td>\n      <td>2.188783e-02</td>\n      <td>1.398530e-01</td>\n      <td>-0.013212</td>\n      <td>-3.216336e-02</td>\n    </tr>\n    <tr>\n      <th>humidity</th>\n      <td>-0.080232</td>\n      <td>0.184420</td>\n      <td>0.473171</td>\n      <td>0.074207</td>\n      <td>-0.151078</td>\n      <td>1.000000</td>\n      <td>-0.166255</td>\n      <td>-0.108602</td>\n      <td>0.310624</td>\n      <td>NaN</td>\n      <td>9.125324e-02</td>\n      <td>1.141114e-01</td>\n      <td>1.215953e-01</td>\n      <td>1.972699e-01</td>\n      <td>0.027986</td>\n      <td>9.213877e-02</td>\n    </tr>\n    <tr>\n      <th>wind_speed</th>\n      <td>-0.040493</td>\n      <td>-0.064564</td>\n      <td>-0.041455</td>\n      <td>-0.128698</td>\n      <td>-0.261664</td>\n      <td>-0.166255</td>\n      <td>1.000000</td>\n      <td>0.398268</td>\n      <td>0.086697</td>\n      <td>NaN</td>\n      <td>-6.790653e-02</td>\n      <td>-1.679953e-01</td>\n      <td>9.268370e-02</td>\n      <td>2.754173e-03</td>\n      <td>0.031832</td>\n      <td>-1.194273e-02</td>\n    </tr>\n    <tr>\n      <th>wind_gust</th>\n      <td>-0.187228</td>\n      <td>-0.099358</td>\n      <td>-0.068832</td>\n      <td>-0.092744</td>\n      <td>-0.192304</td>\n      <td>-0.108602</td>\n      <td>0.398268</td>\n      <td>1.000000</td>\n      <td>0.079415</td>\n      <td>NaN</td>\n      <td>-1.925144e-02</td>\n      <td>-1.204078e-01</td>\n      <td>3.724639e-01</td>\n      <td>-2.682338e-01</td>\n      <td>0.050283</td>\n      <td>-1.790077e-02</td>\n    </tr>\n    <tr>\n      <th>rain_1h</th>\n      <td>-0.204429</td>\n      <td>-0.065368</td>\n      <td>0.091801</td>\n      <td>-0.182735</td>\n      <td>-0.223442</td>\n      <td>0.310624</td>\n      <td>0.086697</td>\n      <td>0.079415</td>\n      <td>1.000000</td>\n      <td>NaN</td>\n      <td>-3.267958e-03</td>\n      <td>-2.227864e-02</td>\n      <td>8.302651e-03</td>\n      <td>4.019039e-02</td>\n      <td>0.050744</td>\n      <td>5.948148e-02</td>\n    </tr>\n    <tr>\n      <th>snow_1h</th>\n      <td>NaN</td>\n      <td>NaN</td>\n      <td>NaN</td>\n      <td>NaN</td>\n      <td>NaN</td>\n      <td>NaN</td>\n      <td>NaN</td>\n      <td>NaN</td>\n      <td>NaN</td>\n      <td>NaN</td>\n      <td>NaN</td>\n      <td>NaN</td>\n      <td>NaN</td>\n      <td>NaN</td>\n      <td>NaN</td>\n      <td>NaN</td>\n    </tr>\n    <tr>\n      <th>federal_holiday_flag</th>\n      <td>0.023399</td>\n      <td>-0.034990</td>\n      <td>-0.034893</td>\n      <td>-0.012978</td>\n      <td>0.024658</td>\n      <td>0.091253</td>\n      <td>-0.067907</td>\n      <td>-0.019251</td>\n      <td>-0.003268</td>\n      <td>NaN</td>\n      <td>1.000000e+00</td>\n      <td>-7.689464e-02</td>\n      <td>1.492751e-14</td>\n      <td>2.358361e-02</td>\n      <td>-0.156986</td>\n      <td>-7.008020e-02</td>\n    </tr>\n    <tr>\n      <th>school_holiday_flag</th>\n      <td>0.183453</td>\n      <td>0.681820</td>\n      <td>0.602505</td>\n      <td>0.668548</td>\n      <td>-0.170473</td>\n      <td>0.114111</td>\n      <td>-0.167995</td>\n      <td>-0.120408</td>\n      <td>-0.022279</td>\n      <td>NaN</td>\n      <td>-7.689464e-02</td>\n      <td>1.000000e+00</td>\n      <td>-6.288873e-14</td>\n      <td>-3.024989e-01</td>\n      <td>-0.007981</td>\n      <td>-1.014895e-16</td>\n    </tr>\n    <tr>\n      <th>YEAR</th>\n      <td>-0.322319</td>\n      <td>0.125922</td>\n      <td>0.176047</td>\n      <td>0.077834</td>\n      <td>0.021888</td>\n      <td>0.121595</td>\n      <td>0.092684</td>\n      <td>0.372464</td>\n      <td>0.008303</td>\n      <td>NaN</td>\n      <td>1.492751e-14</td>\n      <td>-6.288873e-14</td>\n      <td>1.000000e+00</td>\n      <td>1.181892e-13</td>\n      <td>0.007286</td>\n      <td>-1.269456e-14</td>\n    </tr>\n    <tr>\n      <th>MONTH</th>\n      <td>0.382692</td>\n      <td>0.004860</td>\n      <td>0.035879</td>\n      <td>-0.149850</td>\n      <td>0.139853</td>\n      <td>0.197270</td>\n      <td>0.002754</td>\n      <td>-0.268234</td>\n      <td>0.040190</td>\n      <td>NaN</td>\n      <td>2.358361e-02</td>\n      <td>-3.024989e-01</td>\n      <td>1.181892e-13</td>\n      <td>1.000000e+00</td>\n      <td>0.005894</td>\n      <td>2.349857e-03</td>\n    </tr>\n    <tr>\n      <th>DAY_OF_WEEK</th>\n      <td>0.104315</td>\n      <td>-0.028838</td>\n      <td>-0.021230</td>\n      <td>-0.042699</td>\n      <td>-0.013212</td>\n      <td>0.027986</td>\n      <td>0.031832</td>\n      <td>0.050283</td>\n      <td>0.050744</td>\n      <td>NaN</td>\n      <td>-1.569863e-01</td>\n      <td>-7.980968e-03</td>\n      <td>7.285593e-03</td>\n      <td>5.894010e-03</td>\n      <td>1.000000</td>\n      <td>1.737259e-03</td>\n    </tr>\n    <tr>\n      <th>DAY</th>\n      <td>0.087985</td>\n      <td>0.074614</td>\n      <td>0.100506</td>\n      <td>0.023036</td>\n      <td>-0.032163</td>\n      <td>0.092139</td>\n      <td>-0.011943</td>\n      <td>-0.017901</td>\n      <td>0.059481</td>\n      <td>NaN</td>\n      <td>-7.008020e-02</td>\n      <td>-1.014895e-16</td>\n      <td>-1.269456e-14</td>\n      <td>2.349857e-03</td>\n      <td>0.001737</td>\n      <td>1.000000e+00</td>\n    </tr>\n  </tbody>\n</table>\n</div>"
     },
     "execution_count": 6,
     "metadata": {},
     "output_type": "execute_result"
    }
   ],
   "source": [
    "all_years_test.corr()"
   ],
   "metadata": {
    "collapsed": false,
    "pycharm": {
     "name": "#%%\n"
    }
   }
  },
  {
   "cell_type": "code",
   "execution_count": 7,
   "outputs": [],
   "source": [
    "all_years_test.drop(columns=['snow_1h', 'temp_max', 'temp_min','YEAR', 'wind_gust', 'pressure'], inplace=True)\n",
    "all_years_test[\"federal_holiday_flag\"] = all_years_test[\"federal_holiday_flag\"].astype(int)\n",
    "all_years_test[\"school_holiday_flag\"] = all_years_test[\"school_holiday_flag\"].astype(int)"
   ],
   "metadata": {
    "collapsed": false,
    "pycharm": {
     "name": "#%%\n"
    }
   }
  },
  {
   "cell_type": "code",
   "execution_count": 8,
   "outputs": [],
   "source": [
    "# all_years_test['wind_gust'].fillna((all_years_test['wind_gust'].mean()), inplace=True)"
   ],
   "metadata": {
    "collapsed": false,
    "pycharm": {
     "name": "#%%\n"
    }
   }
  },
  {
   "cell_type": "code",
   "execution_count": 9,
   "outputs": [
    {
     "data": {
      "text/plain": "value                   0\ntemp                    0\nhumidity                0\nwind_speed              0\nrain_1h                 0\nfederal_holiday_flag    0\nschool_holiday_flag     0\nMONTH                   0\nDAY_OF_WEEK             0\nDAY                     0\ndtype: int64"
     },
     "execution_count": 9,
     "metadata": {},
     "output_type": "execute_result"
    }
   ],
   "source": [
    "all_years_test.isna().sum()"
   ],
   "metadata": {
    "collapsed": false,
    "pycharm": {
     "name": "#%%\n"
    }
   }
  },
  {
   "cell_type": "code",
   "execution_count": 10,
   "outputs": [],
   "source": [
    "df_2021 = all_years_test[all_years_test.index.year==2021]"
   ],
   "metadata": {
    "collapsed": false,
    "pycharm": {
     "name": "#%%\n"
    }
   }
  },
  {
   "cell_type": "code",
   "execution_count": 11,
   "outputs": [],
   "source": [
    "X_train, X_test, y_train, y_test = train_test_split(all_years_test.loc[:, all_years_test.columns != 'value'], all_years_test['value'], test_size =0.2, random_state = 42)"
   ],
   "metadata": {
    "collapsed": false,
    "pycharm": {
     "name": "#%%\n"
    }
   }
  },
  {
   "cell_type": "code",
   "execution_count": 12,
   "outputs": [],
   "source": [
    "X_train, X_test, y_train, y_test = train_test_split(df_2021.loc[:, df_2021.columns != 'value'], df_2021['value'], test_size =0.2, random_state = 42)"
   ],
   "metadata": {
    "collapsed": false,
    "pycharm": {
     "name": "#%%\n"
    }
   }
  },
  {
   "cell_type": "code",
   "execution_count": 13,
   "outputs": [],
   "source": [
    "mmsca = MinMaxScaler()\n",
    "# x_standard = df_standard_scale.fit_transform(all_years_test.loc[:, all_years_test.columns != 'value'], copy=True)\n",
    "X_train_mmsca = pd.DataFrame(mmsca.fit_transform(X_train), columns=X_train.columns)\n",
    "X_test_mmsca = pd.DataFrame(mmsca.fit_transform(X_test), columns=X_test.columns)"
   ],
   "metadata": {
    "collapsed": false,
    "pycharm": {
     "name": "#%%\n"
    }
   }
  },
  {
   "cell_type": "code",
   "execution_count": 14,
   "outputs": [],
   "source": [
    "X_train_mmsca.index = X_train.index\n",
    "X_test_mmsca.index = X_test.index"
   ],
   "metadata": {
    "collapsed": false,
    "pycharm": {
     "name": "#%%\n"
    }
   }
  },
  {
   "cell_type": "code",
   "execution_count": 16,
   "outputs": [
    {
     "data": {
      "text/plain": "PoissonRegressor(alpha=1e-06, max_iter=500)"
     },
     "execution_count": 16,
     "metadata": {},
     "output_type": "execute_result"
    }
   ],
   "source": [
    "pr = PoissonRegressor(alpha=1e-6, max_iter=500)\n",
    "pr.fit(X_train, y_train)\n",
    "# pr.fit(X_train_mmsca, y_train)"
   ],
   "metadata": {
    "collapsed": false,
    "pycharm": {
     "name": "#%%\n"
    }
   }
  },
  {
   "cell_type": "code",
   "execution_count": 141,
   "outputs": [],
   "source": [
    "y_pr = pr.predict(X_test)\n",
    "# y_pr = pr.predict(X_test_mmsca)"
   ],
   "metadata": {
    "collapsed": false,
    "pycharm": {
     "name": "#%%\n"
    }
   }
  },
  {
   "cell_type": "code",
   "execution_count": 142,
   "outputs": [],
   "source": [
    "pred_df = pd.DataFrame(y_pr, columns=['prediction'], index=X_test.index)\n",
    "# pred_df = pd.DataFrame(y_pr, columns=['prediction'], index=X_test_mmsca.index)"
   ],
   "metadata": {
    "collapsed": false,
    "pycharm": {
     "name": "#%%\n"
    }
   }
  },
  {
   "cell_type": "code",
   "execution_count": 143,
   "outputs": [
    {
     "data": {
      "text/plain": "<Figure size 720x360 with 1 Axes>",
      "image/png": "[encoded data removed]"
     },
     "metadata": {
      "needs_background": "light"
     },
     "output_type": "display_data"
    }
   ],
   "source": [
    "predicted_counts=pred_df['prediction']\n",
    "actual_counts = y_test\n",
    "predicted_counts.sort_index(inplace=True)\n",
    "actual_counts.sort_index(inplace=True)\n",
    "# predicted_counts = predicted_counts[predicted_counts.index.year==2021]\n",
    "# actual_counts = actual_counts[actual_counts.index.year==2021]\n",
    "fig = plt.figure(figsize=(10,5))\n",
    "fig.suptitle('Predicted versus Actual Vehicle Counts - 2021')\n",
    "predicted, = plt.plot(predicted_counts.index, predicted_counts, 'go-', label='Predicted counts')\n",
    "actual, = plt.plot(actual_counts.index, actual_counts, 'ro-', label='Actual counts')\n",
    "fig.autofmt_xdate()\n",
    "plt.legend(handles=[predicted, actual])\n",
    "plt.show()"
   ],
   "metadata": {
    "collapsed": false,
    "pycharm": {
     "name": "#%%\n"
    }
   }
  },
  {
   "cell_type": "code",
   "execution_count": 144,
   "outputs": [
    {
     "data": {
      "text/plain": "<Figure size 432x288 with 0 Axes>"
     },
     "metadata": {},
     "output_type": "display_data"
    },
    {
     "data": {
      "text/plain": "<Figure size 432x288 with 1 Axes>",
      "image/png": "[encoded data removed]"
     },
     "metadata": {
      "needs_background": "light"
     },
     "output_type": "display_data"
    }
   ],
   "source": [
    "predicted_counts=pred_df['prediction']\n",
    "actual_counts = y_test\n",
    "predicted_counts.sort_index(inplace=True)\n",
    "actual_counts.sort_index(inplace=True)\n",
    "plt.clf()\n",
    "fig = plt.figure()\n",
    "fig.suptitle('Scatter plot of Actual versus Predicted counts')\n",
    "plt.scatter(x=predicted_counts, y=actual_counts, marker='.')\n",
    "plt.xlabel('Predicted counts')\n",
    "plt.ylabel('Actual counts')\n",
    "plt.show()"
   ],
   "metadata": {
    "collapsed": false,
    "pycharm": {
     "name": "#%%\n"
    }
   }
  },
  {
   "cell_type": "code",
   "execution_count": 145,
   "outputs": [
    {
     "data": {
      "text/plain": "233.91470715382255"
     },
     "execution_count": 145,
     "metadata": {},
     "output_type": "execute_result"
    }
   ],
   "source": [
    "sqrt(mean_squared_error(y_test, pred_df['prediction']))"
   ],
   "metadata": {
    "collapsed": false,
    "pycharm": {
     "name": "#%%\n"
    }
   }
  },
  {
   "cell_type": "code",
   "execution_count": 146,
   "outputs": [
    {
     "data": {
      "text/plain": "0.41202020003052386"
     },
     "execution_count": 146,
     "metadata": {},
     "output_type": "execute_result"
    }
   ],
   "source": [
    "r2_score(y_test, y_pr)"
   ],
   "metadata": {
    "collapsed": false,
    "pycharm": {
     "name": "#%%\n"
    }
   }
  },
  {
   "cell_type": "code",
   "execution_count": 118,
   "outputs": [
    {
     "data": {
      "text/plain": "48.050249820525224"
     },
     "execution_count": 118,
     "metadata": {},
     "output_type": "execute_result"
    }
   ],
   "source": [
    "from sklearn.metrics import mean_poisson_deviance\n",
    "mean_poisson_deviance(y_test, y_pr)"
   ],
   "metadata": {
    "collapsed": false,
    "pycharm": {
     "name": "#%%\n"
    }
   }
  },
  {
   "cell_type": "code",
   "execution_count": 147,
   "outputs": [
    {
     "name": "stderr",
     "output_type": "stream",
     "text": [
      "/Library/anaconda3/envs/ds_env/lib/python3.9/site-packages/pandas/core/frame.py:4308: SettingWithCopyWarning: \n",
      "A value is trying to be set on a copy of a slice from a DataFrame\n",
      "\n",
      "See the caveats in the documentation: https://pandas.pydata.org/pandas-docs/stable/user_guide/indexing.html#returning-a-view-versus-a-copy\n",
      "  return super().drop(\n"
     ]
    }
   ],
   "source": [
    "df_2019 = all_years_test[all_years_test.index.year==2019]\n",
    "df_2019.drop(columns=['value'],inplace=True)"
   ],
   "metadata": {
    "collapsed": false,
    "pycharm": {
     "name": "#%%\n"
    }
   }
  },
  {
   "cell_type": "code",
   "execution_count": 150,
   "outputs": [],
   "source": [
    "y_out_of_sample = pd.DataFrame(pr.predict(df_2019),index=df_2019.index)"
   ],
   "metadata": {
    "collapsed": false,
    "pycharm": {
     "name": "#%%\n"
    }
   }
  },
  {
   "cell_type": "code",
   "execution_count": 119,
   "outputs": [],
   "source": [
    "# from sklearn.experimental import enable_hist_gradient_boosting\n",
    "# from sklearn.ensemble import HistGradientBoostingRegressor\n",
    "# est = HistGradientBoostingRegressor(loss=\"poisson\", max_leaf_nodes=128)\n",
    "# est.fit(X_train, y_train)\n",
    "# y_pr2 = est.predict(X_test)"
   ],
   "metadata": {
    "collapsed": false,
    "pycharm": {
     "name": "#%%\n"
    }
   }
  },
  {
   "cell_type": "code",
   "execution_count": 120,
   "outputs": [],
   "source": [
    "# pred_df2 = pd.DataFrame(y_pr2, columns=['prediction'], index=X_test.index)"
   ],
   "metadata": {
    "collapsed": false,
    "pycharm": {
     "name": "#%%\n"
    }
   }
  },
  {
   "cell_type": "code",
   "execution_count": 121,
   "outputs": [
    {
     "data": {
      "text/plain": "393.7921290457037"
     },
     "execution_count": 121,
     "metadata": {},
     "output_type": "execute_result"
    }
   ],
   "source": [
    "# sqrt(mean_squared_error(y_test, pred_df2['prediction']))"
   ],
   "metadata": {
    "collapsed": false,
    "pycharm": {
     "name": "#%%\n"
    }
   }
  },
  {
   "cell_type": "code",
   "execution_count": 125,
   "outputs": [],
   "source": [
    "# predicted_counts=pred_df2['prediction']\n",
    "# actual_counts = y_test\n",
    "# predicted_counts.sort_index(inplace=True)\n",
    "# actual_counts.sort_index(inplace=True)\n",
    "# plt.clf()\n",
    "# fig = plt.figure()\n",
    "# fig.suptitle('Scatter plot of Actual versus Predicted counts')\n",
    "# plt.scatter(x=predicted_counts, y=actual_counts, marker='.')\n",
    "# plt.xlabel('Predicted counts')\n",
    "# plt.ylabel('Actual counts')\n",
    "# plt.show()"
   ],
   "metadata": {
    "collapsed": false,
    "pycharm": {
     "name": "#%%\n"
    }
   }
  },
  {
   "cell_type": "code",
   "execution_count": 124,
   "outputs": [],
   "source": [
    "# predicted_counts=pred_df2['prediction']\n",
    "# actual_counts = y_test\n",
    "# predicted_counts.sort_index(inplace=True)\n",
    "# actual_counts.sort_index(inplace=True)\n",
    "# # predicted_counts = predicted_counts[predicted_counts.index.year==2021]\n",
    "# # actual_counts = actual_counts[actual_counts.index.year==2021]\n",
    "# fig = plt.figure(figsize=(40,10))\n",
    "# fig.suptitle('Predicted versus Actual Vehicle Counts - 2021')\n",
    "# predicted, = plt.plot(predicted_counts.index, predicted_counts, 'go-', label='Predicted counts')\n",
    "# actual, = plt.plot(actual_counts.index, actual_counts, 'ro-', label='Actual counts')\n",
    "# fig.autofmt_xdate()\n",
    "# plt.legend(handles=[predicted, actual])\n",
    "# plt.show()"
   ],
   "metadata": {
    "collapsed": false,
    "pycharm": {
     "name": "#%%\n"
    }
   }
  },
  {
   "cell_type": "code",
   "execution_count": 19,
   "outputs": [
    {
     "name": "stdout",
     "output_type": "stream",
     "text": [
      "(self, *, alpha=1.0, fit_intercept=True, max_iter=100, tol=0.0001, warm_start=False, verbose=0)\n"
     ]
    }
   ],
   "source": [
    "import inspect\n",
    "import sklearn\n",
    "\n",
    "models = [sklearn.linear_model.PoissonRegressor]\n",
    "\n",
    "for m in models:\n",
    "    hyperparams = inspect.signature(m.__init__)\n",
    "    print(hyperparams) # Do something with them here"
   ],
   "metadata": {
    "collapsed": false,
    "pycharm": {
     "name": "#%%\n"
    }
   }
  },
  {
   "cell_type": "code",
   "execution_count": null,
   "outputs": [],
   "source": [],
   "metadata": {
    "collapsed": false,
    "pycharm": {
     "name": "#%%\n"
    }
   }
  }
 ],
 "metadata": {
  "kernelspec": {
   "display_name": "Python 3",
   "language": "python",
   "name": "python3"
  },
  "language_info": {
   "codemirror_mode": {
    "name": "ipython",
    "version": 2
   },
   "file_extension": ".py",
   "mimetype": "text/x-python",
   "name": "python",
   "nbconvert_exporter": "python",
   "pygments_lexer": "ipython2",
   "version": "2.7.6"
  }
 },
 "nbformat": 4,
 "nbformat_minor": 0
}