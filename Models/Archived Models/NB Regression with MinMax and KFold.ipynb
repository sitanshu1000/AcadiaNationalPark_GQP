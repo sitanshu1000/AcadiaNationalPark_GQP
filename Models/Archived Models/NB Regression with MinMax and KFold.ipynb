{
 "cells": [
  {
   "cell_type": "code",
   "execution_count": 1,
   "metadata": {
    "collapsed": true
   },
   "outputs": [],
   "source": [
    "import pandas as pd\n",
    "import matplotlib.pyplot as plt\n",
    "from sklearn.linear_model import PoissonRegressor\n",
    "from sklearn.model_selection import train_test_split\n",
    "from sklearn.preprocessing import MinMaxScaler\n",
    "from sklearn.model_selection import KFold\n",
    "from sklearn.metrics import mean_squared_error, r2_score\n",
    "from math import sqrt"
   ]
  },
  {
   "cell_type": "code",
   "execution_count": 2,
   "outputs": [],
   "source": [
    "import statsmodels.api as sm\n",
    "import statsmodels.formula.api as smf"
   ],
   "metadata": {
    "collapsed": false,
    "pycharm": {
     "name": "#%%\n"
    }
   }
  },
  {
   "cell_type": "code",
   "execution_count": 3,
   "outputs": [],
   "source": [
    "data_import = pd.read_csv('/Users/sitanshurupani/Data Science Coursework/Sem 4/GQP - National Parks/DataSpell Project/Data/Daily_attendance.csv')"
   ],
   "metadata": {
    "collapsed": false,
    "pycharm": {
     "name": "#%%\n"
    }
   }
  },
  {
   "cell_type": "code",
   "execution_count": 4,
   "outputs": [],
   "source": [
    "all_years_test = data_import\n",
    "all_years_test.set_index('Full_Date', inplace=True)"
   ],
   "metadata": {
    "collapsed": false,
    "pycharm": {
     "name": "#%%\n"
    }
   }
  },
  {
   "cell_type": "code",
   "execution_count": 5,
   "outputs": [],
   "source": [
    "all_years_test.index = pd.to_datetime(all_years_test.index)\n",
    "ds = all_years_test.index.to_series()\n",
    "all_years_test['YEAR'] = ds.dt.year\n",
    "all_years_test['MONTH'] = ds.dt.month\n",
    "all_years_test['DAY_OF_WEEK'] = ds.dt.dayofweek\n",
    "all_years_test['DAY'] = ds.dt.day"
   ],
   "metadata": {
    "collapsed": false,
    "pycharm": {
     "name": "#%%\n"
    }
   }
  },
  {
   "cell_type": "code",
   "execution_count": 6,
   "outputs": [],
   "source": [
    "all_years_test.drop(columns=['snow_1h', 'temp_max', 'temp_min','YEAR'], inplace=True)\n",
    "all_years_test[\"federal_holiday_flag\"] = all_years_test[\"federal_holiday_flag\"].astype(int)\n",
    "all_years_test[\"school_holiday_flag\"] = all_years_test[\"school_holiday_flag\"].astype(int)"
   ],
   "metadata": {
    "collapsed": false,
    "pycharm": {
     "name": "#%%\n"
    }
   }
  },
  {
   "cell_type": "code",
   "execution_count": 7,
   "outputs": [],
   "source": [
    "all_years_test['wind_gust'].fillna((all_years_test['wind_gust'].mean()), inplace=True)"
   ],
   "metadata": {
    "collapsed": false,
    "pycharm": {
     "name": "#%%\n"
    }
   }
  },
  {
   "cell_type": "code",
   "execution_count": 8,
   "outputs": [
    {
     "data": {
      "text/plain": "value                   0\ntemp                    0\npressure                0\nhumidity                0\nwind_speed              0\nwind_gust               0\nrain_1h                 0\nfederal_holiday_flag    0\nschool_holiday_flag     0\nMONTH                   0\nDAY_OF_WEEK             0\nDAY                     0\ndtype: int64"
     },
     "execution_count": 8,
     "metadata": {},
     "output_type": "execute_result"
    }
   ],
   "source": [
    "all_years_test.isna().sum()"
   ],
   "metadata": {
    "collapsed": false,
    "pycharm": {
     "name": "#%%\n"
    }
   }
  },
  {
   "cell_type": "code",
   "execution_count": 9,
   "outputs": [],
   "source": [
    "mmsca = MinMaxScaler()\n",
    "X_mmsca = pd.DataFrame(mmsca.fit_transform(all_years_test), columns=all_years_test.columns)\n",
    "X_mmsca.index = all_years_test.index\n",
    "X_mmsca.drop(columns=['value'], inplace=True)"
   ],
   "metadata": {
    "collapsed": false,
    "pycharm": {
     "name": "#%%\n"
    }
   }
  },
  {
   "cell_type": "code",
   "execution_count": 9,
   "outputs": [],
   "source": [],
   "metadata": {
    "collapsed": false,
    "pycharm": {
     "name": "#%%\n"
    }
   }
  },
  {
   "cell_type": "code",
   "execution_count": 10,
   "outputs": [],
   "source": [
    "X = X_mmsca.values\n",
    "Y = all_years_test['value'].values"
   ],
   "metadata": {
    "collapsed": false,
    "pycharm": {
     "name": "#%%\n"
    }
   }
  },
  {
   "cell_type": "code",
   "execution_count": null,
   "outputs": [],
   "source": [
    "preds, scores = [], []\n",
    "kfold = KFold(n_splits=10, shuffle=True, random_state=1)\n",
    "for train_idx, test_idx in kfold.split(X_mmsca):\n",
    "    X_train, X_test = X[train_idx], X[test_idx]\n",
    "    y_test = Y[test_idx]\n",
    "    model = smf.glm(formula = \"value ~ DAY  + DAY_OF_WEEK + MONTH + temp + pressure + humidity + wind_speed + wind_gust + rain_1h + federal_holiday_flag + school_holiday_flag\",\n",
    "                    data=X_train,\n",
    "                    family=sm.families.NegativeBinomial()).fit()\n",
    "    preds.append(model.get_prediction(X_test))\n",
    "    scores.append(model.score(X_test, y_test))\n",
    "print(scores)"
   ],
   "metadata": {
    "collapsed": false,
    "pycharm": {
     "name": "#%%\n",
     "is_executing": true
    }
   }
  },
  {
   "cell_type": "code",
   "execution_count": null,
   "outputs": [],
   "source": [],
   "metadata": {
    "collapsed": false,
    "pycharm": {
     "name": "#%%\n"
    }
   }
  }
 ],
 "metadata": {
  "kernelspec": {
   "display_name": "Python 3",
   "language": "python",
   "name": "python3"
  },
  "language_info": {
   "codemirror_mode": {
    "name": "ipython",
    "version": 2
   },
   "file_extension": ".py",
   "mimetype": "text/x-python",
   "name": "python",
   "nbconvert_exporter": "python",
   "pygments_lexer": "ipython2",
   "version": "2.7.6"
  }
 },
 "nbformat": 4,
 "nbformat_minor": 0
}